{
 "cells": [
  {
   "cell_type": "code",
   "execution_count": 1,
   "id": "2970cd9b",
   "metadata": {},
   "outputs": [
    {
     "name": "stdout",
     "output_type": "stream",
     "text": [
      "Requirement already satisfied: selenium in c:\\users\\admin\\anaconda3\\lib\\site-packages (4.17.2)\n",
      "Requirement already satisfied: urllib3[socks]<3,>=1.26 in c:\\users\\admin\\anaconda3\\lib\\site-packages (from selenium) (1.26.16)\n",
      "Requirement already satisfied: trio~=0.17 in c:\\users\\admin\\anaconda3\\lib\\site-packages (from selenium) (0.24.0)\n",
      "Requirement already satisfied: trio-websocket~=0.9 in c:\\users\\admin\\anaconda3\\lib\\site-packages (from selenium) (0.11.1)\n",
      "Requirement already satisfied: certifi>=2021.10.8 in c:\\users\\admin\\anaconda3\\lib\\site-packages (from selenium) (2023.7.22)\n",
      "Requirement already satisfied: typing_extensions>=4.9.0 in c:\\users\\admin\\anaconda3\\lib\\site-packages (from selenium) (4.9.0)\n",
      "Requirement already satisfied: attrs>=20.1.0 in c:\\users\\admin\\anaconda3\\lib\\site-packages (from trio~=0.17->selenium) (22.1.0)\n",
      "Requirement already satisfied: sortedcontainers in c:\\users\\admin\\anaconda3\\lib\\site-packages (from trio~=0.17->selenium) (2.4.0)\n",
      "Requirement already satisfied: idna in c:\\users\\admin\\anaconda3\\lib\\site-packages (from trio~=0.17->selenium) (3.4)\n",
      "Requirement already satisfied: outcome in c:\\users\\admin\\anaconda3\\lib\\site-packages (from trio~=0.17->selenium) (1.3.0.post0)\n",
      "Requirement already satisfied: sniffio>=1.3.0 in c:\\users\\admin\\anaconda3\\lib\\site-packages (from trio~=0.17->selenium) (1.3.0)\n",
      "Requirement already satisfied: cffi>=1.14 in c:\\users\\admin\\anaconda3\\lib\\site-packages (from trio~=0.17->selenium) (1.15.1)\n",
      "Requirement already satisfied: wsproto>=0.14 in c:\\users\\admin\\anaconda3\\lib\\site-packages (from trio-websocket~=0.9->selenium) (1.2.0)\n",
      "Requirement already satisfied: PySocks!=1.5.7,<2.0,>=1.5.6 in c:\\users\\admin\\anaconda3\\lib\\site-packages (from urllib3[socks]<3,>=1.26->selenium) (1.7.1)\n",
      "Requirement already satisfied: pycparser in c:\\users\\admin\\anaconda3\\lib\\site-packages (from cffi>=1.14->trio~=0.17->selenium) (2.21)\n",
      "Requirement already satisfied: h11<1,>=0.9.0 in c:\\users\\admin\\anaconda3\\lib\\site-packages (from wsproto>=0.14->trio-websocket~=0.9->selenium) (0.14.0)\n"
     ]
    }
   ],
   "source": [
    "!pip install selenium"
   ]
  },
  {
   "cell_type": "code",
   "execution_count": 1,
   "id": "6713ef97",
   "metadata": {},
   "outputs": [],
   "source": [
    "import selenium\n",
    "import pandas as pd\n",
    "from selenium import webdriver\n",
    "import warnings\n",
    "warnings.filterwarnings('ignore')\n",
    "from selenium.webdriver.common.by import By\n",
    "import time"
   ]
  },
  {
   "cell_type": "code",
   "execution_count": 2,
   "id": "3562fdf8",
   "metadata": {},
   "outputs": [],
   "source": [
    "driver = webdriver.Chrome()"
   ]
  },
  {
   "cell_type": "markdown",
   "id": "f9598332",
   "metadata": {},
   "source": [
    "# Data from https://www.redfin.com/"
   ]
  },
  {
   "cell_type": "code",
   "execution_count": 3,
   "id": "fd017f0c",
   "metadata": {},
   "outputs": [],
   "source": [
    "#opening the page on automated broswer\n",
    "\n",
    "driver.get(\"https://www.redfin.com/\")\n"
   ]
  },
  {
   "cell_type": "markdown",
   "id": "d870d021",
   "metadata": {},
   "source": [
    "### for location = Chicago"
   ]
  },
  {
   "cell_type": "code",
   "execution_count": 4,
   "id": "963c8f7c",
   "metadata": {},
   "outputs": [],
   "source": [
    "# entering location = \"Chicago\" in the search field\n",
    "\n",
    "time.sleep(3)\n",
    "designation = driver.find_element(By.XPATH, '/html/body/div[1]/div[6]/div[2]/div/section/div/div/div/div/div/div/div/div[2]/div/div/form/div/div/input')\n",
    "designation.send_keys(\"Chicago\")"
   ]
  },
  {
   "cell_type": "code",
   "execution_count": 5,
   "id": "b322989b",
   "metadata": {},
   "outputs": [],
   "source": [
    "# Clicking the search button\n",
    "\n",
    "search = driver.find_element(By.XPATH, '/html/body/div[1]/div[6]/div[2]/div/section/div/div/div/div/div/div/div/div[2]/div/div/form/div/button')\n",
    "search.click()\n",
    "\n"
   ]
  },
  {
   "cell_type": "code",
   "execution_count": 24,
   "id": "22e81140",
   "metadata": {},
   "outputs": [],
   "source": [
    "#selecting \"Condo\" as Home Type in filters\n",
    "\n",
    "home_type_button = driver.find_element(By.XPATH, '/html/body/div[1]/div[8]/div[1]/div[2]/div[1]/div[2]/div/div/div/div[1]/form/div[4]/div')\n",
    "home_type_button.click()\n",
    "\n",
    "\n",
    "#clikcing on condo option\n",
    "\n",
    "condo_button = driver.find_element(By.XPATH, '/html/body/div[1]/div[8]/div[1]/div[2]/div[1]/div[2]/div/div/div/div[1]/form/div[4]/div/div[2]/div/div[1]/div[2]/div/div[3]')\n",
    "condo_button.click()\n"
   ]
  },
  {
   "cell_type": "code",
   "execution_count": 87,
   "id": "380e7a17",
   "metadata": {},
   "outputs": [],
   "source": [
    "#scrapping data\n",
    "\n",
    "\n",
    "price_chicago = []\n",
    "bed_chicago = []\n",
    "bath_chicago = []\n",
    "area_chicago = []\n",
    "address_chicago = []\n",
    "\n",
    "start = 0\n",
    "end = 8\n",
    "\n",
    "\n",
    "for page in range(start, end):\n",
    "    \n",
    "        #scrapping prices\n",
    "    prices = driver.find_elements(By.CLASS_NAME, \"bp-Homecard__Price--value\")\n",
    "    for i in prices:\n",
    "        price_chicago.append(i.text)\n",
    "     \n",
    "    \n",
    "        #scrapping no of beds\n",
    "    beds = driver.find_elements(By.CLASS_NAME, 'bp-Homecard__Stats--beds')\n",
    "    for i in beds:\n",
    "        bed_chicago.append(i.text)\n",
    "     \n",
    "    \n",
    "        #scrapping no of bathrooms\n",
    "    baths = driver.find_elements(By.CLASS_NAME, 'bp-Homecard__Stats--baths')\n",
    "    for i in baths:\n",
    "        bath_chicago.append(i.text)\n",
    "        \n",
    "    \n",
    "        #scrapping area\n",
    "    areas = driver.find_elements(By.CLASS_NAME, \"bp-Homecard__Stats--sqft\")\n",
    "    for i in areas:\n",
    "        area_chicago.append(i.text)\n",
    "        \n",
    "        \n",
    "        #scrapping address\n",
    "    addresses = driver.find_elements(By.CLASS_NAME, \"bp-Homecard__Address\")\n",
    "    for i in addresses:\n",
    "        address_chicago.append(i.text)\n",
    "     \n",
    "    \n",
    "    \n",
    "    next_button = driver.find_element(By.XPATH, '/html/body/div[1]/div[8]/div[1]/div[2]/div[1]/div[5]/div/div[3]/button[2]')\n",
    "    time.sleep(1)\n",
    "    next_button.click()\n",
    "    time.sleep(2)"
   ]
  },
  {
   "cell_type": "code",
   "execution_count": 88,
   "id": "c490e4ce",
   "metadata": {},
   "outputs": [
    {
     "name": "stdout",
     "output_type": "stream",
     "text": [
      "320 ['$220,000', '$269,000', '$170,000', '$385,000', '$320,000', '$289,900', '$499,990', '$349,500', '$240,000', '$340,000', '$535,000', '$479,000', '$164,900', '$329,000', '$435,000', '$1,449,000', '$210,000', '$249,000', '$395,000', '$524,900', '$289,900', '$279,900', '$269,900', '$215,000', '$279,900', '$242,000', '$124,900', '$279,000', '$220,000', '$229,000', '$850,000', '$109,999', '$182,000', '$399,900', '$689,900', '$1,200,000', '$310,000', '$259,000', '$1,000,000', '$265,000', '$300,000', '$295,000', '$180,000', '$239,900', '$260,000', '$250,000', '$400,000', '$68,000', '$425,000', '$975,000', '$1,450,000', '$1,299,000', '$450,000', '$389,900', '$227,000', '$1,250,000', '$249,900', '$179,900', '$695,000', '$249,900', '$500,000', '$410,000', '$254,900', '$145,000', '$625,000', '$559,000', '$975,000', '$340,000', '$250,000', '$655,000', '$415,000', '$595,000', '$199,000', '$425,000', '$249,999', '$350,000', '$399,500', '$499,000', '$235,000', '$675,000', '$65,900', '$825,000', '$165,000', '$324,800', '$243,500', '$168,000', '$565,000', '$489,000', '$485,000', '$159,900', '$225,000', '$190,000', '$320,000', '$200,000', '$385,000', '$180,000', '$185,000', '$222,000', '$210,900', '$229,000', '$169,900', '$530,000', '$250,000', '$1,349,000', '$1,950,000', '$625,000', '$299,000', '$449,900', '$345,000', '$149,900', '$1,195,000', '$340,000', '$440,000', '$410,000', '$1,250,000', '$679,000', '$355,000', '$989,900', '$675,000', '$275,000', '$230,000', '$875,000', '$450,000', '$181,900', '$235,000', '$169,900', '$299,500', '$1,499,999', '$525,000', '$45,000', '$1,025,000', '$337,000', '$199,000', '$475,000', '$850,000', '$154,900', '$569,900', '$675,000', '$254,900', '$550,000', '$799,000', '$205,000', '$575,000', '$315,000', '$514,000', '$285,000', '$695,000', '$170,000', '$815,000', '$300,000', '$819,000', '$800,000', '$269,900', '$2,150,000', '$299,900', '$465,000', '$2,750,000', '$349,900', '$240,000', '$178,800', '$459,000', '$185,000', '$515,000', '$164,999', '$694,000', '$599,900', '$565,000', '$259,900', '$875,000', '$699,000', '$185,000', '$260,000', '$824,500', '$190,000', '$254,000', '$579,000', '$260,000', '$385,000', '$179,000', '$259,000', '$425,000', '$599,000', '$1,350,000', '$449,900', '$985,000', '$599,900', '$239,638', '$415,000', '$819,900', '$589,999', '$469,900', '$409,000', '$232,500', '$350,000', '$349,900', '$550,000', '$435,000', '$424,950', '$550,000', '$449,000', '$1,050,000', '$529,900', '$385,000', '$1,925,000', '$599,000', '$209,900', '$489,900', '$250,000', '$1,295,000', '$250,000', '$250,000', '$300,000', '$889,000', '$340,000', '$775,000', '$400,000', '$675,000', '$800,000', '$264,900', '$345,000', '$699,000', '$495,000', '$515,000', '$305,000', '$550,000', '$264,900', '$600,000', '$850,000', '$625,000', '$399,000', '$329,000', '$399,800', '$225,000', '$270,000', '$290,000', '$365,000', '$429,900', '$315,000', '$144,900', '$640,000', '$475,000', '$400,000', '$695,000', '$765,000', '$695,000', '$299,900', '$174,900', '$2,949,000', '$165,000', '$749,990', '$215,000', '$575,000', '$450,000', '$510,000', '$419,000', '$350,000', '$285,000', '$435,000', '$399,999', '$200,000', '$446,000', '$948,500', '$200,000', '$227,500', '$189,900', '$1,799,999', '$1,055,000', '$109,900', '$299,900', '$765,000', '$162,000', '$160,000', '$3,400,000', '$525,000', '$350,000', '$124,900', '$625,000', '$699,500', '$400,000', '$575,000', '$275,000', '$231,999', '$400,000', '$524,999', '$385,000', '$299,900', '$310,000', '$499,000', '$749,900', '$650,000', '$349,000', '$684,900', '$634,900', '$1,250', '$399,900', '$949,900', '$170,000', '$184,900', '$250,000', '$474,500', '$372,000', '$259,000', '$295,000', '$995,000', '$450,000', '$434,900', '$519,000', '$300,000', '$230,000', '$459,900', '$399,000', '$374,900', '$410,000', '$385,000', '$739,000', '$1,149,000', '$375,000', '$220,000', '$739,000', '$319,900']\n"
     ]
    }
   ],
   "source": [
    "# printing the prices\n",
    "\n",
    "\n",
    "print(len(price_chicago),price_chicago)"
   ]
  },
  {
   "cell_type": "code",
   "execution_count": 89,
   "id": "f0eeb0c0",
   "metadata": {},
   "outputs": [
    {
     "name": "stdout",
     "output_type": "stream",
     "text": [
      "320 ['1 bed', '1 bed', '1 bed', '2 beds', '1 bed', '1 bed', '3 beds', '2 beds', '1 bed', '2 beds', '2 beds', '2 beds', '3 beds', '1 bed', '3 beds', '3 beds', '1 bed', '2 beds', '2 beds', '2 beds', '1 bed', '1 bed', '2 beds', '1 bed', '2 beds', '2 beds', '1 bed', '2 beds', '1 bed', '2 beds', '2 beds', '1 bed', '2 beds', '2 beds', '2 beds', '4 beds', '1 bed', '1 bed', '3 beds', '1 bed', '2 beds', '2 beds', '2 beds', '1 bed', '1 bed', '1 bed', '2 beds', '1 bed', '3 beds', '2 beds', '3 beds', '3 beds', '2 beds', '3 beds', '1 bed', '3 beds', '1 bed', '2 beds', '2 beds', '2 beds', '1 bed', '2 beds', '1 bed', '1 bed', '5 beds', '3 beds', '3 beds', '3 beds', '1 bed', '3 beds', '2 beds', '2 beds', '2 beds', '2 beds', '1 bed', '1 bed', '2 beds', '2 beds', '1 bed', '3 beds', '1 bed', '3 beds', '2 beds', '3 beds', '2 beds', '1 bed', '3 beds', '3 beds', '4 beds', '3 beds', '4 beds', '1 bed', '1 bed', '2 beds', '1 bed', '2 beds', '2 beds', '0 beds', '1 bed', '1 bed', '2 beds', '4 beds', '2 beds', '4 beds', '3 beds', '2 beds', '1 bed', '1 bed', '1 bed', '1 bed', '3 beds', '1 bed', '2 beds', '1 bed', '3 beds', '3 beds', '2 beds', '3 beds', '3 beds', '2 beds', '1 bed', '4 beds', '2 beds', '1 bed', '1 bed', '1 bed', '2 beds', '3 beds', '3 beds', '2 beds', '3 beds', '1 bed', '3 beds', '3 beds', '2 beds', '0 beds', '2 beds', '3 beds', '2 beds', '2 beds', '3 beds', '1 bed', '2 beds', '2 beds', '2 beds', '1 bed', '3 beds', '1 bed', '3 beds', '2 beds', '3 beds', '2 beds', '3 beds', '3 beds', '2 beds', '2 beds', '3 beds', '2 beds', '1 bed', '1 bed', '2 beds', '2 beds', '3 beds', '2 beds', '4 beds', '2 beds', '3 beds', '1 bed', '2 beds', '2 beds', '2 beds', '1 bed', '3 beds', '2 beds', '1 bed', '2 beds', '1 bed', '2 beds', '1 bed', '1 bed', '2 beds', '2 beds', '3 beds', '2 beds', '2 beds', '3 beds', '1 bed', '2 beds', '2 beds', '2 beds', '3 beds', '2 beds', '1 bed', '2 beds', '1 bed', '2 beds', '2 beds', '3 beds', '2 beds', '2 beds', '2 beds', '2 beds', '1 bed', '4 beds', '2 beds', '2 beds', '2 beds', '3 beds', '3 beds', '3 beds', '3 beds', '3 beds', '3 beds', '2 beds', '3 beds', '2 beds', '3 beds', '3 beds', '2 beds', '1 bed', '2 beds', '2 beds', '2 beds', '2 beds', '3 beds', '2 beds', '2 beds', '3 beds', '3 beds', '2 beds', '1 bed', '2 beds', '3 beds', '2 beds', '1 bed', '2 beds', '2 beds', '1 bed', '0 beds', '2 beds', '2 beds', '2 beds', '4 beds', '3 beds', '2 beds', '2 beds', '0 beds', '3 beds', '1 bed', '3 beds', '2 beds', '2 beds', '3 beds', '2 beds', '2 beds', '2 beds', '1 bed', '2 beds', '3 beds', '1 bed', '2 beds', '2 beds', '2 beds', '1 bed', '3 beds', '3 beds', '2 beds', '2 beds', '3 beds', '2 beds', '1 bed', '1 bed', '3 beds', '2 beds', '3 beds', '0 beds', '2 beds', '4 beds', '1 bed', '1 bed', '2 beds', '1 bed', '2 beds', '4 beds', '2 beds', '1 bed', '2 beds', '2 beds', '3 beds', '3 beds', '2 beds', '4 beds', '3 beds', '2 beds', '2 beds', '3 beds', '0 beds', '2 beds', '1 bed', '3 beds', '1 bed', '2 beds', '1 bed', '3 beds', '4 beds', '2 beds', '3 beds', '3 beds', '2 beds', '2 beds', '1 bed', '2 beds', '3 beds', '3 beds', '2 beds', '3 beds', '2 beds', '1 bed', '2 beds', '3 beds']\n"
     ]
    }
   ],
   "source": [
    "# printing the no of bed\n",
    "\n",
    "\n",
    "print(len(bed_chicago),bed_chicago)"
   ]
  },
  {
   "cell_type": "code",
   "execution_count": 90,
   "id": "26234a8e",
   "metadata": {},
   "outputs": [
    {
     "name": "stdout",
     "output_type": "stream",
     "text": [
      "320 ['1 bath', '1 bath', '1 bath', '2 baths', '1 bath', '1.5 baths', '2 baths', '1 bath', '1 bath', '1 bath', '2 baths', '2 baths', '2 baths', '1 bath', '2 baths', '2.5 baths', '1 bath', '2 baths', '1 bath', '2 baths', '1 bath', '1.5 baths', '1 bath', '1 bath', '2 baths', '1 bath', '1 bath', '2 baths', '1 bath', '2 baths', '2 baths', '1 bath', '1 bath', '1 bath', '2 baths', '3.5 baths', '1 bath', '1 bath', '2.5 baths', '1 bath', '1 bath', '1.5 baths', '2 baths', '1 bath', '1 bath', '1 bath', '2 baths', '1 bath', '1.5 baths', '2.5 baths', '3.5 baths', '2.5 baths', '2 baths', '2 baths', '1 bath', '3 baths', '1 bath', '1 bath', '2 baths', '2 baths', '1.5 baths', '2 baths', '1 bath', '1 bath', '3.5 baths', '2 baths', '3 baths', '2 baths', '1 bath', '2.5 baths', '2 baths', '3.5 baths', '1 bath', '2 baths', '1 bath', '1 bath', '2 baths', '2 baths', '1 bath', '2 baths', '1 bath', '2.5 baths', '1 bath', '2 baths', '1.5 baths', '1 bath', '2.5 baths', '2 baths', '3 baths', '1 bath', '2.5 baths', '1 bath', '1 bath', '2 baths', '1 bath', '1 bath', '1 bath', '1 bath', '1 bath', '1 bath', '2 baths', '3 baths', '1 bath', '3 baths', '3.5 baths', '2 baths', '1 bath', '1 bath', '1 bath', '1 bath', '3 baths', '1 bath', '2 baths', '1.5 baths', '2.5 baths', '2.5 baths', '2 baths', '2.5 baths', '3.5 baths', '2 baths', '1 bath', '3 baths', '2 baths', '1 bath', '1 bath', '1 bath', '2 baths', '2 baths', '2 baths', '2 baths', '2.5 baths', '1 bath', '2 baths', '2 baths', '2 baths', '1 bath', '2 baths', '2 baths', '2 baths', '2 baths', '2.5 baths', '1 bath', '2 baths', '2 baths', '2 baths', '1 bath', '3 baths', '1 bath', '3 baths', '2 baths', '2 baths', '2 baths', '2 baths', '3.5 baths', '1 bath', '2 baths', '4.5 baths', '2 baths', '1 bath', '1 bath', '2 baths', '1 bath', '3 baths', '1 bath', '3 baths', '2 baths', '2 baths', '1 bath', '2 baths', '2 baths', '1 bath', '1 bath', '3 baths', '1 bath', '1 bath', '2 baths', '1 bath', '2 baths', '1 bath', '1 bath', '2 baths', '2 baths', '3 baths', '1 bath', '2 baths', '2.5 baths', '1 bath', '2 baths', '2.5 baths', '2.5 baths', '2 baths', '2 baths', '1 bath', '2 baths', '1.5 baths', '2 baths', '2 baths', '1 bath', '2 baths', '2 baths', '2 baths', '2 baths', '1 bath', '4 baths', '2 baths', '1 bath', '2 baths', '2 baths', '2 baths', '2 baths', '2 baths', '3 baths', '2 baths', '2 baths', '2.5 baths', '1 bath', '2 baths', '2.5 baths', '1 bath', '1 bath', '2 baths', '2 baths', '2 baths', '2 baths', '2 baths', '1 bath', '2 baths', '2.5 baths', '2 baths', '1 bath', '1.5 baths', '2 baths', '1 bath', '1 bath', '1 bath', '1 bath', '2 baths', '1 bath', '1 bath', '2 baths', '2 baths', '2 baths', '2.5 baths', '2 baths', '2 baths', '1 bath', '1 bath', '3.5 baths', '1 bath', '2 baths', '1 bath', '1 bath', '2 baths', '2 baths', '2 baths', '1 bath', '1 bath', '2 baths', '2.5 baths', '1 bath', '2 baths', '2 baths', '1 bath', '1 bath', '1 bath', '3.5 baths', '2 baths', '1 bath', '2 baths', '2 baths', '1 bath', '1 bath', '3.5 baths', '2.5 baths', '2 baths', '1 bath', '2 baths', '2.5 baths', '1 bath', '1.5 baths', '1.5 baths', '1 bath', '2 baths', '3 baths', '2 baths', '1 bath', '1 bath', '2 baths', '3 baths', '2 baths', '2 baths', '2.5 baths', '2.5 baths', '1 bath', '2 baths', '2.5 baths', '1 bath', '2 baths', '1 bath', '2 baths', '1 bath', '1 bath', '1 bath', '2.5 baths', '2.5 baths', '2 baths', '2 baths', '2 baths', '1.5 baths', '2 baths', '1 bath', '1 bath', '2 baths', '2 baths', '2 baths', '2.5 baths', '2 baths', '1 bath', '2 baths', '3 baths']\n"
     ]
    }
   ],
   "source": [
    "# printing the no of bath\n",
    "\n",
    "\n",
    "print(len(bath_chicago),bath_chicago)"
   ]
  },
  {
   "cell_type": "code",
   "execution_count": 91,
   "id": "84d5151d",
   "metadata": {},
   "outputs": [
    {
     "name": "stdout",
     "output_type": "stream",
     "text": [
      "320 ['— sq ft', '— sq ft', '— sq ft', '1,100 sq ft', '700 sq ft', '730 sq ft', '1,450 sq ft', '1,000 sq ft', '686 sq ft', '850 sq ft', '714 sq ft', '1,287 sq ft', '1,500 sq ft', '— sq ft', '— sq ft', '2,200 sq ft', '550 sq ft', '1,100 sq ft', '1,700 sq ft', '1,250 sq ft', '800 sq ft', '— sq ft', '817 sq ft', '950 sq ft', '1,000 sq ft', '1,200 sq ft', '700 sq ft', '1,150 sq ft', '— sq ft', '1,600 sq ft', '— sq ft', '800 sq ft', '1,100 sq ft', '— sq ft', '— sq ft', '— sq ft', '765 sq ft', '870 sq ft', '2,500 sq ft', '880 sq ft', '— sq ft', '— sq ft', '— sq ft', '853 sq ft', '741 sq ft', '850 sq ft', '— sq ft', '700 sq ft', '— sq ft', '2,025 sq ft', '2,540 sq ft', '2,159 sq ft', '— sq ft', '1,800 sq ft', '1,028 sq ft', '2,650 sq ft', '800 sq ft', '1,025 sq ft', '1,265 sq ft', '893 sq ft', '1,004 sq ft', '1,200 sq ft', '800 sq ft', '600 sq ft', '2,800 sq ft', '1,747 sq ft', '2,105 sq ft', '— sq ft', '— sq ft', '1,500 sq ft', '1,200 sq ft', '1,800 sq ft', '950 sq ft', '— sq ft', '— sq ft', '1,000 sq ft', '1,150 sq ft', '— sq ft', '840 sq ft', '— sq ft', '750 sq ft', '— sq ft', '900 sq ft', '1,506 sq ft', '1,050 sq ft', '800 sq ft', '1,700 sq ft', '— sq ft', '— sq ft', '1,200 sq ft', '1,800 sq ft', '1,000 sq ft', '— sq ft', '1,200 sq ft', '— sq ft', '— sq ft', '950 sq ft', '800 sq ft', '925 sq ft', '906 sq ft', '686 sq ft', '3,000 sq ft', '850 sq ft', '2,032 sq ft', '2,300 sq ft', '1,290 sq ft', '— sq ft', '860 sq ft', '937 sq ft', '700 sq ft', '1,950 sq ft', '800 sq ft', '1,350 sq ft', '1,071 sq ft', '2,941 sq ft', '2,100 sq ft', '— sq ft', '1,774 sq ft', '2,100 sq ft', '1,100 sq ft', '— sq ft', '— sq ft', '1,500 sq ft', '— sq ft', '850 sq ft', '— sq ft', '— sq ft', '— sq ft', '1,700 sq ft', '920 sq ft', '— sq ft', '800 sq ft', '900 sq ft', '1,650 sq ft', '1,900 sq ft', '600 sq ft', '1,400 sq ft', '— sq ft', '1,041 sq ft', '1,359 sq ft', '— sq ft', '850 sq ft', '1,227 sq ft', '— sq ft', '1,200 sq ft', '— sq ft', '2,400 sq ft', '800 sq ft', '2,182 sq ft', '1,200 sq ft', '1,600 sq ft', '2,000 sq ft', '— sq ft', '2,403 sq ft', '— sq ft', '1,119 sq ft', '5,000 sq ft', '1,500 sq ft', '— sq ft', '850 sq ft', '1,410 sq ft', '1,100 sq ft', '2,198 sq ft', '— sq ft', '— sq ft', '1,650 sq ft', '1,300 sq ft', '750 sq ft', '1,530 sq ft', '— sq ft', '— sq ft', '850 sq ft', '2,142 sq ft', '— sq ft', '1,200 sq ft', '1,275 sq ft', '875 sq ft', '1,250 sq ft', '1,078 sq ft', '650 sq ft', '1,263 sq ft', '1,500 sq ft', '3,000 sq ft', '1,533 sq ft', '— sq ft', '— sq ft', '1,000 sq ft', '1,200 sq ft', '2,400 sq ft', '— sq ft', '1,500 sq ft', '1,343 sq ft', '790 sq ft', '1,460 sq ft', '968 sq ft', '— sq ft', '1,300 sq ft', '— sq ft', '— sq ft', '1,365 sq ft', '1,630 sq ft', '1,100 sq ft', '1,230 sq ft', '3,500 sq ft', '— sq ft', '1,200 sq ft', '1,550 sq ft', '1,380 sq ft', '2,465 sq ft', '1,375 sq ft', '1,380 sq ft', '2,111 sq ft', '1,570 sq ft', '1,100 sq ft', '— sq ft', '1,200 sq ft', '2,000 sq ft', '2,217 sq ft', '— sq ft', '900 sq ft', '1,300 sq ft', '1,275 sq ft', '1,450 sq ft', '— sq ft', '1,499 sq ft', '1,000 sq ft', '1,650 sq ft', '2,520 sq ft', '1,800 sq ft', '— sq ft', '1,000 sq ft', '— sq ft', '— sq ft', '— sq ft', '800 sq ft', '— sq ft', '1,250 sq ft', '934 sq ft', '430 sq ft', '1,400 sq ft', '— sq ft', '1,225 sq ft', '3,600 sq ft', '1,684 sq ft', '1,500 sq ft', '— sq ft', '— sq ft', '3,436 sq ft', '710 sq ft', '1,631 sq ft', '— sq ft', '— sq ft', '1,405 sq ft', '1,250 sq ft', '1,200 sq ft', '1,121 sq ft', '750 sq ft', '1,450 sq ft', '2,200 sq ft', '900 sq ft', '1,100 sq ft', '1,852 sq ft', '— sq ft', '815 sq ft', '1,000 sq ft', '2,424 sq ft', '— sq ft', '600 sq ft', '1,121 sq ft', '1,497 sq ft', '— sq ft', '850 sq ft', '3,436 sq ft', '— sq ft', '1,600 sq ft', '525 sq ft', '1,297 sq ft', '2,750 sq ft', '995 sq ft', '1,570 sq ft', '1,008 sq ft', '700 sq ft', '1,050 sq ft', '2,100 sq ft', '1,265 sq ft', '806 sq ft', '— sq ft', '1,700 sq ft', '2,400 sq ft', '2,010 sq ft', '1,418 sq ft', '— sq ft', '— sq ft', '950 sq ft', '— sq ft', '2,000 sq ft', '675 sq ft', '2,100 sq ft', '775 sq ft', '1,560 sq ft', '1,000 sq ft', '850 sq ft', '850 sq ft', '2,200 sq ft', '2,200 sq ft', '1,100 sq ft', '1,500 sq ft', '1,100 sq ft', '— sq ft', '1,200 sq ft', '927 sq ft', '— sq ft', '1,480 sq ft', '1,350 sq ft', '1,430 sq ft', '2,750 sq ft', '1,250 sq ft', '— sq ft', '2,221 sq ft', '— sq ft']\n"
     ]
    }
   ],
   "source": [
    "# printing the area\n",
    "\n",
    "print(len(area_chicago),area_chicago)"
   ]
  },
  {
   "cell_type": "code",
   "execution_count": 92,
   "id": "5f9bc8ee",
   "metadata": {},
   "outputs": [
    {
     "name": "stdout",
     "output_type": "stream",
     "text": [
      "320 ['440 N Wabash Ave #1512, Chicago, IL 60611', '832 W Oakdale Ave Unit 1G, Chicago, IL 60657', '819 E 53rd St #3, Chicago, IL 60615', '3944 N Claremont Ave #307, Chicago, IL 60618', '1030 N State St Unit 41A, Chicago, IL 60610', '645 N Kingsbury St #1003, Chicago, IL 60654', '1159 N Hudson St Unit 1-101, Chicago, IL 60610', '222 E Pearson St #1808, Chicago, IL 60611', '701 S Wells St #1907, Chicago, IL 60607', '1844 W Berteau Ave #3, Chicago, IL 60613', '235 W Van Buren St #4508, Chicago, IL 60607', '1758 W Cullerton St #3, Chicago, IL 60608', '5418 S Michigan Ave Unit G, Chicago, IL 60615', '1660 N La Salle Dr #3606, Chicago, IL 60614', '4046 N Clarendon Ave Unit 1N, Chicago, IL 60613', '400 W Huron St #1002, Chicago, IL 60654', '111 W Maple St #2407, Chicago, IL 60610', '4701 N Drake Ave #1, Chicago, IL 60625', '5683 N Ridge Ave Unit 2W, Chicago, IL 60660', '343 W Old Town Ct #709, Chicago, IL 60610', '125 E 13th St #1114, Chicago, IL 60605', '1740 W Foster Ave Unit 3R, Chicago, IL 60640', '1151 W 15th St #309, Chicago, IL 60608', '2909 N Sheridan Rd #1607, Chicago, IL 60657', '1244 W Albion Ave Unit GW, Chicago, IL 60626', '802 Dobson St #1, Evanston, IL 60202', '7220 N Claremont Ave Unit AA, Chicago, IL 60645', '4343 N Clarendon Ave #1102, Chicago, IL 60613', '348 W Wendell St #1, Chicago, IL 60610', '4837 S Forrestville Ave #1, Chicago, IL 60615', '550 N Kingsbury St #606, Chicago, IL 60654', '9745 S Karlov Ave #103, Oak Lawn, IL 60453', '5931 W Midway Park Unit 2W, Chicago, IL 60644', '1344 N North Park Ave #2, Chicago, IL 60610', '1525 N Bosworth Ave Unit 2S, Chicago, IL 60642', '1525 N Bosworth Ave Unit 1N, Chicago, IL 60642', '405 N Wabash Ave #1707, Chicago, IL 60611', '200 N Dearborn St #2904, Chicago, IL 60601', '1631 W Pierce Ave #2, Chicago, IL 60622', '1801 S Michigan Ave #304, Chicago, IL 60616', '3901 N Claremont Ave #2, Chicago, IL 60618', '5319 N Kenmore Ave Unit 3A, Chicago, IL 60640', '1400 E 55th Pl Unit 715S, Chicago, IL 60637', '500 S Clinton St #327, Chicago, IL 60607', '1400 S Michigan Ave #403, Chicago, IL 60605', '3550 N Lake Shore Dr #706, Chicago, IL 60657', '212 W Washington St #909, Chicago, IL 60606', '7337 S South Shore Dr #1118, Chicago, IL 60649', '3215 N Wilton Ave Unit E, Chicago, IL 60657', '1100 N Lake Shore Dr Unit 36B, Chicago, IL 60611', '600 N Lake Shore Dr #1205, Chicago, IL 60611', '600 N Lake Shore Dr #1104, Chicago, IL 60611', '866 S Park Ter #712, Chicago, IL 60605', '3932 S Lake Park Ave Unit 4N, Chicago, IL 60653', '40 E 9th St #802, Chicago, IL 60605', '25 E Superior St #4102, Chicago, IL 60611', '2930 N Sheridan Rd #909, Chicago, IL 60657', '6316 N Richmond St Unit 2A, Chicago, IL 60659', '25 E Superior St #1703, Chicago, IL 60611', '1450 E 55th Pl Unit 930S, Chicago, IL 60637', '21 E Huron St #3501, Chicago, IL 60611', '331 S Peoria St #204, Chicago, IL 60607', '211 E Ohio St #507, Chicago, IL 60611', '6149 W Thorndale Ave #2, Chicago, IL 60646', '813 N Bishop St #1, Chicago, IL 60642', '1000 W 15th St #339, Chicago, IL 60608', '1211 S Prairie Ave #1306, Chicago, IL 60605', '2123 N Saint Louis Ave #2, Chicago, IL 60647', '655 W Irving Park Rd #4717, Chicago, IL 60613', '1450 N Bosworth Ave Unit 1R, Chicago, IL 60642', '1935 N Fairfield Ave #304, Chicago, IL 60647', '210 E Pearson St Unit 9C, Chicago, IL 60611', '6400 N Ridge Blvd #201, Chicago, IL 60626', '1610 W Byron St #1, Chicago, IL 60613', '6 E Monroe St #1304, Chicago, IL 60603', '360 W Illinois St #515, Chicago, IL 60654', '345 W Fullerton Pkwy #1206, Chicago, IL 60614', '1618 N Oakley Ave Unit 2N, Chicago, IL 60647', '655 W Irving Park Rd #2516, Chicago, IL 60613', '1600 N Bell Ave Unit 3B, Chicago, IL 60647', '5 Randolph St Unit 3B, Oak Park, IL 60302', '1723 W Le Moyne St #101, Chicago, IL 60622', '7321 W Fullerton Ave #12, Elmwood Park, IL 60707', '5209 S Ingleside Ave #2, Chicago, IL 60615', '5020 N Austin Ave Unit 3I, Chicago, IL 60630', '3216 W Berteau Ave #3, Chicago, IL 60618', '1818 N Sawyer Ave Unit 1E, Chicago, IL 60647', '820 N California Ave #4, Chicago, IL 60622', '1505 N Maplewood Ave #1, Chicago, IL 60622', '6051 S Eberhart Ave Unit 3S, Chicago, IL 60637', '449 W Englewood Ave Unit B, Chicago, IL 60621', '1223 W Lunt Ave Unit 3A, Chicago, IL 60626', '1560 N Sandburg Ter Unit 4007J, Chicago, IL 60610', '5000 S Cornell Ave Unit 8D, Chicago, IL 60615', '2020 N Lincoln Park West Unit 7G, Chicago, IL 60614', '7224 W Wrightwood Ave #106, Elmwood Park, IL 60707', '8517 W Rascher Ave Unit 3E, Chicago, IL 60656', '1030 N State St Unit 13M, Chicago, IL 60610', '3600 N Lake Shore Dr #2611, Chicago, IL 60613', '4250 N Marine Dr #1531, Chicago, IL 60613', '7332 N Winchester Ave Unit 2N, Chicago, IL 60626', '924 E 46th St #2, Chicago, IL 60653', 'Sign in for address, Chicago, IL 60613', '2773 N Hampden Ct #504, Chicago, IL 60614', '21 E Huron St #3704, Chicago, IL 60611', '600 N Lake Shore Dr #2209, Chicago, IL 60611', '4404 N Malden Ave #2, Chicago, IL 60640', '400 E Randolph St #2517, Chicago, IL 60601', '111 S Morgan St #416, Chicago, IL 60607', '2409 W Balmoral Ave Unit 3F, Chicago, IL 60625', '16 N Carpenter St Unit 2S, Chicago, IL 60607', '123 S Green St Unit 310B, Chicago, IL 60607', '33 W Ontario St Unit 32A, Chicago, IL 60654', '160 E Illinois St #1505, Chicago, IL 60611', '680 N Lake Shore Dr #1006, Chicago, IL 60611', '1631 S Carpenter St #1, Chicago, IL 60608', '2734 N Kimball Ave #3, Chicago, IL 60647', '236 S Racine Ave #401, Chicago, IL 60607', '750 N Noble St Unit F, Chicago, IL 60642', '801 S Plymouth Ct #306, Chicago, IL 60605', '260 E Chestnut St #1411, Chicago, IL 60611', '1615 N Fairfield Ave #1, Chicago, IL 60647', '1872 N Clybourn Ave #202, Chicago, IL 60614', '4228 N Keystone Ave Unit 1B, Chicago, IL 60641', '3550 N Lake Shore Dr #1606, Chicago, IL 60657', '4624 N Commons Dr Unit 301E, Chicago, IL 60656', '1400 N State Pkwy Unit 10F, Chicago, IL 60610', '1017 W Washington Blvd Unit 7APH, Chicago, IL 60607', '1525 N Wicker Park Ave #1, Chicago, IL 60622', '917 E 78th St Unit 102E, Chicago, IL 60619', '1543 N Wieland St #1, Chicago, IL 60610', '155 N Harbor Dr #5306, Chicago, IL 60601', '1756 W 35th St Unit 3F, Chicago, IL 60609', '6007 N Sheridan Rd Unit 31J, Chicago, IL 60660', '203 S Sangamon St #220, Chicago, IL 60607', '5415 N Sheridan Rd #4912, Chicago, IL 60640', '2511 W Moffat St #402, Chicago, IL 60647', '630 N State St #2301, Chicago, IL 60654', '500 S Clinton St #342, Chicago, IL 60607', '737 W Washington Blvd #2210, Chicago, IL 60661', '1076 N Marshfield Ave #1, Chicago, IL 60622', '535 N Michigan Ave #2212, Chicago, IL 60611', '195 N Harbor Dr #5104, Chicago, IL 60601', '3930 N Pine Grove Ave #2603, Chicago, IL 60613', '1712 W Beach Ave #2, Chicago, IL 60622', '111 E Chestnut St Unit 26B, Chicago, IL 60611', '1102 N Marshfield Ave Unit 1E, Chicago, IL 60622', '6171 N Sheridan Rd #504, Chicago, IL 60660', '1372 N Dean St #2, Chicago, IL 60622', '3012 W Addison St Unit 4S, Chicago, IL 60618', '2831 N Halsted St Unit 3S, Chicago, IL 60657', '525 W Superior St #627, Chicago, IL 60654', '1620 W Wallen Ave Unit 3N, Chicago, IL 60626', '451 E Grand Ave #4303, Chicago, IL 60611', '1527 W Fargo Ave Unit 1E, Chicago, IL 60626', '720 N Larrabee St #1506, Chicago, IL 60610', '950 N Michigan Ave #4904, Chicago, IL 60611', '5901 N Sheridan Rd Unit 6B, Chicago, IL 60660', '1528 S Wabash Ave #409, Chicago, IL 60605', '5701 N Sheridan Rd Unit 25E, Chicago, IL 60660', '725 N Aberdeen St #609, Chicago, IL 60642', '4915 N Avers Ave Unit 2CS, Chicago, IL 60625', '5909 N Winthrop Ave Unit 1N, Chicago, IL 60660', '4815 W Roscoe St Unit 2S, Chicago, IL 60641', '1116 W North Shore Ave #1, Chicago, IL 60626', '1325 N State Pkwy Unit 18E, Chicago, IL 60610', '2065 N Kedzie Ave #214, Chicago, IL 60647', '1255 N Sandburg Ter Unit 2806E, Chicago, IL 60610', '150 W Superior St #1104, Chicago, IL 60654', '1017 W Washington Blvd Unit 5C, Chicago, IL 60607', '4640 N Albany Ave Unit 1N, Chicago, IL 60625', '70 W Huron St #2604, Chicago, IL 60654', '2248 N Fremont St Unit 1S, Chicago, IL 60614', '7438 N Hermitage Ave Unit 3F, Chicago, IL 60626', '3520 N Lake Shore Dr Unit 4E, Chicago, IL 60657', '950 W Barry Ave #4, Chicago, IL 60657', '1600 S Indiana Ave #1010, Chicago, IL 60616', '3145 W Palmer Blvd #3, Chicago, IL 60647', '2016 W Greenleaf Ave Unit 1A, Chicago, IL 60645', '1313 N Ritchie Ct #2506, Chicago, IL 60610', '1352 W George St Unit T, Chicago, IL 60657', '825 N Wood St #2, Chicago, IL 60622', '1201 S Prairie Ave #701, Chicago, IL 60605', '3741 N Wilton Ave Unit 3N, Chicago, IL 60613', '1152 W Fulton Market St Unit 5A, Chicago, IL 60607', '1455 W Wolfram St Unit B, Chicago, IL 60657', '899 S Plymouth Ct #1408, Chicago, IL 60605', '720 N Larrabee St #1502, Chicago, IL 60654', '433 N Wells St #301, Chicago, IL 60654', '713 W Blackhawk St, Chicago, IL 60610', '2437 N Kedzie Blvd Unit 2N, Chicago, IL 60647', '611 S Wells St #906, Chicago, IL 60607', '655 W Irving Park Rd #5503, Chicago, IL 60613', '1550 N Lake Shore Dr Unit 2B, Chicago, IL 60610', '340 W Superior St #1603, Chicago, IL 60654', '689 N Peoria St Unit 3S, Chicago, IL 60642', '2156 W Ohio St Unit 2W, Chicago, IL 60612', '653 W Buckingham Pl Unit 2W, Chicago, IL 60657', '2525 N Sheffield Ave Unit 2B, Chicago, IL 60614', '8 E Randolph St #1904, Chicago, IL 60601', '2020 N Lincoln Park West Unit 37GH, Chicago, IL 60614', '1845 N Sheffield Ave #3, Chicago, IL 60614', '2000 N Lincoln Park Ave W #412, Chicago, IL 60614', '130 N Garland Ct Unit 1001-03, Chicago, IL 60602', '2023 N Magnolia Ave Unit 2S, Chicago, IL 60614', '6161 W Higgins Ave #107, Chicago, IL 60630', '200 E Delaware Pl Unit 6A, Chicago, IL 60611', '5741 S Michigan Ave Unit 2N, Chicago, IL 60637', '545 N Dearborn St Unit W3601, Chicago, IL 60654', '5741 S Michigan Ave Unit 2S, Chicago, IL 60637', '5741 S Michigan Ave Unit 3N, Chicago, IL 60637', '5741 S Michigan Ave Unit 1S, Chicago, IL 60637', '1629 S Prairie Ave #2701, Chicago, IL 60616', '500 S Clinton St #502, Chicago, IL 60607', '1087 N Hermitage Ave #1, Chicago, IL 60622', '758 N Larrabee St #327, Chicago, IL 60654', '1034 N Milwaukee Ave #3, Chicago, IL 60642', '1430 N La Salle Dr Unit F2, Chicago, IL 60610', '1668 W Edgewater Ave Unit 2N, Chicago, IL 60660', '230 W Division St #706, Chicago, IL 60610', '1022 N Paulina St #3, Chicago, IL 60622', '1928 W Diversey Pkwy Unit 3-W, Chicago, IL 60614', '669 N Peoria St Unit 1S, Chicago, IL 60642', '1420 W Grand Ave Unit G, Chicago, IL 60642', '421 W Huron St #1001, Chicago, IL 60654', '5313 N Delphia Ave #113, Chicago, IL 60656', '503 N Wells St #3, Chicago, IL 60654', '1437 S Prairie Ave Unit K, Chicago, IL 60605', '505 N Lake Shore Dr Unit 514-515, Chicago, IL 60611', '505 N Lake Shore Dr #513, Chicago, IL 60611', '435 W Erie St #1904, Chicago, IL 60654', '1546 W Cortez St Unit G, Chicago, IL 60642', '6722 S Ridgeland Ave #3, Chicago, IL 60649', '3041 W Sunnyside Ave #3, Chicago, IL 60625', '1360 N Sandburg Ter Unit 2608C, Chicago, IL 60610', '1652 W Wabansia Ave #3, Chicago, IL 60622', '111 W Maple St #1802, Chicago, IL 60610', '1235 S Prairie Ave #3607, Chicago, IL 60605', '561 W Stratford Pl Unit 2C, Chicago, IL 60657', '1226 N Noble St #3, Chicago, IL 60642', '2511 W Moffat St #401, Chicago, IL 60647', '222 N Columbus Dr #904, Chicago, IL 60601', '5052 S Woodlawn Ave Unit 2B, Chicago, IL 60615', '100 E 14th St #3105, Chicago, IL 60605', '910 W Madison St #608, Chicago, IL 60607', '1144 W Schubert Ave #9, Chicago, IL 60614', '5455 N Sheridan Rd #3509, Chicago, IL 60640', '11 E Walton St #4502, Chicago, IL 60611', '17 W 35th St #206, Chicago, IL 60616', '728 W Jackson Blvd #706, Chicago, IL 60661', '2935 W Berwyn Ave #2, Chicago, IL 60625', '1617 S Michigan Ave #203, Chicago, IL 60616', '812 W College Pkwy Unit 2A, Chicago, IL 60608', '4860 N Clark St Unit 2R, Chicago, IL 60640', '4755 N Washtenaw Ave #406, Chicago, IL 60625', '50 E 16th St #909, Chicago, IL 60616', '1636 N Wells St #1505, Chicago, IL 60614', '400 E Ohio St #4304, Chicago, IL 60611', '4030 N Pulaski Rd Unit A, Chicago, IL 60641', '2323 W Pershing Rd #220, Chicago, IL 60609', '645 N Kingsbury St #2209, Chicago, IL 60654', '600 N Fairbanks Ct #3510, Chicago, IL 60611', '7435 N Ridge Blvd Unit GB, Chicago, IL 60645', '655 W Irving Park Rd #4603, Chicago, IL 60613', '6146 N Damen Ave Unit 1H, Chicago, IL 60659', '403 N Wabash Ave Unit 11A, Chicago, IL 60611', '1555 N Astor St Unit 6NE, Chicago, IL 60610', '6345 N Washtenaw Ave Unit GW, Chicago, IL 60659', '724 S Oakley Blvd #2, Chicago, IL 60612', '60 E Monroe St #4903, Chicago, IL 60603', '1411 W Farwell Ave Unit L1, Chicago, IL 60626', '7074 N Ridge Blvd Unit 4C, Chicago, IL 60645', '11 E Walton St #4101, Chicago, IL 60611', '5115 N Clark St Unit 3H, Chicago, IL 60640', '2709 W Greenleaf Ave #3, Chicago, IL 60645', '4343 N Clarendon Ave #901, Chicago, IL 60613', '123 S Green St Unit 703B, Chicago, IL 60607', '1620 N Oakley Ave #1, Chicago, IL 60647', '860 W Blackhawk St #1705, Chicago, IL 60642', '950 N Michigan Ave #3501, Chicago, IL 60611', '40 E 9th St #604, Chicago, IL 60605', '1122 N Clark St #1910, Chicago, IL 60610', '1600 S Indiana Ave #1405, Chicago, IL 60616', '1443 N Washtenaw Ave Unit 1F, Chicago, IL 60622', '3200 N Lake Shore Dr #1611, Chicago, IL 60657', '758 N Larrabee St #226, Chicago, IL 60654', '5740 N Ridge Ave Unit 2S, Chicago, IL 60660', '3753 N Wilton Ave #4, Chicago, IL 60613', '1315 W Erie St #2, Chicago, IL 60642', '1801 W Diversey Pkwy #8, Chicago, IL 60614', '4903 N Winthrop Ave Unit GN, Chicago, IL 60640', '4906 N Kenmore Ave Unit 1N, Chicago, IL 60640', '4906 N Kenmore Ave Unit 1S, Chicago, IL 60640', '9603 S Avenue L Ave #1, Chicago, IL 60617', '215 N Aberdeen St Unit B-401, Chicago, IL 60607', '3111 N Lincoln Ave, Chicago, IL 60657', '3600 N Lake Shore Dr #1023, Chicago, IL 60613', '4005 S Calumet Ave #1, Chicago, IL 60653', '1440 S Michigan Ave #420, Chicago, IL 60605', '2629 W Chicago Ave #3, Chicago, IL 60622', '1212 N Wells St #402, Chicago, IL 60610', '1841 N Monticello Ave Unit 3W, Chicago, IL 60647', '125 S Jefferson St #1208, Chicago, IL 60661', '1800 W Grace St #604, Chicago, IL 60613', '6703 N Bosworth Unit A1, Chicago, IL 60626', '1735 N Paulina St #511, Chicago, IL 60622', '2243 N Lister Ave #402, Chicago, IL 60614', '6431 N Damen Ave Unit 1E, Chicago, IL 60645', '3815 S Langley Ave #301, Chicago, IL 60653', '700 N Larrabee St #913, Chicago, IL 60654', '100 E 14th St #2203, Chicago, IL 60605', '3440 N Lake Shore Dr Unit 14B, Chicago, IL 60657', '1101 S State St #1300, Chicago, IL 60605', '3110 W Berteau Ave #1, Chicago, IL 60618', '65 E Monroe St #4206, Chicago, IL 60603', '835 N Wood St Unit 102-202, Chicago, IL 60622', '1111 S Wabash Ave #2501, Chicago, IL 60605', '1000 E 53rd St Unit 519S, Chicago, IL 60615', '1322 S Wabash Ave Ph 6, Chicago, IL 60605', '2057 W Fargo Ave #1, Chicago, IL 60645']\n"
     ]
    }
   ],
   "source": [
    "# printing the address\n",
    "\n",
    "print(len(address_chicago),address_chicago)"
   ]
  },
  {
   "cell_type": "code",
   "execution_count": 93,
   "id": "367c5668",
   "metadata": {
    "scrolled": false
   },
   "outputs": [
    {
     "name": "stdout",
     "output_type": "stream",
     "text": [
      "320 ['condo', 'condo', 'condo', 'condo', 'condo', 'condo', 'condo', 'condo', 'condo', 'condo', 'condo', 'condo', 'condo', 'condo', 'condo', 'condo', 'condo', 'condo', 'condo', 'condo', 'condo', 'condo', 'condo', 'condo', 'condo', 'condo', 'condo', 'condo', 'condo', 'condo', 'condo', 'condo', 'condo', 'condo', 'condo', 'condo', 'condo', 'condo', 'condo', 'condo', 'condo', 'condo', 'condo', 'condo', 'condo', 'condo', 'condo', 'condo', 'condo', 'condo', 'condo', 'condo', 'condo', 'condo', 'condo', 'condo', 'condo', 'condo', 'condo', 'condo', 'condo', 'condo', 'condo', 'condo', 'condo', 'condo', 'condo', 'condo', 'condo', 'condo', 'condo', 'condo', 'condo', 'condo', 'condo', 'condo', 'condo', 'condo', 'condo', 'condo', 'condo', 'condo', 'condo', 'condo', 'condo', 'condo', 'condo', 'condo', 'condo', 'condo', 'condo', 'condo', 'condo', 'condo', 'condo', 'condo', 'condo', 'condo', 'condo', 'condo', 'condo', 'condo', 'condo', 'condo', 'condo', 'condo', 'condo', 'condo', 'condo', 'condo', 'condo', 'condo', 'condo', 'condo', 'condo', 'condo', 'condo', 'condo', 'condo', 'condo', 'condo', 'condo', 'condo', 'condo', 'condo', 'condo', 'condo', 'condo', 'condo', 'condo', 'condo', 'condo', 'condo', 'condo', 'condo', 'condo', 'condo', 'condo', 'condo', 'condo', 'condo', 'condo', 'condo', 'condo', 'condo', 'condo', 'condo', 'condo', 'condo', 'condo', 'condo', 'condo', 'condo', 'condo', 'condo', 'condo', 'condo', 'condo', 'condo', 'condo', 'condo', 'condo', 'condo', 'condo', 'condo', 'condo', 'condo', 'condo', 'condo', 'condo', 'condo', 'condo', 'condo', 'condo', 'condo', 'condo', 'condo', 'condo', 'condo', 'condo', 'condo', 'condo', 'condo', 'condo', 'condo', 'condo', 'condo', 'condo', 'condo', 'condo', 'condo', 'condo', 'condo', 'condo', 'condo', 'condo', 'condo', 'condo', 'condo', 'condo', 'condo', 'condo', 'condo', 'condo', 'condo', 'condo', 'condo', 'condo', 'condo', 'condo', 'condo', 'condo', 'condo', 'condo', 'condo', 'condo', 'condo', 'condo', 'condo', 'condo', 'condo', 'condo', 'condo', 'condo', 'condo', 'condo', 'condo', 'condo', 'condo', 'condo', 'condo', 'condo', 'condo', 'condo', 'condo', 'condo', 'condo', 'condo', 'condo', 'condo', 'condo', 'condo', 'condo', 'condo', 'condo', 'condo', 'condo', 'condo', 'condo', 'condo', 'condo', 'condo', 'condo', 'condo', 'condo', 'condo', 'condo', 'condo', 'condo', 'condo', 'condo', 'condo', 'condo', 'condo', 'condo', 'condo', 'condo', 'condo', 'condo', 'condo', 'condo', 'condo', 'condo', 'condo', 'condo', 'condo', 'condo', 'condo', 'condo', 'condo', 'condo', 'condo', 'condo', 'condo', 'condo', 'condo', 'condo', 'condo', 'condo', 'condo', 'condo', 'condo', 'condo', 'condo', 'condo', 'condo', 'condo', 'condo', 'condo', 'condo', 'condo', 'condo', 'condo', 'condo', 'condo', 'condo', 'condo', 'condo', 'condo', 'condo', 'condo', 'condo', 'condo', 'condo', 'condo', 'condo', 'condo', 'condo', 'condo', 'condo']\n"
     ]
    }
   ],
   "source": [
    "# setting the type to condo as we have already filtered them by condo\n",
    "\n",
    "type_chicago = [\"condo\"]*320\n",
    "\n",
    "print(len(type_chicago),type_chicago)"
   ]
  },
  {
   "cell_type": "markdown",
   "id": "f117faf6",
   "metadata": {},
   "source": [
    "### for location = Boston"
   ]
  },
  {
   "cell_type": "code",
   "execution_count": 80,
   "id": "4a584fcc",
   "metadata": {},
   "outputs": [],
   "source": [
    "# going back to the homepage\n",
    "\n",
    "home_button = driver.find_element(By.XPATH, '/html/body/div[1]/div[2]/div/div/header[2]/div[1]/div[1]/div')\n",
    "\n",
    "home_button.click()"
   ]
  },
  {
   "cell_type": "code",
   "execution_count": 81,
   "id": "17a6d095",
   "metadata": {},
   "outputs": [],
   "source": [
    "# entering location = \"Boston\" in the search field\n",
    "\n",
    "time.sleep(3)\n",
    "designation = driver.find_element(By.XPATH, '/html/body/div[1]/div[6]/div[2]/div/section/div/div/div/div/div/div/div/div[2]/div/div/form/div/div/input')\n",
    "designation.send_keys(\"Boston\")"
   ]
  },
  {
   "cell_type": "code",
   "execution_count": 82,
   "id": "48f96e6c",
   "metadata": {},
   "outputs": [],
   "source": [
    "# Clicking the search button\n",
    "\n",
    "search = driver.find_element(By.XPATH, '/html/body/div[1]/div[6]/div[2]/div/section/div/div/div/div/div/div/div/div[2]/div/div/form/div/button')\n",
    "search.click()"
   ]
  },
  {
   "cell_type": "code",
   "execution_count": 83,
   "id": "6fb1bf8d",
   "metadata": {},
   "outputs": [],
   "source": [
    "#selecting \"House\" as Home Type in filters\n",
    "\n",
    "home_type_button = driver.find_element(By.XPATH, '/html/body/div[1]/div[8]/div[1]/div[2]/div[1]/div[2]/div/div/div/div[1]/form/div[4]/div')\n",
    "home_type_button.click()\n",
    "\n",
    "\n",
    "#clikcing on house option\n",
    "\n",
    "condo_button = driver.find_element(By.XPATH, '/html/body/div[1]/div[8]/div[1]/div[2]/div[1]/div[2]/div/div/div/div[1]/form/div[4]/div/div[2]/div/div[1]/div[2]/div/div[1]')\n",
    "condo_button.click()\n"
   ]
  },
  {
   "cell_type": "code",
   "execution_count": 95,
   "id": "16eefeaa",
   "metadata": {},
   "outputs": [],
   "source": [
    "#scrapping data\n",
    "\n",
    "price_boston = []\n",
    "bed_boston = []\n",
    "bath_boston = []\n",
    "area_boston = []\n",
    "address_boston = []\n",
    "\n",
    "start = 0\n",
    "end = 3\n",
    "\n",
    "\n",
    "for page in range(start, end):\n",
    "    \n",
    "        #scrapping prices\n",
    "    prices = driver.find_elements(By.CLASS_NAME, \"bp-Homecard__Price--value\")\n",
    "    for i in prices:\n",
    "        price_boston.append(i.text)\n",
    "     \n",
    "    \n",
    "        #scrapping no of beds\n",
    "    beds = driver.find_elements(By.CLASS_NAME, 'bp-Homecard__Stats--beds')\n",
    "    for i in beds:\n",
    "        bed_boston.append(i.text)\n",
    "     \n",
    "    \n",
    "        #scrapping no of bathrooms\n",
    "    baths = driver.find_elements(By.CLASS_NAME, 'bp-Homecard__Stats--baths')\n",
    "    for i in baths:\n",
    "        bath_boston.append(i.text)\n",
    "        \n",
    "    \n",
    "        #scrapping area\n",
    "    areas = driver.find_elements(By.CLASS_NAME, \"bp-Homecard__Stats--sqft\")\n",
    "    for i in areas:\n",
    "        area_boston.append(i.text)\n",
    "        \n",
    "        \n",
    "        #scrapping address\n",
    "    addresses = driver.find_elements(By.CLASS_NAME, \"bp-Homecard__Address\")\n",
    "    for i in addresses:\n",
    "        address_boston.append(i.text)\n",
    "     \n",
    "    \n",
    "    \n",
    "    next_button = driver.find_element(By.XPATH, '/html/body/div[1]/div[8]/div[1]/div[2]/div[1]/div[5]/div/div[3]/button[2]')\n",
    "    time.sleep(1)\n",
    "    next_button.click()\n",
    "    time.sleep(2)"
   ]
  },
  {
   "cell_type": "code",
   "execution_count": 96,
   "id": "7dcdb34c",
   "metadata": {},
   "outputs": [
    {
     "name": "stdout",
     "output_type": "stream",
     "text": [
      "120 ['$989,000', '$999,000', '$750,000', '$899,900', '$749,000', '$1,125,000', '$995,000', '$649,000', '$639,900', '$849,000', '$1,299,900', '$769,000', '$1,199,000', '$1,699,000', '$1,825,000', '$675,000', '$579,000', '$287,000', '$1,375,000', '$1,575,000', '$975,000', '$1,200,000', '$1,375,000', '$1,629,000', '$1,400,000', '$519,000', '$1,249,999', '$3,199,000', '$950,000', '$549,000', '$1,175,000', '$899,999', '$3,295,000', '$1,599,999', '$869,900', '$749,000', '$699,900', '$1,499,000', '$2,499,000', '$4,495,000', '$1,749,000', '$1,400,000', '$1,399,000', '$3,895,000', '$824,900', '$1,800,000', '$1,100,000', '$899,000', '$635,000', '$1,025,000', '$1,199,999', '$609,000', '$1,249,900', '$3,995,000', '$674,900', '$1,475,000', '$929,000', '$615,000', '$679,900', '$2,499,000', '$899,000', '$949,000', '$1,075,000', '$2,200,000', '$1,975,000', '$2,025,000', '$4,595,000', '$799,000', '$605,000', '$1,675,000', '$1,950,000', '$1,595,000', '$1,549,000', '$1,899,000', '$1,199,000', '$400,000', '$1,195,000', '$1,399,000', '$24,990,000', '$699,000', '$899,000', '$3,600,000', '$3,850,000', '$925,000', '$3,699,999', '$949,000', '$2,549,000', '$7,500,000', '$1,750,000', '$29,900,000', '$1,149,000', '$4,500,000', '$1,199,000', '$1,575,000', '$2,349,000', '$1,099,000', '$4,899,000', '$2,925,000', '$2,300,000', '$3,875,000', '$659,000', '$699,000', '$9,500,000', '$1,650,000', '$1,250,000', '$880,000', '$899,000', '$2,299,000', '$1,699,000', '$2,350,000', '$2,295,000', '$1,150,000', '$2,099,000', '$1,100,000', '$4,095,000', '$3,395,000', '$1,695,000', '$4,200,000', '$9,700,000', '$1,100,000']\n"
     ]
    }
   ],
   "source": [
    "print(len(price_boston),price_boston)"
   ]
  },
  {
   "cell_type": "code",
   "execution_count": 97,
   "id": "77c32b0d",
   "metadata": {},
   "outputs": [
    {
     "name": "stdout",
     "output_type": "stream",
     "text": [
      "120 ['4 beds', '4 beds', '4 beds', '3 beds', '0 beds', '4 beds', '3 beds', '3 beds', '3 beds', '3 beds', '6 beds', '4 beds', '2 beds', '3 beds', '6 beds', '3 beds', '3 beds', '3 beds', '3 beds', '5 beds', '3 beds', '5 beds', '4 beds', '4 beds', '4 beds', '3 beds', '5 beds', '3 beds', '2 beds', '5 beds', '2 beds', '4 beds', '3 beds', '6 beds', '5 beds', '3 beds', '3 beds', '8 beds', '3 beds', '4 beds', '4 beds', '7 beds', '3 beds', '3 beds', '3 beds', '6 beds', '3 beds', '3 beds', '3 beds', '4 beds', '4 beds', '3 beds', '4 beds', '6 beds', '3 beds', '4 beds', '2 beds', '3 beds', '3 beds', '4 beds', '4 beds', '2 beds', '4 beds', '3 beds', '4 beds', '4 beds', '4 beds', '4 beds', '4 beds', '4 beds', '5 beds', '4 beds', '4 beds', '3 beds', '6 beds', '2 beds', '3 beds', '6 beds', '6 beds', '5 beds', '6 beds', '4 beds', '4 beds', '4 beds', '6 beds', '5 beds', '3 beds', '5 beds', '5 beds', '6 beds', '4 beds', '8 beds', '5 beds', '5 beds', '4 beds', '4 beds', '4 beds', '4 beds', '2 beds', '5 beds', '4 beds', '2 beds', '5 beds', '4 beds', '4 beds', '5 beds', '6 beds', '4 beds', '5 beds', '4 beds', '5 beds', '4 beds', '3 beds', '3 beds', '5 beds', '6 beds', '4 beds', '5 beds', '4 beds', '5 beds']\n"
     ]
    }
   ],
   "source": [
    "print(len(bed_boston),bed_boston)"
   ]
  },
  {
   "cell_type": "code",
   "execution_count": 98,
   "id": "4967c91e",
   "metadata": {},
   "outputs": [
    {
     "name": "stdout",
     "output_type": "stream",
     "text": [
      "120 ['2.5 baths', '3.5 baths', '2 baths', '1.5 baths', '1 bath', '2 baths', '2 baths', '1 bath', '2 baths', '1.5 baths', '2.5 baths', '1.5 baths', '2.5 baths', '2.5 baths', '2 baths', '1.5 baths', '1.5 baths', '1 bath', '3 baths', '2.5 baths', '1.5 baths', '3.5 baths', '3 baths', '2.5 baths', '3 baths', '1 bath', '4.5 baths', '3.5 baths', '1.5 baths', '3.5 baths', '1.5 baths', '1.5 baths', '4.5 baths', '2.5 baths', '3.5 baths', '2 baths', '2.5 baths', '4 baths', '2.5 baths', '4 baths', '2.5 baths', '1.5 baths', '2.5 baths', '2.5 baths', '2.5 baths', '4.5 baths', '2.5 baths', '2.5 baths', '1 bath', '2 baths', '4 baths', '1.5 baths', '3.5 baths', '6.5 baths', '1.5 baths', '2.5 baths', '1 bath', '2.5 baths', '2.5 baths', '4.5 baths', '3 baths', '2 baths', '2 baths', '2.5 baths', '4.5 baths', '4.5 baths', '3 baths', '1 bath', '2.5 baths', '3.5 baths', '2.5 baths', '2.5 baths', '2.5 baths', '2.5 baths', '2 baths', '1.5 baths', '2.5 baths', '2.5 baths', '6.5 baths', '2.5 baths', '2 baths', '3.5 baths', '5.5 baths', '2 baths', '4 baths', '2 baths', '2.5 baths', '6 baths', '3.5 baths', '8.5 baths', '2.5 baths', '3 baths', '3.5 baths', '2.5 baths', '1.5 baths', '3.5 baths', '4.5 baths', '3.5 baths', '2.5 baths', '6.5 baths', '2 baths', '1 bath', '6.5 baths', '3.5 baths', '2 baths', '2.5 baths', '1.5 baths', '3.5 baths', '2.5 baths', '3.5 baths', '5 baths', '3.5 baths', '3 baths', '1 bath', '4 baths', '5 baths', '2.5 baths', '3.5 baths', '5.5 baths', '3 baths']\n"
     ]
    }
   ],
   "source": [
    "print(len(bath_boston),bath_boston)"
   ]
  },
  {
   "cell_type": "code",
   "execution_count": 99,
   "id": "5d1b6385",
   "metadata": {},
   "outputs": [
    {
     "name": "stdout",
     "output_type": "stream",
     "text": [
      "120 ['2,151 sq ft', '2,082 sq ft', '1,496 sq ft', '2,145 sq ft', '1,782 sq ft', '1,464 sq ft', '1,474 sq ft', '1,248 sq ft', '1,008 sq ft', '1,862 sq ft', '3,200 sq ft', '1,998 sq ft', '1,652 sq ft', '1,898 sq ft', '3,557 sq ft', '1,440 sq ft', '1,368 sq ft', '1,176 sq ft', '2,311 sq ft', '2,576 sq ft', '1,737 sq ft', '3,008 sq ft', '2,250 sq ft', '2,500 sq ft', '1,976 sq ft', '1,004 sq ft', '2,362 sq ft', '3,000 sq ft', '1,511 sq ft', '2,388 sq ft', '1,277 sq ft', '2,295 sq ft', '4,080 sq ft', '3,223 sq ft', '2,960 sq ft', '1,361 sq ft', '1,812 sq ft', '6,488 sq ft', '2,838 sq ft', '3,300 sq ft', '1,984 sq ft', '2,947 sq ft', '1,844 sq ft', '1,967 sq ft', '1,696 sq ft', '5,010 sq ft', '1,978 sq ft', '2,039 sq ft', '1,300 sq ft', '2,363 sq ft', '2,444 sq ft', '1,216 sq ft', '2,265 sq ft', '5,952 sq ft', '1,305 sq ft', '2,626 sq ft', '1,353 sq ft', '1,400 sq ft', '1,119 sq ft', '3,637 sq ft', '1,984 sq ft', '1,292 sq ft', '2,246 sq ft', '2,596 sq ft', '3,153 sq ft', '3,114 sq ft', '4,269 sq ft', '1,927 sq ft', '1,512 sq ft', '1,700 sq ft', '3,119 sq ft', '2,717 sq ft', '2,500 sq ft', '2,736 sq ft', '2,598 sq ft', '1,121 sq ft', '1,008 sq ft', '3,686 sq ft', '9,624 sq ft', '1,764 sq ft', '1,959 sq ft', '2,752 sq ft', '5,000 sq ft', '1,950 sq ft', '4,367 sq ft', '2,500 sq ft', '1,876 sq ft', '6,106 sq ft', '1,836 sq ft', '10,022 sq ft', '2,534 sq ft', '11,323 sq ft', '2,642 sq ft', '3,183 sq ft', '1,839 sq ft', '2,500 sq ft', '3,450 sq ft', '3,670 sq ft', '2,606 sq ft', '8,600 sq ft', '2,046 sq ft', '1,353 sq ft', '4,151 sq ft', '2,812 sq ft', '2,650 sq ft', '3,291 sq ft', '2,831 sq ft', '2,545 sq ft', '3,016 sq ft', '3,120 sq ft', '6,398 sq ft', '2,226 sq ft', '1,919 sq ft', '1,650 sq ft', '3,551 sq ft', '7,745 sq ft', '2,800 sq ft', '3,514 sq ft', '6,596 sq ft', '2,170 sq ft']\n"
     ]
    }
   ],
   "source": [
    "print(len(area_boston),area_boston)"
   ]
  },
  {
   "cell_type": "code",
   "execution_count": 100,
   "id": "90acb449",
   "metadata": {},
   "outputs": [
    {
     "name": "stdout",
     "output_type": "stream",
     "text": [
      "120 ['48 Anawan Ave, Boston, MA 02132', '27 Greycliff Rd, Boston, MA 02135', '16 Dawson St, Boston, MA 02124', '70 Parklawn Rd, Boston, MA 02132', '11 High St, Milton, MA 02186', '12 Thomas St, Boston, MA 02130', '9 Raymond St, Boston, MA 02134', '55 Farrar Ave, Boston, MA 02136', '4 Badger Rd, Boston, MA 02136', '11 Clancy Rd, Boston, MA 02124', '29 Park St, Boston, MA 02132', '36 Sammett Ave, Boston, MA 02131', '26 Cedar St, Boston, MA 02129', '158 Athens #2, Boston, MA 02127', '57 Stratford St, Boston, MA 02132', '717 Beechmont St, Boston, MA 02136', '460 Beech St, Boston, MA 02131', '16 Pinehurst St, Boston, MA 02131', '14 Burr St, Boston, MA 02130', '67 Peter Parley Rd, Boston, MA 02130', '68 Theodore Parker Rd, Boston, MA 02132', '67 Lambert Ave, Boston, MA 02119', '2 Kinsale Ln, Boston, MA 02136', '13 Bellevue Hill Rd, Boston, MA 02132', '663A East 5th, Boston, MA 02127', '103 Bennington St, Boston, MA 02128', '24 Tremlett, Boston, MA 02124', '285 K St, Boston, MA 02127', '3 Lexington Ave, Boston, MA 02129', '18 Rugby Rd, Boston, MA 02126', '22 Russell St, Boston, MA 02129', '1851 River St, Boston, MA 02136', '34 Harvard St, Boston, MA 02129', '58 Stratford St, Boston, MA 02132', '55 Metropolitan Ave, Boston, MA 02131', '523 Poplar St, Boston, MA 02131', '4 Ralston Rd, Boston, MA 02136', '70 Peter Parley Rd, Boston, MA 02130', '31 Prospect St, Boston, MA 02129', '48 Montgomery St, Boston, MA 02116', '1 Pleasant Street Ct, Boston, MA 02129', '42 Peter Parley Rd, Boston, MA 02130', '176 School St Unit F, Boston, MA 02130', '1 Dartmouth Pl, Boston, MA 02116', '51 Paine St, Boston, MA 02131', '30 Perrin St, Boston, MA 02119', '443 Poplar St, Boston, MA 02131', '167 Poplar #1, Boston, MA 02131', '69 Neponset Ave, Boston, MA 02136', '38 Glencoe St, Boston, MA 02135', '30 Park St #6, Boston, MA 02122', '35 Birchcroft Rd, Boston, MA 02136', '10 Heathcote St Unit ONE, Boston, MA 02131', '50 Grace Rd, Newton, MA 02459', '15 Claron St, Boston, MA 02131', '124 Theodore Parker Rd, Boston, MA 02132', '100-1/2 West Springfield St, Boston, MA 02118', '580 Bennington #580, Boston, MA 02128', '3 Emmons St, Boston, MA 02128', '329 Bunker Hill St, Boston, MA 02129', '1 Thornton Ter, Boston, MA 02119', '9 Jenkins St, Boston, MA 02127', '21 Tappan St, Boston, MA 02131', '65 Rutherford, Boston, MA 02129', '264 Lagrange St #264, Newton, MA 02467', '266 Lagrange St #266, Newton, MA 02467', '11 Wellington St, Boston, MA 02118', '267 W 5th St, Boston, MA 02127', '60 Bradlee, Boston, MA 02136', '526 E 8th St, Boston, MA 02127', '66 Perkins St, Boston, MA 02130', '49 Ledge Hill Rd, Boston, MA 02132', '47 Ledge Hill Rd, Boston, MA 02132', '115 W Third St, Boston, MA 02127', '31 Kenwood St, Boston, MA 02124', '104 Homestead St #104, Boston, MA 02121', '110 Leicester St, Boston, MA 02135', '62 Brooksdale Rd, Boston, MA 02135', '129 Commonwealth Ave, Boston, MA 02116', '28 Fifield St, Boston, MA 02122', '22 Florian St, Boston, MA 02131', '131 Myrtle St, Boston, MA 02114', '21 Alveston St, Boston, MA 02130', '4343 Washington St, Boston, MA 02131', '37 Evans Rd, Brookline, MA 02445', '30 Massasoit St, Boston, MA 02136', '375 Shawmut Ave, Boston, MA 02118', '1 West Hill Pl, Boston, MA 02114', '57 Greenwich St, Boston, MA 02120', '130 Commonwealth Ave, Boston, MA 02116', '1000 South St, Boston, MA 02131', '19 School St, Boston, MA 02108', '79 Park St, Boston, MA 02132', '12 Morton Ter, Milton, MA 02186', '56 Winthrop St, Boston, MA 02129', '62 W Milton St, Boston, MA 02136', '121 Warren Ave, Boston, MA 02116', '777 E Broadway, Boston, MA 02127', '12 Thwing St, Boston, MA 02119', '50 Brush Hill Ln, Milton, MA 02186', '11 Whiting St, Boston, MA 02119', '46 Brook Farm Rd, Boston, MA 02132', '160 Mt Vernon St, Boston, MA 02108', '9 Sherrin Rd, Brookline, MA 02467', '108 Goodenough St, Boston, MA 02135', '75 Highland St, Boston, MA 02136', '19 Mount Ida Rd, Boston, MA 02122', '56 Belmont St #2, Boston, MA 02129', '45 Peter Parley Rd, Boston, MA 02130', '437 W 4th St, Boston, MA 02127', '34 Brush Hill Ln, Milton, MA 02186', '35 Brighton St, Boston, MA 02129', '47 Winchester St, Boston, MA 02116', '37 Jenkins St, Boston, MA 02127', '40 Hanson St, Boston, MA 02118', '75 Huntington Rd, Newton, MA 02458', '4 Starling St, Boston, MA 02132', '57 Monmouth St, Brookline, MA 02445', '11 Chestnut St, Boston, MA 02108', '78 Harbor View St, Boston, MA 02125']\n"
     ]
    }
   ],
   "source": [
    "print(len(address_boston),address_boston)"
   ]
  },
  {
   "cell_type": "code",
   "execution_count": 101,
   "id": "7f72c65f",
   "metadata": {
    "scrolled": true
   },
   "outputs": [
    {
     "name": "stdout",
     "output_type": "stream",
     "text": [
      "120 ['house', 'house', 'house', 'house', 'house', 'house', 'house', 'house', 'house', 'house', 'house', 'house', 'house', 'house', 'house', 'house', 'house', 'house', 'house', 'house', 'house', 'house', 'house', 'house', 'house', 'house', 'house', 'house', 'house', 'house', 'house', 'house', 'house', 'house', 'house', 'house', 'house', 'house', 'house', 'house', 'house', 'house', 'house', 'house', 'house', 'house', 'house', 'house', 'house', 'house', 'house', 'house', 'house', 'house', 'house', 'house', 'house', 'house', 'house', 'house', 'house', 'house', 'house', 'house', 'house', 'house', 'house', 'house', 'house', 'house', 'house', 'house', 'house', 'house', 'house', 'house', 'house', 'house', 'house', 'house', 'house', 'house', 'house', 'house', 'house', 'house', 'house', 'house', 'house', 'house', 'house', 'house', 'house', 'house', 'house', 'house', 'house', 'house', 'house', 'house', 'house', 'house', 'house', 'house', 'house', 'house', 'house', 'house', 'house', 'house', 'house', 'house', 'house', 'house', 'house', 'house', 'house', 'house', 'house', 'house']\n"
     ]
    }
   ],
   "source": [
    "# setting the type to house as we have already filtered them by condo\n",
    "\n",
    "type_boston = [\"house\"]*120\n",
    "\n",
    "print(len(type_boston),type_boston)"
   ]
  },
  {
   "cell_type": "markdown",
   "id": "d9d96ca3",
   "metadata": {},
   "source": [
    "### for location = Dallas"
   ]
  },
  {
   "cell_type": "code",
   "execution_count": 98,
   "id": "8eff13f6",
   "metadata": {},
   "outputs": [],
   "source": [
    "# going back to the homepage\n",
    "\n",
    "\n",
    "\n",
    "home_button = driver.find_element(By.XPATH, '/html/body/div[1]/div[2]/div/div/header[2]/div[1]/div[1]/div')\n",
    "\n",
    "home_button.click()"
   ]
  },
  {
   "cell_type": "code",
   "execution_count": 99,
   "id": "f7c1236b",
   "metadata": {},
   "outputs": [],
   "source": [
    "# entering location = \"Dallas\" in the search field\n",
    "\n",
    "time.sleep(3)\n",
    "designation = driver.find_element(By.XPATH, '/html/body/div[1]/div[6]/div[2]/div/section/div/div/div/div/div/div/div/div[2]/div/div/form/div/div/input')\n",
    "designation.send_keys(\"Dallas\")\n",
    "\n",
    "\n",
    "# Clicking the search button\n",
    "\n",
    "search = driver.find_element(By.XPATH, '/html/body/div[1]/div[6]/div[2]/div/section/div/div/div/div/div/div/div/div[2]/div/div/form/div/button')\n",
    "search.click()"
   ]
  },
  {
   "cell_type": "code",
   "execution_count": 100,
   "id": "f67f071e",
   "metadata": {},
   "outputs": [],
   "source": [
    "#selecting \"Condo\" as Home Type in filters\n",
    "\n",
    "home_type_button = driver.find_element(By.XPATH, '/html/body/div[1]/div[8]/div[1]/div[2]/div[1]/div[2]/div/div/div/div[1]/form/div[4]/div')\n",
    "home_type_button.click()\n",
    "\n",
    "\n",
    "#clikcing on condo option\n",
    "\n",
    "condo_button = driver.find_element(By.XPATH, '/html/body/div[1]/div[8]/div[1]/div[2]/div[1]/div[2]/div/div/div/div[1]/form/div[4]/div/div[2]/div/div[1]/div[2]/div/div[3]')\n",
    "condo_button.click()"
   ]
  },
  {
   "cell_type": "code",
   "execution_count": 103,
   "id": "5ef38fc6",
   "metadata": {},
   "outputs": [],
   "source": [
    "#scrapping data\n",
    "\n",
    "price_dallas= []\n",
    "bed_dallas = []\n",
    "bath_dallas = []\n",
    "area_dallas = []\n",
    "address_dallas = []\n",
    "\n",
    "\n",
    "start = 0\n",
    "end = 7\n",
    "\n",
    "\n",
    "for page in range(start, end):\n",
    "    \n",
    "        #scrapping prices\n",
    "    prices = driver.find_elements(By.CLASS_NAME, \"bp-Homecard__Price--value\")\n",
    "    for i in prices:\n",
    "        price_dallas.append(i.text)\n",
    "     \n",
    "    \n",
    "        #scrapping no of beds\n",
    "    beds = driver.find_elements(By.CLASS_NAME, 'bp-Homecard__Stats--beds')\n",
    "    for i in beds:\n",
    "        bed_dallas.append(i.text)\n",
    "     \n",
    "    \n",
    "        #scrapping no of bathrooms\n",
    "    baths = driver.find_elements(By.CLASS_NAME, 'bp-Homecard__Stats--baths')\n",
    "    for i in baths:\n",
    "        bath_dallas.append(i.text)\n",
    "        \n",
    "    \n",
    "        #scrapping area\n",
    "    areas = driver.find_elements(By.CLASS_NAME, \"bp-Homecard__Stats--sqft\")\n",
    "    for i in areas:\n",
    "        area_dallas.append(i.text)\n",
    "        \n",
    "        \n",
    "        #scrapping address\n",
    "    addresses = driver.find_elements(By.CLASS_NAME, \"bp-Homecard__Address\")\n",
    "    for i in addresses:\n",
    "        address_dallas.append(i.text)\n",
    "     \n",
    "    \n",
    "    \n",
    "    next_button = driver.find_element(By.XPATH, '/html/body/div[1]/div[8]/div[1]/div[2]/div[1]/div[5]/div/div[3]/button[2]')\n",
    "    time.sleep(1)\n",
    "    next_button.click()\n",
    "    time.sleep(2)"
   ]
  },
  {
   "cell_type": "code",
   "execution_count": 104,
   "id": "dcd6036c",
   "metadata": {},
   "outputs": [
    {
     "name": "stdout",
     "output_type": "stream",
     "text": [
      "280 ['$95,000', '$309,900', '$449,000', '$279,500', '$130,000', '$439,000', '$299,999', '$73,500', '$245,000', '$230,000', '$165,000', '$165,000', '$215,000', '$249,500', '$775,000', '$615,000', '$400,000', '$410,000', '$649,900', '$625,000', '$600,000', '$595,000', '$355,000', '$125,000', '$179,999', '$574,500', '$989,000', '$380,000', '$65,000', '$399,000', '$175,000', '$829,900', '$149,995', '$129,900', '$300,000', '$490,000', '$530,000', '$478,000', '$169,800', '$135,000', '$159,800', '$120,000', '$169,995', '$315,000', '$229,900', '$1,200,000', '$1,050,000', '$315,000', '$138,560', '$120,000', '$662,000', '$289,900', '$147,400', '$575,000', '$239,000', '$195,000', '$250,000', '$780,000', '$279,000', '$285,000', '$120,000', '$179,000', '$219,000', '$315,000', '$150,000', '$134,000', '$132,000', '$115,000', '$299,000', '$179,500', '$695,000', '$340,000', '$249,000', '$310,000', '$650,000', '$300,000', '$399,000', '$340,000', '$282,500', '$230,000', '$189,000', '$295,000', '$167,000', '$550,000', '$235,900', '$209,000', '$150,000', '$328,000', '$640,000', '$124,999', '$85,000', '$168,000', '$360,000', '$299,900', '$245,000', '$369,900', '$197,000', '$700,000', '$162,500', '$649,000', '$325,000', '$205,000', '$208,000', '$198,500', '$154,999', '$270,000', '$145,000', '$1,250,000', '$109,900', '$175,000', '$175,000', '$199,800', '$529,900', '$709,500', '$1,926,000', '$220,000', '$719,000', '$184,900', '$198,000', '$490,000', '$490,000', '$3,900,000', '$715,000', '$247,000', '$930,000', '$315,000', '$1,495,000', '$475,000', '$239,900', '$135,500', '$285,000', '$490,000', '$205,000', '$269,900', '$489,900', '$605,000', '$325,000', '$245,000', '$129,888', '$699,000', '$189,999', '$179,000', '$155,000', '$490,000', '$649,000', '$659,000', '$122,000', '$849,000', '$225,000', '$4,976,400', '$203,000', '$695,000', '$319,000', '$210,000', '$3,650,000', '$675,000', '$559,000', '$119,000', '$925,000', '$284,000', '$315,000', '$769,000', '$1,200,000', '$569,000', '$455,000', '$379,000', '$359,999', '$225,000', '$290,000', '$319,900', '$144,000', '$244,900', '$240,000', '$500,000', '$995,000', '$2,075,000', '$214,900', '$385,000', '$385,000', '$245,000', '$699,900', '$589,000', '$132,500', '$400,000', '$119,999', '$310,000', '$539,900', '$150,000', '$439,500', '$335,000', '$429,900', '$345,000', '$559,000', '$925,000', '$495,000', '$185,000', '$475,000', '$339,000', '$315,000', '$155,000', '$769,000', '$225,000', '$310,000', '$190,000', '$150,000', '$179,900', '$398,000', '$365,000', '$120,000', '$290,000', '$349,999', '$125,000', '$185,000', '$185,000', '$185,000', '$99,000', '$669,000', '$275,000', '$175,000', '$239,900', '$235,000', '$7,200,000', '$215,000', '$798,000', '$375,000', '$269,500', '$220,000', '$295,000', '$975,000', '$580,000', '$450,000', '$325,000', '$350,000', '$450,000', '$569,000', '$295,000', '$199,900', '$999,999', '$484,900', '$359,000', '$127,000', '$2,100,000', '$125,000', '$280,000', '$565,000', '$324,000', '$399,900', '$314,900', '$594,900', '$114,900', '$239,000', '$150,000', '$275,000', '$89,999', '$195,000', '$2,700,000', '$200,000', '$3,500,000', '$425,000', '$170,000', '$382,000', '$2,795,000', '$949,000', '$235,000', '$299,999', '$169,000', '$120,000', '$224,500', '$525,000', '$135,000', '$629,000', '$1,050,000', '$219,995', '$475,000', '$219,990', '$159,990', '$409,000', '$184,900', '$574,899', '$275,000']\n"
     ]
    }
   ],
   "source": [
    "print(len(price_dallas),price_dallas)"
   ]
  },
  {
   "cell_type": "code",
   "execution_count": 105,
   "id": "c635abbf",
   "metadata": {},
   "outputs": [
    {
     "name": "stdout",
     "output_type": "stream",
     "text": [
      "280 ['2 beds', '2 beds', '2 beds', '2 beds', '3 beds', '2 beds', '1 bed', '1 bed', '1 bed', '2 beds', '1 bed', '1 bed', '1 bed', '1 bed', '2 beds', '3 beds', '1 bed', '2 beds', '3 beds', '3 beds', '2 beds', '2 beds', '2 beds', '2 beds', '2 beds', '2 beds', '2 beds', '2 beds', '1 bed', '2 beds', '1 bed', '3 beds', '1 bed', '1 bed', '2 beds', '2 beds', '2 beds', '2 beds', '2 beds', '1 bed', '1 bed', '2 beds', '3 beds', '2 beds', '1 bed', '2 beds', '2 beds', '2 beds', '1 bed', '1 bed', '3 beds', '2 beds', '2 beds', '2 beds', '2 beds', '1 bed', '2 beds', '3 beds', '2 beds', '2 beds', '1 bed', '1 bed', '2 beds', '2 beds', '1 bed', '2 beds', '0 beds', '1 bed', '2 beds', '1 bed', '2 beds', '2 beds', '2 beds', '2 beds', '2 beds', '2 beds', '2 beds', '2 beds', '1 bed', '1 bed', '1 bed', '2 beds', '1 bed', '2 beds', '1 bed', '2 beds', '2 beds', '1 bed', '2 beds', '1 bed', '1 bed', '1 bed', '1 bed', '2 beds', '2 beds', '2 beds', '1 bed', '1 bed', '1 bed', '3 beds', '1 bed', '2 beds', '2 beds', '1 bed', '2 beds', '2 beds', '2 beds', '2 beds', '1 bed', '2 beds', '1 bed', '1 bed', '3 beds', '2 beds', '3 beds', '2 beds', '3 beds', '2 beds', '1 bed', '2 beds', '2 beds', '18 beds', '2 beds', '2 beds', '3 beds', '2 beds', '3 beds', '2 beds', '2 beds', '2 beds', '2 beds', '2 beds', '1 bed', '2 beds', '2 beds', '3 beds', '2 beds', '1 bed', '1 bed', '2 beds', '1 bed', '2 beds', '2 beds', '2 beds', '3 beds', '3 beds', '1 bed', '2 beds', '2 beds', '2 beds', '1 bed', '1 bed', '2 beds', '2 beds', '3 beds', '3 beds', '2 beds', '2 beds', '2 beds', '2 beds', '1 bed', '2 beds', '3 beds', '2 beds', '2 beds', '1 bed', '2 beds', '2 beds', '2 beds', '0 beds', '2 beds', '2 beds', '1 bed', '2 beds', '2 beds', '2 beds', '2 beds', '2 beds', '5 beds', '2 beds', '2 beds', '3 beds', '1 bed', '2 beds', '2 beds', '1 bed', '2 beds', '1 bed', '2 beds', '2 beds', '2 beds', '2 beds', '2 beds', '2 beds', '2 beds', '2 beds', '3 beds', '1 bed', '2 beds', '2 beds', '3 beds', '2 beds', '2 beds', '2 beds', '2 beds', '1 bed', '1 bed', '2 beds', '1 bed', '2 beds', '2 beds', '2 beds', '2 beds', '2 beds', '2 beds', '1 bed', '3 beds', '2 beds', '2 beds', '2 beds', '2 beds', '42 beds', '2 beds', '2 beds', '2 beds', '2 beds', '2 beds', '3 beds', '2 beds', '4 beds', '1 bed', '2 beds', '2 beds', '2 beds', '2 beds', '2 beds', '1 bed', '2 beds', '2 beds', '2 beds', '1 bed', '2 beds', '1 bed', '1 bed', '2 beds', '1 bed', '2 beds', '2 beds', '2 beds', '1 bed', '1 bed', '1 bed', '1 bed', '1 bed', '1 bed', '2 beds', '1 bed', '2 beds', '2 beds', '2 beds', '1 bed', '2 beds', '2 beds', '1 bed', '1 bed', '1 bed', '2 beds', '2 beds', '2 beds', '1 bed', '2 beds', '2 beds', '2 beds', '1 bed', '2 beds', '1 bed', '2 beds', '2 beds', '3 beds', '1 bed']\n"
     ]
    }
   ],
   "source": [
    "print(len(bed_dallas),bed_dallas)"
   ]
  },
  {
   "cell_type": "code",
   "execution_count": 106,
   "id": "375d2699",
   "metadata": {},
   "outputs": [
    {
     "name": "stdout",
     "output_type": "stream",
     "text": [
      "280 ['2 baths', '2 baths', '2.5 baths', '1 bath', '2 baths', '2 baths', '1 bath', '1 bath', '1 bath', '1.5 baths', '1.5 baths', '1 bath', '1 bath', '1 bath', '2.5 baths', '3.5 baths', '1 bath', '2 baths', '3 baths', '3 baths', '2.5 baths', '2.5 baths', '1.5 baths', '2 baths', '2 baths', '2.5 baths', '2 baths', '2.5 baths', '1 bath', '1.5 baths', '2 baths', '2.5 baths', '1 bath', '1 bath', '2 baths', '2.5 baths', '2.5 baths', '2 baths', '1 bath', '1 bath', '1 bath', '2 baths', '1.5 baths', '1 bath', '1.5 baths', '2 baths', '2.5 baths', '2 baths', '1 bath', '1 bath', '3.5 baths', '2 baths', '1 bath', '2 baths', '1.5 baths', '1 bath', '2 baths', '3.5 baths', '2.5 baths', '2.5 baths', '1 bath', '1 bath', '2 baths', '2 baths', '1 bath', '2 baths', '1 bath', '1 bath', '2 baths', '1 bath', '2.5 baths', '2 baths', '2 baths', '2 baths', '2 baths', '2 baths', '2.5 baths', '2 baths', '1 bath', '1 bath', '1 bath', '2 baths', '1 bath', '2 baths', '1 bath', '2 baths', '2.5 baths', '1 bath', '2.5 baths', '1 bath', '1 bath', '1 bath', '2 baths', '2.5 baths', '2 baths', '2 baths', '1 bath', '1 bath', '1 bath', '3.5 baths', '1 bath', '2 baths', '2 baths', '1 bath', '2 baths', '1.5 baths', '2 baths', '2.5 baths', '1 bath', '1 bath', '1 bath', '1 bath', '2.5 baths', '2 baths', '3.5 baths', '2 baths', '3.5 baths', '2 baths', '1 bath', '2.5 baths', '2.5 baths', '21 baths', '2.5 baths', '2 baths', '3 baths', '2 baths', '2.5 baths', '2.5 baths', '2 baths', '1 bath', '2 baths', '2 baths', '1 bath', '2 baths', '2.5 baths', '3.5 baths', '2 baths', '1 bath', '1 bath', '2.5 baths', '1 bath', '2.5 baths', '1.5 baths', '2 baths', '3.5 baths', '3.5 baths', '1 bath', '2.5 baths', '2 baths', '2.5 baths', '1.5 baths', '1.5 baths', '2.5 baths', '1 bath', '3.5 baths', '3.5 baths', '2.5 baths', '1 bath', '2 baths', '2 baths', '1 bath', '2.5 baths', '4.5 baths', '2 baths', '2.5 baths', '1 bath', '2 baths', '2 baths', '2 baths', '1 bath', '1 bath', '2 baths', '1.5 baths', '2.5 baths', '2.5 baths', '2 baths', '2.5 baths', '2 baths', '3 baths', '1.5 baths', '2 baths', '3.5 baths', '1 bath', '2 baths', '1 bath', '1 bath', '2.5 baths', '1.5 baths', '2.5 baths', '2 baths', '2.5 baths', '2 baths', '2.5 baths', '2.5 baths', '2 baths', '2 baths', '2 baths', '1 bath', '2 baths', '2 baths', '3.5 baths', '2 baths', '2 baths', '2 baths', '1.5 baths', '1.5 baths', '1.5 baths', '2 baths', '1 bath', '1.5 baths', '2.5 baths', '2 baths', '1 bath', '1 bath', '1 bath', '1 bath', '3.5 baths', '2 baths', '1 bath', '2 baths', '2.5 baths', '3.5 baths', '2 baths', '2.5 baths', '2.5 baths', '2.5 baths', '2.5 baths', '2 baths', '2 baths', '3.5 baths', '1.5 baths', '2.5 baths', '2.5 baths', '2.5 baths', '2.5 baths', '2 baths', '1 bath', '2 baths', '2.5 baths', '1.5 baths', '1 bath', '2.5 baths', '1 bath', '1.5 baths', '2.5 baths', '1 bath', '2 baths', '2 baths', '2.5 baths', '1 bath', '1 bath', '1 bath', '1 bath', '1 bath', '1 bath', '4 baths', '1 bath', '4.5 baths', '2.5 baths', '1.5 baths', '1.5 baths', '2.5 baths', '2.5 baths', '1 bath', '1.5 baths', '1 bath', '1 bath', '2 baths', '2.5 baths', '1 bath', '2.5 baths', '2 baths', '2 baths', '1.5 baths', '2 baths', '1 bath', '2.5 baths', '2 baths', '3.5 baths', '1 bath']\n"
     ]
    }
   ],
   "source": [
    "print(len(bath_dallas),bath_dallas)"
   ]
  },
  {
   "cell_type": "code",
   "execution_count": 107,
   "id": "c8b812b8",
   "metadata": {},
   "outputs": [
    {
     "name": "stdout",
     "output_type": "stream",
     "text": [
      "280 ['1,082 sq ft', '1,035 sq ft', '1,522 sq ft', '930 sq ft', '986 sq ft', '1,550 sq ft', '1,024 sq ft', '423 sq ft', '804 sq ft', '1,124 sq ft', '616 sq ft', '665 sq ft', '940 sq ft', '841 sq ft', '1,807 sq ft', '2,154 sq ft', '988 sq ft', '1,050 sq ft', '2,305 sq ft', '2,101 sq ft', '1,714 sq ft', '1,839 sq ft', '1,029 sq ft', '1,087 sq ft', '943 sq ft', '2,028 sq ft', '2,407 sq ft', '1,160 sq ft', '774 sq ft', '968 sq ft', '864 sq ft', '2,594 sq ft', '663 sq ft', '629 sq ft', '1,204 sq ft', '1,587 sq ft', '1,704 sq ft', '974 sq ft', '727 sq ft', '733 sq ft', '554 sq ft', '970 sq ft', '1,053 sq ft', '926 sq ft', '837 sq ft', '1,678 sq ft', '2,431 sq ft', '1,001 sq ft', '817 sq ft', '746 sq ft', '2,321 sq ft', '1,323 sq ft', '895 sq ft', '1,115 sq ft', '993 sq ft', '838 sq ft', '1,197 sq ft', '2,226 sq ft', '902 sq ft', '1,590 sq ft', '753 sq ft', '733 sq ft', '1,002 sq ft', '922 sq ft', '545 sq ft', '1,127 sq ft', '808 sq ft', '594 sq ft', '930 sq ft', '654 sq ft', '1,409 sq ft', '1,120 sq ft', '1,160 sq ft', '1,338 sq ft', '1,980 sq ft', '968 sq ft', '1,522 sq ft', '1,302 sq ft', '894 sq ft', '691 sq ft', '685 sq ft', '1,057 sq ft', '448 sq ft', '1,619 sq ft', '672 sq ft', '870 sq ft', '1,054 sq ft', '830 sq ft', '2,490 sq ft', '448 sq ft', '551 sq ft', '673 sq ft', '1,169 sq ft', '1,709 sq ft', '1,018 sq ft', '1,291 sq ft', '733 sq ft', '825 sq ft', '667 sq ft', '1,797 sq ft', '956 sq ft', '1,022 sq ft', '1,080 sq ft', '827 sq ft', '1,046 sq ft', '929 sq ft', '1,046 sq ft', '1,527 sq ft', '600 sq ft', '1,044 sq ft', '864 sq ft', '734 sq ft', '1,772 sq ft', '1,723 sq ft', '2,231 sq ft', '887 sq ft', '2,885 sq ft', '964 sq ft', '709 sq ft', '1,612 sq ft', '1,612 sq ft', '15,180 sq ft', '2,208 sq ft', '1,000 sq ft', '1,908 sq ft', '1,707 sq ft', '2,549 sq ft', '2,317 sq ft', '961 sq ft', '669 sq ft', '909 sq ft', '1,746 sq ft', '747 sq ft', '1,339 sq ft', '1,926 sq ft', '2,154 sq ft', '1,144 sq ft', '660 sq ft', '817 sq ft', '1,903 sq ft', '587 sq ft', '1,119 sq ft', '935 sq ft', '1,382 sq ft', '2,530 sq ft', '2,530 sq ft', '731 sq ft', '2,306 sq ft', '1,141 sq ft', '3,016 sq ft', '889 sq ft', '1,603 sq ft', '1,384 sq ft', '868 sq ft', '3,467 sq ft', '2,374 sq ft', '1,484 sq ft', '777 sq ft', '1,581 sq ft', '1,150 sq ft', '863 sq ft', '2,118 sq ft', '3,395 sq ft', '1,885 sq ft', '1,585 sq ft', '1,025 sq ft', '1,307 sq ft', '1,150 sq ft', '1,153 sq ft', '1,156 sq ft', '835 sq ft', '977 sq ft', '985 sq ft', '1,980 sq ft', '1,430 sq ft', '2,367 sq ft', '946 sq ft', '1,103 sq ft', '2,701 sq ft', '1,024 sq ft', '1,993 sq ft', '1,751 sq ft', '546 sq ft', '1,685 sq ft', '795 sq ft', '832 sq ft', '1,983 sq ft', '732 sq ft', '1,585 sq ft', '1,381 sq ft', '1,451 sq ft', '1,551 sq ft', '1,527 sq ft', '1,706 sq ft', '1,262 sq ft', '773 sq ft', '1,450 sq ft', '672 sq ft', '2,112 sq ft', '950 sq ft', '2,100 sq ft', '951 sq ft', '1,309 sq ft', '882 sq ft', '864 sq ft', '915 sq ft', '920 sq ft', '1,080 sq ft', '600 sq ft', '1,027 sq ft', '1,212 sq ft', '1,031 sq ft', '702 sq ft', '801 sq ft', '801 sq ft', '758 sq ft', '2,150 sq ft', '1,189 sq ft', '846 sq ft', '1,308 sq ft', '1,131 sq ft', '27,540 sq ft', '1,038 sq ft', '1,795 sq ft', '1,267 sq ft', '1,389 sq ft', '1,211 sq ft', '1,578 sq ft', '1,971 sq ft', '3,157 sq ft', '1,512 sq ft', '1,085 sq ft', '1,119 sq ft', '1,241 sq ft', '1,917 sq ft', '1,166 sq ft', '765 sq ft', '2,421 sq ft', '1,479 sq ft', '1,027 sq ft', '665 sq ft', '2,589 sq ft', '661 sq ft', '879 sq ft', '1,800 sq ft', '832 sq ft', '1,863 sq ft', '1,323 sq ft', '1,863 sq ft', '500 sq ft', '712 sq ft', '669 sq ft', '880 sq ft', '916 sq ft', '591 sq ft', '3,616 sq ft', '654 sq ft', '4,517 sq ft', '1,355 sq ft', '1,017 sq ft', '1,334 sq ft', '2,589 sq ft', '1,702 sq ft', '734 sq ft', '973 sq ft', '569 sq ft', '931 sq ft', '1,045 sq ft', '1,749 sq ft', '689 sq ft', '1,788 sq ft', '2,579 sq ft', '961 sq ft', '1,001 sq ft', '1,070 sq ft', '575 sq ft', '1,282 sq ft', '998 sq ft', '1,749 sq ft', '814 sq ft']\n"
     ]
    }
   ],
   "source": [
    "print(len(area_dallas),area_dallas)"
   ]
  },
  {
   "cell_type": "code",
   "execution_count": 108,
   "id": "135db70c",
   "metadata": {},
   "outputs": [
    {
     "name": "stdout",
     "output_type": "stream",
     "text": [
      "280 ['10500 Lake June Rd Unit H04, Dallas, TX 75217', '17490 Meandering Way #1201, Dallas, TX 75252', '7510 W Northwest Hwy #1, Dallas, TX 75225', '6017 E University Blvd #118, Dallas, TX 75206', '9613 Walnut St #2204, Dallas, TX 75243', '509 Elm St #404, Dallas, TX 75202', '1122 Jackson St #420, Dallas, TX 75202', '9801 Walnut St #308, Dallas, TX 75243', '2502 Live Oak St #317, Dallas, TX 75204', '3116 Mahanna St #3, Dallas, TX 75235', '7660 Skillman St #401, Dallas, TX 75231', '4837 Cedar Springs Rd #110, Dallas, TX 75219', '2535 Wedglea Dr #239, Dallas, TX 75211', '4859 Cedar Springs Rd #244, Dallas, TX 75219', '2323 N Houston St #712, Dallas, TX 75219', '1717 Annex Ave #101, Dallas, TX 75204', '2323 N Houston St #506, Dallas, TX 75219', '4122 Avondale Ave #105, Dallas, TX 75219', '4242 Lomo Alto Dr Unit E 25, Dallas, TX 75219', '1200 Main St #2412, Dallas, TX 75202', '2885 Woodside St #304, Dallas, TX 75204', '4206 Cabell Dr #101, Dallas, TX 75204', '6321 Oriole Dr, Dallas, TX 75209', '11480 Audelia Rd #236, Dallas, TX 75243', '4456 Chaha Rd #102, Garland, TX 75043', '3003 Douglas Ave #10, Dallas, TX 75219', '1999 Mckinney Ave #1006, Dallas, TX 75201', '3904 Rawlins St #113, Dallas, TX 75219', '9809 Walnut St, Dallas, TX 75243', '3627 Dickason Ave #5, Dallas, TX 75219', '1101 Signal Ridge Pl #1101, Rockwall, TX 75032', '4060 Travis St #3, Dallas, TX 75204', '5550 Spring Valley Rd Unit F31, Dallas, TX 75254', '4859 Cedar Springs Rd #336, Dallas, TX 75219', '10584 High Hollows Dr #176, Dallas, TX 75230', '3003 Douglas Ave #28, Dallas, TX 75219', '4307 Mckinney Ave #6, Dallas, TX 75205', '6002 Auburndale Ave Unit D, University Park, TX 75205', '4633 Fairmount St #203, Dallas, TX 75219', '12480 Abrams Rd #2821, Dallas, TX 75243', '4633 Fairmount St #201, Dallas, TX 75219', '3121 Park Ln #1151, Dallas, TX 75220', '5620 Marina Dr, Garland, TX 75043', '7151 Gaston Ave #1102, Dallas, TX 75214', '5200 Martel Ave Unit 6H, Dallas, TX 75206', '3601 Turtle Creek Blvd Unit T1, Dallas, TX 75219', '2828 Hood St #406, Dallas, TX 75219', '7151 Gaston Ave #302, Dallas, TX 75214', '5750 Phoenix Dr #29, Dallas, TX 75231', '13302 Audelia Rd #124, Dallas, TX 75243', '6333 Richmond Ave Unit B, Dallas, TX 75214', '14151 Montfort Dr #260, Dallas, TX 75254', '9747 Whitehurst #72, Dallas, TX 75243', '6211 W Northwest Hwy #2407, Dallas, TX 75225', '5004 Lahoma St, Dallas, TX 75235', '5881 Preston View Blvd #145, Dallas, TX 75240', '10650 Steppington Dr #149, Dallas, TX 75230', '5026 Manett St #102, Dallas, TX 75206', '5757 E University Blvd Unit 27T, Dallas, TX 75206', '6808 Eastridge Dr #18, Dallas, TX 75231', '3022 Forest Ln #210, Dallas, TX 75234', '15151 Berry Trl #1103, Dallas, TX 75248', '4748 Old Bent Tree Ln #2308, Dallas, TX 75287', '11122 Valleydale Unit D, Dallas, TX 75230', '5550 Spring Valley Rd Unit B32, Dallas, TX 75254', '6050 Melody Ln #172, Dallas, TX 75231', '9803 Walnut Unit B106, Dallas, TX 75243', '2627 Douglas Ave #206, Dallas, TX 75219', '4044 Buena Vista St #111, Dallas, TX 75204', '4800 W Lovers Ln #123, Dallas, TX 75209', '3325 Rosedale Ave Unit B, University Park, TX 75205', '5836 Birchbrook Dr #226, Dallas, TX 75206', '9233 Church Rd #102, Dallas, TX 75231', '5831 E University Blvd Unit B, Dallas, TX 75206', '3030 Bryan St #104, Dallas, TX 75204', '3102 Kings Rd #2109, Dallas, TX 75219', '7510 W Northwest Hwy #5, Dallas, TX 75225', '6078 Averill Way Unit B, Dallas, TX 75225', '2502 Live Oak St #116, Dallas, TX 75204', '1001 Liberty St #113, Dallas, TX 75204', '4020 Holland Ave #203, Dallas, TX 75219', '18040 Midway Rd #130, Dallas, TX 75287', '18333 Roehampton Dr #1528, Dallas, TX 75252', '3030 Bryan St #408, Dallas, TX 75204', '3102 Kings Rd #1302, Dallas, TX 75219', '5590 Spring Valley Rd Unit C202, Dallas, TX 75254', '11311 Audelia Rd #102, Dallas, TX 75243', '1001 Belleview St #602, Dallas, TX 75215', '4690 Monarch St #20, Dallas, TX 75204', '18333 Roehampton Dr #428, Dallas, TX 75252', '9807 Walnut St #106, Dallas, TX 75243', '7340 Skillman St #1012, Dallas, TX 75231', '1200 Main St #1704, Dallas, TX 75202', '10578 High Hollows Dr #169, Dallas, TX 75230', '5924 Birchbrook Dr #215, Dallas, TX 75206', '4414 Cedar Springs Rd #205, Dallas, TX 75219', '15151 Berry Trl #104, Dallas, TX 75248', '2430 Victory Park #2401, Dallas, TX 75219', '13215 Emily Rd #2201, Dallas, TX 75240', '3616 N San Jacinto Ave #101, Dallas, TX 75204', '2201 Wolf St #2106, Dallas, TX 75201', '161 Henry M Chandler Dr, Rockwall, TX 75032', '11148 Valleydale Dr Unit D, Dallas, TX 75230', '907 Signal Ridge Pl, Rockwall, TX 75032', '4621 Country Creek Dr #1041, Dallas, TX 75236', '5740 Martel Ave Unit B19, Dallas, TX 75206', '4641 Country Creek Dr #1084, Dallas, TX 75236', '3130 N Harwood St #1905, Dallas, TX 75201', '6108 Abrams Rd #313, Dallas, TX 75231', '9607 Walnut St #11203, Dallas, TX 75243', '1111 Signal Ridge Pl, Rockwall, TX 75032', '5981 Arapaho Rd #1207, Dallas, TX 75248', '2143 Portofino Dr, Rockwall, TX 75032', '3110 Thomas Ave #113, Dallas, TX 75204', '3130 N Harwood St #1401, Dallas, TX 75201', '4748 Old Bent Tree Ln #506, Dallas, TX 75287', '1600 N Haskell Ave #16, Dallas, TX 75204', '6900 Skillman St #508, Dallas, TX 75231', '14277 Preston Rd #313, Dallas, TX 75254', '2610 Kimsey #202, Dallas, TX 75235', '2610 Kimsey #104, Dallas, TX 75235', '2011 Kirby St, Dallas, TX 75204', '4140 Newton Ave #14, Dallas, TX 75219', '5814 Sandhurst Ln Unit B, Dallas, TX 75206', '4100 Emerson Ave #3, University Park, TX 75205', '8548 Pickwick Ln Unit A, Dallas, TX 75225', '2408 Victory Park Ln #937, Dallas, TX 75219', '6325 Bandera Ave Unit C, Dallas, TX 75225', '4851 Cedar Springs Rd #186, Dallas, TX 75219', '5825 Marvin Loving Dr #201, Garland, TX 75043', '6220 Bentwood Trl #1902, Dallas, TX 75252', '454 Yacht Club Dr Unit A & B, Rockwall, TX 75032', '5881 Preston View Blvd #177, Dallas, TX 75240', '10416 High Hollows Dr #232, Dallas, TX 75230', '2134 Shea Rd #3, Dallas, TX 75235', '1801 Annex Ave #501, Dallas, TX 75204', '12660 Hillcrest Rd #9201, Dallas, TX 75230', '1200 Main St #2102, Dallas, TX 75202', '7522 Holly Hill Dr #59, Dallas, TX 75231', '7207 Gaston Ave #1305, Dallas, TX 75214', '3919 Holland Ave #101, Dallas, TX 75219', '11311 Audelia Rd #228, Dallas, TX 75243', '11311 Audelia Rd #241, Dallas, TX 75243', '2323 N Houston St #410, Dallas, TX 75219', '2011 Kirby St #102, Dallas, TX 75204', '2011 Kirby St #101, Dallas, TX 75204', '5805 Marvin Loving Dr #410, Garland, TX 75043', '4500 Roland Ave #606, Highland Park, TX 75219', '10578 High Hollows Dr #166, Dallas, TX 75230', '4205 Buena Vista St #502, Dallas, TX 75205', '4748 Old Bent Tree Ln #2404, Dallas, TX 75287', '2200 Victory Ave #905, Dallas, TX 75219', '14333 Preston Rd #2805, Dallas, TX 75254', '8600 Coppertowne Ln #1702, Dallas, TX 75243', '2300 Wolf St Apt 12B, Dallas, TX 75201', '3200 Ross Ave #40, Dallas, TX 75204', '7207 Gaston Ave #103, Dallas, TX 75214', '7431 Holly Hill Dr #214, Dallas, TX 75231', '3831 Turtle Creek Blvd Unit 4H, Dallas, TX 75219', '5335 Bent Tree Forest Dr #282, Dallas, TX 75248', '3883 Turtle Creek Blvd Ph 2317, Dallas, TX 75219', '5656 N Central #201, Dallas, TX 75206', '6615 Bandera Ave Unit 2F, Dallas, TX 75225', '6126 Averill Way Unit 207W, Dallas, TX 75225', '427 W 10th St #803, Dallas, TX 75208', '3701 Turtle Creek Blvd Unit 3K, Dallas, TX 75219', '5841 E University Blvd Unit C, Dallas, TX 75206', '5590 Spring Valley Rd Unit G208, Dallas, TX 75254', '5925 E University Blvd #232, Dallas, TX 75206', '1122 Jackson St #318, Dallas, TX 75202', '12921 Abrams Rd #306, Dallas, TX 75243', '8600 Coppertowne Ln #600, Dallas, TX 75243', '5100 Verde Valley Ln #177, Dallas, TX 75254', '15767 Seabolt #40, Addison, TX 75001', '2900 Mckinnon St #1904, Dallas, TX 75201', '1918 Olive St #602, Dallas, TX 75201', '7791 Royal Ln, Dallas, TX 75230', '1200 Main St #1410, Dallas, TX 75202', '4548 Chaha Rd #102, Garland, TX 75043', '6900 Skillman St #207, Dallas, TX 75231', '3030 Bryan St #403, Dallas, TX 75204', '4204 San Jacinto St #106, Dallas, TX 75204', '14277 Preston Rd #124, Dallas, TX 75254', '5200 Keller Springs Rd #725, Dallas, TX 75248', '9747 Whitehurst Dr #70, Dallas, TX 75243', '3225 Turtle Creek Blvd #512, Dallas, TX 75219', '1600 Abrams Rd #40, Dallas, TX 75214', '12816 Midway Rd #2063, Dallas, TX 75244', '427 W 10th St #502, Dallas, TX 75208', '6131 B Bandera, Dallas, TX 75225', '2210 Shea Rd #103, Dallas, TX 75235', '4242 N Capistrano Dr #235, Dallas, TX 75287', '5711 Bryan Pkwy #102, Dallas, TX 75206', '2200 Victory Ave #1702, Dallas, TX 75219', '4510 Druid Ln #306, Dallas, TX 75205', '4633 Fairmount St #104, Dallas, TX 75219', '2195 Portofino Dr, Rockwall, TX 75032', '4231 Travis St #8, Dallas, TX 75205', '5200 Keller Springs Rd #112, Dallas, TX 75248', '5714 Marvin Loving Dr #213, Garland, TX 75043', '805 Pavillon St #4, Dallas, TX 75204', '5818 E University Blvd #208, Dallas, TX 75206', '5833 Birchbrook Dr #109, Dallas, TX 75206', '7340 Skillman St #1207, Dallas, TX 75231', '982 S Weatherred Dr Unit A, Richardson, TX 75080', '5300 Keller Springs Rd #2058, Dallas, TX 75248', '1900 S Ervay St #416, Dallas, TX 75215', '5934 Sandhurst Ln #208, Dallas, TX 75206', '6108 Abrams Rd #418, Dallas, TX 75231', '6341 Bordeaux Ave, Dallas, TX 75209', '2722 Knight St Unit 316C, Dallas, TX 75219', '9837 Walnut St #210, Dallas, TX 75243', '6108 Abrams Rd #211, Dallas, TX 75231', '6108 Abrams Rd #205, Dallas, TX 75231', '6108 Abrams Rd #201, Dallas, TX 75231', '6640 Eastridge Dr #239, Dallas, TX 75231', '426 W 9th St #105, Dallas, TX 75208', '5300 Keller Springs Rd #1062, Dallas, TX 75248', '8555 Fair Oaks Xing #413, Dallas, TX 75243', '1518 Signal Ridge Pl, Rockwall, TX 75032', '12921 Abrams Rd #503, Dallas, TX 75243', '512 N Lancaster Ave, Dallas, TX 75203', '5981 Arapaho Rd #1806, Dallas, TX 75248', '5939 Hillcrest Ave #3, University Park, TX 75205', '1901 S Harwood St #105, Dallas, TX 75215', '5325 Bent Tree Forest Dr #2229, Dallas, TX 75248', '7125 Fair Oaks Unit 5 A, Dallas, TX 75231', '1234 Signal Ridge Pl #1234, Rockwall, TX 75032', '3030 Mckinney Ave #501, Dallas, TX 75204', '456 Yacht Club Dr Unit C, Rockwall, TX 75032', '3030 Bryan St #311, Dallas, TX 75204', '4044 Buena Vista St #218, Dallas, TX 75204', '4034 Rawlins St #207, Dallas, TX 75219', '4517 Holland Ave #103, Dallas, TX 75219', '1813 Park Ave #204, Dallas, TX 75215', '5835 Sandhurst Ln Unit C, Dallas, TX 75206', '211 Henry M Chandler Dr, Rockwall, TX 75032', '1999 Mckinney Ave #1205, Dallas, TX 75201', '3812 San Jacinto St #206, Dallas, TX 75204', '6369 Bordeaux Ave, Dallas, TX 75209', '4837 Cedar Springs Rd #326, Dallas, TX 75219', '3510 Turtle Creek Blvd Ph 18B, Dallas, TX 75219', '3624 Parkridge Dr #213, Dallas, TX 75234', '5407 Bryan St Unit B101, Dallas, TX 75206', '4208 Live Oak St #206, Dallas, TX 75204', '3225 Turtle Creek Blvd #1012, Dallas, TX 75219', '5200 Keller Springs Rd #513, Dallas, TX 75248', '14151 Montfort Dr #367, Dallas, TX 75254', '419 W 9th St Unit B, Dallas, TX 75208', '6108 Abrams Rd #329, Dallas, TX 75231', '3025 Bryan St Unit 3H, Dallas, TX 75204', '5837 Copperwood Ln #2134, Dallas, TX 75248', '1200 Main St #2108, Dallas, TX 75202', '9920 Forest Ln #119, Dallas, TX 75243', '4327 Holland Ave #101, Dallas, TX 75219', '3505 Turtle Creek Blvd Unit 2C, Dallas, TX 75219', '5701 Gaston Ave #6, Dallas, TX 75214', '2801 Turtle Creek Blvd Unit 2W, Dallas, TX 75219', '4529 Rawlins St, Dallas, TX 75219', '11311 Audelia Rd #214, Dallas, TX 75243', '4134 Travis St #7, Dallas, TX 75204', '2525 N Pearl St #1101, Dallas, TX 75201', '2200 Victory Ave #1002, Dallas, TX 75219', '10717 Villager Rd Unit A, Dallas, TX 75230', '4414 Cedar Springs Rd #224, Dallas, TX 75219', '5335 Bent Tree Forest Dr #277, Dallas, TX 75248', '9831 Walnut St Unit P208, Dallas, TX 75243', '11154 Valleydale Dr Unit B, Dallas, TX 75230', '5950 Lindenshire Ln #408, Dallas, TX 75230', '12482 Abrams Rd #928, Dallas, TX 75243', '4526 Deere St #203, Dallas, TX 75204', '1999 Mckinney Ave #1201, Dallas, TX 75201', '4837 Cedar Springs Rd #215, Dallas, TX 75219', '3110 Thomas Ave #533, Dallas, TX 75204', '4748 Old Bent Tree Ln #1102, Dallas, TX 75287', '4748 Old Bent Tree Ln #906, Dallas, TX 75287', '3922 Gilbert Ave #207, Dallas, TX 75219', '12484 Abrams Rd #1906, Dallas, TX 75243', '1510 N Washington Ave #203, Dallas, TX 75204', '1111 S Akard St #410, Dallas, TX 75215']\n"
     ]
    }
   ],
   "source": [
    "print(len(address_dallas),address_dallas)"
   ]
  },
  {
   "cell_type": "code",
   "execution_count": 109,
   "id": "0aac66e7",
   "metadata": {
    "scrolled": true
   },
   "outputs": [
    {
     "name": "stdout",
     "output_type": "stream",
     "text": [
      "280 ['condo', 'condo', 'condo', 'condo', 'condo', 'condo', 'condo', 'condo', 'condo', 'condo', 'condo', 'condo', 'condo', 'condo', 'condo', 'condo', 'condo', 'condo', 'condo', 'condo', 'condo', 'condo', 'condo', 'condo', 'condo', 'condo', 'condo', 'condo', 'condo', 'condo', 'condo', 'condo', 'condo', 'condo', 'condo', 'condo', 'condo', 'condo', 'condo', 'condo', 'condo', 'condo', 'condo', 'condo', 'condo', 'condo', 'condo', 'condo', 'condo', 'condo', 'condo', 'condo', 'condo', 'condo', 'condo', 'condo', 'condo', 'condo', 'condo', 'condo', 'condo', 'condo', 'condo', 'condo', 'condo', 'condo', 'condo', 'condo', 'condo', 'condo', 'condo', 'condo', 'condo', 'condo', 'condo', 'condo', 'condo', 'condo', 'condo', 'condo', 'condo', 'condo', 'condo', 'condo', 'condo', 'condo', 'condo', 'condo', 'condo', 'condo', 'condo', 'condo', 'condo', 'condo', 'condo', 'condo', 'condo', 'condo', 'condo', 'condo', 'condo', 'condo', 'condo', 'condo', 'condo', 'condo', 'condo', 'condo', 'condo', 'condo', 'condo', 'condo', 'condo', 'condo', 'condo', 'condo', 'condo', 'condo', 'condo', 'condo', 'condo', 'condo', 'condo', 'condo', 'condo', 'condo', 'condo', 'condo', 'condo', 'condo', 'condo', 'condo', 'condo', 'condo', 'condo', 'condo', 'condo', 'condo', 'condo', 'condo', 'condo', 'condo', 'condo', 'condo', 'condo', 'condo', 'condo', 'condo', 'condo', 'condo', 'condo', 'condo', 'condo', 'condo', 'condo', 'condo', 'condo', 'condo', 'condo', 'condo', 'condo', 'condo', 'condo', 'condo', 'condo', 'condo', 'condo', 'condo', 'condo', 'condo', 'condo', 'condo', 'condo', 'condo', 'condo', 'condo', 'condo', 'condo', 'condo', 'condo', 'condo', 'condo', 'condo', 'condo', 'condo', 'condo', 'condo', 'condo', 'condo', 'condo', 'condo', 'condo', 'condo', 'condo', 'condo', 'condo', 'condo', 'condo', 'condo', 'condo', 'condo', 'condo', 'condo', 'condo', 'condo', 'condo', 'condo', 'condo', 'condo', 'condo', 'condo', 'condo', 'condo', 'condo', 'condo', 'condo', 'condo', 'condo', 'condo', 'condo', 'condo', 'condo', 'condo', 'condo', 'condo', 'condo', 'condo', 'condo', 'condo', 'condo', 'condo', 'condo', 'condo', 'condo', 'condo', 'condo', 'condo', 'condo', 'condo', 'condo', 'condo', 'condo', 'condo', 'condo', 'condo', 'condo', 'condo', 'condo', 'condo', 'condo', 'condo', 'condo', 'condo', 'condo', 'condo', 'condo', 'condo', 'condo', 'condo', 'condo', 'condo', 'condo', 'condo', 'condo', 'condo', 'condo', 'condo', 'condo', 'condo', 'condo', 'condo', 'condo', 'condo', 'condo', 'condo', 'condo', 'condo', 'condo', 'condo', 'condo']\n"
     ]
    }
   ],
   "source": [
    "type_dallas = [\"condo\"]*280\n",
    "\n",
    "print(len(type_dallas),type_dallas)"
   ]
  },
  {
   "cell_type": "markdown",
   "id": "f76bd3cf",
   "metadata": {},
   "source": [
    "### for location = Houston\n"
   ]
  },
  {
   "cell_type": "code",
   "execution_count": 4,
   "id": "aaee59ae",
   "metadata": {},
   "outputs": [],
   "source": [
    "# going back to the homepage\n",
    "\n",
    "\n",
    "\n",
    "home_button = driver.find_element(By.XPATH, '/html/body/div[1]/div[2]/div/div/header[2]/div[1]/div[1]/div')\n",
    "\n",
    "home_button.click()"
   ]
  },
  {
   "cell_type": "code",
   "execution_count": 5,
   "id": "c1b68a78",
   "metadata": {},
   "outputs": [],
   "source": [
    "# entering location = \"Houston\" in the search field\n",
    "\n",
    "time.sleep(1)\n",
    "designation = driver.find_element(By.XPATH, '/html/body/div[1]/div[6]/div[2]/div/section/div/div/div/div/div/div/div/div[2]/div/div/form/div/div/input')\n",
    "time.sleep(1)\n",
    "designation.send_keys(\"Houston\")\n",
    "time.sleep(1)\n",
    "\n",
    "\n",
    "# Clicking the search button\n",
    "\n",
    "search = driver.find_element(By.XPATH, '/html/body/div[1]/div[6]/div[2]/div/section/div/div/div/div/div/div/div/div[2]/div/div/form/div/button')\n",
    "search.click()"
   ]
  },
  {
   "cell_type": "code",
   "execution_count": 6,
   "id": "52aa77a1",
   "metadata": {},
   "outputs": [],
   "source": [
    "#selecting \"House\" as Home Type in filters\n",
    "\n",
    "home_type_button = driver.find_element(By.XPATH, '/html/body/div[1]/div[8]/div[1]/div[2]/div[1]/div[2]/div/div/div/div[1]/form/div[4]/div')\n",
    "home_type_button.click()\n",
    "\n",
    "\n",
    "#clikcing on house option\n",
    "\n",
    "condo_button = driver.find_element(By.XPATH, '/html/body/div[1]/div[8]/div[1]/div[2]/div[1]/div[2]/div/div/div/div[1]/form/div[4]/div/div[2]/div/div[1]/div[2]/div/div[1]')\n",
    "condo_button.click()"
   ]
  },
  {
   "cell_type": "code",
   "execution_count": 110,
   "id": "a12d631d",
   "metadata": {},
   "outputs": [],
   "source": [
    "#scrapping data\n",
    "\n",
    "price_houston = []\n",
    "bed_houston = []\n",
    "bath_houston = []\n",
    "area_houston = []\n",
    "address_houston = []\n",
    "\n",
    "\n",
    "start = 0\n",
    "end = 6\n",
    "\n",
    "\n",
    "for page in range(start, end):\n",
    "    \n",
    "        #scrapping prices\n",
    "    prices = driver.find_elements(By.CLASS_NAME, \"bp-Homecard__Price--value\")\n",
    "    for i in prices:\n",
    "        price_houston.append(i.text)\n",
    "     \n",
    "    \n",
    "        #scrapping no of beds\n",
    "    beds = driver.find_elements(By.CLASS_NAME, 'bp-Homecard__Stats--beds')\n",
    "    for i in beds:\n",
    "        bed_houston.append(i.text)\n",
    "     \n",
    "    \n",
    "        #scrapping no of bathrooms\n",
    "    baths = driver.find_elements(By.CLASS_NAME, 'bp-Homecard__Stats--baths')\n",
    "    for i in baths:\n",
    "        bath_houston.append(i.text)\n",
    "        \n",
    "    \n",
    "        #scrapping area\n",
    "    areas = driver.find_elements(By.CLASS_NAME, \"bp-Homecard__Stats--sqft\")\n",
    "    for i in areas:\n",
    "        area_houston.append(i.text)\n",
    "        \n",
    "        \n",
    "        #scrapping address\n",
    "    addresses = driver.find_elements(By.CLASS_NAME, \"bp-Homecard__Address\")\n",
    "    for i in addresses:\n",
    "        address_houston.append(i.text)\n",
    "     \n",
    "    \n",
    "    \n",
    "    next_button = driver.find_element(By.XPATH, '/html/body/div[1]/div[8]/div[1]/div[2]/div[1]/div[5]/div/div[3]/button[2]')\n",
    "    time.sleep(1)\n",
    "    next_button.click()\n",
    "    time.sleep(2)"
   ]
  },
  {
   "cell_type": "code",
   "execution_count": 111,
   "id": "1b743994",
   "metadata": {},
   "outputs": [
    {
     "name": "stdout",
     "output_type": "stream",
     "text": [
      "240 ['$499,000', '$225,000', '$600,000', '$399,000', '$350,000', '$1,050,000', '$265,000', '$746,000', '$675,000', '$350,000', '$632,500', '$324,900', '$250,000', '$375,000', '$259,990', '$425,000', '$349,500', '$792,999', '$500,000', '$334,800', '$405,000', '$249,900', '$339,900', '$440,000', '$325,000', '$495,000', '$399,900', '$530,000', '$599,900', '$175,000', '$545,000', '$287,000', '$289,000', '$695,000', '$335,000', '$320,000', '$329,900', '$775,000', '$280,000', '$255,000', '$1,249,000', '$345,000', '$265,000', '$790,000', '$389,900', '$349,000', '$200,000', '$4,950,000', '$2,049,000', '$339,900', '$379,900', '$350,000', '$285,000', '$165,000', '$269,995', '$459,000', '$339,900', '$179,000', '$600,000', '$310,000', '$333,416', '$340,724', '$270,000', '$6,199,000', '$335,000', '$399,000', '$439,900', '$290,000', '$448,900', '$350,000', '$280,000', '$410,000', '$307,500', '$1,399,000', '$429,900', '$245,000', '$1,100,000', '$294,999', '$450,000', '$3,900,000', '$1,250,000', '$635,000', '$485,000', '$299,990', '$229,900', '$285,000', '$298,333', '$275,000', '$430,000', '$775,000', '$376,900', '$409,000', '$389,900', '$1,999,999', '$375,000', '$225,000', '$419,900', '$447,000', '$349,000', '$669,000', '$329,000', '$175,000', '$329,000', '$375,870', '$1,549,000', '$999,000', '$468,000', '$349,000', '$388,000', '$349,900', '$260,000', '$244,900', '$386,820', '$349,998', '$349,000', '$627,000', '$2,395,000', '$400,000', '$822,000', '$600,000', '$979,000', '$349,000', '$569,999', '$1,600,000', '$625,000', '$619,000', '$450,000', '$299,900', '$485,000', '$290,900', '$285,000', '$825,000', '$329,000', '$777,000', '$799,000', '$1,455,000', '$370,000', '$319,990', '$295,000', '$445,000', '$1,080,000', '$329,000', '$350,000', '$669,900', '$240,000', '$319,990', '$350,000', '$314,000', '$459,000', '$339,000', '$275,000', '$1,850,000', '$399,000', '$835,000', '$239,000', '$299,000', '$284,900', '$899,000', '$349,995', '$232,000', '$395,000', '$149,900', '$139,000', '$365,000', '$444,900', '$249,000', '$460,000', '$595,000', '$775,000', '$125,000', '$395,000', '$309,000', '$949,000', '$265,000', '$450,000', '$495,000', '$389,900', '$249,900', '$260,000', '$269,000', '$239,000', '$1,289,000', '$385,000', '$739,000', '$530,000', '$320,000', '$485,000', '$237,000', '$335,000', '$259,900', '$385,000', '$307,000', '$2,099,000', '$699,000', '$775,900', '$295,000', '$299,900', '$315,000', '$435,000', '$450,000', '$370,000', '$289,999', '$309,999', '$249,900', '$335,500', '$405,000', '$350,000', '$289,999', '$369,900', '$425,000', '$469,900', '$630,000', '$269,000', '$419,900', '$1,250,000', '$485,000', '$295,000', '$420,000', '$315,000', '$485,000', '$434,800', '$639,900', '$259,900', '$470,000', '$799,000', '$365,000', '$1,249,000', '$269,000', '$330,000', '$695,000', '$1,475,000', '$2,550,000', '$1,690,000', '$609,000', '$569,989', '$439,000', '$875,000', '$310,000', '$315,000', '$472,168']\n"
     ]
    }
   ],
   "source": [
    "print(len(price_houston),price_houston)"
   ]
  },
  {
   "cell_type": "code",
   "execution_count": 112,
   "id": "fb08a2e1",
   "metadata": {},
   "outputs": [
    {
     "name": "stdout",
     "output_type": "stream",
     "text": [
      "240 ['4 beds', '3 beds', '5 beds', '4 beds', '4 beds', '4 beds', '4 beds', '4 beds', '3 beds', '4 beds', '4 beds', '4 beds', '3 beds', '4 beds', '3 beds', '4 beds', '4 beds', '6 beds', '3 beds', '4 beds', '4 beds', '4 beds', '3 beds', '4 beds', '3 beds', '2 beds', '4 beds', '4 beds', '4 beds', '0 beds', '4 beds', '6 beds', '3 beds', '3 beds', '3 beds', '3 beds', '3 beds', '4 beds', '4 beds', '3 beds', '3 beds', '3 beds', '4 beds', '3 beds', '3 beds', '3 beds', '3 beds', '4 beds', '5 beds', '3 beds', '3 beds', '4 beds', '3 beds', '3 beds', '4 beds', '4 beds', '3 beds', '3 beds', '5 beds', '4 beds', '3 beds', '4 beds', '3 beds', '5 beds', '4 beds', '4 beds', '5 beds', '3 beds', '4 beds', '4 beds', '3 beds', '5 beds', '3 beds', '3 beds', '4 beds', '3 beds', '2 beds', '4 beds', '3 beds', '5 beds', '4 beds', '3 beds', '5 beds', '3 beds', '3 beds', '3 beds', '4 beds', '3 beds', '4 beds', '4 beds', '4 beds', '3 beds', '4 beds', '4 beds', '3 beds', '3 beds', '2 beds', '5 beds', '3 beds', '4 beds', '3 beds', '3 beds', '3 beds', '3 beds', '4 beds', '5 beds', '2 beds', '3 beds', '3 beds', '3 beds', '3 beds', '4 beds', '4 beds', '3 beds', '3 beds', '4 beds', '4 beds', '4 beds', '4 beds', '3 beds', '3 beds', '4 beds', '4 beds', '5 beds', '2 beds', '2 beds', '4 beds', '5 beds', '4 beds', '3 beds', '0 beds', '3 beds', '3 beds', '3 beds', '4 beds', '4 beds', '3 beds', '4 beds', '4 beds', '4 beds', '4 beds', '3 beds', '5 beds', '4 beds', '3 beds', '3 beds', '3 beds', '3 beds', '4 beds', '5 beds', '4 beds', '4 beds', '5 beds', '3 beds', '3 beds', '3 beds', '3 beds', '3 beds', '3 beds', '3 beds', '4 beds', '1 bed', '2 beds', '3 beds', '3 beds', '3 beds', '4 beds', '3 beds', '3 beds', '2 beds', '3 beds', '4 beds', '3 beds', '3 beds', '4 beds', '4 beds', '3 beds', '3 beds', '3 beds', '3 beds', '3 beds', '4 beds', '6 beds', '3 beds', '4 beds', '4 beds', '4 beds', '3 beds', '4 beds', '3 beds', '4 beds', '4 beds', '5 beds', '3 beds', '3 beds', '3 beds', '3 beds', '3 beds', '4 beds', '4 beds', '4 beds', '3 beds', '3 beds', '3 beds', '4 beds', '5 beds', '4 beds', '3 beds', '4 beds', '4 beds', '3 beds', '5 beds', '3 beds', '3 beds', '3 beds', '4 beds', '4 beds', '4 beds', '3 beds', '6 beds', '3 beds', '3 beds', '3 beds', '4 beds', '4 beds', '4 beds', '2 beds', '3 beds', '1 bed', '4 beds', '4 beds', '3 beds', '5 beds', '3 beds', '4 beds', '4 beds', '4 beds', '3 beds', '3 beds', '3 beds']\n"
     ]
    }
   ],
   "source": [
    "print(len(bed_houston),bed_houston)"
   ]
  },
  {
   "cell_type": "code",
   "execution_count": 113,
   "id": "4cb3d381",
   "metadata": {},
   "outputs": [
    {
     "name": "stdout",
     "output_type": "stream",
     "text": [
      "240 ['3.5 baths', '2 baths', '4 baths', '2.5 baths', '2 baths', '4.5 baths', '2.5 baths', '2.5 baths', '2.5 baths', '2.5 baths', '3.5 baths', '2.5 baths', '2 baths', '2.5 baths', '2 baths', '2 baths', '2.5 baths', '3.5 baths', '3 baths', '2 baths', '2.5 baths', '2.5 baths', '2 baths', '3.5 baths', '2.5 baths', '1 bath', '3 baths', '3.5 baths', '2 baths', '1 bath', '4 baths', '3 baths', '2 baths', '2 baths', '2.5 baths', '2 baths', '2.5 baths', '3.5 baths', '2 baths', '2 baths', '2.5 baths', '2.5 baths', '2 baths', '3.5 baths', '3.5 baths', '2.5 baths', '2 baths', '3.5 baths', '4 baths', '2 baths', '3.5 baths', '2.5 baths', '2.5 baths', '1 bath', '2 baths', '4.5 baths', '2 baths', '1.5 baths', '3.5 baths', '3.5 baths', '2.5 baths', '2.5 baths', '2 baths', '6.5 baths', '2.5 baths', '2.5 baths', '3.5 baths', '2.5 baths', '2.5 baths', '2.5 baths', '2 baths', '4.5 baths', '2 baths', '4 baths', '3.5 baths', '2 baths', '1 bath', '2.5 baths', '2 baths', '6 baths', '2.5 baths', '3.5 baths', '3 baths', '2.5 baths', '2.5 baths', '2.5 baths', '2 baths', '2 baths', '3.5 baths', '3.5 baths', '2.5 baths', '2 baths', '2.5 baths', '4.5 baths', '2 baths', '2 baths', '2 baths', '3 baths', '2.5 baths', '2.5 baths', '2.5 baths', '1 bath', '2.5 baths', '2.5 baths', '4.5 baths', '3.5 baths', '1 bath', '2.5 baths', '2 baths', '2 baths', '2.5 baths', '2 baths', '2.5 baths', '2.5 baths', '2.5 baths', '3.5 baths', '5 baths', '2.5 baths', '3.5 baths', '2.5 baths', '3.5 baths', '2.5 baths', '2 baths', '3.5 baths', '2.5 baths', '1 bath', '3.5 baths', '3.5 baths', '4 baths', '2.5 baths', '— baths', '3 baths', '2.5 baths', '3.5 baths', '3 baths', '4 baths', '2.5 baths', '2.5 baths', '2 baths', '3.5 baths', '3.5 baths', '2.5 baths', '3 baths', '2.5 baths', '2 baths', '2.5 baths', '2 baths', '2.5 baths', '3.5 baths', '2.5 baths', '3 baths', '3.5 baths', '3 baths', '2.5 baths', '2.5 baths', '2 baths', '2 baths', '2.5 baths', '2 baths', '2.5 baths', '2.5 baths', '1 bath', '1 bath', '2.5 baths', '3 baths', '1 bath', '2.5 baths', '3.5 baths', '3.5 baths', '1 bath', '1 bath', '3.5 baths', '2 baths', '2 baths', '3.5 baths', '3.5 baths', '2.5 baths', '2 baths', '2 baths', '2.5 baths', '2.5 baths', '3.5 baths', '3 baths', '2.5 baths', '2.5 baths', '2.5 baths', '3.5 baths', '2 baths', '2 baths', '1.5 baths', '2.5 baths', '2 baths', '4.5 baths', '2 baths', '2 baths', '2 baths', '2 baths', '2 baths', '3.5 baths', '2.5 baths', '2 baths', '2.5 baths', '2.5 baths', '2 baths', '2.5 baths', '3.5 baths', '2 baths', '2.5 baths', '2.5 baths', '3.5 baths', '3.5 baths', '3.5 baths', '2.5 baths', '3.5 baths', '4 baths', '2.5 baths', '2 baths', '3 baths', '2 baths', '2.5 baths', '3.5 baths', '2.5 baths', '2 baths', '2.5 baths', '4 baths', '3.5 baths', '2.5 baths', '2 baths', '1 bath', '4.5 baths', '4 baths', '2.5 baths', '5.5 baths', '2 baths', '2 baths', '2.5 baths', '3 baths', '2.5 baths', '2 baths', '2 baths']\n"
     ]
    }
   ],
   "source": [
    "print(len(bath_houston),bath_houston)"
   ]
  },
  {
   "cell_type": "code",
   "execution_count": 114,
   "id": "f732ca77",
   "metadata": {},
   "outputs": [
    {
     "name": "stdout",
     "output_type": "stream",
     "text": [
      "240 ['3,605 sq ft', '1,579 sq ft', '4,231 sq ft', '2,426 sq ft', '2,223 sq ft', '5,939 sq ft', '2,800 sq ft', '2,599 sq ft', '3,063 sq ft', '2,286 sq ft', '3,632 sq ft', '1,988 sq ft', '1,291 sq ft', '2,396 sq ft', '1,856 sq ft', '2,208 sq ft', '3,066 sq ft', '4,115 sq ft', '2,846 sq ft', '2,090 sq ft', '2,576 sq ft', '1,948 sq ft', '2,500 sq ft', '3,151 sq ft', '1,649 sq ft', '758 sq ft', '2,726 sq ft', '3,139 sq ft', '2,097 sq ft', '768 sq ft', '3,064 sq ft', '2,144 sq ft', '1,938 sq ft', '2,033 sq ft', '1,948 sq ft', '2,056 sq ft', '1,486 sq ft', '3,824 sq ft', '1,786 sq ft', '1,197 sq ft', '2,094 sq ft', '1,932 sq ft', '1,529 sq ft', '2,938 sq ft', '1,825 sq ft', '1,780 sq ft', '1,836 sq ft', '6,250 sq ft', '5,431 sq ft', '1,949 sq ft', '2,018 sq ft', '2,193 sq ft', '1,443 sq ft', '1,108 sq ft', '1,780 sq ft', '3,341 sq ft', '2,045 sq ft', '1,800 sq ft', '3,610 sq ft', '2,486 sq ft', '1,630 sq ft', '1,802 sq ft', '2,101 sq ft', '9,251 sq ft', '2,750 sq ft', '2,562 sq ft', '3,745 sq ft', '1,456 sq ft', '3,351 sq ft', '2,500 sq ft', '1,612 sq ft', '3,748 sq ft', '1,855 sq ft', '2,979 sq ft', '2,329 sq ft', '— sq ft', '988 sq ft', '1,990 sq ft', '2,038 sq ft', '6,051 sq ft', '3,158 sq ft', '2,198 sq ft', '2,783 sq ft', '1,556 sq ft', '1,946 sq ft', '1,865 sq ft', '1,714 sq ft', '1,443 sq ft', '3,303 sq ft', '2,826 sq ft', '2,903 sq ft', '1,901 sq ft', '2,520 sq ft', '9,154 sq ft', '1,502 sq ft', '1,578 sq ft', '1,725 sq ft', '4,541 sq ft', '1,870 sq ft', '2,355 sq ft', '1,867 sq ft', '1,368 sq ft', '1,867 sq ft', '1,852 sq ft', '4,486 sq ft', '3,515 sq ft', '1,222 sq ft', '1,870 sq ft', '1,539 sq ft', '1,648 sq ft', '1,695 sq ft', '1,355 sq ft', '1,989 sq ft', '2,025 sq ft', '1,870 sq ft', '3,510 sq ft', '4,352 sq ft', '2,745 sq ft', '4,034 sq ft', '2,543 sq ft', '3,176 sq ft', '1,870 sq ft', '2,300 sq ft', '4,140 sq ft', '1,094 sq ft', '1,075 sq ft', '3,822 sq ft', '2,944 sq ft', '3,483 sq ft', '2,278 sq ft', '1,300 sq ft', '1,092 sq ft', '1,867 sq ft', '2,580 sq ft', '3,366 sq ft', '4,016 sq ft', '2,577 sq ft', '2,030 sq ft', '1,995 sq ft', '3,165 sq ft', '4,234 sq ft', '1,867 sq ft', '2,880 sq ft', '2,428 sq ft', '1,660 sq ft', '2,646 sq ft', '2,185 sq ft', '1,404 sq ft', '3,672 sq ft', '2,420 sq ft', '1,927 sq ft', '3,826 sq ft', '2,982 sq ft', '2,244 sq ft', '1,874 sq ft', '1,601 sq ft', '1,796 sq ft', '2,423 sq ft', '1,674 sq ft', '1,454 sq ft', '2,581 sq ft', '864 sq ft', '932 sq ft', '1,755 sq ft', '1,444 sq ft', '1,252 sq ft', '2,330 sq ft', '2,437 sq ft', '3,341 sq ft', '832 sq ft', '1,482 sq ft', '1,922 sq ft', '2,113 sq ft', '1,632 sq ft', '3,470 sq ft', '3,937 sq ft', '2,397 sq ft', '2,156 sq ft', '1,874 sq ft', '1,819 sq ft', '1,848 sq ft', '3,241 sq ft', '2,800 sq ft', '2,502 sq ft', '3,241 sq ft', '2,667 sq ft', '2,146 sq ft', '1,496 sq ft', '1,866 sq ft', '1,102 sq ft', '2,736 sq ft', '2,203 sq ft', '3,542 sq ft', '2,950 sq ft', '2,374 sq ft', '1,849 sq ft', '1,702 sq ft', '1,856 sq ft', '3,736 sq ft', '2,414 sq ft', '2,101 sq ft', '2,084 sq ft', '2,174 sq ft', '1,662 sq ft', '2,582 sq ft', '4,008 sq ft', '2,020 sq ft', '1,980 sq ft', '2,480 sq ft', '2,544 sq ft', '2,120 sq ft', '2,801 sq ft', '1,620 sq ft', '1,852 sq ft', '3,950 sq ft', '2,290 sq ft', '1,984 sq ft', '2,715 sq ft', '2,022 sq ft', '2,940 sq ft', '2,332 sq ft', '2,016 sq ft', '1,838 sq ft', '2,500 sq ft', '3,036 sq ft', '2,654 sq ft', '2,597 sq ft', '1,751 sq ft', '1,000 sq ft', '4,106 sq ft', '4,123 sq ft', '3,474 sq ft', '4,476 sq ft', '2,352 sq ft', '2,401 sq ft', '2,858 sq ft', '3,764 sq ft', '2,842 sq ft', '1,992 sq ft', '2,411 sq ft']\n"
     ]
    }
   ],
   "source": [
    "print(len(area_houston),area_houston)"
   ]
  },
  {
   "cell_type": "code",
   "execution_count": 115,
   "id": "bb4411bd",
   "metadata": {},
   "outputs": [
    {
     "name": "stdout",
     "output_type": "stream",
     "text": [
      "240 ['6718 Blue Hills Rd, Houston, TX 77069', '7722 Sorbete Dr, Houston, TX 77083', '5219 Court Of York, Houston, TX 77069', '22606 Bucktrout Ln, Katy, TX 77449', '8734 Backcove Ct, Houston, TX 77064', '19822 Skycountry Ln, Houston, TX 77094', '3823 Stillview Dr, Houston, TX 77068', '10118 Briar Forest Dr, Houston, TX 77042', '13706 Aspen Cove Dr, Houston, TX 77077', '18214 Sweet Juniper Ln, Katy, TX 77449', '16127 Rodale Dr, Houston, TX 77049', '5326 Girnigoe Dr, Houston, TX 77084', '19322 Golden Cactus Ln, Cypress, TX 77433', '9422 Tallow Tree Dr, Houston, TX 77070', '15443 Sierra Valle Dr, Houston, TX 77083', '26122 Bent Meadow Ct, Katy, TX 77494', '15706 Dawnbrook Dr, Houston, TX 77068', '3018 Meadow Pond Dr, Katy, TX 77450', '55 Bayou Pointe Dr, Houston, TX 77063', '8831 Gas Light Village Dr, Houston, TX 77095', '5315 Aspen Lake Ct, Houston, TX 77345', '5910 Logancrest Ln, Houston, TX 77086', '13831 Swiss Hill Dr, Houston, TX 77077', '12403 Moorcreek Dr, Houston, TX 77070', '6703 Winton St, Houston, TX 77021', '1325 E 32nd 1/2 St, Houston, TX 77022', '4810 Scenic Woods Trl, Kingwood, TX 77345', '5011 Cottage Glen Ct, Houston, TX 77345', '4130 N Braeswood Blvd, Houston, TX 77025', '4204 Wipprecht St, Houston, TX 77026', '25315 Walter Peak Lane Ln, Katy, TX 77494', '1814 Cobble Creek Dr, Houston, TX 77073', '2934 Aspen Park Ln, Houston, TX 77084', '4203 Apollo St, Houston, TX 77018', '802 Berry Sage Ln, Houston, TX 77022', '8038 Split Pine Dr, Houston, TX 77040', '1560 W Tidwell Rd, Houston, TX 77091', '15703 Walkwood Dr, Houston, TX 77079', '5703 Belmark St, Houston, TX 77033', '14727 Auburn Dusk Dr, Houston, TX 77069', '6420 Buffalo Speedway, West University Place, TX 77005', '10034 Hillside Bayou Dr, Houston, TX 77080', '13202 Chaston Dr, Houston, TX 77041', '3937 Law St, Houston, TX 77005', '5438 Wheatley St Unit E, Houston, TX 77091', '923 Bianco Ln, Houston, TX 77091', '14647 Dartwood Dr, Houston, TX 77049', '4011 Essex Ln, Houston, TX 77027', '739 Azaleadell Dr, Houston, TX 77018', '2110 Diamond Brook Dr, Houston, TX 77062', '6317 Foster St, Houston, TX 77021', '14107 Wickersham Ln, Houston, TX 77077', '5801 Philips St, Houston, TX 77091', '409 S 72nd St, Houston, TX 77011', '10610 Logger Pine Trl, Houston, TX 77088', '6307 Brooklawn Dr, Houston, TX 77085', '5702 Cheltenham Dr, Houston, TX 77096', '3902 Marquita Ln, Houston, TX 77039', '4911 Fox Grass Trl, Kingwood, TX 77339', '19427 Camellia Knoll Trl, Houston, TX 77084', '11424 Waterford Spring Trl, Houston, TX 77047', '11428 Waterford Spring Trl, Houston, TX 77047', '6518 Cypress Point Dr, Houston, TX 77069', '3637 Olympia Dr, Houston, TX 77019', '13034 Mills Grove Dr, Houston, TX 77070', '16423 Mesa Point Dr, Houston, TX 77095', '7003 Turtle Manor Dr, Humble, TX 77346', '11902 Oakner Dr, Tomball, TX 77377', '5418 Coral Ridge Rd, Houston, TX 77069', '715 Oder Ln, Houston, TX 77090', '19923 Cypresswood Gln, Spring, TX 77373', '10626 Glenway Dr, Houston, TX 77070', '15039 Rose Valley Dr, Houston, TX 77070', '2108 Branard St, Houston, TX 77098', '10809 Kyler Oaks Pl, Houston, TX 77043', '3824 Topping St, Houston, TX 77093', '436 W 28th St, Houston, TX 77008', '15518 Meadow Village Dr, Houston, TX 77095', '2234 Ashford Hollow Ln, Houston, TX 77077', '3106 Newcastle Dr, Houston, TX 77027', '435 Wilchester Blvd, Houston, TX 77079', '4026 Bellefontaine St Unit C, Houston, TX 77025', '20814 Newbury Park Dr, Katy, TX 77450', '7512 Sandle St, Houston, TX 77088', '1030 Doubletree Glen Dr, Houston, TX 77073', '7706 Woodlett Ct, Houston, TX 77095', '6010 Fontenelle Dr, Houston, TX 77035', '217 Basswood St, Houston, TX 77022', '13219 Sycamore Heights St, Houston, TX 77065', '1030 W 22nd St, Houston, TX 77008', '5619 Sycamore Creek Dr, Houston, TX 77345', '10042 Warwana Rd, Houston, TX 77080', '14610 Cardinal Creek Ct, Houston, TX 77062', '6104 San Felipe St, Houston, TX 77057', '5519 Saxon Dr, Houston, TX 77092', '11723 N Marcia Cir, Houston, TX 77071', '1408 Asbury St, Houston, TX 77007', '15315 Bramshaw Glen Ct, Houston, TX 77049', '6124 De Campo St, Houston, TX 77091', '10607 Deerwood Rd, Houston, TX 77042', '6122 De Campo St, Houston, TX 77091', '9225 Noel St, Houston, TX 77033', '6121 De Campo St, Houston, TX 77091', '1515 Blue Acer Dr, Houston, TX 77084', '9406 Willowview Ln, Houston, TX 77080', '7714 S Hunters Court Dr, Houston, TX 77055', '1210 Shearn St, Houston, TX 77007', '6119 De Campo St, Houston, TX 77091', '5103 Saxon Dr, Houston, TX 77092', '7615 Lacy Hill Dr, Houston, TX 77036', '1435 Joy Oaks Ln, Houston, TX 77073', '12723 Drifting Winds Dr, Houston, TX 77044', '1521 Blue Acer Dr, Houston, TX 77084', '8408 Safeguard St, Houston, TX 77051', '6116 De Campo St, Houston, TX 77091', '6002 Emberwood Falls Dr, Katy, TX 77494', '1815 Cortlandt St, Houston, TX 77008', '17310 Buffalo Pass Dr, Houston, TX 77095', '1615 Kelliwood Oaks Drive Dr, Katy, TX 77450', '1820 Arbor Street St, Houston, TX 77004', '1535 Vermont St, Houston, TX 77006', '6115 De Campo St, Houston, TX 77091', '1906 Brimberry St, Houston, TX 77018', '13514 Kimberley Ln, Houston, TX 77079', '4035 Norhill Blvd, Houston, TX 77009', '827 Ralfallen St, Houston, TX 77008', '19314 Aquatic Dr, Humble, TX 77346', '16034 Krista Ct, Houston, TX 77049', '12518 Katrina Ct, Houston, TX 77089', '3323 Falcon Trail Dr, Spring, TX 77373', '2412 Fulton St, Houston, TX 77009', '704 E 11th 1/2 St, Houston, TX 77008', '6114 De Campo St, Houston, TX 77091', '927 W 25th St Unit C, Houston, TX 77008', '9718 Cliffwood Dr, Houston, TX 77096', '12847 Butterfly Ln, Houston, TX 77024', '24915 Crowned Ct, Katy, TX 77493', '1942 Round Spring Dr, Kingwood, TX 77339', '3230 Barkers Forest Ln, Houston, TX 77084', '13827 Wickdale Garden Ln, Houston, TX 77044', '11406 Montmarte Blvd, Houston, TX 77082', '6113 De Campo St, Houston, TX 77091', '21303 Drifting Oaks Dr, Houston, TX 77095', '7706 Pagewood Ln, Houston, TX 77063', '3343 Monza Dr, Houston, TX 77014', '14407 Moreno Ave, Houston, TX 77045', '5726 Brownstone Ridge Ln, Houston, TX 77084', '11427 Waterford Spring Trl, Houston, TX 77047', '13815 Lake Livingston Dr, Houston, TX 77044', '3807 Wood Gardens Ct, Kingwood, TX 77339', '4910 Holloway Dr, Houston, TX 77048', '13322 Alchester Ln, Houston, TX 77079', '5310 Laura Lee Ln, Pasadena, TX 77504', '223 W 22nd St, Houston, TX 77008', '4722 Glenvillage St, Houston, TX 77084', '1605 Summer City Dr, Houston, TX 77047', '12403 Longbrook Dr, Houston, TX 77099', '1002 Worthshire St, Houston, TX 77008', '10910 Chimney Rock Rd, Houston, TX 77096', '12802 Claycliff Ct, Houston, TX 77034', '2419 Garden Run Ct, Houston, TX 77084', '1203 Lockwood Dr, Houston, TX 77020', '6907 Finch St, Houston, TX 77028', '11420 Velvet Field Dr, Houston, TX 77047', '4333 Bell St, Houston, TX 77023', '2209 Sumpter St, Houston, TX 77026', '5543 Yarwell Dr, Houston, TX 77096', '5217 Lillian St, Houston, TX 77007', '208 Reinicke St, Houston, TX 77007', '6911 Finch St, Houston, TX 77028', '4618 Ella Blvd, Houston, TX 77018', '1422 Esther Dr, Houston, TX 77088', '7246 Prestwick St, Houston, TX 77025', '1250 Strawberry Park Ln, Katy, TX 77450', '18003 Oliveria Way, Houston, TX 77044', '14402 Brentshire Ln, Houston, TX 77069', '18331 Gardens End Ln, Houston, TX 77084', '9011 Allwood St, Houston, TX 77016', '3638 Broken Elm Dr, Spring, TX 77388', '6411 Wilshire Lks, Houston, TX 77040', '10106 Enchanted Stone Dr, Houston, TX 77070', '6202 Kury Ln, Houston, TX 77008', '2409 Spence St, Houston, TX 77093', '611 W 27th St, Houston, TX 77008', '16543 Stone Prairie Dr, Houston, TX 77095', '13910 Goodridge Dr, Houston, TX 77048', '1918 Crestdale Dr, Houston, TX 77080', '8128 Flintridge Dr, Houston, TX 77028', '15111 Forest Lodge Dr, Houston, TX 77070', '2510 Munger St, Houston, TX 77023', '23018 Lanham Dr, Katy, TX 77450', '4602 Kinloch Dr, Houston, TX 77084', '2821 Wroxton Rd, Houston, TX 77005', '6306 Waltway Dr, Houston, TX 77008', '7022 Shavelson St, Houston, TX 77055', '10014 Red Wolf Ln, Houston, TX 77064', '2613 Areba St, Houston, TX 77091', '20003 Elmsbury Ct, Katy, TX 77449', '15214 Rose Cottage Dr, Houston, TX 77069', '12439 Meadow Lake Dr, Houston, TX 77077', '11926 Beverly Dr, Houston, TX 77065', '7906 Sealey St, Houston, TX 77088', '7918 James Franklin St, Houston, TX 77088', '10835 Sageyork Dr, Houston, TX 77089', '2011 Laurel Hill Dr, Houston, TX 77339', '12027 Greenwood Estates St, Houston, TX 77066', '10707 Desert Springs Cir, Houston, TX 77095', '8125 Venus St, Houston, TX 77088', '10614 Bent Spur Ct, Houston, TX 77064', '7515 Mighty Falls Ct, Houston, TX 77095', '324 Eastwood St, Houston, TX 77011', '9903 Vogue Ln, Houston, TX 77080', '6719 Alum Rock Ln, Houston, TX 77048', '5344 Donovan Gardens Ln, Houston, TX 77091', '1802 Pinewoods Way, Spring, TX 77386', '9406 Bob White Dr, Houston, TX 77096', '12329 Ashcroft Dr, Houston, TX 77035', '20611 Rainbow Granite Dr, Richmond, TX 77407', '4403 Ram Ct, Houston, TX 77072', '18427 Point Lookout Dr, Houston, TX 77058', '1218 Birkland Pine Ln, Houston, TX 77043', '3110 Lake St, Houston, TX 77098', '13815 Burgoyne Rd, Houston, TX 77077', '99 N Dreamweaver Cir, The Woodlands, TX 77380', '10602 Riverview Dr, Houston, TX 77042', '3407 Amber Forest Dr, Houston, TX 77068', '3404 Audubon Pl, Houston, TX 77006', '14130 Cashel Forest Dr, Houston, TX 77069', '4829 Golden Forest Dr, Houston, TX 77091', '5315 Spartan Dr, Houston, TX 77041', '2017 W 14th St Unit A, Houston, TX 77008', '322 Lindenwood Dr, Hunters Creek Village, TX 77024', '5202 Mimosa Dr, Bellaire, TX 77401', '7006 Northampton Way, Houston, TX 77055', '10719 Landsdowne Dr, Houston, TX 77096', '17602 Riata Manor Ln, Cypress, TX 77433', '6007 Saratoga Springs Ln, Houston, TX 77041', '4011 Forest Ridge Lndg, Houston, TX 77084', '7714 Muirfield Cir, Houston, TX 77095', '5407 Jackwood St, Houston, TX 77096']\n"
     ]
    }
   ],
   "source": [
    "print(len(address_houston),address_houston)"
   ]
  },
  {
   "cell_type": "code",
   "execution_count": 116,
   "id": "6c49952c",
   "metadata": {},
   "outputs": [
    {
     "name": "stdout",
     "output_type": "stream",
     "text": [
      "240 ['house', 'house', 'house', 'house', 'house', 'house', 'house', 'house', 'house', 'house', 'house', 'house', 'house', 'house', 'house', 'house', 'house', 'house', 'house', 'house', 'house', 'house', 'house', 'house', 'house', 'house', 'house', 'house', 'house', 'house', 'house', 'house', 'house', 'house', 'house', 'house', 'house', 'house', 'house', 'house', 'house', 'house', 'house', 'house', 'house', 'house', 'house', 'house', 'house', 'house', 'house', 'house', 'house', 'house', 'house', 'house', 'house', 'house', 'house', 'house', 'house', 'house', 'house', 'house', 'house', 'house', 'house', 'house', 'house', 'house', 'house', 'house', 'house', 'house', 'house', 'house', 'house', 'house', 'house', 'house', 'house', 'house', 'house', 'house', 'house', 'house', 'house', 'house', 'house', 'house', 'house', 'house', 'house', 'house', 'house', 'house', 'house', 'house', 'house', 'house', 'house', 'house', 'house', 'house', 'house', 'house', 'house', 'house', 'house', 'house', 'house', 'house', 'house', 'house', 'house', 'house', 'house', 'house', 'house', 'house', 'house', 'house', 'house', 'house', 'house', 'house', 'house', 'house', 'house', 'house', 'house', 'house', 'house', 'house', 'house', 'house', 'house', 'house', 'house', 'house', 'house', 'house', 'house', 'house', 'house', 'house', 'house', 'house', 'house', 'house', 'house', 'house', 'house', 'house', 'house', 'house', 'house', 'house', 'house', 'house', 'house', 'house', 'house', 'house', 'house', 'house', 'house', 'house', 'house', 'house', 'house', 'house', 'house', 'house', 'house', 'house', 'house', 'house', 'house', 'house', 'house', 'house', 'house', 'house', 'house', 'house', 'house', 'house', 'house', 'house', 'house', 'house', 'house', 'house', 'house', 'house', 'house', 'house', 'house', 'house', 'house', 'house', 'house', 'house', 'house', 'house', 'house', 'house', 'house', 'house', 'house', 'house', 'house', 'house', 'house', 'house', 'house', 'house', 'house', 'house', 'house', 'house', 'house', 'house', 'house', 'house', 'house', 'house', 'house', 'house', 'house', 'house', 'house', 'house', 'house', 'house', 'house', 'house', 'house', 'house']\n"
     ]
    }
   ],
   "source": [
    "# setting the type to house as we have already filtered them by condo\n",
    "\n",
    "type_houston = [\"house\"]*240\n",
    "\n",
    "print(len(type_houston),type_houston)"
   ]
  },
  {
   "cell_type": "markdown",
   "id": "34cead09",
   "metadata": {},
   "source": [
    "### for location = Atlanta"
   ]
  },
  {
   "cell_type": "code",
   "execution_count": 4,
   "id": "a21c26dc",
   "metadata": {},
   "outputs": [],
   "source": [
    "# going back to the homepage\n",
    "\n",
    "home_button = driver.find_element(By.XPATH, '/html/body/div[1]/div[2]/div/div/header[2]/div[1]/div[1]/div')\n",
    "\n",
    "home_button.click()"
   ]
  },
  {
   "cell_type": "code",
   "execution_count": 5,
   "id": "abf1bf3d",
   "metadata": {},
   "outputs": [],
   "source": [
    "# entering location = \"Atlanta\" in the search field\n",
    "\n",
    "time.sleep(3)\n",
    "designation = driver.find_element(By.XPATH, '/html/body/div[1]/div[6]/div[2]/div/section/div/div/div/div/div/div/div/div[2]/div/div/form/div/div/input')\n",
    "designation.send_keys(\"Atlanta\")\n",
    "\n",
    "\n",
    "# Clicking the search button\n",
    "\n",
    "search = driver.find_element(By.XPATH, '/html/body/div[1]/div[6]/div[2]/div/section/div/div/div/div/div/div/div/div[2]/div/div/form/div/button')\n",
    "search.click()"
   ]
  },
  {
   "cell_type": "code",
   "execution_count": 6,
   "id": "4766ce85",
   "metadata": {},
   "outputs": [],
   "source": [
    "#selecting \"House\" as Home Type in filters\n",
    "\n",
    "home_type_button = driver.find_element(By.XPATH, '/html/body/div[1]/div[8]/div[1]/div[2]/div[1]/div[2]/div/div/div/div[1]/form/div[4]/div')\n",
    "home_type_button.click()\n",
    "\n",
    "\n",
    "#clikcing on house option\n",
    "\n",
    "condo_button = driver.find_element(By.XPATH, '/html/body/div[1]/div[8]/div[1]/div[2]/div[1]/div[2]/div/div/div/div[1]/form/div[4]/div/div[2]/div/div[1]/div[2]/div/div[1]')\n",
    "condo_button.click()"
   ]
  },
  {
   "cell_type": "code",
   "execution_count": 7,
   "id": "f63104ff",
   "metadata": {},
   "outputs": [],
   "source": [
    "#scrapping data\n",
    "\n",
    "price_atlanta = []\n",
    "bed_atlanta = []\n",
    "bath_atlanta = []\n",
    "area_atlanta = []\n",
    "address_atlanta = []\n",
    "\n",
    "\n",
    "start = 0\n",
    "end = 6\n",
    "\n",
    "\n",
    "for page in range(start, end):\n",
    "    \n",
    "        #scrapping prices\n",
    "    prices = driver.find_elements(By.CLASS_NAME, \"bp-Homecard__Price--value\")\n",
    "    for i in prices:\n",
    "        price_atlanta.append(i.text)\n",
    "     \n",
    "    \n",
    "        #scrapping no of beds\n",
    "    beds = driver.find_elements(By.CLASS_NAME, 'bp-Homecard__Stats--beds')\n",
    "    for i in beds:\n",
    "        bed_atlanta.append(i.text)\n",
    "     \n",
    "    \n",
    "        #scrapping no of bathrooms\n",
    "    baths = driver.find_elements(By.CLASS_NAME, 'bp-Homecard__Stats--baths')\n",
    "    for i in baths:\n",
    "        bath_atlanta.append(i.text)\n",
    "        \n",
    "    \n",
    "        #scrapping area\n",
    "    areas = driver.find_elements(By.CLASS_NAME, \"bp-Homecard__Stats--sqft\")\n",
    "    for i in areas:\n",
    "        area_atlanta.append(i.text)\n",
    "        \n",
    "        \n",
    "        #scrapping address\n",
    "    addresses = driver.find_elements(By.CLASS_NAME, \"bp-Homecard__Address\")\n",
    "    for i in addresses:\n",
    "        address_atlanta.append(i.text)\n",
    "     \n",
    "    \n",
    "    \n",
    "    next_button = driver.find_element(By.XPATH, '/html/body/div[1]/div[8]/div[1]/div[2]/div[1]/div[5]/div/div[3]/button[2]')\n",
    "    next_button.click()\n",
    "    time.sleep(3)"
   ]
  },
  {
   "cell_type": "code",
   "execution_count": 9,
   "id": "de1eb055",
   "metadata": {},
   "outputs": [
    {
     "name": "stdout",
     "output_type": "stream",
     "text": [
      "240 ['$469,000', '$749,900', '$530,000', '$210,000', '$338,500', '$196,000', '$500,000', '$459,000', '$9,750,000', '$535,000', '$549,000', '$3,595,000', '$319,900', '$2,900,000', '$925,000', '$575,000', '$2,250,000', '$450,000', '$374,800', '$959,900', '$325,000', '$220,000', '$1,350,000', '$659,900', '$4,500,000', '$764,900', '$815,000', '$445,000', '$925,000', '$350,000', '$534,990', '$399,900', '$534,990', '$1,025,000', '$2,000,000', '$750,000', '$549,900', '$1,275,000', '$1,299,000', '$525,000', '$799,900', '$315,000', '$179,900', '$950,000', '$725,000', '$285,000', '$1,275,000', '$350,000', '$449,900', '$974,000', '$2,995,000', '$649,000', '$525,000', '$369,000', '$1,325,000', '$150,000', '$1,123,836', '$325,000', '$500,000', '$500,000', '$255,000', '$699,000', '$715,000', '$825,000', '$2,500,000', '$895,000', '$2,150,000', '$259,900', '$725,000', '$720,000', '$897,000', '$295,000', '$639,000', '$409,900', '$519,900', '$329,900', '$625,000', '$239,900', '$375,000', '$1,595,000', '$289,000', '$715,000', '$650,000', '$325,000', '$360,000', '$525,000', '$599,985', '$525,000', '$259,900', '$1,750,000', '$3,350,000', '$925,000', '$299,999', '$750,000', '$1,200,000', '$299,500', '$459,500', '$369,900', '$1,225,000', '$750,000', '$1,625,000', '$399,000', '$799,999', '$540,000', '$999,444', '$2,200,000', '$2,000,000', '$279,900', '$317,900', '$1,025,000', '$2,499,000', '$279,900', '$375,132', '$1,300,000', '$685,000', '$499,000', '$880,000', '$925,000', '$5,795,000', '$625,000', '$1,170,000', '$545,000', '$529,900', '$185,000', '$440,000', '$1,050,000', '$224,900', '$475,000', '$475,000', '$795,000', '$265,000', '$639,000', '$345,000', '$1,100,000', '$720,000', '$795,000', '$897,500', '$1,175,000', '$910,000', '$2,495,000', '$4,950,000', '$785,000', '$897,500', '$649,500', '$236,700', '$795,000', '$1,375,000', '$300,000', '$225,000', '$445,000', '$705,000', '$599,900', '$469,000', '$450,000', '$2,999,999', '$525,000', '$1,299,000', '$735,000', '$378,000', '$1,339,000', '$1,950,000', '$365,000', '$1,350,000', '$2,599,000', '$589,000', '$345,000', '$550,000', '$219,000', '$474,999', '$229,900', '$699,000', '$199,900', '$925,000', '$284,000', '$209,900', '$985,000', '$2,395,000', '$799,000', '$385,000', '$419,900', '$590,000', '$1,599,000', '$695,000', '$485,990', '$1,150,000', '$2,099,999', '$347,000', '$1,240,000', '$200,000', '$160,000', '$315,000', '$249,900', '$229,900', '$745,000', '$375,000', '$229,900', '$540,000', '$365,000', '$575,000', '$1,600,000', '$349,900', '$1,008,460', '$415,000', '$200,000', '$569,993', '$1,350,000', '$525,000', '$839,900', '$309,900', '$250,000', '$550,000', '$480,000', '$699,000', '$260,000', '$1,399,000', '$495,000', '$2,975,000', '$359,900', '$4,350,000', '$649,900', '$299,000', '$815,000', '$399,500', '$370,000', '$320,000', '$998,900', '$1,999,500', '$300,000', '$365,000', '$275,000', '$675,000', '$585,000', '$235,000', '$190,000', '$1,650,000', '$550,000', '$899,000', '$1,130,000', '$340,000', '$175,000']\n"
     ]
    }
   ],
   "source": [
    "print(len(price_atlanta),price_atlanta)"
   ]
  },
  {
   "cell_type": "code",
   "execution_count": 12,
   "id": "50495fe0",
   "metadata": {},
   "outputs": [
    {
     "name": "stdout",
     "output_type": "stream",
     "text": [
      "240 ['3 beds', '4 beds', '3 beds', '3 beds', '4 beds', '3 beds', '3 beds', '3 beds', '6 beds', '3 beds', '3 beds', '6 beds', '3 beds', '5 beds', '4 beds', '3 beds', '5 beds', '3 beds', '3 beds', '5 beds', '4 beds', '3 beds', '4 beds', '6 beds', '5 beds', '4 beds', '6 beds', '4 beds', '3 beds', '4 beds', '4 beds', '4 beds', '4 beds', '7 beds', '5 beds', '5 beds', '5 beds', '4 beds', '4 beds', '2 beds', '4 beds', '3 beds', '3 beds', '3 beds', '4 beds', '4 beds', '4 beds', '3 beds', '5 beds', '4 beds', '5 beds', '3 beds', '3 beds', '4 beds', '5 beds', '3 beds', '5 beds', '3 beds', '5 beds', '3 beds', '3 beds', '5 beds', '5 beds', '5 beds', '5 beds', '5 beds', '5 beds', '3 beds', '5 beds', '5 beds', '5 beds', '3 beds', '3 beds', '3 beds', '4 beds', '3 beds', '3 beds', '3 beds', '4 beds', '4 beds', '3 beds', '6 beds', '4 beds', '3 beds', '3 beds', '3 beds', '4 beds', '3 beds', '3 beds', '5 beds', '6 beds', '4 beds', '2 beds', '5 beds', '5 beds', '4 beds', '3 beds', '4 beds', '5 beds', '4 beds', '5 beds', '4 beds', '3 beds', '3 beds', '5 beds', '5 beds', '5 beds', '3 beds', '3 beds', '3 beds', '5 beds', '2 beds', '4 beds', '3 beds', '3 beds', '3 beds', '4 beds', '3 beds', '5 beds', '3 beds', '4 beds', '3 beds', '3 beds', '3 beds', '4 beds', '3 beds', '3 beds', '5 beds', '3 beds', '5 beds', '3 beds', '3 beds', '3 beds', '4 beds', '4 beds', '3 beds', '5 beds', '4 beds', '3 beds', '4 beds', '6 beds', '6 beds', '5 beds', '4 beds', '3 beds', '3 beds', '5 beds', '4 beds', '2 beds', '3 beds', '4 beds', '4 beds', '3 beds', '2 beds', '7 beds', '4 beds', '5 beds', '5 beds', '3 beds', '5 beds', '5 beds', '4 beds', '4 beds', '5 beds', '3 beds', '2 beds', '3 beds', '8 beds', '4 beds', '3 beds', '4 beds', '5 beds', '5 beds', '10 beds', '3 beds', '4 beds', '5 beds', '2 beds', '4 beds', '3 beds', '2 beds', '4 beds', '6 beds', '2 beds', '4 beds', '7 beds', '3 beds', '5 beds', '4 beds', '2 beds', '3 beds', '3 beds', '3 beds', '4 beds', '3 beds', '4 beds', '3 beds', '6 beds', '5 beds', '4 beds', '4 beds', '4 beds', '4 beds', '2 beds', '5 beds', '5 beds', '3 beds', '3 beds', '3 beds', '4 beds', '4 beds', '3 beds', '3 beds', '3 beds', '4 beds', '4 beds', '6 beds', '3 beds', '6 beds', '7 beds', '2 beds', '3 beds', '3 beds', '3 beds', '3 beds', '3 beds', '6 beds', '3 beds', '6 beds', '4 beds', '3 beds', '5 beds', '3 beds', '3 beds', '4 beds', '3 beds', '3 beds', '4 beds', '4 beds', '3 beds']\n"
     ]
    }
   ],
   "source": [
    "print(len(bed_atlanta),bed_atlanta)"
   ]
  },
  {
   "cell_type": "code",
   "execution_count": 13,
   "id": "a5007534",
   "metadata": {},
   "outputs": [
    {
     "name": "stdout",
     "output_type": "stream",
     "text": [
      "240 ['2.5 baths', '3.5 baths', '2.5 baths', '2 baths', '2 baths', '2 baths', '2 baths', '2 baths', '10 baths', '2.5 baths', '2 baths', '7.5 baths', '2 baths', '6 baths', '3.5 baths', '2.5 baths', '5.5 baths', '1 bath', '1 bath', '3.5 baths', '2 baths', '1 bath', '4 baths', '3.5 baths', '5.5 baths', '4 baths', '5 baths', '3 baths', '2.5 baths', '3 baths', '2.5 baths', '3 baths', '2.5 baths', '4 baths', '3.5 baths', '3.5 baths', '3 baths', '3.5 baths', '3.5 baths', '2.5 baths', '3.5 baths', '2 baths', '2 baths', '2 baths', '3.5 baths', '2 baths', '3.5 baths', '2 baths', '4 baths', '3.5 baths', '5.5 baths', '1 bath', '2 baths', '2.5 baths', '3.5 baths', '1 bath', '4 baths', '2.5 baths', '3 baths', '2 baths', '1.5 baths', '3 baths', '3 baths', '5.5 baths', '7 baths', '4 baths', '4.5 baths', '2 baths', '4.5 baths', '3 baths', '3.5 baths', '2 baths', '2 baths', '2 baths', '3 baths', '2 baths', '2.5 baths', '1 bath', '2 baths', '3.5 baths', '2 baths', '5.5 baths', '3 baths', '2 baths', '2 baths', '1 bath', '3 baths', '2 baths', '2 baths', '5 baths', '7 baths', '3 baths', '2 baths', '3 baths', '4.5 baths', '2 baths', '3 baths', '3 baths', '5 baths', '2.5 baths', '4 baths', '2.5 baths', '2.5 baths', '2 baths', '3.5 baths', '4.5 baths', '5.5 baths', '2 baths', '3 baths', '2.5 baths', '5 baths', '2 baths', '3.5 baths', '2.5 baths', '2.5 baths', '2 baths', '3.5 baths', '3 baths', '7 baths', '2 baths', '3.5 baths', '2 baths', '2 baths', '1 bath', '3 baths', '2 baths', '1 bath', '3.5 baths', '2 baths', '3.5 baths', '2 baths', '2 baths', '2 baths', '3.5 baths', '2 baths', '2.5 baths', '4 baths', '3.5 baths', '3 baths', '5 baths', '6.5 baths', '3 baths', '4 baths', '3.5 baths', '1 bath', '2.5 baths', '5.5 baths', '3.5 baths', '2 baths', '2 baths', '3 baths', '3 baths', '3 baths', '2 baths', '8 baths', '3 baths', '3.5 baths', '4.5 baths', '3 baths', '4.5 baths', '4 baths', '3.5 baths', '2 baths', '6 baths', '2 baths', '1 bath', '2.5 baths', '2 baths', '2.5 baths', '1 bath', '3 baths', '3 baths', '3 baths', '3 baths', '2 baths', '3 baths', '4.5 baths', '1 bath', '2 baths', '2 baths', '1.5 baths', '3 baths', '3.5 baths', '1.5 baths', '3 baths', '7 baths', '2 baths', '5.5 baths', '1 bath', '1 bath', '2 baths', '2 baths', '2 baths', '3.5 baths', '2.5 baths', '2 baths', '2 baths', '3 baths', '4 baths', '4.5 baths', '3 baths', '3.5 baths', '3 baths', '2 baths', '3 baths', '3.5 baths', '3 baths', '3 baths', '1 bath', '3 baths', '2.5 baths', '2.5 baths', '2 baths', '1 bath', '4.5 baths', '3 baths', '6.5 baths', '2 baths', '8 baths', '6.5 baths', '2 baths', '2 baths', '2 baths', '1.5 baths', '2 baths', '2.5 baths', '5.5 baths', '2.5 baths', '3 baths', '2 baths', '2.5 baths', '3 baths', '2 baths', '1.5 baths', '5 baths', '2.5 baths', '3.5 baths', '3.5 baths', '3 baths', '1.5 baths']\n"
     ]
    }
   ],
   "source": [
    "print(len(bath_atlanta),bath_atlanta)"
   ]
  },
  {
   "cell_type": "code",
   "execution_count": 14,
   "id": "5e1f44a8",
   "metadata": {},
   "outputs": [
    {
     "name": "stdout",
     "output_type": "stream",
     "text": [
      "240 ['961 sq ft', '2,820 sq ft', '1,380 sq ft', '1,160 sq ft', '1,840 sq ft', '— sq ft', '3,000 sq ft', '1,504 sq ft', '15,200 sq ft', '1,452 sq ft', '1,510 sq ft', '7,856 sq ft', '1,554 sq ft', '7,576 sq ft', '3,057 sq ft', '2,100 sq ft', '4,887 sq ft', '1,050 sq ft', '1,068 sq ft', '3,491 sq ft', '1,616 sq ft', '1,027 sq ft', '3,300 sq ft', '3,218 sq ft', '— sq ft', '2,752 sq ft', '3,385 sq ft', '2,945 sq ft', '1,958 sq ft', '1,528 sq ft', '2,506 sq ft', '2,791 sq ft', '2,506 sq ft', '4,446 sq ft', '3,800 sq ft', '2,609 sq ft', '2,856 sq ft', '3,444 sq ft', '3,198 sq ft', '1,337 sq ft', '2,526 sq ft', '1,280 sq ft', '1,093 sq ft', '2,245 sq ft', '2,314 sq ft', '1,339 sq ft', '2,832 sq ft', '1,850 sq ft', '1,218 sq ft', '2,651 sq ft', '6,747 sq ft', '1,134 sq ft', '1,858 sq ft', '2,026 sq ft', '3,350 sq ft', '1,000 sq ft', '3,243 sq ft', '2,418 sq ft', '2,988 sq ft', '1,404 sq ft', '984 sq ft', '2,537 sq ft', '3,000 sq ft', '3,340 sq ft', '8,759 sq ft', '2,968 sq ft', '4,904 sq ft', '1,540 sq ft', '3,602 sq ft', '2,550 sq ft', '3,916 sq ft', '— sq ft', '1,895 sq ft', '1,406 sq ft', '2,305 sq ft', '1,200 sq ft', '1,800 sq ft', '1,000 sq ft', '2,375 sq ft', '3,643 sq ft', '1,385 sq ft', '3,942 sq ft', '2,184 sq ft', '1,236 sq ft', '1,030 sq ft', '1,749 sq ft', '2,985 sq ft', '1,860 sq ft', '1,584 sq ft', '8,317 sq ft', '8,554 sq ft', '2,112 sq ft', '936 sq ft', '2,990 sq ft', '5,218 sq ft', '2,000 sq ft', '1,928 sq ft', '3,188 sq ft', '3,360 sq ft', '3,029 sq ft', '4,089 sq ft', '2,100 sq ft', '2,104 sq ft', '1,800 sq ft', '2,575 sq ft', '7,172 sq ft', '9,600 sq ft', '1,290 sq ft', '1,620 sq ft', '2,195 sq ft', '7,900 sq ft', '1,054 sq ft', '3,923 sq ft', '2,408 sq ft', '2,896 sq ft', '1,071 sq ft', '2,496 sq ft', '1,570 sq ft', '9,576 sq ft', '1,344 sq ft', '3,997 sq ft', '1,245 sq ft', '1,814 sq ft', '1,040 sq ft', '1,714 sq ft', '2,042 sq ft', '1,414 sq ft', '3,400 sq ft', '1,588 sq ft', '4,275 sq ft', '1,436 sq ft', '1,857 sq ft', '1,680 sq ft', '3,053 sq ft', '2,045 sq ft', '2,220 sq ft', '3,243 sq ft', '2,102 sq ft', '— sq ft', '6,270 sq ft', '9,854 sq ft', '4,558 sq ft', '3,243 sq ft', '2,924 sq ft', '1,317 sq ft', '3,380 sq ft', '4,079 sq ft', '2,900 sq ft', '1,408 sq ft', '1,455 sq ft', '2,360 sq ft', '2,080 sq ft', '1,890 sq ft', '1,282 sq ft', '11,848 sq ft', '2,023 sq ft', '2,589 sq ft', '3,961 sq ft', '1,750 sq ft', '3,957 sq ft', '4,506 sq ft', '2,112 sq ft', '2,756 sq ft', '5,532 sq ft', '— sq ft', '894 sq ft', '1,673 sq ft', '1,289 sq ft', '2,822 sq ft', '1,064 sq ft', '2,935 sq ft', '1,478 sq ft', '1,756 sq ft', '2,576 sq ft', '950 sq ft', '2,700 sq ft', '4,677 sq ft', '2,560 sq ft', '1,850 sq ft', '1,430 sq ft', '1,381 sq ft', '4,566 sq ft', '4,457 sq ft', '961 sq ft', '2,255 sq ft', '8,991 sq ft', '1,716 sq ft', '4,661 sq ft', '1,300 sq ft', '1,054 sq ft', '1,970 sq ft', '1,120 sq ft', '1,300 sq ft', '3,914 sq ft', '1,573 sq ft', '1,000 sq ft', '1,408 sq ft', '2,089 sq ft', '3,212 sq ft', '5,000 sq ft', '2,791 sq ft', '2,506 sq ft', '1,672 sq ft', '1,000 sq ft', '2,691 sq ft', '3,783 sq ft', '1,600 sq ft', '2,304 sq ft', '1,125 sq ft', '1,032 sq ft', '1,824 sq ft', '2,165 sq ft', '2,301 sq ft', '834 sq ft', '3,396 sq ft', '2,000 sq ft', '7,535 sq ft', '2,032 sq ft', '7,228 sq ft', '5,391 sq ft', '1,086 sq ft', '1,798 sq ft', '1,768 sq ft', '1,300 sq ft', '1,420 sq ft', '2,833 sq ft', '8,325 sq ft', '1,516 sq ft', '1,360 sq ft', '1,200 sq ft', '1,718 sq ft', '2,780 sq ft', '1,040 sq ft', '1,084 sq ft', '5,800 sq ft', '2,167 sq ft', '2,077 sq ft', '2,743 sq ft', '1,928 sq ft', '1,550 sq ft']\n"
     ]
    }
   ],
   "source": [
    "print(len(area_atlanta),area_atlanta)"
   ]
  },
  {
   "cell_type": "code",
   "execution_count": 15,
   "id": "90252ae5",
   "metadata": {},
   "outputs": [
    {
     "name": "stdout",
     "output_type": "stream",
     "text": [
      "240 ['1797 S Olympian Way SW, Atlanta, GA 30310', '267 Monument Ave SE, Atlanta, GA 30316', '83 Richmond St SE, Atlanta, GA 30312', '1930 Brownmill Rd SE, Atlanta, GA 30315', '4906 Brookwood Pl, Atlanta, GA 30349', '3800 Leisure Ln, College Park, GA 30349', '580 Shannon Dr SW, Atlanta, GA 30310', '978 Beckwith St SW, Atlanta, GA 30314', '439 Blackland Rd NW, Atlanta, GA 30342', '665 Windsor St SW, Atlanta, GA 30310', '2050 Silvastone Dr NE, Atlanta, GA 30345', '41 Carlton Dr NE, Atlanta, GA 30342', '2886 Alexandria Dr SW, Atlanta, GA 30331', '5995 Riverside Dr, Atlanta, GA 30328', '87 Flora Ave NE, Atlanta, GA 30307', '202 Cleveland St SE, Atlanta, GA 30316', '34 Peachtree Cir NE, Atlanta, GA 30309', '510 Winton Ter NE, Atlanta, GA 30308', '1540 Berkeley Ln NE, Atlanta, GA 30329', '185 Marsh Glen Pt, Sandy Springs, GA 30328', '15 Gardenia Dr NW, Atlanta, GA 30314', '2517 Baxter Rd SW, Atlanta, GA 30315', '2693 Ellwood Dr NE, Atlanta, GA 30305', '2068 Hatteras Way NW, Atlanta, GA 30318', '2490 Woodward Way NW, Atlanta, GA 30305', '514 Broadview Ln NE, Atlanta, GA 30324', '1213 Milton Ter SE, Atlanta, GA 30315', '3775 Jailette Rd, College Park, GA 30349', '796 Kirkwood Ave SE, Atlanta, GA 30316', '2053 Sandtown Rd SW, Atlanta, GA 30311', '562 Abbott Ct, Atlanta, GA 30354', '4903 Wewatta St, Atlanta, GA 30331', '562 Abbott Ct SE Lot 21, Atlanta, GA 30354', '1563 Westwood Ave SW, Atlanta, GA 30310', '4 W Wesley Rdg NW, Atlanta, GA 30327', '2015 Gainsborough Dr, Atlanta, GA 30341', '2348 Venetian Dr SW, Atlanta, GA 30311', '1464 Wessyngton Rd NE, Atlanta, GA 30306', '536 Moreland Ave NE, Atlanta, GA 30307', '697 Eustace St SE, Atlanta, GA 30315', '2936 Glenwood Ave SE, Atlanta, GA 30317', '834 Woods Dr NW, Atlanta, GA 30318', '2740 Dearwood Dr SW, Atlanta, GA 30315', '730 Darlington Cir NE, Atlanta, GA 30305', '920 Roberts Landing Cv, Atlanta, GA 30350', '129 Arcadia Cir NW, Atlanta, GA 30314', '1165 Empire Rd NE, Atlanta, GA 30329', '1655 Evans Dr SW, Atlanta, GA 30310', '1110 Oak Knoll Ter SE, Atlanta, GA 30315', '111 Lenore St, Decatur, GA 30030', '235 The Prado, Atlanta, GA 30309', '1939 Kilburn Dr NE, Atlanta, GA 30324', '1319 Beecher St SW, Atlanta, GA 30310', '854 Regal Ln, Atlanta, GA 30331', '1346 Cartecay Dr NE, Brookhaven, GA 30319', '331 Simca St, Atlanta, GA 30354', '1432 Fairmont Ave, Atlanta, GA 30318', '3342 Cascade Parc Blvd SW, Atlanta, GA 30311', '4374 Minkslide Dr SW, Atlanta, GA 30331', '917 Rose Cir SW, Atlanta, GA 30310', '2050 Blayton Cir NW, Atlanta, GA 30314', '977 Fleetwood Cir, Atlanta, GA 30311', '2448 Kings Arms Dr NE, Atlanta, GA 30345', '8930 Huntcliff Lake Ct, Atlanta, GA 30350', '980 Fenimore Cir, Sandy Springs, GA 30350', '56 Vinson Dr SE, Atlanta, GA 30317', '1605 E Sussex Rd NE, Atlanta, GA 30306', '2615 Ashley Downs Ln, College Park, GA 30349', '2675 Sugar Mill Dr SE, Atlanta, GA 30316', '1008 Lindridge Dr NE, Atlanta, GA 30324', '1230 NE Newbridge Trce NE, Brookhaven, GA 30319', '2900 Eleanor Ter NW, Atlanta, GA 30318', '1476 Brawley Cir NE, Brookhaven, GA 30319', '2166 Montrose Ave SW, Atlanta, GA 30311', '1114 Osborne St SW, Atlanta, GA 30310', '1790 Harbin Rd SW, Atlanta, GA 30311', '2326 Hosea L Williams Dr, Atlanta, GA 30317', '858 Haven St SE, Atlanta, GA 30315', '3909 Makeover Ct, Atlanta, GA 30349', '625 Elmwood Dr NE, Atlanta, GA 30306', '155 Gordon Ter SW, Atlanta, GA 30314', '1897 Lakewood Ave SE, Atlanta, GA 30315', '3624 Keswick Dr, Atlanta, GA 30341', '758 Casplan St SW, Atlanta, GA 30310', '1453 Lockwood Dr SW, Atlanta, GA 30311', '37 Clifton St SE, Atlanta, GA 30317', '1200 Merrill Ave SW, Atlanta, GA 30310', '2761 Frontier Trl, Atlanta, GA 30341', '987 Parsons St SW, Atlanta, GA 30314', '3990 Demooney Rd, Atlanta, GA 30349', '1095 Curry Dr, Atlanta, GA 30319', '3023 Park Ln, Atlanta, GA 30341', '490 Rockwell St SW, Atlanta, GA 30310', '1731 Duke Rd, Atlanta, GA 30341', '8935 River Landing Way, Atlanta, GA 30350', '563 Center Hill Ave NW, Atlanta, GA 30318', '667 Church St NW, Atlanta, GA 30318', '6694 Overlook Rdg, South Fulton, GA 30349', '2519 Thompson Rd NE, Brookhaven, GA 30319', '5598 Sherrell Dr, Atlanta, GA 30342', '1120 Reeder Cir NE, Atlanta, GA 30306', '306 Atwood St SW, Atlanta, GA 30310', '953 Grant St SE, Atlanta, GA 30315', '2362 Cloverdale Dr SE, Atlanta, GA 30316', '3834 Fox Glen Ct NE, Brookhaven, GA 30319', '685 Tanglewood Trl, Atlanta, GA 30327', '1120 Heards Ferry Rd, Sandy Springs, GA 30328', '1928 Apache Trl SE, Atlanta, GA 30316', '1901 Windsor Dr SW, Atlanta, GA 30311', '1302 N Decatur Rd NE, Atlanta, GA 30306', '5285 Mount Vernon Pkwy, Sandy Springs, GA 30327', '6414 Sage St, Atlanta, GA 30340', '280 Lawrence Pl, Atlanta, GA 30349', '967 Blue Ridge Ave NE, Atlanta, GA 30306', '5725 Cameron Hall Pl, Atlanta, GA 30328', '1606 May Ave SE, Atlanta, GA 30316', '82 Clay St SE, Atlanta, GA 30317', '909 Courtenay Dr NE, Atlanta, GA 30306', '1107 E Beechwood Dr NW, Atlanta, GA 30327', '1624 Dresden Dr NE, Brookhaven, GA 30319', '3029 Ranch Rd SE, Atlanta, GA 30339', '1014 Hill St, Atlanta, GA 30315', '1857 Braeburn Cir, Atlanta, GA 30316', '792 Plainville Cir SW, Atlanta, GA 30331', '1182 Merrill Ave SW, Atlanta, GA 30310', '1631 Johnson Rd NE, Atlanta, GA 30306', '3017 Melrose Ave, Atlanta, GA 30316', '3985 W Stubbs Rd, Atlanta, GA 30349', '2642 Patrick Ct SE, Atlanta, GA 30317', '1145 Hardee St NE, Atlanta, GA 30307', '1573 Isleworth Cir, Atlanta, GA 30349', '721 Woodland Ave SE, Atlanta, GA 30316', '5300 Binford Pl SW, Atlanta, GA 30331', '451 E Pharr Rd, Decatur, GA 30030', '6600 Bridgewood Valley Rd, Atlanta, GA 30328', '79 Kenyon St SE, Atlanta, GA 30316', '912 Martin St NW, Atlanta, GA 30318', '2914 Rockingham Dr NW, Atlanta, GA 30327', '2373 Virginia Pl NE, Atlanta, GA 30305', '925 Ponce de Leon Pl NE, Atlanta, GA 30306', '490 Mt Paran Rd NW, Atlanta, GA 30327', '335 River Knoll Dr, Atlanta, GA 30328', '912 Martin St SE, Atlanta, GA 30318', '1756 Ellen St NW, Atlanta, GA 30318', '2106 Cloverdale Dr SE, Atlanta, GA 30316', '8405 Valemont Dr, Atlanta, GA 30350', '4019 Briarcliff Rd NE, Atlanta, GA 30345', '620 Ira St SW, Atlanta, GA 30312', '335 Winding River Unit K Dr, Sandy Springs, GA 30350', '512 Langhorn St SW, Atlanta, GA 30310', '307 Ashburton Ave, Atlanta, GA 30317', '974 Connally St SE, Atlanta, GA 30315', '1382 Westboro Dr SW, Atlanta, GA 30310', '997 Rice St NW, Atlanta, GA 30318', '5655 Cross Gate Dr, Atlanta, GA 30327', '1102 Donnelly Ave SW, Atlanta, GA 30310', '4655 Brook Hollow Dr NW, Atlanta, GA 30327', '5101 Barrington Trace Dr, Atlanta, GA 30331', '577 Center Hl, Atlanta, GA 30318', '7010 Hunters Knl, Atlanta, GA 30328', '601 E Paces Ferry Rd NE, Atlanta, GA 30305', '4152 Woodland Park Dr, Atlanta, GA 30331', '368 Brentwood Dr NE, Atlanta, GA 30305', '1007 Battle Creek Way, Atlanta, GA 30327', '1124 Knott St, Atlanta, GA 30316', '1577 Braeburn Dr SE, Atlanta, GA 30316', '731 Hobart Ave SE, Atlanta, GA 30312', '217 W Simon Ter, Atlanta, GA 30318', '3691 Bills Cir, Atlanta, GA 30331', '1167 Westview Dr, Atlanta, GA 30310', '678 Gordon Pl SW, Atlanta, GA 30310', '3480 Creighton Rd SW, Atlanta, GA 30331', '901 Highland Ter NE, Atlanta, GA 30306', '3230 Linden Garden Dr, Atlanta, GA 30349', '1417 Elizabeth Ave SW, Atlanta, GA 30310', '154 Cromwell Rd, Sandy Springs, GA 30328', '536 Manor Ridge Dr NW, Atlanta, GA 30305', '1112 Delaware Ave SE, Atlanta, GA 30316', '623 Montevista St SW, Atlanta, GA 30310', '1815 Arkose Dr, Atlanta, GA 30316', '960 Lindridge Dr NE, Atlanta, GA 30324', '747 Myrtle St NE, Atlanta, GA 30308', '3073 Ladovie Pl NE, Atlanta, GA 30345', '954 Bouldercrest Dr SE, Atlanta, GA 30316', '2196 Willow Ave NE, Atlanta, GA 30305', '1951 Carlotta Ct, Atlanta, GA 30345', '1247 Avon Ave SW, Atlanta, GA 30310', '545 Glengate Cv, Atlanta, GA 30328', '1142 West Ave, Atlanta, GA 30315', '1575 Pontiac Pl SE, Atlanta, GA 30315', '2227 Belvedere Ave SW, Atlanta, GA 30311', '1454 Westridge Rd SW, Atlanta, GA 30311', '2254 Polar Rock Ave SW, Atlanta, GA 30315', '7825 Highland Blf, Atlanta, GA 30328', '690 Mcdonough Blvd SE, Atlanta, GA 30315', '2182 Brannen Rd SE, Atlanta, GA 30316', '2685 Drew Valley Rd NE, Brookhaven, GA 30319', '1595 Mary George Ave NW, Atlanta, GA 30318', '5682 Eternal Dr, Atlanta, GA 30349', '819 Glendale Ter NE, Atlanta, GA 30308', '4947 Wewatta St SW, South Fulton, GA 30331', '1434 Fairmont Ave, Atlanta, GA 30318', '1833 Penelope Rd NW, Atlanta, GA 30314', '3491 Fairburn Pl NW, Atlanta, GA 30331', '3225 Thicket Ln, Atlanta, GA 30349', '251 W Paces Ferry Rd NW, Atlanta, GA 30305', '2228 Spink St NW, Atlanta, GA 30318', '2269 Cottage Grove Ave SE, Atlanta, GA 30317', '163 Glenrose Cir SW, Atlanta, GA 30354', '246 Whitworth Dr SW, Atlanta, GA 30331', '964 Fern Ave SE, Atlanta, GA 30315', '2695 Townley Cir, Doraville, GA 30340', '385 Cherokee Ave SE, Atlanta, GA 30312', '109 Parsons Pl SW, Atlanta, GA 30314', '2351 Loraine St, Brookhaven, GA 30319', '1278 Westmont Rd, Atlanta, GA 30311', '4840 Northway Dr, Sandy Springs, GA 30342', '2166 Honeysuckle Ln SW, Atlanta, GA 30311', '825 Kenry Ct, Atlanta, GA 30342', '3637 Lake Estates Way, Atlanta, GA 30349', '2825 3rd Ave SW, Atlanta, GA 30315', '504 W Pharr Rd, Decatur, GA 30030', '1110 Larosa Ter SW, Atlanta, GA 30310', '326 Holderness St SW, Atlanta, GA 30310', '2536 Linda Ln SE, Atlanta, GA 30315', '790 Martina Dr NE, Atlanta, GA 30305', '606 Loridans Dr NE, Atlanta, GA 30342', '2 Gertrude Pl NW, Atlanta, GA 30318', '665 Lexington Ave SW, Atlanta, GA 30310', '2260 Baywood Dr SE, Atlanta, GA 30315', '1763 Ridgeway Ave NW, Atlanta, GA 30318', '862 Gaston St SW, Atlanta, GA 30310', '706 Quaker St, Atlanta, GA 30315', '226 Silver Springs Cir SW, Atlanta, GA 30310', '933 Altamira Ln, Sandy Springs, GA 30350', '240 Abington Dr, Atlanta, GA 30328', '648 Liella Park SE, Atlanta, GA 30312', '668 Liella Park SE, Atlanta, GA 30312', '4090 Welcome All Ter, South Fulton, GA 30349', '935 Forrest Dr, Atlanta, GA 30354']\n"
     ]
    }
   ],
   "source": [
    "print(len(address_atlanta),address_atlanta)"
   ]
  },
  {
   "cell_type": "code",
   "execution_count": 17,
   "id": "a1ee6f9b",
   "metadata": {},
   "outputs": [
    {
     "name": "stdout",
     "output_type": "stream",
     "text": [
      "240 ['house', 'house', 'house', 'house', 'house', 'house', 'house', 'house', 'house', 'house', 'house', 'house', 'house', 'house', 'house', 'house', 'house', 'house', 'house', 'house', 'house', 'house', 'house', 'house', 'house', 'house', 'house', 'house', 'house', 'house', 'house', 'house', 'house', 'house', 'house', 'house', 'house', 'house', 'house', 'house', 'house', 'house', 'house', 'house', 'house', 'house', 'house', 'house', 'house', 'house', 'house', 'house', 'house', 'house', 'house', 'house', 'house', 'house', 'house', 'house', 'house', 'house', 'house', 'house', 'house', 'house', 'house', 'house', 'house', 'house', 'house', 'house', 'house', 'house', 'house', 'house', 'house', 'house', 'house', 'house', 'house', 'house', 'house', 'house', 'house', 'house', 'house', 'house', 'house', 'house', 'house', 'house', 'house', 'house', 'house', 'house', 'house', 'house', 'house', 'house', 'house', 'house', 'house', 'house', 'house', 'house', 'house', 'house', 'house', 'house', 'house', 'house', 'house', 'house', 'house', 'house', 'house', 'house', 'house', 'house', 'house', 'house', 'house', 'house', 'house', 'house', 'house', 'house', 'house', 'house', 'house', 'house', 'house', 'house', 'house', 'house', 'house', 'house', 'house', 'house', 'house', 'house', 'house', 'house', 'house', 'house', 'house', 'house', 'house', 'house', 'house', 'house', 'house', 'house', 'house', 'house', 'house', 'house', 'house', 'house', 'house', 'house', 'house', 'house', 'house', 'house', 'house', 'house', 'house', 'house', 'house', 'house', 'house', 'house', 'house', 'house', 'house', 'house', 'house', 'house', 'house', 'house', 'house', 'house', 'house', 'house', 'house', 'house', 'house', 'house', 'house', 'house', 'house', 'house', 'house', 'house', 'house', 'house', 'house', 'house', 'house', 'house', 'house', 'house', 'house', 'house', 'house', 'house', 'house', 'house', 'house', 'house', 'house', 'house', 'house', 'house', 'house', 'house', 'house', 'house', 'house', 'house', 'house', 'house', 'house', 'house', 'house', 'house', 'house', 'house', 'house', 'house', 'house', 'house', 'house', 'house', 'house', 'house', 'house', 'house']\n"
     ]
    }
   ],
   "source": [
    "# setting the type to house as we have already filtered them by condo\n",
    "\n",
    "type_atlanta = [\"house\"]*240\n",
    "\n",
    "print(len(type_atlanta),type_atlanta)"
   ]
  },
  {
   "cell_type": "markdown",
   "id": "a6b7da52",
   "metadata": {},
   "source": [
    "### for location = Brooklyn"
   ]
  },
  {
   "cell_type": "code",
   "execution_count": 18,
   "id": "72245ab6",
   "metadata": {},
   "outputs": [],
   "source": [
    "# going back to the homepage\n",
    "\n",
    "home_button = driver.find_element(By.XPATH, '/html/body/div[1]/div[2]/div/div/header[2]/div[1]/div[1]/div')\n",
    "\n",
    "home_button.click()"
   ]
  },
  {
   "cell_type": "code",
   "execution_count": 19,
   "id": "a23bd5de",
   "metadata": {},
   "outputs": [],
   "source": [
    "# entering location = \"Brooklyn\" in the search field\n",
    "\n",
    "time.sleep(2)\n",
    "designation = driver.find_element(By.XPATH, '/html/body/div[1]/div[6]/div[2]/div/section/div/div/div/div/div/div/div/div[2]/div/div/form/div/div/input')\n",
    "designation.send_keys(\"Brooklyn\")\n",
    "\n",
    "\n",
    "# Clicking the search button\n",
    "\n",
    "search = driver.find_element(By.XPATH, '/html/body/div[1]/div[6]/div[2]/div/section/div/div/div/div/div/div/div/div[2]/div/div/form/div/button')\n",
    "time.sleep(1)\n",
    "search.click()"
   ]
  },
  {
   "cell_type": "code",
   "execution_count": 20,
   "id": "f6544925",
   "metadata": {},
   "outputs": [],
   "source": [
    "#selecting \"Condo\" as Home Type in filters\n",
    "\n",
    "home_type_button = driver.find_element(By.XPATH, '/html/body/div[1]/div[8]/div[1]/div[2]/div[1]/div[2]/div/div/div/div[1]/form/div[4]/div')\n",
    "home_type_button.click()\n",
    "\n",
    "\n",
    "#clikcing on condo option\n",
    "\n",
    "condo_button = driver.find_element(By.XPATH, '/html/body/div[1]/div[8]/div[1]/div[2]/div[1]/div[2]/div/div/div/div[1]/form/div[4]/div/div[2]/div/div[1]/div[2]/div/div[3]')\n",
    "time.sleep(1)\n",
    "condo_button.click()"
   ]
  },
  {
   "cell_type": "code",
   "execution_count": 21,
   "id": "c745180a",
   "metadata": {},
   "outputs": [],
   "source": [
    "#scrapping data\n",
    "\n",
    "price_brooklyn = []\n",
    "bed_brooklyn = []\n",
    "bath_brooklyn = []\n",
    "area_brooklyn = []\n",
    "address_brooklyn = []\n",
    "\n",
    "\n",
    "start = 0\n",
    "end = 6\n",
    "\n",
    "\n",
    "for page in range(start, end):\n",
    "    \n",
    "        #scrapping prices\n",
    "    prices = driver.find_elements(By.CLASS_NAME, \"bp-Homecard__Price--value\")\n",
    "    for i in prices:\n",
    "        price_brooklyn.append(i.text)\n",
    "     \n",
    "    \n",
    "        #scrapping no of beds\n",
    "    beds = driver.find_elements(By.CLASS_NAME, 'bp-Homecard__Stats--beds')\n",
    "    for i in beds:\n",
    "        bed_brooklyn.append(i.text)\n",
    "     \n",
    "    \n",
    "        #scrapping no of bathrooms\n",
    "    baths = driver.find_elements(By.CLASS_NAME, 'bp-Homecard__Stats--baths')\n",
    "    for i in baths:\n",
    "        bath_brooklyn.append(i.text)\n",
    "        \n",
    "    \n",
    "        #scrapping area\n",
    "    areas = driver.find_elements(By.CLASS_NAME, \"bp-Homecard__Stats--sqft\")\n",
    "    for i in areas:\n",
    "        area_brooklyn.append(i.text)\n",
    "        \n",
    "        \n",
    "        #scrapping address\n",
    "    addresses = driver.find_elements(By.CLASS_NAME, \"bp-Homecard__Address\")\n",
    "    for i in addresses:\n",
    "        address_brooklyn.append(i.text)\n",
    "     \n",
    "    \n",
    "    \n",
    "    next_button = driver.find_element(By.XPATH, '/html/body/div[1]/div[8]/div[1]/div[2]/div[1]/div[5]/div/div[3]/button[2]')\n",
    "    time.sleep(1)\n",
    "    next_button.click()\n",
    "    time.sleep(2)"
   ]
  },
  {
   "cell_type": "code",
   "execution_count": 22,
   "id": "024aba1c",
   "metadata": {},
   "outputs": [
    {
     "name": "stdout",
     "output_type": "stream",
     "text": [
      "240 ['$809,000', '$998,000', '$670,000', '$335,000', '$849,900', '$520,000', '$299,000', '$799,000', '$1,429,000', '$1,099,000', '$785,000', '$495,000', '$749,000', '$819,000', '$4,300,000', '$569,000', '$899,000', '$899,900', '$250,000', '$499,000', '$649,999', '$675,000', '$699,900', '$899,000', '$899,000', '$568,000', '$739,000', '$520,000', '$209,000', '$1,250,000', '$728,000', '$375,000', '$680,000', '$448,000', '$768,000', '$848,888', '$630,000', '$500,000', '$529,000', '$375,000', '$525,000', '$525,000', '$399,000', '$789,000', '$650,000', '$1,250,000', '$849,000', '$318,000', '$528,888', '$399,000', '$539,000', '$649,000', '$819,000', '$789,000', '$525,000', '$1,200,000', '$678,000', '$715,000', '$1,679,000', '$329,000', '$518,000', '$565,000', '$599,000', '$639,000', '$699,000', '$648,000', '$609,000', '$517,590', '$699,000', '$1,480,000', '$575,000', '$1,099,999', '$485,000', '$638,000', '$520,000', '$1,875,000', '$599,000', '$325,000', '$1,275,000', '$659,000', '$1,198,000', '$879,000', '$460,000', '$1,295,000', '$2,280,000', '$679,000', '$999,000', '$678,000', '$635,900', '$938,400', '$599,000', '$259,000', '$458,000', '$2,529,000', '$1,727,000', '$2,599,000', '$359,000', '$1,380,000', '$880,000', '$599,000', '$630,000', '$210,000', '$1,149,000', '$988,000', '$799,000', '$599,900', '$598,000', '$699,000', '$649,000', '$649,000', '$788,888', '$599,000', '$699,000', '$828,000', '$359,000', '$798,800', '$585,000', '$310,000', '$498,000', '$1,395,000', '$279,000', '$519,000', '$768,000', '$698,000', '$585,000', '$895,000', '$1,020,000', '$550,000', '$299,155', '$638,000', '$1,399,000', '$2,349,000', '$1,038,000', '$549,000', '$780,000', '$565,000', '$265,000', '$1,358,888', '$848,000', '$1,199,000', '$659,000', '$638,000', '$575,000', '$1,049,000', '$1,188,000', '$699,000', '$389,000', '$688,888', '$565,000', '$485,000', '$479,999', '$499,000', '$999,000', '$689,000', '$449,000', '$759,000', '$680,000', '$475,000', '$685,000', '$429,900', '$340,000', '$699,000', '$599,000', '$890,000', '$895,000', '$560,000', '$429,000', '$2,695,000', '$438,000', '$1,050,000', '$2,749,000', '$739,000', '$600,000', '$795,000', '$688,000', '$599,000', '$1,050,000', '$599,999', '$699,000', '$565,000', '$700,000', '$799,000', '$899,000', '$879,000', '$938,000', '$988,000', '$565,000', '$749,000', '$569,900', '$719,000', '$909,000', '$635,000', '$735,000', '$799,000', '$439,000', '$999,000', '$970,000', '$668,000', '$1,030,000', '$1,039,000', '$1,599,000', '$720,000', '$598,000', '$865,000', '$1,899,999', '$950,000', '$740,000', '$775,000', '$595,000', '$488,888', '$799,000', '$649,000', '$739,000', '$709,000', '$839,999', '$599,999', '$999,000', '$589,900', '$1,499,000', '$650,000', '$939,000', '$795,000', '$799,000', '$8,695,000', '$899,000', '$999,000', '$756,820', '$756,820', '$668,000', '$299,000', '$787,630', '$530,000', '$438,000', '$499,800', '$299,900', '$699,000', '$740,000', '$359,000', '$688,000', '$645,000']\n"
     ]
    }
   ],
   "source": [
    "print(len(price_brooklyn),price_brooklyn)"
   ]
  },
  {
   "cell_type": "code",
   "execution_count": 23,
   "id": "cecb016c",
   "metadata": {},
   "outputs": [
    {
     "name": "stdout",
     "output_type": "stream",
     "text": [
      "240 ['3 beds', '3 beds', '2 beds', '1 bed', '2 beds', '3 beds', '2 beds', '3 beds', '1 bed', '3 beds', '2 beds', '1 bed', '2 beds', '2 beds', '5 beds', '1 bed', '3 beds', '1 bed', '0 beds', '2 beds', '2 beds', '2 beds', '1 bed', '3 beds', '3 beds', '3 beds', '1 bed', '2 beds', '0 beds', '2 beds', '2 beds', '1 bed', '2 beds', '2 beds', '2 beds', '2 beds', '1 bed', '1 bed', '2 beds', '2 beds', '2 beds', '0 beds', '3 beds', '3 beds', '2 beds', '2 beds', '0 beds', '1 bed', '1 bed', '1 bed', '2 beds', '2 beds', '2 beds', '1 bed', '2 beds', '2 beds', '2 beds', '2 beds', '3 beds', '1 bed', '1 bed', '1 bed', '2 beds', '2 beds', '2 beds', '1 bed', '3 beds', '1 bed', '2 beds', '2 beds', '1 bed', '1 bed', '1 bed', '2 beds', '1 bed', '2 beds', '1 bed', '2 beds', '2 beds', '2 beds', '3 beds', '2 beds', '1 bed', '2 beds', '2 beds', '2 beds', '3 beds', '2 beds', '2 beds', '2 beds', '2 beds', '1 bed', '1 bed', '3 beds', '2 beds', '3 beds', '2 beds', '3 beds', '2 beds', '2 beds', '2 beds', '2 beds', '3 beds', '2 beds', '2 beds', '1 bed', '2 beds', '2 beds', '2 beds', '2 beds', '3 beds', '2 beds', '2 beds', '2 beds', '2 beds', '2 beds', '1 bed', '1 bed', '1 bed', '2 beds', '1 bed', '1 bed', '1 bed', '1 bed', '1 bed', '3 beds', '3 beds', '1 bed', '2 beds', '2 beds', '2 beds', '3 beds', '2 beds', '0 beds', '2 beds', '1 bed', '0 beds', '2 beds', '3 beds', '2 beds', '1 bed', '2 beds', '1 bed', '2 beds', '2 beds', '2 beds', '2 beds', '2 beds', '2 beds', '1 bed', '0 beds', '2 beds', '3 beds', '2 beds', '1 bed', '2 beds', '2 beds', '1 bed', '2 beds', '1 bed', '1 bed', '2 beds', '2 beds', '3 beds', '3 beds', '2 beds', '2 beds', '2 beds', '1 bed', '2 beds', '3 beds', '2 beds', '2 beds', '3 beds', '2 beds', '1 bed', '2 beds', '3 beds', '2 beds', '1 bed', '2 beds', '2 beds', '2 beds', '3 beds', '3 beds', '2 beds', '1 bed', '3 beds', '2 beds', '2 beds', '1 bed', '2 beds', '1 bed', '1 bed', '2 beds', '3 beds', '2 beds', '2 beds', '2 beds', '2 beds', '3 beds', '2 beds', '3 beds', '3 beds', '2 beds', '2 beds', '1 bed', '3 beds', '2 beds', '1 bed', '2 beds', '3 beds', '2 beds', '0 beds', '3 beds', '2 beds', '3 beds', '2 beds', '3 beds', '2 beds', '3 beds', '3 beds', '2 beds', '3 beds', '0 beds', '1 bed', '3 beds', '3 beds', '3 beds', '1 bed', '2 beds', '1 bed', '2 beds', '1 bed', '0 beds', '3 beds', '3 beds', '2 beds', '2 beds', '2 beds']\n"
     ]
    }
   ],
   "source": [
    "print(len(bed_brooklyn),bed_brooklyn)"
   ]
  },
  {
   "cell_type": "code",
   "execution_count": 24,
   "id": "3b4d9b56",
   "metadata": {},
   "outputs": [
    {
     "name": "stdout",
     "output_type": "stream",
     "text": [
      "240 ['2 baths', '2 baths', '1 bath', '1 bath', '2 baths', '1.5 baths', '1 bath', '3 baths', '1 bath', '2 baths', '1 bath', '1 bath', '2 baths', '2 baths', '3 baths', '1 bath', '1 bath', '1 bath', '1 bath', '1 bath', '2 baths', '2 baths', '1 bath', '2 baths', '2 baths', '3 baths', '2 baths', '1 bath', '1 bath', '2 baths', '2 baths', '1 bath', '2 baths', '1 bath', '2 baths', '2 baths', '1 bath', '1 bath', '2 baths', '1 bath', '1 bath', '2 baths', '2 baths', '1.5 baths', '1 bath', '2 baths', '1 bath', '1 bath', '1 bath', '1 bath', '1.5 baths', '1 bath', '1 bath', '1 bath', '2.5 baths', '2 baths', '2 baths', '2 baths', '3 baths', '1 bath', '1 bath', '1 bath', '1.5 baths', '2 baths', '2.5 baths', '1 bath', '2 baths', '1 bath', '1 bath', '2 baths', '1 bath', '1 bath', '1 bath', '2 baths', '1 bath', '2 baths', '1 bath', '2 baths', '3 baths', '1 bath', '2 baths', '2 baths', '1 bath', '1.5 baths', '2.5 baths', '2 baths', '2 baths', '2 baths', '2.5 baths', '2 baths', '1.5 baths', '1 bath', '1 bath', '3 baths', '2 baths', '3 baths', '1 bath', '2 baths', '2 baths', '1 bath', '2.5 baths', '1 bath', '2 baths', '2 baths', '2 baths', '1 bath', '1 bath', '2 baths', '2 baths', '2 baths', '2 baths', '2 baths', '2 baths', '1 bath', '2 baths', '2 baths', '1 bath', '1 bath', '1 bath', '3 baths', '1 bath', '1 bath', '2 baths', '2 baths', '1 bath', '1.5 baths', '2 baths', '1 bath', '1 bath', '1.5 baths', '2 baths', '3 baths', '2 baths', '1 bath', '2 baths', '1 bath', '1 bath', '2 baths', '2 baths', '1 bath', '2 baths', '2 baths', '1 bath', '2 baths', '2 baths', '2 baths', '1 bath', '2 baths', '2 baths', '1 bath', '1 bath', '1 bath', '2 baths', '2 baths', '1 bath', '1.5 baths', '2 baths', '1 bath', '2 baths', '1 bath', '1 bath', '1.5 baths', '2 baths', '3 baths', '2.5 baths', '2 baths', '1 bath', '2 baths', '1 bath', '2 baths', '3.5 baths', '2 baths', '2 baths', '3 baths', '2 baths', '1 bath', '1.5 baths', '2 baths', '2 baths', '1 bath', '1 bath', '1 bath', '2 baths', '1.5 baths', '1.5 baths', '2 baths', '1 bath', '2 baths', '2 baths', '2 baths', '1 bath', '1 bath', '1 bath', '1 bath', '1.5 baths', '2 baths', '2 baths', '2 baths', '2 baths', '2 baths', '2 baths', '2 baths', '1 bath', '2 baths', '2 baths', '2 baths', '1 bath', '2.5 baths', '2 baths', '1 bath', '2 baths', '2 baths', '2 baths', '1 bath', '2 baths', '1 bath', '2 baths', '2 baths', '3 baths', '2 baths', '2 baths', '2 baths', '2 baths', '3.5 baths', '1.5 baths', '1.5 baths', '2 baths', '2 baths', '2 baths', '1 bath', '2 baths', '1 bath', '1 bath', '1 bath', '0.5 baths', '2 baths', '2 baths', '1 bath', '2 baths', '1 bath']\n"
     ]
    }
   ],
   "source": [
    "print(len(bath_brooklyn),bath_brooklyn)"
   ]
  },
  {
   "cell_type": "code",
   "execution_count": 25,
   "id": "bc926afa",
   "metadata": {},
   "outputs": [
    {
     "name": "stdout",
     "output_type": "stream",
     "text": [
      "240 ['1,124 sq ft', '1,300 sq ft', '805 sq ft', '643 sq ft', '1,214 sq ft', '— sq ft', '864 sq ft', '1,700 sq ft', '880 sq ft', '1,230 sq ft', '998 sq ft', '943 sq ft', '1,102 sq ft', '820 sq ft', '4,200 sq ft', '739 sq ft', '1,238 sq ft', '713 sq ft', '382 sq ft', '893 sq ft', '1,051 sq ft', '1,042 sq ft', '601 sq ft', '1,202 sq ft', '1,202 sq ft', '1,530 sq ft', '838 sq ft', '560 sq ft', '349 sq ft', '1,243 sq ft', '802 sq ft', '500 sq ft', '804 sq ft', '842 sq ft', '827 sq ft', '1,200 sq ft', '589 sq ft', '713 sq ft', '— sq ft', '896 sq ft', '— sq ft', '1,561 sq ft', '988 sq ft', '1,165 sq ft', '640 sq ft', '895 sq ft', '843 sq ft', '— sq ft', '610 sq ft', '705 sq ft', '1,400 sq ft', '— sq ft', '900 sq ft', '726 sq ft', '1,858 sq ft', '1,216 sq ft', '1,087 sq ft', '1,002 sq ft', '1,680 sq ft', '622 sq ft', '601 sq ft', '533 sq ft', '1,127 sq ft', '1,069 sq ft', '1,046 sq ft', '3,200 sq ft', '1,188 sq ft', '486 sq ft', '753 sq ft', '— sq ft', '693 sq ft', '— sq ft', '707 sq ft', '1,026 sq ft', '824 sq ft', '1,240 sq ft', '734 sq ft', '969 sq ft', '1,400 sq ft', '772 sq ft', '2,106 sq ft', '1,069 sq ft', '464 sq ft', '1,374 sq ft', '1,481 sq ft', '897 sq ft', '1,456 sq ft', '1,142 sq ft', '1,164 sq ft', '1,255 sq ft', '768 sq ft', '600 sq ft', '575 sq ft', '1,809 sq ft', '1,235 sq ft', '2,600 sq ft', '896 sq ft', '1,400 sq ft', '1,095 sq ft', '900 sq ft', '1,164 sq ft', '463 sq ft', '1,600 sq ft', '1,180 sq ft', '1,121 sq ft', '631 sq ft', '699 sq ft', '850 sq ft', '1,057 sq ft', '1,057 sq ft', '1,376 sq ft', '1,000 sq ft', '1,054 sq ft', '856 sq ft', '1,017 sq ft', '859 sq ft', '653 sq ft', '643 sq ft', '600 sq ft', '1,713 sq ft', '— sq ft', '602 sq ft', '963 sq ft', '828 sq ft', '650 sq ft', '— sq ft', '1,149 sq ft', '580 sq ft', '— sq ft', '1,128 sq ft', '1,050 sq ft', '2,202 sq ft', '1,046 sq ft', '668 sq ft', '841 sq ft', '602 sq ft', '429 sq ft', '1,030 sq ft', '1,235 sq ft', '802 sq ft', '1,150 sq ft', '1,135 sq ft', '653 sq ft', '1,145 sq ft', '1,100 sq ft', '970 sq ft', '919 sq ft', '933 sq ft', '811 sq ft', '646 sq ft', '625 sq ft', '809 sq ft', '1,149 sq ft', '1,000 sq ft', '698 sq ft', '1,254 sq ft', '1,037 sq ft', '— sq ft', '925 sq ft', '621 sq ft', '836 sq ft', '1,019 sq ft', '889 sq ft', '— sq ft', '1,079 sq ft', '910 sq ft', '869 sq ft', '1,927 sq ft', '477 sq ft', '1,180 sq ft', '1,751 sq ft', '1,150 sq ft', '1,000 sq ft', '1,805 sq ft', '916 sq ft', '615 sq ft', '1,012 sq ft', '— sq ft', '1,000 sq ft', '852 sq ft', '700 sq ft', '690 sq ft', '980 sq ft', '— sq ft', '1,275 sq ft', '943 sq ft', '585 sq ft', '1,116 sq ft', '1,068 sq ft', '1,271 sq ft', '630 sq ft', '— sq ft', '683 sq ft', '776 sq ft', '— sq ft', '1,191 sq ft', '1,250 sq ft', '889 sq ft', '948 sq ft', '948 sq ft', '1,300 sq ft', '807 sq ft', '977 sq ft', '1,342 sq ft', '1,241 sq ft', '1,181 sq ft', '610 sq ft', '2,700 sq ft', '915 sq ft', '675 sq ft', '853 sq ft', '1,390 sq ft', '1,115 sq ft', '700 sq ft', '1,120 sq ft', '699 sq ft', '1,387 sq ft', '1,060 sq ft', '1,308 sq ft', '973 sq ft', '1,350 sq ft', '1,261 sq ft', '1,068 sq ft', '3,208 sq ft', '603 sq ft', '917 sq ft', '958 sq ft', '958 sq ft', '917 sq ft', '643 sq ft', '997 sq ft', '600 sq ft', '800 sq ft', '560 sq ft', '620 sq ft', '1,070 sq ft', '1,180 sq ft', '920 sq ft', '1,267 sq ft', '678 sq ft']\n"
     ]
    }
   ],
   "source": [
    "print(len(area_brooklyn),area_brooklyn)"
   ]
  },
  {
   "cell_type": "code",
   "execution_count": 26,
   "id": "3e9d0ded",
   "metadata": {},
   "outputs": [
    {
     "name": "stdout",
     "output_type": "stream",
     "text": [
      "240 ['2319 East 13 St Unit 2A, Brooklyn, NY 11229', '2235 84th St Unit 1C, Brooklyn, NY 11214', '873 42nd St Unit 3B, Brooklyn, NY 11232', '12421 Flatlands Ave Unit 1F, East New York, NY 11208', '10 Avenue P Unit 5D, Bensonhurst, NY 11204', '1019 Van Siclen Ave Unit 4D, East New York, NY 11207', '190 Cozine Ave Unit 8E, East New York, NY 11207', '3752 Neptune Ave Unit C1, Brooklyn, NY 11224', '34 N 7th St Unit 2R, Williamsburg, NY 11249', '3415 Guider Ave Unit 3C, Brooklyn, NY 11235', '336 99th St #11, Brooklyn, NY 11209', '601 Surf Ave Unit 11S, Brooklyn, NY 11224', '1689 E 21 St Unit 3A, Brooklyn, NY 11210', '15 W End Ave Unit 3F, Brooklyn, NY 11235', '114 Stockton St Unit 1C, Bed-stuy, NY 11206', '390 Kings Hwy Unit 5D, Brooklyn, NY 11223', '1502 W 1 St Unit 3D, Brooklyn, NY 11223', '110 Livingston St Unit 11J, Brooklyn, NY 11201', '10844 Flatlands 9th St Unit 26A, Brooklyn, NY 11236', '2900 Ocean Ave Unit 4L, Brooklyn, NY 11235', '8895 26th Ave Unit 1A, Brooklyn, NY 11214', '3041 Brighton 2nd St Unit 3B, Brooklyn, NY 11235', '111 Prospect Park SW #8, Kensington, NY 11218', '1138 Ocean Ave Unit 6A, Ditmas Park, NY 11226', '1138 Ocean Ave Unit 6A, Brooklyn, NY 11230', '151-33 78 Street St Unit 2UI, Howard Beach, NY 11414', '1238 63rd St Unit D-241, Brooklyn, NY 11219', '664 51 St Unit 3A, Brooklyn, NY 11220', '12421 Flatlands Ave Unit 2A, Brooklyn, NY 11207', '155 Oceana Dr Unit 4C, Brooklyn, NY 11235', '673 56th St Unit 4A, Brooklyn, NY 11220', '2113 Kings Hwy Unit 2b, Brooklyn, NY 11229', '229 55th St #5, Brooklyn, NY 11220', '1543 W 1 St Unit C10, Brooklyn, NY 11204', '229 55th St Unit 3b, Brooklyn, NY 11220', '225 Avenue W Unit 1C, Brooklyn, NY 11223', '770 Lafayette Ave Unit 2F, Brooklyn, NY 11221', '3016 Brighton 5th St Unit 1A, Brooklyn, NY 11235', '2833 Ocean Pkwy Unit 2B, Brighton Beach, NY 11235', '12205 Flatlands Ave Unit 3H, Brooklyn, NY 11207', '2112 Dorchester Rd Unit 3E, Ditmas Park, NY 11226', '702 Ocean Pkwy Unit 1B, Brooklyn, NY 11230', '548 E 87th St #1, Brooklyn, NY 11236', '601 Surf Ave Unit 18G, Brooklyn, NY 11224', '4016 7th Ave Unit 3F, Brooklyn, NY 11232', '904 Pacific St #403, Crown Heights, NY 11238', '360 Furman St #416, Brooklyn Heights, NY 11201', '10831 Seaview Ave Unit 35B, Canarsie, NY 11236', '1182 Brighton Beach Ave Unit 2d, Brooklyn, NY 11235', '2548 East 27 St #1, Sheepshead Bay, NY 11235', '9524 Schenck St #1, Brooklyn, NY 11236', '836 Jefferson Ave Unit 1B, Bedford-stuyvesant, NY 11221', '100 Oceana Dr W Unit 4J, Brooklyn, NY 11235', '50 Oceana Dr W Unit 7F, Brooklyn, NY 11235', '1039 E 86th St #3, Brooklyn, NY 11236', '45 Oceana Dr Unit 8A, Brooklyn, NY 11235', '4050 Nostrand Ave Unit 1D, Brooklyn, NY 11229', '2131 Ocean Ave Unit 4B, Homecrest, NY 11229', '50 Oceana Dr W Unit 3C, Brooklyn, NY 11235', '380 Cozine Ave Unit 8F, Brooklyn, NY 11207', '871 50th St Unit 2B, Brooklyn, NY 11220', '2805 Ocean Pkwy Unit 2B, Brighton Beach, NY 11235', '231 68th St #102, Brooklyn, NY 11220', '2838 Brighton 3rd St Unit 2C, Brighton Beach, NY 11235', '2801 E 11th St Unit 6A, Brooklyn, NY 11235', '1549 W 3rd St Unit 1A, Brooklyn, NY 11204', '1111 Banner Ave Unit 6B, Brooklyn, NY 11235', '8800 Bay Pkwy Unit 4A, Brooklyn, NY 11214', '8800 Bay Pkwy Unit 3C, Brooklyn, NY 11214', '306 Gold St Unit 16A, Downtown Brooklyn, NY 11201', '8629 Bay Pkwy Unit 5D, Bath Beach, NY 11214', '360 Furman St #1117, Brooklyn Heights, NY 11201', '2350 W 11th St #303, Brooklyn, NY 11223', '2350 W 11th St #203, Brooklyn, NY 11223', '2350 W 11th St #101, Brooklyn, NY 11223', '145 Huntington St Unit 2B, Carroll Gardens, NY 11231', '3144 Emmons Ave #102, Brooklyn, NY 11235', '1086 E 73rd St #75, Brooklyn, NY 11234', '135 Oceana Dr E Unit 4E, Brooklyn, NY 11235', '1325 Herkimer St #201, Brooklyn, NY 11233', '1615 Bergen St #1, Brooklyn, NY 11213', '105 Oceana Dr Unit 3D, Brooklyn, NY 11235', '858 54th St Unit 2C, Brooklyn, NY 11220', '730 Lafayette Ave Unit 1R, Brooklyn, NY 11221', '364 Manhattan Ave Unit 4-G, Brooklyn, NY 11211', '3111 Emmons Ave Unit 3B, Brooklyn, NY 11235', '6511 Fort Hamilton Pkwy Unit 5B, Brooklyn, NY 11219', '8895 26th Ave Unit 2B, Brooklyn, NY 11214', '1529 Royce St Unit 3J, Brooklyn, NY 11234', '3144 Emmons Ave #101, Brooklyn, NY 11235', '52 Brighton 1 Pl #6, Brighton Beach, NY 11235', '1070 E 73rd St #97, Brooklyn, NY 11234', '2533 Ocean Ave Unit 3A, Brooklyn, NY 11229', '282 17th St #3, Brooklyn, NY 11215', '282 17th St #2, Brooklyn, NY 11215', '282 17th St #1, Brooklyn, NY 11215', '200 Cozine Ave Unit 6H, Brooklyn, NY 11207', '1260 Avenue Y Unit 2A, Brooklyn, NY 11235', '103 Quentin Rd Unit PHB3, Brooklyn, NY 11223', '839 E 19th St Unit 4C, Brooklyn, NY 11230', '1511 Royce St Unit 3I, Brooklyn, NY 11234', '8620 Avenue L #201, Brooklyn, NY 11236', '3567 Shore Pkwy Ph 4A, Brooklyn, NY 11235', '728 Ocean View Ave Unit A 2, Brooklyn, NY 11235', '1251 E 19th St Unit 6B, Brooklyn, NY 11230', '8616 21st Ave Unit 6E, Brooklyn, NY 11214', '4112 8th Ave Unit 6A, Brooklyn, NY 11232', '8895 26th Ave Unit 4A, Brooklyn, NY 11214', '1812 Quentin Rd Unit 3A, Homecrest, NY 11229', '1812 Quentin Rd #3, Brooklyn, NY 11229', '8895 26th Ave Unit 5A, Brooklyn, NY 11214', '2926 Brighton 6th St Unit 5a, Brooklyn, NY 11235', '134 West End Ave Unit 5B, Brooklyn, NY 11235', '8629 Bay Pkwy Unit 3F, Brooklyn, NY 11214', '628 Louisiana Ave #1, East New York, NY 11239', '1238 63rd St #325, Brooklyn, NY 11219', '1238 63rd St #410, Brooklyn, NY 11219', '1019 Van Siclen Ave Unit 98F, East New York, NY 11207', '664 4th Ave Unit 4R, Sunset Park, NY 11232', '651 New York Ave, Brooklyn, NY 11203', '557 E 87th St #201, Canarsie, NY 11236', '1238 63rd St #332, Brooklyn, NY 11219', '1238 63rd St #348, Brooklyn, NY 11219', '1238 63rd St #442, Brooklyn, NY 11219', '1238 63rd St #446, Brooklyn, NY 11219', '2018 Jerome Ave Unit 2D, Sheepshead Bay, NY 11235', '1238 63rd St #441, Brooklyn, NY 11219', '1238 63rd St #309, Brooklyn, NY 11219', '122-05 Flatlands Ave Unit 5J, East New York, NY 11207', '2353 Boynton Pl #3, Gravesend, NY 11223', '429 Kent Ave #305, Williamsburg, NY 11249', '104 W End Ave Unit 3D, Manhattan Beach, NY 11235', '1238 63rd St #431, Brooklyn, NY 11219', '1238 63rd St #314, Brooklyn, NY 11219', '1238 63rd St #240, Brooklyn, NY 11219', '1238 63rd St #222, Brooklyn, NY 11219', '7276 Royce Pl #157, Brooklyn, NY 11234', '34 Crooke Ave Unit 6A, Brooklyn, NY 11225', '1689 E 21 St Unit 5D, Brooklyn, NY 11210', '765 Park Pl Unit 1B, Brooklyn, NY 11216', '1856 E 13th St Unit 3A, Brooklyn, NY 11229', '2736 Ocean Ave Unit 3C, Brooklyn, NY 11229', '1238 63rd St Unit D-204, Brooklyn, NY 11219', '101 Wyckoff Ave Unit 1D, Brooklyn, NY 11237', '104 West End Ave Unit 3 I, Brooklyn, NY 11235', '1826 Bath Ave #202, Brooklyn, NY 11214', '240 Cozine Ave Unit 5C, Brooklyn, NY 11207', '1587 E 19th St Unit 8a, Brooklyn, NY 11230', '2503 Ocean Ave Unit 2E, Brooklyn, NY 11229', '2503 Ocean Ave Unit 2D, Brooklyn, NY 11229', '1238 63rd St #449, Brooklyn, NY 11219', '260 Linden Blvd Unit 4E, Flatbush, NY 11226', '1238 63rd St #239, Brooklyn, NY 11219', '1663 W 6th St Unit 3B, Brooklyn, NY 11223', '137 West End Ave Unit 2A, Brooklyn, NY 11235', '137 West End Ave #1, Brooklyn, NY 11235', '143 Avenue O Unit 2B, Brooklyn, NY 11204', '935 57th Street St Unit 4A, Borough Park, NY 11219', '1733 East 4th St Unit 3b, Brooklyn, NY 11223', '800 Dekalb Ave Unit 4B, Bed-stuy, NY 11221', '380 Cozine Ave Unit 7G, East New York, NY 11207', '501 Surf Ave Unit 23P, Brooklyn, NY 11224', '1562 W 6th St Unit 6A, Brooklyn, NY 11204', '2373 82nd St #104, Bensonhurst, NY 11214', '491 Monroe St Unit 3B, Brooklyn, NY 11221', '62 Brighton 2nd Pl Unit 4B, Brooklyn, NY 11235', '210 Hull St Unit A, Ocean Hill, NY 11233', '461 Carroll St #1, Brooklyn, NY 11215', '1229 65th St Unit A, Brooklyn, NY 11219', '60 Oceana Dr Unit 8B, Brooklyn, NY 11235', '51 Jay St Unit 1F, Brooklyn, NY 11201', '1733 Ocean Ave #1, Brooklyn, NY 11230', '2943 Brighton 4th St Unit 3A, Brooklyn, NY 11235', '1950 Bergen Ave Unit 3D, Brooklyn, NY 11234', '1560 W 6th St Unit 3C, Brooklyn, NY 11204', '766 Decatur St Unit 2A, Brooklyn, NY 11233', '424 Adelphi St Unit H, Brooklyn, NY 11238', '8624 Avenue L #104, Canarsie, NY 11236', '7620 Bay Pkwy Unit 5A, Brooklyn, NY 11214', '1721 W 6th St Unit 2B, Brooklyn, NY 11223', '45 Argyle Rd Unit 3C', '158 Sackett St Unit 4A, Brooklyn, NY 11231', '9511 Shore Rd #606, Brooklyn, NY 11209', '3435 Guider Ave Unit 5A, Sheepshead Bay, NY 11235', '1689 E 21 St Unit 3C, Brooklyn, NY 11210', '279 Prospect Ave Unit 3A, Brooklyn, NY 11215', '838 41 St Unit 5A, Brooklyn, NY 11232', '18 Bay 38 St Unit 3b, Brooklyn, NY 11214', '1203 65th St Unit C, Brooklyn, NY 11219', '225 Avenue W Unit 3C, Brooklyn, NY 11223', '738 Grand St Unit 3a, Brooklyn, NY 11211', '1270 Saint Marks Ave #1, Crown Heights, NY 11213', '77 Clarkson Ave Unit 4-C, Brooklyn, NY 11226', '430 Clinton Ave Unit 5D, Clinton Hill, NY 11238', '380 Cozine Ave Unit 3L, East New York, NY 11207', '2801 E 11th St Unit 4B, Brooklyn, NY 11235', '2617 E 17th St Unit 6A, Brooklyn, NY 11235', '1562 W 6th St Unit 3A, Bensonhurst, NY 11204', '2286 Cropsey Ave Unit 10E, Brooklyn, NY 11214', '2286 Cropsey Ave Unit 11E, Brooklyn, NY 11214', '9917 Shore Rd Unit 8B, Brooklyn, NY 11209', '140 Avenue O Unit 2R, Brooklyn, NY 11204', '542 Dahill Rd Unit 4a, Brooklyn, NY 11218', '2140 Ocean Ave Unit 8A, Brooklyn, NY 11229', '6917 Shore Rd Unit 2B, Brooklyn, NY 11209', '60 Oceana Dr West Ph 2A, Brooklyn, NY 11235', '306 Gold St Unit 6E, Downtown Brooklyn, NY 11201', '1117 E 72 St #13, Brooklyn, NY 11234', '1000 E 35th St Unit 3-B, Brooklyn, NY 11210', '420 64th St Unit 2E, Sunset Park, NY 11220', '943 60th St Unit 3A, Brooklyn, NY 11220', '2523 W 15th St Unit 1F2, Brooklyn, NY 11214', '4078 Nostrand Ave Unit 1D, Brooklyn, NY 11235', '390 Lorimer St Unit 2G, Brooklyn, NY 11206', '2830 Brighton 3rd St #3, Brooklyn, NY 11235', '729 40th St Unit 3D, Brooklyn, NY 11232', '1322 E 14th St Unit 4A, Brooklyn, NY 11230', '2504 E 14th St Unit 2B, Brooklyn, NY 11235', '1845 52nd St #26', '1671 W 10th St Unit B501, Brooklyn, NY 11223', '2900 E 29th St #205, Brooklyn, NY 11235', '1323 Avenue X Unit D2, Brooklyn, NY 11235', '118 Battery Ave Unit 3D, Brooklyn, NY 11209', '1 Main St Unit 14th Floor, Brooklyn, NY 11201', '316 22nd St Unit 1A, Brooklyn, NY 11215', '316 22nd St Unit 1C, Brooklyn, NY 11215', '2335 Bath Ave Unit 3D, Brooklyn, NY 11214', '2335 Bath Ave Unit 2D, Brooklyn, NY 11214', '2365 81 St Unit 3A, Brooklyn, NY 11214', '240 Cozine Ave Unit 3F, Brooklyn, NY 11207', '2335 Bath Ave Unit 1B, Brooklyn, NY 11214', '935 57th St Unit 3M, Brooklyn, NY 11219', '4641 Bedford Ave Unit 3L, Brooklyn, NY 11235', '1238 63rd St Unit D440, Brooklyn, NY 11219', '336 99 St Unit Med-L, Brooklyn, NY 11220', '1369 Bay Ridge Ave Unit 3C, Brooklyn, NY 11219', '3064 Coney Island Ave Unit 5C, Brooklyn, NY 11235', '12399 Flatlands Ave Unit 1J, Brooklyn, NY 11207', '2265 W 7th St Unit 1C, Brooklyn, NY 11223', '800 5th Ave Unit 4A, Brooklyn, NY 11232']\n"
     ]
    }
   ],
   "source": [
    "print(len(address_brooklyn),address_brooklyn)"
   ]
  },
  {
   "cell_type": "code",
   "execution_count": 27,
   "id": "4ffdc927",
   "metadata": {},
   "outputs": [
    {
     "name": "stdout",
     "output_type": "stream",
     "text": [
      "240 ['condo', 'condo', 'condo', 'condo', 'condo', 'condo', 'condo', 'condo', 'condo', 'condo', 'condo', 'condo', 'condo', 'condo', 'condo', 'condo', 'condo', 'condo', 'condo', 'condo', 'condo', 'condo', 'condo', 'condo', 'condo', 'condo', 'condo', 'condo', 'condo', 'condo', 'condo', 'condo', 'condo', 'condo', 'condo', 'condo', 'condo', 'condo', 'condo', 'condo', 'condo', 'condo', 'condo', 'condo', 'condo', 'condo', 'condo', 'condo', 'condo', 'condo', 'condo', 'condo', 'condo', 'condo', 'condo', 'condo', 'condo', 'condo', 'condo', 'condo', 'condo', 'condo', 'condo', 'condo', 'condo', 'condo', 'condo', 'condo', 'condo', 'condo', 'condo', 'condo', 'condo', 'condo', 'condo', 'condo', 'condo', 'condo', 'condo', 'condo', 'condo', 'condo', 'condo', 'condo', 'condo', 'condo', 'condo', 'condo', 'condo', 'condo', 'condo', 'condo', 'condo', 'condo', 'condo', 'condo', 'condo', 'condo', 'condo', 'condo', 'condo', 'condo', 'condo', 'condo', 'condo', 'condo', 'condo', 'condo', 'condo', 'condo', 'condo', 'condo', 'condo', 'condo', 'condo', 'condo', 'condo', 'condo', 'condo', 'condo', 'condo', 'condo', 'condo', 'condo', 'condo', 'condo', 'condo', 'condo', 'condo', 'condo', 'condo', 'condo', 'condo', 'condo', 'condo', 'condo', 'condo', 'condo', 'condo', 'condo', 'condo', 'condo', 'condo', 'condo', 'condo', 'condo', 'condo', 'condo', 'condo', 'condo', 'condo', 'condo', 'condo', 'condo', 'condo', 'condo', 'condo', 'condo', 'condo', 'condo', 'condo', 'condo', 'condo', 'condo', 'condo', 'condo', 'condo', 'condo', 'condo', 'condo', 'condo', 'condo', 'condo', 'condo', 'condo', 'condo', 'condo', 'condo', 'condo', 'condo', 'condo', 'condo', 'condo', 'condo', 'condo', 'condo', 'condo', 'condo', 'condo', 'condo', 'condo', 'condo', 'condo', 'condo', 'condo', 'condo', 'condo', 'condo', 'condo', 'condo', 'condo', 'condo', 'condo', 'condo', 'condo', 'condo', 'condo', 'condo', 'condo', 'condo', 'condo', 'condo', 'condo', 'condo', 'condo', 'condo', 'condo', 'condo', 'condo', 'condo', 'condo', 'condo', 'condo', 'condo', 'condo', 'condo', 'condo', 'condo', 'condo', 'condo', 'condo', 'condo', 'condo', 'condo', 'condo', 'condo', 'condo', 'condo', 'condo', 'condo']\n"
     ]
    }
   ],
   "source": [
    "# setting the type to condo as we have already filtered them by condo\n",
    "\n",
    "type_brooklyn = [\"condo\"]*240\n",
    "\n",
    "print(len(type_brooklyn),type_brooklyn)\n"
   ]
  },
  {
   "cell_type": "markdown",
   "id": "48fcc810",
   "metadata": {},
   "source": [
    "### for location = Utah"
   ]
  },
  {
   "cell_type": "code",
   "execution_count": 28,
   "id": "4d51ee11",
   "metadata": {},
   "outputs": [],
   "source": [
    "# going back to the homepage\n",
    "\n",
    "home_button = driver.find_element(By.XPATH, '/html/body/div[1]/div[2]/div/div/header[2]/div[1]/div[1]/div')\n",
    "\n",
    "home_button.click()"
   ]
  },
  {
   "cell_type": "code",
   "execution_count": 29,
   "id": "bec25eb2",
   "metadata": {},
   "outputs": [],
   "source": [
    "# entering location = \"Utah County\" in the search field\n",
    "\n",
    "time.sleep(2)\n",
    "designation = driver.find_element(By.XPATH, '/html/body/div[1]/div[6]/div[2]/div/section/div/div/div/div/div/div/div/div[2]/div/div/form/div/div/input')\n",
    "designation.send_keys(\"Utah County\")\n",
    "\n",
    "\n",
    "# Clicking the search button\n",
    "\n",
    "search = driver.find_element(By.XPATH, '/html/body/div[1]/div[6]/div[2]/div/section/div/div/div/div/div/div/div/div[2]/div/div/form/div/button')\n",
    "time.sleep(1)\n",
    "search.click()"
   ]
  },
  {
   "cell_type": "code",
   "execution_count": 30,
   "id": "232894ec",
   "metadata": {},
   "outputs": [],
   "source": [
    "#selecting \"Condo\" as Home Type in filters\n",
    "\n",
    "home_type_button = driver.find_element(By.XPATH, '/html/body/div[1]/div[8]/div[1]/div[2]/div[1]/div[2]/div/div/div/div[1]/form/div[4]/div')\n",
    "home_type_button.click()\n",
    "\n",
    "\n",
    "#clikcing on condo option\n",
    "\n",
    "condo_button = driver.find_element(By.XPATH, '/html/body/div[1]/div[8]/div[1]/div[2]/div[1]/div[2]/div/div/div/div[1]/form/div[4]/div/div[2]/div/div[1]/div[2]/div/div[3]')\n",
    "time.sleep(1)\n",
    "condo_button.click()"
   ]
  },
  {
   "cell_type": "code",
   "execution_count": 31,
   "id": "ae3ce47f",
   "metadata": {},
   "outputs": [],
   "source": [
    "#scrapping data\n",
    "\n",
    "price_utah = []\n",
    "bed_utah = []\n",
    "bath_utah = []\n",
    "area_utah = []\n",
    "address_utah = []\n",
    "\n",
    "\n",
    "start = 0\n",
    "end = 5\n",
    "\n",
    "\n",
    "for page in range(start, end):\n",
    "    \n",
    "        #scrapping prices\n",
    "    prices = driver.find_elements(By.CLASS_NAME, \"bp-Homecard__Price--value\")\n",
    "    for i in prices:\n",
    "        price_utah.append(i.text)\n",
    "     \n",
    "    \n",
    "        #scrapping no of beds\n",
    "    beds = driver.find_elements(By.CLASS_NAME, 'bp-Homecard__Stats--beds')\n",
    "    for i in beds:\n",
    "        bed_utah.append(i.text)\n",
    "     \n",
    "    \n",
    "        #scrapping no of bathrooms\n",
    "    baths = driver.find_elements(By.CLASS_NAME, 'bp-Homecard__Stats--baths')\n",
    "    for i in baths:\n",
    "        bath_utah.append(i.text)\n",
    "        \n",
    "    \n",
    "        #scrapping area\n",
    "    areas = driver.find_elements(By.CLASS_NAME, \"bp-Homecard__Stats--sqft\")\n",
    "    for i in areas:\n",
    "        area_utah.append(i.text)\n",
    "        \n",
    "        \n",
    "        #scrapping address\n",
    "    addresses = driver.find_elements(By.CLASS_NAME, \"bp-Homecard__Address\")\n",
    "    for i in addresses:\n",
    "        address_utah.append(i.text)\n",
    "     \n",
    "    \n",
    "    \n",
    "    next_button = driver.find_element(By.XPATH, '/html/body/div[1]/div[8]/div[1]/div[2]/div[1]/div[5]/div/div[3]/button[2]')\n",
    "    time.sleep(1)\n",
    "    next_button.click()\n",
    "    time.sleep(2)"
   ]
  },
  {
   "cell_type": "code",
   "execution_count": 32,
   "id": "098ab634",
   "metadata": {},
   "outputs": [
    {
     "name": "stdout",
     "output_type": "stream",
     "text": [
      "200 ['$332,900', '$332,900', '$332,900', '$332,900', '$320,000', '$322,900', '$322,900', '$322,900', '$322,900', '$348,900', '$348,900', '$356,900', '$356,900', '$356,900', '$356,900', '$346,900', '$346,900', '$346,900', '$346,900', '$377,900', '$377,900', '$340,000', '$330,000', '$325,000', '$356,900', '$356,900', '$356,900', '$356,900', '$346,900', '$325,000', '$346,900', '$339,900', '$346,900', '$369,900', '$379,900', '$377,900', '$377,900', '$309,900', '$299,900', '$309,900', '$200,000', '$339,900', '$365,000', '$305,000', '$334,900', '$329,000', '$284,500', '$299,900', '$319,000', '$319,900', '$295,000', '$335,000', '$344,900', '$290,000', '$264,900', '$265,000', '$289,900', '$360,000', '$300,000', '$314,900', '$364,900', '$328,900', '$395,000', '$334,000', '$344,900', '$379,900', '$294,000', '$359,000', '$379,000', '$830,000', '$377,900', '$313,900', '$356,900', '$356,900', '$356,900', '$356,900', '$199,000', '$349,000', '$400,000', '$299,900', '$309,900', '$319,900', '$315,000', '$269,000', '$346,900', '$314,800', '$329,900', '$299,900', '$380,000', '$280,000', '$400,000', '$355,000', '$305,000', '$370,000', '$318,000', '$367,777', '$319,900', '$374,000', '$355,900', '$355,900', '$355,900', '$355,900', '$345,900', '$345,900', '$415,000', '$345,900', '$345,900', '$376,900', '$335,900', '$355,900', '$356,900', '$346,900', '$356,900', '$355,900', '$355,900', '$345,900', '$355,900', '$345,900', '$345,900', '$345,900', '$376,900', '$376,900', '$325,000', '$314,900', '$314,800', '$450,000', '$334,900', '$319,900', '$269,000', '$289,000', '$356,900', '$345,000', '$315,000', '$356,900', '$273,000', '$278,000', '$377,900', '$389,888', '$332,900', '$332,900', '$332,900', '$332,900', '$355,900', '$355,900', '$355,900', '$355,900', '$345,900', '$345,900', '$345,900', '$345,900', '$380,000', '$304,999', '$799,000', '$335,900', '$200,000', '$355,900', '$355,900', '$345,900', '$345,900', '$345,900', '$273,000', '$342,900', '$287,000', '$1,380,000', '$860,000', '$1,100,000', '$355,900', '$355,900', '$345,900', '$345,900', '$345,900', '$376,900', '$345,900', '$335,900', '$479,000', '$345,900', '$274,999', '$323,900', '$282,000', '$345,900', '$345,900', '$345,900', '$335,900', '$345,900', '$345,900', '$345,900', '$345,900', '$335,900', '$285,000', '$294,900', '$345,900', '$345,900', '$345,900', '$345,900', '$345,900', '$345,900', '$345,900', '$285,000', '$340,000', '$384,900']\n"
     ]
    }
   ],
   "source": [
    "print(len(price_utah),price_utah)"
   ]
  },
  {
   "cell_type": "code",
   "execution_count": 33,
   "id": "7a5d2ff2",
   "metadata": {},
   "outputs": [
    {
     "name": "stdout",
     "output_type": "stream",
     "text": [
      "200 ['3 beds', '3 beds', '3 beds', '3 beds', '2 beds', '3 beds', '3 beds', '3 beds', '3 beds', '3 beds', '3 beds', '3 beds', '3 beds', '3 beds', '3 beds', '3 beds', '3 beds', '3 beds', '3 beds', '3 beds', '3 beds', '3 beds', '3 beds', '2 beds', '3 beds', '3 beds', '3 beds', '3 beds', '3 beds', '2 beds', '3 beds', '3 beds', '3 beds', '3 beds', '3 beds', '3 beds', '3 beds', '3 beds', '2 beds', '2 beds', '1 bed', '3 beds', '2 beds', '3 beds', '2 beds', '3 beds', '2 beds', '3 beds', '3 beds', '3 beds', '2 beds', '3 beds', '3 beds', '2 beds', '2 beds', '2 beds', '2 beds', '2 beds', '3 beds', '3 beds', '3 beds', '3 beds', '2 beds', '3 beds', '3 beds', '2 beds', '2 beds', '3 beds', '4 beds', '1 bed', '3 beds', '2 beds', '3 beds', '3 beds', '3 beds', '3 beds', '1 bed', '4 beds', '4 beds', '2 beds', '3 beds', '3 beds', '2 beds', '2 beds', '3 beds', '3 beds', '3 beds', '3 beds', '3 beds', '2 beds', '3 beds', '4 beds', '3 beds', '3 beds', '2 beds', '3 beds', '3 beds', '3 beds', '3 beds', '3 beds', '3 beds', '3 beds', '3 beds', '3 beds', '4 beds', '3 beds', '3 beds', '3 beds', '3 beds', '3 beds', '3 beds', '3 beds', '3 beds', '3 beds', '3 beds', '3 beds', '3 beds', '3 beds', '3 beds', '3 beds', '3 beds', '3 beds', '3 beds', '1 bed', '3 beds', '4 beds', '3 beds', '3 beds', '2 beds', '2 beds', '3 beds', '2 beds', '2 beds', '3 beds', '2 beds', '2 beds', '3 beds', '2 beds', '3 beds', '3 beds', '3 beds', '3 beds', '3 beds', '3 beds', '3 beds', '3 beds', '3 beds', '3 beds', '3 beds', '3 beds', '2 beds', '3 beds', '2 beds', '3 beds', '2 beds', '3 beds', '3 beds', '3 beds', '3 beds', '3 beds', '2 beds', '3 beds', '2 beds', '3 beds', '2 beds', '2 beds', '3 beds', '3 beds', '3 beds', '3 beds', '3 beds', '3 beds', '3 beds', '3 beds', '2 beds', '3 beds', '2 beds', '3 beds', '2 beds', '3 beds', '3 beds', '3 beds', '3 beds', '3 beds', '3 beds', '3 beds', '3 beds', '3 beds', '2 beds', '3 beds', '3 beds', '3 beds', '3 beds', '3 beds', '3 beds', '3 beds', '3 beds', '2 beds', '3 beds', '3 beds']\n"
     ]
    }
   ],
   "source": [
    "print(len(bed_utah),bed_utah)"
   ]
  },
  {
   "cell_type": "code",
   "execution_count": 34,
   "id": "96e03bae",
   "metadata": {},
   "outputs": [
    {
     "name": "stdout",
     "output_type": "stream",
     "text": [
      "200 ['2 baths', '2 baths', '2 baths', '2 baths', '2 baths', '2 baths', '2 baths', '2 baths', '2 baths', '2 baths', '2 baths', '2 baths', '2 baths', '2 baths', '2 baths', '2 baths', '2 baths', '2 baths', '2 baths', '2 baths', '2 baths', '2 baths', '2 baths', '2 baths', '2 baths', '2 baths', '2 baths', '2 baths', '2 baths', '1 bath', '2 baths', '2 baths', '2 baths', '2 baths', '2 baths', '2 baths', '2 baths', '2 baths', '2 baths', '2 baths', '1 bath', '2 baths', '2 baths', '2 baths', '2 baths', '2 baths', '1 bath', '2 baths', '2 baths', '2 baths', '1 bath', '2 baths', '2 baths', '1 bath', '1 bath', '1 bath', '2 baths', '2 baths', '2 baths', '2 baths', '2 baths', '2 baths', '3.5 baths', '2 baths', '2 baths', '2 baths', '1 bath', '2 baths', '3 baths', '1 bath', '2 baths', '2 baths', '2 baths', '2 baths', '2 baths', '2 baths', '1 bath', '3 baths', '2 baths', '1 bath', '2 baths', '2 baths', '2 baths', '1 bath', '2 baths', '2 baths', '2 baths', '2 baths', '2 baths', '1 bath', '2 baths', '3 baths', '2 baths', '2 baths', '2 baths', '2 baths', '2 baths', '2 baths', '2 baths', '2 baths', '2 baths', '2 baths', '2 baths', '2 baths', '3 baths', '2 baths', '2 baths', '2 baths', '2 baths', '2 baths', '2 baths', '2 baths', '2 baths', '2 baths', '2 baths', '2 baths', '2 baths', '2 baths', '2 baths', '2 baths', '2 baths', '2 baths', '2 baths', '1 bath', '2 baths', '3 baths', '2 baths', '2 baths', '1 bath', '1 bath', '2 baths', '2 baths', '1 bath', '2 baths', '1 bath', '1 bath', '2 baths', '2 baths', '2 baths', '2 baths', '2 baths', '2 baths', '2 baths', '2 baths', '2 baths', '2 baths', '2 baths', '2 baths', '2 baths', '2 baths', '2.5 baths', '2 baths', '3 baths', '2 baths', '1.5 baths', '2 baths', '2 baths', '2 baths', '2 baths', '2 baths', '1 bath', '2 baths', '1 bath', '3.5 baths', '2.5 baths', '2.5 baths', '2 baths', '2 baths', '2 baths', '2 baths', '2 baths', '2 baths', '2 baths', '2 baths', '2 baths', '2 baths', '1 bath', '2 baths', '1 bath', '2 baths', '2 baths', '2 baths', '2 baths', '2 baths', '2 baths', '2 baths', '2 baths', '2 baths', '1 bath', '1 bath', '2 baths', '2 baths', '2 baths', '2 baths', '2 baths', '2 baths', '2 baths', '1 bath', '2 baths', '3 baths']\n"
     ]
    }
   ],
   "source": [
    "print(len(bath_utah),bath_utah)"
   ]
  },
  {
   "cell_type": "code",
   "execution_count": 35,
   "id": "803e9f91",
   "metadata": {},
   "outputs": [
    {
     "name": "stdout",
     "output_type": "stream",
     "text": [
      "200 ['1,228 sq ft', '1,336 sq ft', '1,228 sq ft', '1,336 sq ft', '1,226 sq ft', '1,228 sq ft', '1,228 sq ft', '1,336 sq ft', '1,336 sq ft', '1,272 sq ft', '1,272 sq ft', '1,272 sq ft', '1,272 sq ft', '1,272 sq ft', '1,272 sq ft', '1,272 sq ft', '1,272 sq ft', '1,272 sq ft', '1,272 sq ft', '1,272 sq ft', '1,272 sq ft', '1,345 sq ft', '1,276 sq ft', '1,158 sq ft', '1,272 sq ft', '1,272 sq ft', '1,272 sq ft', '1,272 sq ft', '1,272 sq ft', '990 sq ft', '1,272 sq ft', '1,221 sq ft', '1,272 sq ft', '1,233 sq ft', '1,233 sq ft', '1,272 sq ft', '1,272 sq ft', '1,554 sq ft', '992 sq ft', '1,518 sq ft', '701 sq ft', '1,038 sq ft', '1,205 sq ft', '1,082 sq ft', '980 sq ft', '1,255 sq ft', '954 sq ft', '1,240 sq ft', '1,233 sq ft', '1,236 sq ft', '989 sq ft', '1,355 sq ft', '1,255 sq ft', '862 sq ft', '790 sq ft', '840 sq ft', '1,120 sq ft', '1,133 sq ft', '1,237 sq ft', '1,278 sq ft', '1,272 sq ft', '1,272 sq ft', '1,850 sq ft', '1,152 sq ft', '1,250 sq ft', '1,134 sq ft', '897 sq ft', '1,263 sq ft', '1,547 sq ft', '550 sq ft', '1,272 sq ft', '1,073 sq ft', '1,272 sq ft', '1,272 sq ft', '1,272 sq ft', '1,272 sq ft', '520 sq ft', '1,344 sq ft', '2,240 sq ft', '768 sq ft', '1,245 sq ft', '1,272 sq ft', '1,518 sq ft', '990 sq ft', '1,272 sq ft', '1,340 sq ft', '1,344 sq ft', '1,223 sq ft', '1,411 sq ft', '850 sq ft', '1,272 sq ft', '1,344 sq ft', '1,060 sq ft', '1,265 sq ft', '1,123 sq ft', '1,285 sq ft', '1,310 sq ft', '1,233 sq ft', '1,228 sq ft', '1,228 sq ft', '1,337 sq ft', '1,337 sq ft', '1,228 sq ft', '1,228 sq ft', '2,186 sq ft', '1,337 sq ft', '1,337 sq ft', '1,337 sq ft', '1,272 sq ft', '1,228 sq ft', '1,272 sq ft', '1,272 sq ft', '1,272 sq ft', '1,228 sq ft', '1,337 sq ft', '1,228 sq ft', '1,337 sq ft', '1,228 sq ft', '1,337 sq ft', '1,337 sq ft', '1,337 sq ft', '1,337 sq ft', '1,340 sq ft', '766 sq ft', '1,243 sq ft', '2,642 sq ft', '1,272 sq ft', '1,080 sq ft', '954 sq ft', '850 sq ft', '1,272 sq ft', '865 sq ft', '845 sq ft', '1,272 sq ft', '843 sq ft', '820 sq ft', '1,272 sq ft', '1,411 sq ft', '1,272 sq ft', '1,272 sq ft', '1,272 sq ft', '1,272 sq ft', '1,228 sq ft', '1,228 sq ft', '1,337 sq ft', '1,337 sq ft', '1,228 sq ft', '1,228 sq ft', '1,337 sq ft', '1,337 sq ft', '1,479 sq ft', '1,180 sq ft', '2,941 sq ft', '1,289 sq ft', '976 sq ft', '1,228 sq ft', '1,228 sq ft', '1,228 sq ft', '1,228 sq ft', '1,337 sq ft', '902 sq ft', '1,377 sq ft', '850 sq ft', '2,975 sq ft', '1,976 sq ft', '2,338 sq ft', '1,272 sq ft', '1,272 sq ft', '1,272 sq ft', '1,272 sq ft', '1,272 sq ft', '1,272 sq ft', '1,272 sq ft', '1,272 sq ft', '1,594 sq ft', '1,272 sq ft', '902 sq ft', '1,255 sq ft', '809 sq ft', '1,272 sq ft', '1,272 sq ft', '1,272 sq ft', '1,272 sq ft', '1,272 sq ft', '1,272 sq ft', '1,272 sq ft', '1,272 sq ft', '1,272 sq ft', '803 sq ft', '1,200 sq ft', '1,272 sq ft', '1,272 sq ft', '1,272 sq ft', '1,272 sq ft', '1,272 sq ft', '1,272 sq ft', '1,272 sq ft', '1,046 sq ft', '1,310 sq ft', '2,098 sq ft']\n"
     ]
    }
   ],
   "source": [
    "print(len(area_utah),area_utah)\n"
   ]
  },
  {
   "cell_type": "code",
   "execution_count": 36,
   "id": "c616f590",
   "metadata": {},
   "outputs": [
    {
     "name": "stdout",
     "output_type": "stream",
     "text": [
      "200 ['762 N Lang Ct Unit X304, Saratoga Springs, UT 84045', '762 N Lang Ct Unit X302, Saratoga Springs, UT 84045', '762 N Lang Ct Unit X303, Saratoga Springs, UT 84045', '762 N Lang Ct Unit X301, Saratoga Springs, UT 84043', '25 S 850 E #5, Provo, UT 84606', '762 N Lang Ct Unit X204, Saratoga Springs, UT 84045', '762 Lang Ct Unit X203, Saratoga Springs, UT 84045', '762 N Lang Unit X201, Saratoga Springs, UT 84045', '762 N Lang Ct Unit X202, Saratoga Springs, UT 84043', '762 N Lang Ct Unit X102, Saratoga Springs, UT 84043', '762 Lang Ct N Unit X101, Saratoga Springs, UT 84045', '4041 W Unita Way Unit CC304, Lehi, UT 84043', '4041 W Unita Way Unit CC303, Lehi, UT 84043', '4041 W Unita Way Unit CC302, Lehi, UT 84043', '4041 W Unita Way Unit CC301, Lehi, UT 84043', '4041 W Unita Way Unit CC204, Lehi, UT 84043', '4041 W Unita Way Unit CC203, Lehi, UT 84043', '4041 W Unita Way Unit CC202, Lehi, UT 84043', '4041 W Unita Way Unit CC201, Lehi, UT 84043', '4041 W Unita Way Unit CC102, Lehi, UT 84043', '4041 W Unita Way Unit CC101, Lehi, UT 84043', '479 N 2500 W #7, Springville, UT 84663', '2447 W 500 S #4, Springville, UT 84663', '1168 E 330 N, Payson, UT 84651', '4068 W King Peak Way Unit DD304, Lehi, UT 84043', '4068 W King Peak Way Unit DD303, Lehi, UT 84043', '4068 W King Peak Way Unit DD302, Lehi, UT 84043', '4068 W King Peak Way Unit DD301, Lehi, UT 84043', '4068 W King Peak Way Unit DD203, Lehi, UT 84043', '983 W 1055 N #816, Orem, UT 84057', '4068 W King Peak Way Unit DD202, Lehi, UT 84043', '8083 N Ridge Loop E Unit I5, Eagle Mountain, UT 84005', '4068 W King Peak Way Unit DD201, Lehi, UT 84043', '304 W 410 N, Vineyard, UT 84059', '499 N 360 W Unit J, Vineyard, UT 84059', '4068 W King Peak Way Unit DD102, Lehi, UT 84043', '4068 W King Peak Way Unit DD101, Lehi, UT 84043', '194 W Garden Park Dr N, Orem, UT 84058', '98 N Garden Park Park #23, Orem, UT 84057', '142 Garden Park Dr N, Orem, UT 84057', '502 S 1040 E #252, American Fork, UT 84003', '269 W 960 S Unit B, Provo, UT 84601', '1049 W 160 N, Pleasant Grove, UT 84062', '259 S 1050 W #80, Provo, UT 84601', '468 N 100 WEST W #6, Provo, UT 84601', '1661 W Westbury Way Unit F, Lehi, UT 84043', '426 W Main St, Santaquin, UT 84655', '3618 E Clear Rock Rd N Unit J-8, Eagle Mountain, UT 84005', '1776 W Newcastle Ln #202, Saratoga Springs, UT 84045', '3543 Rock Creek Rd Unit B2, Eagle Mountain, UT 84005', '502 S 1040 E Unit C130, American Fork, UT 84003', '1125 S 950 E #22, Provo, UT 84606', '1441 Westbury Way Unit B, Lehi, UT 84043', '1700 Sandhill Rd Unit B201, Orem, UT 84058', '1004 N 1090 W #404, Orem, UT 84057', '628 S 500 West #1, Provo, UT 84601', '1669 N Hickory Ln W, Provo, UT 84604', '342 E 800 N #120, Orem, UT 84057', '8096 N Ridge Loop E Unit D-12, Eagle Mountain, UT 84005', '157 E Jordan Ridge Blvd #308, Saratoga Springs, UT 84045', '57 W Silver Springs Dr N, Vineyard, UT 84059', '1806 W Newcastle Ln #203, Saratoga Springs, UT 84045', '2741 N Edgewood Dr, Provo, UT 84604', '99 N 1170 W #302, Pleasant Grove, UT 84062', '1957 N Crest Rd, Saratoga Springs, UT 84045', '2244 N Canyon Rd #312, Provo, UT 84604', '1700 Sandhill Rd Unit G201, Orem, UT 84058', '627 N Emery Ln, Vineyard, UT 84059', '282 W 960 S Unit D, Provo, UT 84601', '8840 N The #26, Sundance, UT 84604', '1052 N West Rim Dr Unit FF102, Lehi, UT 84043', '474 S 2550 W #6, Springville, UT 84663', '1052 N West Rim Dr Unit FF304, Lehi, UT 84043', '1052 N West Rim Dr Unit FF302, Lehi, UT 84043', '1052 N West Rim Dr Unit FF303, Lehi, UT 84043', '1052 N West Rim Dr Unit FF301, Lehi, UT 84043', '1108 S 950 E Unit 223A, Provo, UT 84606', '718 W 1720 N #124, Provo, UT 84604', '443 E 700 N, Orem, UT 84097', '136 W 400 N #26, Provo, UT 84601', '2308 E 830 S #9, Spanish Fork, UT 84660', '1809 W Terra Vista Ln Unit B1, Saratoga Springs, UT 84045', '216 W Garden Park, Orem, UT 84057', '716 E 1500 S, Orem, UT 84097', '1093 N 3980 W Unit KK201, Lehi, UT 84043', '358 S 550 W Unit D-7, Springville, UT 84663', '2472 W 500 S #2, Springville, UT 84663', '1045 S 1700 W #710, Payson, UT 84651', '1605 W 50 N, Pleasant Grove, UT 84062', '1081 W 993 N #402, Orem, UT 84057', '15 W Seasons Dr, Vineyard, UT 84059', '718 W 1720 N #328, Provo, UT 84604', '1541 N Riverside W #14, Provo, UT 84604', '543 S 1020 W #304, American Fork, UT 84003', '1217 W 110 N Unit M203, Pleasant Grove, UT 84062', '37 W Seasons Dr Unit C309, Vineyard, UT 84058', '224 S 550 W Unit B6, Springville, UT 84663', '537 N 310 W, Vineyard, UT 84059', '763 N Lang Ct Unit W304, Saratoga Springs, UT 84045', '763 N Lang Ct Unit W303, Saratoga Springs, UT 84045', '763 N Lang Ct Unit W302, Saratoga Springs, UT 84045', '763 N Lang Ct Unit W301, Saratoga Springs, UT 84045', '763 N Lang Ct Unit W204, Saratoga Springs, UT 84045', '763 N Lang Ct Unit W203, Saratoga Springs, UT 84045', '657 W 1870 N, Orem, UT 84057', '763 Lang Ct Unit W202, Saratoga Springs, UT 84045', '753 N Lang Ct Unit W201, Saratoga Springs, UT 84045', '763 N Lang Ct Unit W101, Saratoga Springs, UT 84045', '881 N Coulsen Dr Unit I202, Saratoga Springs, UT 84045', '753 N Favreau Ln Unit U304, Saratoga Springs, UT 84045', '1094 N 3980 W Unit LL303, Lehi, UT 84043', '1094 N 3980 W Unit LL304, Lehi, UT 84043', '1094 N 3980 W Unit LL302, Lehi, UT 84043', '753 N Favreau Ln Unit U303, Saratoga Springs, UT 84045', '753 N Favreau Ln Unit U302, Saratoga Springs, UT 84045', '753 N Favreau Ln Unit U204, Saratoga Springs, UT 84045', '753 N Favreau Ln Unit U301, Saratoga Springs, UT 84045', '753 N Favreau Ln Unit U203, Saratoga Springs, UT 84045', '753 N Favreau Ln Unit U202, Saratoga Springs, UT 84045', '753 N Favreau Ln Unit U201, Saratoga Springs, UT 84045', '753 N Favreau Ln Unit U102, Saratoga Springs, UT 84045', '753 N Favreau Ln Unit U101, Saratoga Springs, UT 84045', '248 S 550 W Unit C1, Springville, UT 84663', '2244 N Canyon Rd E #205, Provo, UT 84604', '63 S 300 W #9, Santaquin, UT 84655', '81 N 500 W, Orem, UT 84057', '1008 W Spider Way #303, Saratoga Springs, UT 84045', '1269 N Riverside Ave #22, Provo, UT 84604', '432 W Main St #17, Santaquin, UT 84655', '1700 N Sandhill Rd W Unit D403, Orem, UT 84058', '1023 N Sawtooth Way Unit HH302, Lehi, UT 84043', '543 N 790 E #309, Provo, UT 84606', '515 N 790 E #113, Provo, UT 84606', '1093 N 3980 W Unit KK304, Lehi, UT 84043', '618 S 100 W Unit D205, Springville, UT 84663', '361 N 300 W #202, Provo, UT 84601', '1092 N Sawtooth Way Unit JJ102, Lehi, UT 84043', '19 N 700 E #17, American Fork, UT 84003', '724 W Desert Willow Dr Unit A304, Mapleton, UT 84664', '724 W Desert Willow Dr Unit A303, Mapleton, UT 84664', '724 W Desert Willow Dr Unit A302, Mapleton, UT 84664', '724 W Desert Willow Dr Unit A301, Mapleton, UT 84664', '752 N Favreau Ln Unit V304, Saratoga Springs, UT 84045', '752 N Favreau Ln Unit V303, Saratoga Springs, UT 84045', '752 N Favreau Ln Unit V302, Saratoga Springs, UT 84045', '752 Favreau Ln Unit V301, Saratoga Springs, UT 84045', '752 N Favreau Ln Unit V204, Saratoga Springs, UT 84045', '752 N Favreau Ln Unit V203, Saratoga Springs, UT 84045', '752 N Favreau Ln Unit V202, Saratoga Springs, UT 84045', '752 N Fareau Ln Unit V201, Saratoga Springs, UT 84045', '1568 W 10 S, Pleasant Grove, UT 84062', '952 W 270 S #303, Pleasant Grove, UT 84062', '5027 N Edgewood Dr, Provo, UT 84604', '1812 W Terra Vista Ln Unit I-302, Saratoga Springs, UT 84045', '1478 Lancelot Dr, Provo, UT 84601', '782 N Pratt Ln Unit S304, Saratoga Springs, UT 84045', '782 N Pratt Ln Unit S303, Saratoga Springs, UT 84045', '782 N Pratt Ln Unit S204, Saratoga Springs, UT 84045', '782 N Pratt Ln Unit S203, Saratoga Springs, UT 84045', '782 N Pratt Ln Unit S202, Saratoga Springs, UT 84045', '675 S 100 W Unit A210, Springville, UT 84663', '782 N Pratt Ln Unit S301, Saratoga Springs, UT 84045', '1700 S Sandhill Rd Unit F304, Orem, UT 84058', '2600 N 1200 W #8, Lehi, UT 84043', '2600 N 1200 W #7, Lehi, UT 84043', '2600 N 1200 W #6, Lehi, UT 84043', '779 N Pratt Ln Unit T303, Saratoga Springs, UT 84045', '779 N Pratt Ln Unit T302, Saratoga Springs, UT 84045', '779 N Pratt Ln Unit T204, Saratoga Springs, UT 84045', '779 N Pratt Ln Unit T203, Saratoga Springs, UT 84045', '779 N Pratt Ln Unit T201, Saratoga Springs, UT 84045', '782 N Pratt Ln Unit S101, Saratoga Springs, UT 84045', '899 N Van Dyne Dr Unit C302, Saratoga Springs, UT 84045', '899 N Van Dyne Dr W Unit C201, Saratoga Springs, UT 84045', '532 W 300 S Unit D, Springville, UT 84663', '841 N Coulsen Dr Unit G302, Saratoga Springs, UT 84045', '675 S 100 W Unit A205, Springville, UT 84663', '1656 Westbury Way Unit I, Lehi, UT 84043', '1700 Sandhill Rd Unit H301, Orem, UT 84058', '861 N Van Dyne Dr W Unit A304, Saratoga Springs, UT 84045', '861 N Van Dyne Dr W Unit A301, Saratoga Springs, UT 84045', '861 N Van Dyke Dr Unit A302, Saratoga Springs, UT 84045', '861 N Van Dyne Dr W Unit A201, Saratoga Springs, UT 84045', '841 N Coulsen Dr Unit G301, Saratoga Springs, UT 84045', '881 N Coulsen Dr Unit I303, Saratoga Springs, UT 84045', '881 N Coulsen Dr Unit I302, Saratoga Springs, UT 84045', '881 N Coulsen Dr Unit I301, Saratoga Springs, UT 84045', '881 N Coulsen Dr Unit I204, Saratoga Springs, UT 84045', '1485 S 110 E, Orem, UT 84058', '2065 California Ave Unit B, Provo, UT 84606', '863 N Coulsen Dr Unit H304, Saratoga Springs, UT 84045', '863 N Coulsen Dr Unit H303, Saratoga Springs, UT 84045', '863 N Coulsen Dr Unit H302, Saratoga Springs, UT 84045', '883 N Van Dyne Dr Unit B304, Saratoga Springs, UT 84045', '883 N Van Dyne Dr Unit B303, Saratoga Springs, UT 84045', '883 N Van Dyne Dr Unit B302, Saratoga Springs, UT 84045', '862 N Van Dyne Dr Unit F304, Saratoga Springs, UT 84045', '502 S 1040 E Unit D143, American Fork, UT 84003', '215 S 650 W Unit A-8, Springville, UT 84663', '3883 E Glacier Rd, Eagle Mountain, UT 84005']\n"
     ]
    }
   ],
   "source": [
    "print(len(address_utah),address_utah)"
   ]
  },
  {
   "cell_type": "code",
   "execution_count": 37,
   "id": "6a5884a7",
   "metadata": {
    "scrolled": true
   },
   "outputs": [
    {
     "name": "stdout",
     "output_type": "stream",
     "text": [
      "200 ['condo', 'condo', 'condo', 'condo', 'condo', 'condo', 'condo', 'condo', 'condo', 'condo', 'condo', 'condo', 'condo', 'condo', 'condo', 'condo', 'condo', 'condo', 'condo', 'condo', 'condo', 'condo', 'condo', 'condo', 'condo', 'condo', 'condo', 'condo', 'condo', 'condo', 'condo', 'condo', 'condo', 'condo', 'condo', 'condo', 'condo', 'condo', 'condo', 'condo', 'condo', 'condo', 'condo', 'condo', 'condo', 'condo', 'condo', 'condo', 'condo', 'condo', 'condo', 'condo', 'condo', 'condo', 'condo', 'condo', 'condo', 'condo', 'condo', 'condo', 'condo', 'condo', 'condo', 'condo', 'condo', 'condo', 'condo', 'condo', 'condo', 'condo', 'condo', 'condo', 'condo', 'condo', 'condo', 'condo', 'condo', 'condo', 'condo', 'condo', 'condo', 'condo', 'condo', 'condo', 'condo', 'condo', 'condo', 'condo', 'condo', 'condo', 'condo', 'condo', 'condo', 'condo', 'condo', 'condo', 'condo', 'condo', 'condo', 'condo', 'condo', 'condo', 'condo', 'condo', 'condo', 'condo', 'condo', 'condo', 'condo', 'condo', 'condo', 'condo', 'condo', 'condo', 'condo', 'condo', 'condo', 'condo', 'condo', 'condo', 'condo', 'condo', 'condo', 'condo', 'condo', 'condo', 'condo', 'condo', 'condo', 'condo', 'condo', 'condo', 'condo', 'condo', 'condo', 'condo', 'condo', 'condo', 'condo', 'condo', 'condo', 'condo', 'condo', 'condo', 'condo', 'condo', 'condo', 'condo', 'condo', 'condo', 'condo', 'condo', 'condo', 'condo', 'condo', 'condo', 'condo', 'condo', 'condo', 'condo', 'condo', 'condo', 'condo', 'condo', 'condo', 'condo', 'condo', 'condo', 'condo', 'condo', 'condo', 'condo', 'condo', 'condo', 'condo', 'condo', 'condo', 'condo', 'condo', 'condo', 'condo', 'condo', 'condo', 'condo', 'condo', 'condo', 'condo', 'condo', 'condo', 'condo', 'condo', 'condo', 'condo', 'condo', 'condo', 'condo', 'condo', 'condo', 'condo', 'condo']\n"
     ]
    }
   ],
   "source": [
    "# setting the type to condo as we have already filtered them by condo\n",
    "\n",
    "type_utah = [\"condo\"]*200\n",
    "\n",
    "print(len(type_utah),type_utah)"
   ]
  },
  {
   "cell_type": "markdown",
   "id": "db16a042",
   "metadata": {},
   "source": [
    "### for location = Memphis"
   ]
  },
  {
   "cell_type": "code",
   "execution_count": 38,
   "id": "89514a0a",
   "metadata": {},
   "outputs": [],
   "source": [
    "# going back to the homepage\n",
    "\n",
    "home_button = driver.find_element(By.XPATH, '/html/body/div[1]/div[2]/div/div/header[2]/div[1]/div[1]/div')\n",
    "\n",
    "home_button.click()"
   ]
  },
  {
   "cell_type": "code",
   "execution_count": 39,
   "id": "952b6cb0",
   "metadata": {},
   "outputs": [],
   "source": [
    "# entering location = \"Memphis\" in the search field\n",
    "\n",
    "time.sleep(2)\n",
    "designation = driver.find_element(By.XPATH, '/html/body/div[1]/div[6]/div[2]/div/section/div/div/div/div/div/div/div/div[2]/div/div/form/div/div/input')\n",
    "designation.send_keys(\"Memphis\")\n",
    "\n",
    "\n",
    "# Clicking the search button\n",
    "\n",
    "search = driver.find_element(By.XPATH, '/html/body/div[1]/div[6]/div[2]/div/section/div/div/div/div/div/div/div/div[2]/div/div/form/div/button')\n",
    "time.sleep(1)\n",
    "search.click()"
   ]
  },
  {
   "cell_type": "code",
   "execution_count": 40,
   "id": "2c40154c",
   "metadata": {},
   "outputs": [],
   "source": [
    "#selecting \"House\" as Home Type in filters\n",
    "\n",
    "home_type_button = driver.find_element(By.XPATH, '/html/body/div[1]/div[8]/div[1]/div[2]/div[1]/div[2]/div/div/div/div[1]/form/div[4]/div')\n",
    "home_type_button.click()\n",
    "\n",
    "\n",
    "#clikcing on house option\n",
    "\n",
    "condo_button = driver.find_element(By.XPATH, '/html/body/div[1]/div[8]/div[1]/div[2]/div[1]/div[2]/div/div/div/div[1]/form/div[4]/div/div[2]/div/div[1]/div[2]/div/div[1]')\n",
    "condo_button.click()"
   ]
  },
  {
   "cell_type": "code",
   "execution_count": 41,
   "id": "1cc811a7",
   "metadata": {},
   "outputs": [],
   "source": [
    "#scrapping data\n",
    "\n",
    "price_memphis = []\n",
    "bed_memphis = []\n",
    "bath_memphis = []\n",
    "area_memphis = []\n",
    "address_memphis = []\n",
    "\n",
    "\n",
    "start = 0\n",
    "end = 7\n",
    "\n",
    "\n",
    "for page in range(start, end):\n",
    "    \n",
    "        #scrapping prices\n",
    "    prices = driver.find_elements(By.CLASS_NAME, \"bp-Homecard__Price--value\")\n",
    "    for i in prices:\n",
    "        price_memphis.append(i.text)\n",
    "     \n",
    "    \n",
    "        #scrapping no of beds\n",
    "    beds = driver.find_elements(By.CLASS_NAME, 'bp-Homecard__Stats--beds')\n",
    "    for i in beds:\n",
    "        bed_memphis.append(i.text)\n",
    "     \n",
    "    \n",
    "        #scrapping no of bathrooms\n",
    "    baths = driver.find_elements(By.CLASS_NAME, 'bp-Homecard__Stats--baths')\n",
    "    for i in baths:\n",
    "        bath_memphis.append(i.text)\n",
    "        \n",
    "    \n",
    "        #scrapping area\n",
    "    areas = driver.find_elements(By.CLASS_NAME, \"bp-Homecard__Stats--sqft\")\n",
    "    for i in areas:\n",
    "        area_memphis.append(i.text)\n",
    "        \n",
    "        \n",
    "        #scrapping address\n",
    "    addresses = driver.find_elements(By.CLASS_NAME, \"bp-Homecard__Address\")\n",
    "    for i in addresses:\n",
    "        address_memphis.append(i.text)\n",
    "     \n",
    "    \n",
    "    \n",
    "    next_button = driver.find_element(By.XPATH, '/html/body/div[1]/div[8]/div[1]/div[2]/div[1]/div[5]/div/div[3]/button[2]')\n",
    "    time.sleep(1)\n",
    "    next_button.click()\n",
    "    time.sleep(2)"
   ]
  },
  {
   "cell_type": "code",
   "execution_count": 42,
   "id": "dd06e97a",
   "metadata": {},
   "outputs": [
    {
     "name": "stdout",
     "output_type": "stream",
     "text": [
      "280 ['$139,900', '$69,900', '$500,000', '$389,900', '$264,901', '$129,900', '$250,000', '$315,000', '$144,900', '$185,000', '$345,000', '$742,000', '$89,900', '$475,000', '$200,000', '$194,900', '$89,900', '$167,500', '$167,500', '$359,000', '$219,900', '$110,000', '$220,000', '$129,900', '$425,000', '$300,000', '$295,000', '$175,000', '$185,000', '$55,900', '$224,900', '$250,000', '$2,220,000', '$495,000', '$199,500', '$179,900', '$385,000', '$375,000', '$230,000', '$124,900', '$395,000', '$148,000', '$322,500', '$815,000', '$435,000', '$249,995', '$260,000', '$379,000', '$185,000', '$425,000', '$175,000', '$424,000', '$375,000', '$445,000', '$160,000', '$820,000', '$499,900', '$375,000', '$599,000', '$548,000', '$235,000', '$164,700', '$272,000', '$152,000', '$125,000', '$285,000', '$374,900', '$167,900', '$575,000', '$185,000', '$189,900', '$850,000', '$235,000', '$994,900', '$150,000', '$3,250,000', '$365,000', '$165,000', '$165,000', '$165,000', '$92,900', '$79,900', '$165,000', '$215,000', '$580,000', '$369,000', '$379,900', '$215,900', '$130,000', '$185,000', '$185,000', '$165,000', '$380,000', '$165,000', '$140,000', '$1,650,000', '$99,500', '$339,000', '$619,000', '$230,000', '$164,900', '$229,900', '$129,900', '$300,000', '$139,900', '$110,000', '$58,000', '$42,500', '$45,000', '$42,500', '$45,000', '$45,000', '$220,000', '$163,700', '$350,000', '$139,500', '$225,000', '$229,900', '$164,900', '$70,000', '$129,900', '$130,000', '$119,900', '$159,000', '$169,000', '$1,350,000', '$80,000', '$80,000', '$80,000', '$80,000', '$80,000', '$80,000', '$80,000', '$80,000', '$80,000', '$153,000', '$80,000', '$80,000', '$80,000', '$80,000', '$80,000', '$80,000', '$80,000', '$80,000', '$80,000', '$80,000', '$80,000', '$80,000', '$80,000', '$80,000', '$80,000', '$80,000', '$239,997', '$209,500', '$579,900', '$95,000', '$135,000', '$95,000', '$295,000', '$69,000', '$29,900', '$330,000', '$396,000', '$256,000', '$375,000', '$399,900', '$385,000', '$520,000', '$318,000', '$64,900', '$219,900', '$214,901', '$94,900', '$412,500', '$259,900', '$319,000', '$459,000', '$420,000', '$249,900', '$179,500', '$235,000', '$109,995', '$295,000', '$340,000', '$275,000', '$234,900', '$419,900', '$259,900', '$270,000', '$250,000', '$875,000', '$244,900', '$654,000', '$735,000', '$325,000', '$170,000', '$179,000', '$139,500', '$159,900', '$365,000', '$239,900', '$369,000', '$179,900', '$199,500', '$175,000', '$249,900', '$140,000', '$161,000', '$250,000', '$144,900', '$319,900', '$110,000', '$674,900', '$195,000', '$400,000', '$339,000', '$169,900', '$344,900', '$185,000', '$179,000', '$849,999', '$375,000', '$265,000', '$499,000', '$219,500', '$139,900', '$75,000', '$350,000', '$795,000', '$80,000', '$80,000', '$65,000', '$169,000', '$359,000', '$360,000', '$349,900', '$449,000', '$310,000', '$724,900', '$376,000', '$425,000', '$130,000', '$468,000', '$350,000', '$324,900', '$130,000', '$265,000', '$175,000', '$375,000', '$75,000', '$249,000', '$365,000', '$215,000', '$358,000', '$399,900', '$152,000', '$250,000', '$359,000', '$29,950', '$125,000', '$323,900', '$249,900', '$1,300,000', '$19,000', '$239,000', '$215,000', '$142,000', '$134,900', '$103,000', '$295,000', '$101,900', '$405,000', '$125,000', '$109,000', '$120,000', '$330,000', '$72,000', '$102,000', '$110,000', '$105,000']\n"
     ]
    }
   ],
   "source": [
    "print(len(price_memphis),price_memphis)"
   ]
  },
  {
   "cell_type": "code",
   "execution_count": 43,
   "id": "5aa84d72",
   "metadata": {},
   "outputs": [
    {
     "name": "stdout",
     "output_type": "stream",
     "text": [
      "280 ['3 beds', '3 beds', '4 beds', '4 beds', '3 beds', '3 beds', '3 beds', '3 beds', '2 beds', '3 beds', '3 beds', '4 beds', '3 beds', '3 beds', '4 beds', '4 beds', '3 beds', '4 beds', '4 beds', '5 beds', '4 beds', '3 beds', '3 beds', '3 beds', '3 beds', '2 beds', '2 beds', '2 beds', '4 beds', '2 beds', '3 beds', '3 beds', '4 beds', '4 beds', '3 beds', '3 beds', '3 beds', '5 beds', '3 beds', '3 beds', '3 beds', '3 beds', '3 beds', '4 beds', '4 beds', '3 beds', '3 beds', '4 beds', '2 beds', '3 beds', '3 beds', '3 beds', '3 beds', '3 beds', '3 beds', '5 beds', '4 beds', '4 beds', '4 beds', '3 beds', '3 beds', '3 beds', '3 beds', '3 beds', '3 beds', '4 beds', '5 beds', '3 beds', '4 beds', '4 beds', '3 beds', '4 beds', '2 beds', '5 beds', '4 beds', '6 beds', '3 beds', '4 beds', '4 beds', '4 beds', '2 beds', '3 beds', '4 beds', '5 beds', '3 beds', '5 beds', '4 beds', '4 beds', '3 beds', '3 beds', '3 beds', '4 beds', '5 beds', '4 beds', '3 beds', '4 beds', '3 beds', '2 beds', '4 beds', '3 beds', '2 beds', '2 beds', '3 beds', '4 beds', '4 beds', '6 beds', '2 beds', '2 beds', '2 beds', '3 beds', '2 beds', '2 beds', '3 beds', '2 beds', '6 beds', '3 beds', '3 beds', '3 beds', '4 beds', '2 beds', '4 beds', '3 beds', '4 beds', '3 beds', '3 beds', '4 beds', '3 beds', '3 beds', '2 beds', '3 beds', '3 beds', '3 beds', '3 beds', '3 beds', '3 beds', '3 beds', '2 beds', '3 beds', '3 beds', '3 beds', '3 beds', '3 beds', '3 beds', '3 beds', '3 beds', '2 beds', '3 beds', '4 beds', '3 beds', '2 beds', '3 beds', '4 beds', '3 beds', '3 beds', '4 beds', '3 beds', '3 beds', '3 beds', '3 beds', '2 beds', '2 beds', '4 beds', '4 beds', '3 beds', '4 beds', '3 beds', '4 beds', '3 beds', '3 beds', '2 beds', '3 beds', '2 beds', '3 beds', '5 beds', '4 beds', '4 beds', '3 beds', '4 beds', '4 beds', '3 beds', '3 beds', '3 beds', '4 beds', '3 beds', '3 beds', '3 beds', '3 beds', '3 beds', '5 beds', '3 beds', '5 beds', '3 beds', '4 beds', '4 beds', '3 beds', '3 beds', '3 beds', '3 beds', '3 beds', '3 beds', '3 beds', '3 beds', '4 beds', '3 beds', '3 beds', '4 beds', '3 beds', '3 beds', '3 beds', '4 beds', '5 beds', '3 beds', '4 beds', '3 beds', '3 beds', '3 beds', '4 beds', '3 beds', '3 beds', '3 beds', '4 beds', '3 beds', '3 beds', '4 beds', '3 beds', '3 beds', '2 beds', '4 beds', '3 beds', '3 beds', '3 beds', '3 beds', '4 beds', '3 beds', '4 beds', '3 beds', '4 beds', '3 beds', '4 beds', '4 beds', '3 beds', '3 beds', '5 beds', '3 beds', '4 beds', '3 beds', '3 beds', '3 beds', '3 beds', '2 beds', '3 beds', '3 beds', '3 beds', '3 beds', '4 beds', '3 beds', '3 beds', '4 beds', '4 beds', '3 beds', '3 beds', '3 beds', '4 beds', '3 beds', '3 beds', '2 beds', '3 beds', '3 beds', '3 beds', '3 beds', '3 beds', '3 beds', '3 beds', '3 beds', '4 beds', '2 beds', '3 beds', '3 beds', '3 beds', '3 beds']\n"
     ]
    }
   ],
   "source": [
    "print(len(bed_memphis),bed_memphis)"
   ]
  },
  {
   "cell_type": "code",
   "execution_count": 44,
   "id": "3bc6b5e0",
   "metadata": {},
   "outputs": [
    {
     "name": "stdout",
     "output_type": "stream",
     "text": [
      "280 ['1.5 baths', '1 bath', '3 baths', '2 baths', '1.5 baths', '2 baths', '2.5 baths', '2 baths', '1 bath', '1 bath', '2 baths', '4.5 baths', '1.5 baths', '3 baths', '2.5 baths', '2 baths', '1 bath', '2 baths', '2 baths', '2.5 baths', '2.5 baths', '1.5 baths', '2 baths', '1.5 baths', '2 baths', '2 baths', '2 baths', '1 bath', '1.5 baths', '1 bath', '2 baths', '2 baths', '6 baths', '2.5 baths', '2 baths', '2 baths', '2 baths', '3 baths', '2 baths', '1 bath', '2.5 baths', '1 bath', '2 baths', '3.5 baths', '2 baths', '2 baths', '2 baths', '2.5 baths', '2.5 baths', '2 baths', '2 baths', '2 baths', '2 baths', '2.5 baths', '2 baths', '4.5 baths', '3.5 baths', '2 baths', '3.5 baths', '2.5 baths', '2 baths', '2 baths', '2 baths', '1.5 baths', '2 baths', '2.5 baths', '3 baths', '1 bath', '3.5 baths', '2 baths', '2 baths', '3 baths', '1 bath', '4.5 baths', '2 baths', '8 baths', '2.5 baths', '2 baths', '2 baths', '2 baths', '1 bath', '1 bath', '2 baths', '2 baths', '2 baths', '3.5 baths', '3 baths', '2.5 baths', '1 bath', '2 baths', '2 baths', '2 baths', '3.5 baths', '2 baths', '1 bath', '6 baths', '1 bath', '2.5 baths', '3 baths', '2 baths', '1 bath', '1 bath', '1.5 baths', '3 baths', '2 baths', '4 baths', '1 bath', '1 bath', '1 bath', '1 bath', '1 bath', '1 bath', '2 baths', '1 bath', '3.5 baths', '2 baths', '2 baths', '2 baths', '2 baths', '1 bath', '2 baths', '1 bath', '1.5 baths', '2 baths', '2 baths', '4.5 baths', '1 bath', '1 bath', '1 bath', '1 bath', '1 bath', '2 baths', '1 bath', '2 baths', '2 baths', '2 baths', '1 bath', '1 bath', '1 bath', '1 bath', '2 baths', '1 bath', '2 baths', '1 bath', '1 bath', '1 bath', '1 bath', '2 baths', '2 baths', '1 bath', '2 baths', '2 baths', '2 baths', '2 baths', '3.5 baths', '1 bath', '2 baths', '1 bath', '2 baths', '1 bath', '1 bath', '2.5 baths', '3.5 baths', '2 baths', '2.5 baths', '2 baths', '2.5 baths', '3 baths', '2 baths', '1 bath', '2 baths', '1 bath', '1 bath', '2.5 baths', '2 baths', '3 baths', '2.5 baths', '3.5 baths', '2.5 baths', '2 baths', '2 baths', '1 bath', '2 baths', '2 baths', '2 baths', '1 bath', '2 baths', '1 bath', '2 baths', '2 baths', '3.5 baths', '2 baths', '2.5 baths', '3.5 baths', '2 baths', '2 baths', '1.5 baths', '2 baths', '1.5 baths', '2.5 baths', '1.5 baths', '2 baths', '2.5 baths', '2 baths', '2 baths', '2 baths', '2 baths', '1.5 baths', '2 baths', '2 baths', '3 baths', '1 bath', '2.5 baths', '2 baths', '2 baths', '2 baths', '3 baths', '2 baths', '2 baths', '1 bath', '4.5 baths', '2.5 baths', '2 baths', '2.5 baths', '2 baths', '2 baths', '1 bath', '2.5 baths', '3 baths', '1 bath', '1 bath', '1 bath', '1 bath', '1 bath', '3 baths', '2.5 baths', '2.5 baths', '3 baths', '3.5 baths', '2 baths', '3 baths', '1.5 baths', '2.5 baths', '2.5 baths', '2.5 baths', '2 baths', '2 baths', '3 baths', '2 baths', '1 bath', '1 bath', '2 baths', '1 bath', '1 bath', '2.5 baths', '2 baths', '1.5 baths', '3.5 baths', '2 baths', '1 bath', '2 baths', '2 baths', '3.5 baths', '1 bath', '1 bath', '2 baths', '1.5 baths', '1 bath', '1 bath', '2 baths', '1 bath', '2 baths', '1 bath', '2 baths', '2 baths', '2 baths', '1.5 baths', '1 bath', '1 bath', '1 bath']\n"
     ]
    }
   ],
   "source": [
    "print(len(bath_memphis),bath_memphis)"
   ]
  },
  {
   "cell_type": "code",
   "execution_count": 45,
   "id": "6e3087e6",
   "metadata": {},
   "outputs": [
    {
     "name": "stdout",
     "output_type": "stream",
     "text": [
      "280 ['— sq ft', '— sq ft', '— sq ft', '— sq ft', '— sq ft', '— sq ft', '— sq ft', '— sq ft', '— sq ft', '— sq ft', '— sq ft', '— sq ft', '— sq ft', '— sq ft', '— sq ft', '— sq ft', '— sq ft', '— sq ft', '— sq ft', '— sq ft', '— sq ft', '— sq ft', '— sq ft', '— sq ft', '— sq ft', '— sq ft', '— sq ft', '— sq ft', '— sq ft', '— sq ft', '— sq ft', '— sq ft', '— sq ft', '— sq ft', '— sq ft', '— sq ft', '— sq ft', '— sq ft', '— sq ft', '— sq ft', '— sq ft', '— sq ft', '— sq ft', '— sq ft', '— sq ft', '— sq ft', '— sq ft', '— sq ft', '— sq ft', '— sq ft', '— sq ft', '— sq ft', '— sq ft', '— sq ft', '— sq ft', '— sq ft', '— sq ft', '— sq ft', '— sq ft', '— sq ft', '— sq ft', '— sq ft', '— sq ft', '— sq ft', '— sq ft', '— sq ft', '— sq ft', '— sq ft', '— sq ft', '— sq ft', '— sq ft', '— sq ft', '— sq ft', '— sq ft', '— sq ft', '— sq ft', '— sq ft', '— sq ft', '— sq ft', '— sq ft', '— sq ft', '— sq ft', '— sq ft', '— sq ft', '— sq ft', '— sq ft', '— sq ft', '— sq ft', '— sq ft', '— sq ft', '— sq ft', '— sq ft', '— sq ft', '— sq ft', '— sq ft', '— sq ft', '— sq ft', '— sq ft', '— sq ft', '— sq ft', '— sq ft', '— sq ft', '— sq ft', '— sq ft', '— sq ft', '— sq ft', '— sq ft', '— sq ft', '— sq ft', '— sq ft', '— sq ft', '— sq ft', '— sq ft', '— sq ft', '— sq ft', '— sq ft', '— sq ft', '— sq ft', '— sq ft', '— sq ft', '— sq ft', '— sq ft', '— sq ft', '— sq ft', '— sq ft', '— sq ft', '— sq ft', '— sq ft', '— sq ft', '— sq ft', '— sq ft', '— sq ft', '— sq ft', '— sq ft', '— sq ft', '— sq ft', '— sq ft', '— sq ft', '— sq ft', '— sq ft', '— sq ft', '— sq ft', '— sq ft', '— sq ft', '— sq ft', '— sq ft', '— sq ft', '— sq ft', '— sq ft', '— sq ft', '— sq ft', '— sq ft', '— sq ft', '— sq ft', '— sq ft', '— sq ft', '— sq ft', '— sq ft', '— sq ft', '— sq ft', '— sq ft', '— sq ft', '— sq ft', '— sq ft', '— sq ft', '— sq ft', '— sq ft', '— sq ft', '— sq ft', '— sq ft', '— sq ft', '— sq ft', '— sq ft', '— sq ft', '— sq ft', '— sq ft', '— sq ft', '— sq ft', '— sq ft', '— sq ft', '— sq ft', '— sq ft', '— sq ft', '— sq ft', '— sq ft', '— sq ft', '— sq ft', '— sq ft', '— sq ft', '— sq ft', '— sq ft', '— sq ft', '— sq ft', '— sq ft', '— sq ft', '— sq ft', '— sq ft', '— sq ft', '— sq ft', '— sq ft', '— sq ft', '— sq ft', '— sq ft', '— sq ft', '— sq ft', '— sq ft', '— sq ft', '— sq ft', '— sq ft', '— sq ft', '— sq ft', '— sq ft', '— sq ft', '— sq ft', '— sq ft', '— sq ft', '— sq ft', '— sq ft', '— sq ft', '— sq ft', '— sq ft', '— sq ft', '— sq ft', '— sq ft', '— sq ft', '— sq ft', '— sq ft', '— sq ft', '— sq ft', '— sq ft', '— sq ft', '— sq ft', '— sq ft', '— sq ft', '— sq ft', '— sq ft', '— sq ft', '— sq ft', '— sq ft', '— sq ft', '— sq ft', '— sq ft', '— sq ft', '— sq ft', '— sq ft', '— sq ft', '— sq ft', '— sq ft', '— sq ft', '— sq ft', '— sq ft', '— sq ft', '— sq ft', '— sq ft', '— sq ft', '— sq ft', '— sq ft', '— sq ft', '— sq ft', '— sq ft', '— sq ft', '— sq ft', '— sq ft', '— sq ft', '— sq ft', '— sq ft', '— sq ft', '— sq ft', '— sq ft', '— sq ft', '— sq ft', '— sq ft', '— sq ft', '— sq ft', '— sq ft', '— sq ft', '— sq ft', '— sq ft', '— sq ft', '— sq ft']\n"
     ]
    }
   ],
   "source": [
    "print(len(area_memphis),area_memphis)"
   ]
  },
  {
   "cell_type": "code",
   "execution_count": 46,
   "id": "01583708",
   "metadata": {},
   "outputs": [
    {
     "name": "stdout",
     "output_type": "stream",
     "text": [
      "280 ['2878 Dumbarton Oaks Dr, Memphis, TN 38127', '3290 Valley Stream Cv NW, Memphis, TN 38128', '4263 Burgundy Rd, Memphis, TN 38111', '1073 Boathook Ln E, Cordova, TN 38018', '5030 Quince Rd, Memphis, TN 38117', '4449 Mickey Dr, Memphis, TN 38116', '5409 Banbury St, Memphis, TN 38135', '33 Oslo Cv, Memphis, TN 38018', '1543 Rebecca St, Memphis, TN 38111', '1611 Cranford Rd, Memphis, TN 38117', '1834 N Parkway Ave, Memphis, TN 38112', '5017 Henry Heights Dr, Memphis, TN 38117', '5071 Breckenwood Dr, Memphis, TN 38127', '453 Princeton Wood Cv, Memphis, TN 38117', '3214 Kenneth St, Memphis, TN 38128', '2984 Estes St, Memphis, TN 38115', '2745 Cracklerose Dr, Memphis, TN 38127', '1568 Paullus Ave, Memphis, TN 38127', '3632 Debby Dr, Memphis, TN 38127', '218 Crestmere Pl, Memphis, TN 38112', '5014 Ridge Tree Dr, Memphis, TN 38128', '3017 N Trezevant St, Memphis, TN 38127', '6330 Brightwood Dr, Memphis, TN 38134', '3780 Vanderwood Dr, Memphis, TN 38128', '3598 Mimosa Ave, Memphis, TN 38111', '357 Fountain Crest Dr, Memphis, TN 38120', '428 N Avalon St, Memphis, TN 38112', '943 N Manassas St, Memphis, TN 38107', '317 N Manassas St, Memphis, TN 38105', '1883 Cedarhurst Ave, Memphis, TN 38127', '7569 Bridelwreath Dr, Memphis, TN 38125', '5272 Seahorse Dr, Unincorporated, TN 38141', '4865 Roane Rd, Memphis, TN 38117', '2357 Thornwood Ln, Memphis, TN 38119', '167 Clower Ave, Memphis, TN 38109', '3596 Prescott Rd, Memphis, TN 38118', '1966 Higbee Ave, Memphis, TN 38104', '8817 Dexter Rd, Memphis, TN 38016', '1983 Stone Bridge Cir, Memphis, TN 38134', '3462 Mark Twain St, Memphis, TN 38127', '150 Riverwalk Pl, Memphis, TN 38103', '1114 Biltmore St, Memphis, TN 38122', '8565 Woodland Rose Cir S, Memphis, TN 38016', '345 Williamsburg Ln, Memphis, TN 38117', '181 Wallace Rd, Memphis, TN 38117', '1258 Forrest Ave, Memphis, TN 38104', '5542 Shade Cv, Memphis, TN 38125', '359 Garland St, Memphis, TN 38104', '1606 Oaken Bucket Dr, Memphis, TN 38016', '1804 Forrest Ave, Memphis, TN 38112', '2416 Rozelle St, Memphis, TN 38114', '573 S Mclean Blvd, Memphis, TN 38104', '4534 Crossover Ln, Memphis, TN 38117', '5246 Glynbourne Pl, Memphis, TN 38117', '1226 Vaughn Rd, Memphis, TN 38122', '5335 Wildbrook Cv, Memphis, TN 38120', '335 Walnut Gardens Dr, Memphis, TN 38018', '30 N Auburndale St, Memphis, TN 38104', '226 N White Station Rd, Memphis, TN 38117', '433 Fleda Rd, Memphis, TN 38120', '3863 Guernsey Ave, Memphis, TN 38122', '3600 Clearbrook Dr, Memphis, TN 38118', '8136 Shallow Glen Trl, Memphis, TN 38016', '4396 Bradcrest Cv, Memphis, TN 38128', '6063 New Leaf Ln, Memphis, TN 38141', '9014 Country Downs Cv, Memphis, TN 38016', '2340 E Lake Oaks Dr, Bartlett, TN 38134', '1757 Tahiti Ln, Memphis, TN 38117', '152 Grove Dale St, Memphis, TN 38120', '4231 Argonne St, Memphis, TN 38127', '924 Maury St, Memphis, TN 38107', '1226 Fair Meadow Rd, Memphis, TN 38117', '2544 Madison Ave, Memphis, TN 38112', '4730 Sequoia Rd, Memphis, TN 38117', '4129 Raintree Cv, Memphis, TN 38115', '909 S Shady Grove Rd, Memphis, TN 38120', '1565 Cedar Farms Cv, Memphis, TN 38016', '4534 Beacon Hill Dr, Memphis, TN 38127', '2500 Smith Ridge Rd, Memphis, TN 38127', '4506 Sunny Cv, Memphis, TN 38127', '2574 Malone Rd, Memphis, TN 38114', '572 Leavert Ave, Memphis, TN 38127', '4490 Sunny View Dr, Memphis, TN 38127', '5337 Hickman St, Memphis, TN 38116', '245 S Mendenhall Rd S, Memphis, TN 38117', '1435 Snowden Ave, Memphis, TN 38107', '8390 Bazemore Rd, Memphis, TN 38018', '2015 Jamie Dr, Memphis, TN 38116', '1511 Mcmillan St, Memphis, TN 38106', '6217 Merrywind Cv, Memphis, TN 38115', '4346 Elysian Cv, Unincorporated, TN 38128', '4482 Sunny View Dr, Memphis, TN 38127', '1846 Oak Springs Dr, Memphis, TN 38016', '4476 Sunny View Dr, Memphis, TN 38127', '5389 Beaverton Dr, Memphis, TN 38127', '6042 Evensong Cv, Memphis, TN 38120', '4613 Sumners Wells Rd, Memphis, TN 38118', '284 Fountain Crest Dr, Memphis, TN 38120', '6461 Sweet Berry Cv, Memphis, TN 38120', '2803 E Maryland Cir, Memphis, TN 38133', '3848 Given Ave, Memphis, TN 38122', '2536 Yale Ave, Memphis, TN 38112', '3393 Berea Rd, Memphis, TN 38109', '2266 Montego Dr, Memphis, TN 38016', '4299 Double Tree Rd, Memphis, TN 38109', '1469 Gill Ave, Memphis, TN 38106', '303 W Essex Ave, Memphis, TN 38109', '217 Silverage St, Memphis, TN 38109', '1858 Kansas St, Memphis, TN 38109', '1934 Pinedale Rd, Memphis, TN 38127', '1872 Kansas St, Memphis, TN 38109', '2089 Charjean Rd, Memphis, TN 38114', '2766 Lakeside Dr, Memphis, TN 38133', '3118 Crump Ave, Memphis, TN 38112', '1203 S Hester Cir, Memphis, TN 38116', '529 E Alston Ave, Memphis, TN 38126', '893 N Trezevant St, Memphis, TN 38108', '2051 Carnes Ave, Memphis, TN 38114', '6005 Fox Ridge Dr, Memphis, TN 38115', '2845 N Redbud Cir, Memphis, TN 38114', '4511 Cinderella Dr, Memphis, TN 38109', '5010 Mike Dr, Unincorporated, TN 38127', '2331 Whitney Ave, Memphis, TN 38127', '3814 Selden Cv, Memphis, TN 38128', '3454 Freland Dr, Memphis, TN 38118', '505 Monteigne Blvd, Memphis, TN 38103', '2563 Sunny Hill Dr, Memphis, TN 38127', '3395 Mountain Terrace St, Memphis, TN 38127', '819 Par Ave, Medford, TN 38127', '3759 Bluff Wood Dr, Memphis, TN 38128', '3396 Pryor St, Memphis, TN 38127', '1200 Pera Dr, Memphis, TN 38127', '854 Juliet Ave, Memphis, TN 38127', '790 Buntyn St, Memphis, TN 38114', '4432 Smith Ridge Cv, Memphis, TN 38127', '6009 Raintree Dr, Memphis, TN 38115', '1609 Oakwood St, Memphis, TN 38108', '3588 Macon Rd, Memphis, TN 38122', '3155 Madeline Cir, Memphis, TN 38127', '2879 Overton Crossing St, Memphis, TN 38127', '2008 Whitney Ave, Memphis, TN 38127', '1006 Carrolton Rd, Memphis, TN 38127', '827 Juliet Ave, Memphis, TN 38127', '745 Marsh Ave, Memphis, TN 38127', '3814 Overton Crossing St, Memphis, TN 38127', '3616 Terrace Dr, Memphis, TN 38127', '3447 Madewell St, Memphis, TN 38127', '3278 Dawn Dr, Memphis, TN 38127', '2984 Birchdale Dr, Memphis, TN 38127', '1362 Stage Ave, Memphis, TN 38127', '1156 Panama St, Memphis, TN 38122', '1191 Pera Dr, Memphis, TN 38127', '6247 Cheekwood Ave, Memphis, TN 38134', '3774 Allandale Rd, Memphis, TN 38111', '3269 Windshadow Cv, Memphis, TN 38125', '611 Benham Ave, Memphis, TN 38127', '974 E Holmes Rd, Memphis, TN 38116', '1056 Walk Rd, Memphis, TN 38109', '8784 Overcup Oaks Dr, Memphis, TN 38018', '616 E Davant Ave, Memphis, TN 38106', '834 Crockett St, Memphis, TN 38107', '3929 Clubview Dr, Memphis, TN 38125', '7681 Spirit Lake Cv, Memphis, TN 38016', '5230 Dee Rd, Memphis, TN 38117', '875 Camden Grove Cv, Memphis, TN 38018', '5537 Southwood Dr, Memphis, TN 38120', '8893 Lindstrom Dr, Memphis, TN 38016', '155 Harbor Village Dr, Memphis, TN 38103', '345 S Sanga Rd, Memphis, TN 38018', '3168 Tutwiler Ave, Memphis, TN 38112', '4309 Snowmass Ln, Memphis, TN 38141', '2555 Hale Ave, Memphis, TN 38112', '4080 Maumee St, Memphis, TN 38109', '8610 W Dena Cv W, Memphis, TN 38018', '5718 Fox Bend Ave, Memphis, TN 38115', '4859 Saddlehorn Cv, Unincorporated, TN 38125', '1553 Eastmoreland Ave, Memphis, TN 38104', '8843 Overlea Cv, Memphis, TN 38016', '6635 S Kirby Oaks Cv, Memphis, TN 38119', '3221 Allison Ave, Memphis, TN 38112', '664 Landis St, Memphis, TN 38104', '3349 Alta Rd, Memphis, TN 38109-3227', '2723 Oak Barn Ln, Memphis, TN 38016', '4729 Sequoia Rd, Memphis, TN 38117', '4645 Crossover Ln, Memphis, TN 38117', '916 N Graham Rd, Memphis, TN 38122', '1617 Forrest Ave, Memphis, TN 38112', '5418 Mesquite Rd, Memphis, TN 38120', '3481 Fox Leigh Dr, Memphis, TN 38115', '1384 Woodston Rd, Memphis, TN 38117', '6885 Corsica Dr, Germantown, TN 38138', '2646 Sunbury Cir, Memphis, TN 38133', '1353 Vinton Ave, Memphis, TN 38104', '359 Roseland Pl, Memphis, TN 38111', '1520 Court Ave, Memphis, TN 38104', '667 Hillcrest St, Memphis, TN 38112', '1341 Carol Dr, Memphis, TN 38116', '4187 Auburn Rd, Memphis, TN 38116', '5137 Kittie Lee Ln, Memphis, TN 38118', '209 Mclean Pl, Memphis, TN 38104', '5500 Murff Ave, Memphis, TN 38119', '1736 Forrest Ave, Memphis, TN 38112', '5599 Flowering Peach Dr, Memphis, TN 38115', '776 Garland St, Memphis, TN 38107', '7002 Oakland Chase Dr, Memphis, TN 38125', '5029 E East Shore Dr E, Memphis, TN 38109', '2675 Woodlawn Ter, Memphis, TN 38127', '3377 Brockcrest Cv, Memphis, TN 38128', '1163 Colonial Rd, Memphis, TN 38117', '1922 St Elmo Ave, Memphis, TN 38127', '6843 Wytham Dr, Memphis, TN 38119', '3275 Boone St, Memphis, TN 38127', '3556 Northwood Dr, Memphis, TN 38111', '3424 Hendricks Ave, Memphis, TN 38111', '3331 Dell Glade Dr, Memphis, TN 38111', '4416 Cherrydale Ave, Memphis, TN 38117', '4456 Dorff Dr, Memphis, TN 38116', '424 N Avalon St, Memphis, TN 38112', '3576 Castleman St, Memphis, TN 38118', '1851 Kendale Ave, Memphis, TN 38114', '3606 Fairwood Cv, Memphis, TN 38125', '1370 E Island Pl, Memphis, TN 38103', '4969 Amboy Rd, Memphis, TN 38117', '951 River Landing Dr, Memphis, TN 38103', '4371 Cloudburst Rd, Memphis, TN 38141', '5075 Dianne Dr, Memphis, TN 38116', '1743 Cleoford Ave, Memphis, TN 38127', '1851 Autumndale Dr, Memphis, TN 38016', '186 Harbor Isle Cir N, Memphis, TN 38103', '3257 Millington Rd, Memphis, TN 38127', '3617 Millington Dr, Memphis, TN 38127', '2452 Pecan Cir, Memphis, TN 38114', '846 Garland Ave, Memphis, TN 38107', '3572 Northwood Dr, Memphis, TN 38111', '4149 Old Forest Rd, Unicorp/memphis, TN 38125', '7641 Dexter Park Dr, Memphis, TN 38016', '816 Charles Pl, Memphis, TN 38112', '2615 Sulgrave Cv, Memphis, TN 38119', '107 Founders Ln, Memphis, TN 38103', '4334 Woodcrest Dr, Memphis, TN 38111', '4124 Hedge Hills Ave, Memphis, TN 38117', '3039 Carvel St, Memphis, TN 38118', '1165 Harbor River Dr, Memphis, TN 38103', '2481 E Eagleridge Ln, Memphis, TN 38016', '8787 Dewberry Ln, Memphis, TN 38016', '5244 Marynelle Cv, Memphis, TN 38116', '1369 Marcia Rd, Memphis, TN 38117', '1509 Oakwood Dr, Memphis, TN 38116', '1488 Lyndale Ave, Memphis, TN 38107', '1685 Coleen Rd, Memphis, TN 38111', '3175 S Waynoka Cir, Memphis, TN 38111', '2815 Garden Ln, Memphis, TN 38111', '5013 Newcastle Ave, Memphis, TN 38117', '3588 Aurora Cir, Memphis, TN 38111', '7636 Stonington Dr, Memphis, TN 38125', '647 Maury St, Memphis, TN 38107', '480 S Reese St, Memphis, TN 38111', '133 S Walnut Bend Rd, Memphis, TN 38018', '972 Willoughby St, Memphis, TN 38126', '3503 Arnold Rd, Memphis, TN 38118', '8499 King William Dr, Memphis, TN 38016', '2268 Lake Springs Ln, Memphis, TN 38016', '335 N River Oaks Dr N, Memphis, TN 38120', '4362 Suncrest Dr, Memphis, TN 38127', '5065 Flamingo Rd, Memphis, TN 38117', '1615 Sorghum Mill Dr, Memphis, TN 38016', '4931 Cloister Ave, Memphis, TN 38118', '1286 Inman Rd, Memphis, TN 38111', '3787 S Barron Cir S, Memphis, TN 38111', '1701 Vesey Ave, Memphis, TN 38114', '3173 Sunrise St, Memphis, TN 38127', '4055 Hilldale Ave, Memphis, TN 38117', '624 Northaven Dr, Memphis, TN 38127', '4488 Tarleton Dr, Memphis, TN 38128', '4273 Zaio Ave, Memphis, TN 38122', '1332 Island Shore Dr, Memphis, TN 38103', '3645 W Sutton Dr, Memphis, TN 38127', '1785 Wells Station Rd, Memphis, TN 38108', '4146 Print Ave, Memphis, TN 38108', '4016 N Queensbury Cir, Memphis, TN 38122']\n"
     ]
    }
   ],
   "source": [
    "print(len(address_memphis),address_memphis)"
   ]
  },
  {
   "cell_type": "code",
   "execution_count": 47,
   "id": "681499f9",
   "metadata": {},
   "outputs": [
    {
     "name": "stdout",
     "output_type": "stream",
     "text": [
      "280 ['house', 'house', 'house', 'house', 'house', 'house', 'house', 'house', 'house', 'house', 'house', 'house', 'house', 'house', 'house', 'house', 'house', 'house', 'house', 'house', 'house', 'house', 'house', 'house', 'house', 'house', 'house', 'house', 'house', 'house', 'house', 'house', 'house', 'house', 'house', 'house', 'house', 'house', 'house', 'house', 'house', 'house', 'house', 'house', 'house', 'house', 'house', 'house', 'house', 'house', 'house', 'house', 'house', 'house', 'house', 'house', 'house', 'house', 'house', 'house', 'house', 'house', 'house', 'house', 'house', 'house', 'house', 'house', 'house', 'house', 'house', 'house', 'house', 'house', 'house', 'house', 'house', 'house', 'house', 'house', 'house', 'house', 'house', 'house', 'house', 'house', 'house', 'house', 'house', 'house', 'house', 'house', 'house', 'house', 'house', 'house', 'house', 'house', 'house', 'house', 'house', 'house', 'house', 'house', 'house', 'house', 'house', 'house', 'house', 'house', 'house', 'house', 'house', 'house', 'house', 'house', 'house', 'house', 'house', 'house', 'house', 'house', 'house', 'house', 'house', 'house', 'house', 'house', 'house', 'house', 'house', 'house', 'house', 'house', 'house', 'house', 'house', 'house', 'house', 'house', 'house', 'house', 'house', 'house', 'house', 'house', 'house', 'house', 'house', 'house', 'house', 'house', 'house', 'house', 'house', 'house', 'house', 'house', 'house', 'house', 'house', 'house', 'house', 'house', 'house', 'house', 'house', 'house', 'house', 'house', 'house', 'house', 'house', 'house', 'house', 'house', 'house', 'house', 'house', 'house', 'house', 'house', 'house', 'house', 'house', 'house', 'house', 'house', 'house', 'house', 'house', 'house', 'house', 'house', 'house', 'house', 'house', 'house', 'house', 'house', 'house', 'house', 'house', 'house', 'house', 'house', 'house', 'house', 'house', 'house', 'house', 'house', 'house', 'house', 'house', 'house', 'house', 'house', 'house', 'house', 'house', 'house', 'house', 'house', 'house', 'house', 'house', 'house', 'house', 'house', 'house', 'house', 'house', 'house', 'house', 'house', 'house', 'house', 'house', 'house', 'house', 'house', 'house', 'house', 'house', 'house', 'house', 'house', 'house', 'house', 'house', 'house', 'house', 'house', 'house', 'house', 'house', 'house', 'house', 'house', 'house', 'house', 'house', 'house', 'house', 'house', 'house', 'house', 'house', 'house', 'house', 'house', 'house', 'house', 'house', 'house', 'house', 'house', 'house', 'house']\n"
     ]
    }
   ],
   "source": [
    "# setting the type to house as we have already filtered them by condo\n",
    "\n",
    "type_memphis = [\"house\"]*280\n",
    "\n",
    "print(len(type_memphis),type_memphis)"
   ]
  },
  {
   "cell_type": "markdown",
   "id": "d31d36da",
   "metadata": {},
   "source": [
    "### for location =  Pheonix"
   ]
  },
  {
   "cell_type": "code",
   "execution_count": 49,
   "id": "97a7d415",
   "metadata": {},
   "outputs": [],
   "source": [
    "# going back to the homepage\n",
    "\n",
    "home_button = driver.find_element(By.XPATH, '/html/body/div[1]/div[2]/div/div/header[2]/div[1]/div[1]/div')\n",
    "\n",
    "home_button.click()"
   ]
  },
  {
   "cell_type": "code",
   "execution_count": 50,
   "id": "1daf7951",
   "metadata": {},
   "outputs": [],
   "source": [
    "# entering location = \"Pheonix\" in the search field\n",
    "\n",
    "time.sleep(2)\n",
    "designation = driver.find_element(By.XPATH, '/html/body/div[1]/div[6]/div[2]/div/section/div/div/div/div/div/div/div/div[2]/div/div/form/div/div/input')\n",
    "designation.send_keys(\"Pheonix\")\n",
    "\n",
    "\n",
    "# Clicking the search button\n",
    "\n",
    "search = driver.find_element(By.XPATH, '/html/body/div[1]/div[6]/div[2]/div/section/div/div/div/div/div/div/div/div[2]/div/div/form/div/button')\n",
    "time.sleep(1)\n",
    "search.click()"
   ]
  },
  {
   "cell_type": "code",
   "execution_count": 51,
   "id": "59381400",
   "metadata": {},
   "outputs": [],
   "source": [
    "#selecting \"Condo\" as Home Type in filters\n",
    "\n",
    "home_type_button = driver.find_element(By.XPATH, '/html/body/div[1]/div[8]/div[1]/div[2]/div[1]/div[2]/div/div/div/div[1]/form/div[4]/div')\n",
    "home_type_button.click()\n",
    "\n",
    "\n",
    "#clikcing on condo option\n",
    "\n",
    "condo_button = driver.find_element(By.XPATH, '/html/body/div[1]/div[8]/div[1]/div[2]/div[1]/div[2]/div/div/div/div[1]/form/div[4]/div/div[2]/div/div[1]/div[2]/div/div[3]')\n",
    "time.sleep(1)\n",
    "condo_button.click()"
   ]
  },
  {
   "cell_type": "code",
   "execution_count": 52,
   "id": "ff2e3e86",
   "metadata": {},
   "outputs": [],
   "source": [
    "#scrapping data\n",
    "\n",
    "price_pheonix = []\n",
    "bed_pheonix = []\n",
    "bath_pheonix = []\n",
    "area_pheonix = []\n",
    "address_pheonix = []\n",
    "\n",
    "\n",
    "start = 0\n",
    "end = 7\n",
    "\n",
    "\n",
    "for page in range(start, end):\n",
    "    \n",
    "        #scrapping prices\n",
    "    prices = driver.find_elements(By.CLASS_NAME, \"bp-Homecard__Price--value\")\n",
    "    for i in prices:\n",
    "        price_pheonix.append(i.text)\n",
    "     \n",
    "    \n",
    "        #scrapping no of beds\n",
    "    beds = driver.find_elements(By.CLASS_NAME, 'bp-Homecard__Stats--beds')\n",
    "    for i in beds:\n",
    "        bed_pheonix.append(i.text)\n",
    "     \n",
    "    \n",
    "        #scrapping no of bathrooms\n",
    "    baths = driver.find_elements(By.CLASS_NAME, 'bp-Homecard__Stats--baths')\n",
    "    for i in baths:\n",
    "        bath_pheonix.append(i.text)\n",
    "        \n",
    "    \n",
    "        #scrapping area\n",
    "    areas = driver.find_elements(By.CLASS_NAME, \"bp-Homecard__Stats--sqft\")\n",
    "    for i in areas:\n",
    "        area_pheonix.append(i.text)\n",
    "        \n",
    "        \n",
    "        #scrapping address\n",
    "    addresses = driver.find_elements(By.CLASS_NAME, \"bp-Homecard__Address\")\n",
    "    for i in addresses:\n",
    "        address_pheonix.append(i.text)\n",
    "     \n",
    "    \n",
    "    \n",
    "    next_button = driver.find_element(By.XPATH, '/html/body/div[1]/div[8]/div[1]/div[2]/div[1]/div[5]/div/div[3]/button[2]')\n",
    "    time.sleep(1)\n",
    "    next_button.click()\n",
    "    time.sleep(2)"
   ]
  },
  {
   "cell_type": "code",
   "execution_count": 53,
   "id": "1311dcba",
   "metadata": {},
   "outputs": [
    {
     "name": "stdout",
     "output_type": "stream",
     "text": [
      "280 ['$415,000', '$519,900', '$649,900', '$440,000', '$349,900', '$515,000', '$1,350,000', '$295,000', '$314,900', '$315,000', '$199,900', '$324,000', '$364,500', '$520,000', '$615,000', '$200,000', '$200,000', '$315,000', '$235,000', '$200,000', '$299,000', '$225,000', '$175,000', '$365,000', '$274,900', '$336,000', '$299,999', '$499,000', '$455,000', '$365,000', '$235,000', '$105,000', '$220,000', '$575,000', '$595,000', '$745,000', '$330,000', '$181,000', '$415,000', '$423,500', '$424,900', '$274,900', '$365,000', '$284,000', '$450,000', '$375,000', '$289,900', '$120,000', '$300,000', '$489,000', '$465,000', '$445,000', '$375,000', '$464,999', '$330,000', '$370,000', '$280,000', '$475,000', '$209,999', '$509,000', '$349,900', '$320,000', '$289,950', '$311,000', '$365,000', '$650,000', '$257,400', '$236,000', '$269,900', '$249,000', '$324,900', '$269,900', '$199,900', '$300,000', '$169,000', '$775,000', '$350,000', '$385,000', '$358,000', '$559,000', '$349,900', '$360,000', '$244,900', '$260,000', '$250,000', '$175,000', '$545,000', '$315,000', '$155,000', '$469,000', '$640,000', '$325,000', '$279,900', '$275,000', '$335,000', '$475,000', '$419,900', '$365,000', '$389,900', '$309,000', '$160,000', '$225,000', '$549,000', '$390,000', '$1,350,000', '$89,999', '$283,000', '$110,000', '$142,900', '$467,900', '$350,000', '$369,000', '$400,000', '$335,000', '$135,000', '$319,000', '$189,900', '$249,999', '$359,000', '$259,990', '$404,800', '$190,000', '$400,000', '$380,000', '$299,900', '$178,500', '$309,900', '$128,500', '$175,000', '$235,000', '$357,000', '$240,000', '$620,000', '$290,000', '$200,000', '$425,000', '$269,500', '$289,999', '$445,000', '$339,000', '$259,900', '$167,500', '$1,500,000', '$774,990', '$260,000', '$410,000', '$609,900', '$349,900', '$291,000', '$429,000', '$270,000', '$449,000', '$230,000', '$150,000', '$345,000', '$145,000', '$359,900', '$322,500', '$275,000', '$499,000', '$315,000', '$199,995', '$210,000', '$339,000', '$720,000', '$225,000', '$375,000', '$225,995', '$330,000', '$315,000', '$1,875,000', '$219,900', '$268,000', '$220,000', '$254,900', '$399,000', '$340,000', '$310,000', '$148,000', '$419,400', '$196,000', '$182,500', '$475,000', '$348,000', '$769,000', '$220,000', '$349,900', '$94,000', '$290,000', '$334,995', '$615,000', '$364,000', '$485,000', '$264,900', '$365,000', '$405,000', '$519,000', '$165,000', '$399,000', '$348,900', '$497,000', '$460,000', '$399,900', '$175,000', '$179,990', '$699,000', '$480,000', '$470,000', '$283,000', '$235,000', '$450,000', '$330,000', '$220,000', '$240,000', '$225,000', '$589,000', '$339,000', '$230,000', '$227,900', '$2,395,000', '$325,000', '$675,000', '$294,900', '$225,000', '$340,000', '$269,000', '$676,000', '$584,990', '$220,000', '$129,900', '$515,000', '$275,000', '$250,000', '$413,000', '$330,000', '$395,900', '$220,000', '$998,000', '$374,000', '$269,999', '$259,000', '$1,775,000', '$216,000', '$349,999', '$380,000', '$330,000', '$196,000', '$674,000', '$395,000', '$310,000', '$444,000', '$126,999', '$985,000', '$485,000', '$587,900', '$399,000', '$238,000', '$275,000', '$425,000', '$650,000', '$165,000', '$233,900', '$419,000', '$440,000', '$595,900', '$584,900', '$470,000', '$420,000', '$270,000', '$1,970,000', '$625,000', '$120,000', '$235,000', '$3,095,000', '$229,900', '$694,000', '$311,000', '$168,500', '$357,500', '$269,000']\n"
     ]
    }
   ],
   "source": [
    "print(len(price_pheonix),price_pheonix)"
   ]
  },
  {
   "cell_type": "code",
   "execution_count": 54,
   "id": "9c9a74aa",
   "metadata": {},
   "outputs": [
    {
     "name": "stdout",
     "output_type": "stream",
     "text": [
      "280 ['2 beds', '2 beds', '2 beds', '2 beds', '1 bed', '2 beds', '2 beds', '2 beds', '2 beds', '2 beds', '2 beds', '2 beds', '1 bed', '2 beds', '2 beds', '1 bed', '2 beds', '2 beds', '1 bed', '1 bed', '1 bed', '1 bed', '2 beds', '2 beds', '3 beds', '2 beds', '2 beds', '2 beds', '2 beds', '3 beds', '2 beds', '0 beds', '1 bed', '2 beds', '2 beds', '2 beds', '2 beds', '1 bed', '2 beds', '3 beds', '2 beds', '3 beds', '2 beds', '2 beds', '2 beds', '3 beds', '2 beds', '1 bed', '1 bed', '1 bed', '3 beds', '2 beds', '1 bed', '2 beds', '2 beds', '1 bed', '2 beds', '2 beds', '3 beds', '2 beds', '2 beds', '2 beds', '2 beds', '2 beds', '1 bed', '2 beds', '2 beds', '1 bed', '2 beds', '2 beds', '1 bed', '2 beds', '1 bed', '1 bed', '0 beds', '2 beds', '3 beds', '2 beds', '2 beds', '2 beds', '2 beds', '2 beds', '2 beds', '2 beds', '1 bed', '1 bed', '2 beds', '1 bed', '1 bed', '1 bed', '2 beds', '2 beds', '1 bed', '2 beds', '2 beds', '2 beds', '2 beds', '2 beds', '1 bed', '1 bed', '2 beds', '1 bed', '2 beds', '1 bed', '2 beds', '1 bed', '2 beds', '2 beds', '1 bed', '2 beds', '2 beds', '3 beds', '2 beds', '2 beds', '1 bed', '2 beds', '1 bed', '1 bed', '2 beds', '1 bed', '2 beds', '1 bed', '2 beds', '1 bed', '2 beds', '1 bed', '2 beds', '1 bed', '1 bed', '1 bed', '2 beds', '2 beds', '2 beds', '2 beds', '2 beds', '1 bed', '2 beds', '3 beds', '2 beds', '1 bed', '1 bed', '1 bed', '3 beds', '3 beds', '2 beds', '2 beds', '2 beds', '2 beds', '2 beds', '2 beds', '2 beds', '2 beds', '1 bed', '2 beds', '2 beds', '1 bed', '3 beds', '2 beds', '1 bed', '2 beds', '2 beds', '1 bed', '1 bed', '2 beds', '2 beds', '2 beds', '3 beds', '1 bed', '1 bed', '2 beds', '2 beds', '1 bed', '2 beds', '2 beds', '2 beds', '3 beds', '2 beds', '2 beds', '1 bed', '1 bed', '2 beds', '3 beds', '2 beds', '1 bed', '1 bed', '1 bed', '2 beds', '1 bed', '2 beds', '2 beds', '2 beds', '3 beds', '2 beds', '2 beds', '1 bed', '2 beds', '2 beds', '2 beds', '2 beds', '3 beds', '2 beds', '2 beds', '1 bed', '2 beds', '2 beds', '1 bed', '2 beds', '2 beds', '2 beds', '1 bed', '2 beds', '1 bed', '1 bed', '1 bed', '2 beds', '2 beds', '2 beds', '1 bed', '1 bed', '2 beds', '1 bed', '3 beds', '3 beds', '1 bed', '2 beds', '2 beds', '2 beds', '2 beds', '2 beds', '1 bed', '2 beds', '2 beds', '3 beds', '2 beds', '2 beds', '3 beds', '1 bed', '3 beds', '2 beds', '2 beds', '1 bed', '3 beds', '1 bed', '3 beds', '2 beds', '1 bed', '2 beds', '2 beds', '2 beds', '2 beds', '1 bed', '2 beds', '2 beds', '1 bed', '2 beds', '3 beds', '1 bed', '2 beds', '3 beds', '2 beds', '1 bed', '2 beds', '3 beds', '2 beds', '2 beds', '2 beds', '1 bed', '1 bed', '2 beds', '3 beds', '2 beds', '1 bed', '1 bed', '2 beds', '1 bed', '2 beds', '2 beds', '1 bed', '2 beds', '2 beds']\n"
     ]
    }
   ],
   "source": [
    "print(len(bed_pheonix),bed_pheonix)"
   ]
  },
  {
   "cell_type": "code",
   "execution_count": 55,
   "id": "0f74f6c6",
   "metadata": {},
   "outputs": [
    {
     "name": "stdout",
     "output_type": "stream",
     "text": [
      "280 ['2 baths', '2 baths', '2 baths', '2 baths', '1 bath', '2.5 baths', '2.5 baths', '2 baths', '2 baths', '2 baths', '2 baths', '2 baths', '1 bath', '2 baths', '2 baths', '1 bath', '1 bath', '2 baths', '1 bath', '1 bath', '1 bath', '1 bath', '2 baths', '2 baths', '2 baths', '2 baths', '2 baths', '2 baths', '2 baths', '2 baths', '2 baths', '1 bath', '1 bath', '2 baths', '2 baths', '2 baths', '2 baths', '1 bath', '2 baths', '2 baths', '2 baths', '1.75 baths', '2 baths', '2 baths', '2 baths', '1.75 baths', '1 bath', '1 bath', '1 bath', '1.5 baths', '2 baths', '2 baths', '2 baths', '2 baths', '2.5 baths', '1 bath', '1 bath', '2 baths', '2 baths', '2 baths', '2 baths', '1.5 baths', '2 baths', '2 baths', '1 bath', '2 baths', '2 baths', '1 bath', '2 baths', '2 baths', '1.5 baths', '2 baths', '1 bath', '1 bath', '1 bath', '2 baths', '2 baths', '1.75 baths', '2 baths', '2.5 baths', '2 baths', '2 baths', '1 bath', '2 baths', '1 bath', '1 bath', '2 baths', '1 bath', '1 bath', '1.5 baths', '2 baths', '2 baths', '1 bath', '2 baths', '1.5 baths', '2.5 baths', '2 baths', '2 baths', '1 bath', '1 bath', '1.75 baths', '1 bath', '2 baths', '1.5 baths', '3 baths', '1 bath', '2 baths', '1 bath', '1 bath', '2 baths', '1 bath', '2 baths', '2 baths', '2 baths', '1 bath', '1.5 baths', '1 bath', '1 bath', '2 baths', '1 bath', '1 bath', '1 bath', '1.75 baths', '1 bath', '1.5 baths', '1 bath', '2 baths', '1 bath', '1 bath', '1 bath', '2 baths', '2 baths', '2 baths', '2 baths', '1 bath', '1 bath', '2 baths', '2 baths', '2 baths', '1 bath', '1 bath', '1 bath', '3 baths', '2 baths', '1 bath', '2 baths', '2 baths', '2 baths', '2 baths', '2 baths', '2 baths', '2 baths', '1 bath', '1 bath', '2 baths', '1 bath', '2 baths', '2 baths', '1 bath', '2 baths', '2 baths', '1 bath', '1 bath', '2 baths', '2.5 baths', '1.5 baths', '2 baths', '1 bath', '1 bath', '2 baths', '2 baths', '1 bath', '2 baths', '1 bath', '2 baths', '2 baths', '1 bath', '2 baths', '1 bath', '1.5 baths', '1 bath', '1 bath', '2 baths', '1 bath', '1 bath', '1 bath', '2 baths', '1 bath', '2 baths', '2 baths', '2 baths', '1.75 baths', '2 baths', '1 bath', '1 bath', '2 baths', '2 baths', '1 bath', '2 baths', '2 baths', '1.75 baths', '2 baths', '1.5 baths', '1 bath', '2 baths', '1 bath', '2 baths', '2 baths', '2 baths', '1 bath', '2 baths', '1 bath', '1 bath', '1 bath', '1 bath', '2 baths', '2 baths', '1 bath', '1 bath', '2.5 baths', '1 bath', '2 baths', '2 baths', '1 bath', '2.5 baths', '2 baths', '2 baths', '2 baths', '1.75 baths', '1 bath', '2 baths', '2 baths', '2 baths', '2 baths', '2 baths', '2 baths', '1 bath', '2.5 baths', '2 baths', '2 baths', '1 bath', '3 baths', '1 bath', '2 baths', '2 baths', '1 bath', '1 bath', '2 baths', '2 baths', '2 baths', '1 bath', '1 bath', '2 baths', '1.5 baths', '2 baths', '1.75 baths', '1 bath', '2 baths', '2 baths', '2.5 baths', '1 bath', '2 baths', '2 baths', '2 baths', '2 baths', '2 baths', '1.5 baths', '1.5 baths', '2 baths', '2 baths', '2 baths', '1 bath', '1 bath', '2.5 baths', '1 bath', '2 baths', '2.5 baths', '1 bath', '2 baths', '2 baths']\n"
     ]
    }
   ],
   "source": [
    "print(len(bath_pheonix),bath_pheonix)"
   ]
  },
  {
   "cell_type": "code",
   "execution_count": 56,
   "id": "c5202a9c",
   "metadata": {},
   "outputs": [
    {
     "name": "stdout",
     "output_type": "stream",
     "text": [
      "280 ['1,234 sq ft', '1,420 sq ft', '1,125 sq ft', '1,257 sq ft', '850 sq ft', '1,490 sq ft', '1,415 sq ft', '1,102 sq ft', '1,184 sq ft', '1,006 sq ft', '850 sq ft', '1,120 sq ft', '866 sq ft', '1,169 sq ft', '1,269 sq ft', '655 sq ft', '704 sq ft', '1,275 sq ft', '680 sq ft', '742 sq ft', '753 sq ft', '608 sq ft', '900 sq ft', '1,059 sq ft', '1,281 sq ft', '1,000 sq ft', '982 sq ft', '1,246 sq ft', '1,246 sq ft', '1,367 sq ft', '896 sq ft', '477 sq ft', '890 sq ft', '1,261 sq ft', '1,444 sq ft', '1,491 sq ft', '1,026 sq ft', '616 sq ft', '1,059 sq ft', '1,093 sq ft', '1,259 sq ft', '1,216 sq ft', '1,056 sq ft', '995 sq ft', '1,238 sq ft', '1,552 sq ft', '919 sq ft', '689 sq ft', '549 sq ft', '1,095 sq ft', '1,357 sq ft', '1,288 sq ft', '797 sq ft', '1,032 sq ft', '1,106 sq ft', '852 sq ft', '1,076 sq ft', '1,158 sq ft', '1,136 sq ft', '1,468 sq ft', '1,006 sq ft', '950 sq ft', '944 sq ft', '999 sq ft', '837 sq ft', '2,074 sq ft', '1,320 sq ft', '849 sq ft', '982 sq ft', '858 sq ft', '1,224 sq ft', '982 sq ft', '702 sq ft', '850 sq ft', '510 sq ft', '1,659 sq ft', '1,620 sq ft', '985 sq ft', '1,118 sq ft', '1,760 sq ft', '1,059 sq ft', '1,092 sq ft', '1,024 sq ft', '914 sq ft', '760 sq ft', '702 sq ft', '1,261 sq ft', '942 sq ft', '702 sq ft', '822 sq ft', '1,814 sq ft', '1,082 sq ft', '693 sq ft', '1,000 sq ft', '1,344 sq ft', '1,630 sq ft', '1,408 sq ft', '1,344 sq ft', '1,069 sq ft', '680 sq ft', '936 sq ft', '685 sq ft', '1,398 sq ft', '913 sq ft', '3,000 sq ft', '550 sq ft', '1,038 sq ft', '930 sq ft', '689 sq ft', '1,032 sq ft', '855 sq ft', '1,217 sq ft', '1,092 sq ft', '1,176 sq ft', '442 sq ft', '1,023 sq ft', '655 sq ft', '519 sq ft', '950 sq ft', '824 sq ft', '880 sq ft', '576 sq ft', '1,300 sq ft', '744 sq ft', '1,012 sq ft', '760 sq ft', '1,144 sq ft', '608 sq ft', '629 sq ft', '519 sq ft', '843 sq ft', '1,018 sq ft', '1,340 sq ft', '1,019 sq ft', '810 sq ft', '964 sq ft', '965 sq ft', '1,281 sq ft', '1,335 sq ft', '1,073 sq ft', '771 sq ft', '466 sq ft', '3,045 sq ft', '1,812 sq ft', '918 sq ft', '1,256 sq ft', '1,814 sq ft', '1,170 sq ft', '1,067 sq ft', '1,383 sq ft', '1,037 sq ft', '1,246 sq ft', '840 sq ft', '600 sq ft', '1,256 sq ft', '576 sq ft', '1,252 sq ft', '1,008 sq ft', '713 sq ft', '1,169 sq ft', '1,038 sq ft', '552 sq ft', '616 sq ft', '1,059 sq ft', '1,435 sq ft', '958 sq ft', '1,558 sq ft', '673 sq ft', '693 sq ft', '1,011 sq ft', '1,698 sq ft', '646 sq ft', '948 sq ft', '1,024 sq ft', '1,282 sq ft', '1,321 sq ft', '1,041 sq ft', '919 sq ft', '504 sq ft', '1,074 sq ft', '840 sq ft', '836 sq ft', '1,440 sq ft', '691 sq ft', '865 sq ft', '624 sq ft', '1,044 sq ft', '550 sq ft', '1,279 sq ft', '1,342 sq ft', '1,456 sq ft', '1,640 sq ft', '1,646 sq ft', '900 sq ft', '866 sq ft', '1,256 sq ft', '1,468 sq ft', '768 sq ft', '1,059 sq ft', '1,265 sq ft', '1,089 sq ft', '972 sq ft', '822 sq ft', '836 sq ft', '922 sq ft', '773 sq ft', '1,170 sq ft', '1,398 sq ft', '948 sq ft', '598 sq ft', '1,277 sq ft', '850 sq ft', '581 sq ft', '824 sq ft', '988 sq ft', '1,464 sq ft', '1,059 sq ft', '656 sq ft', '660 sq ft', '1,954 sq ft', '779 sq ft', '2,074 sq ft', '1,295 sq ft', '624 sq ft', '1,305 sq ft', '989 sq ft', '1,185 sq ft', '1,911 sq ft', '939 sq ft', '702 sq ft', '1,224 sq ft', '956 sq ft', '1,270 sq ft', '1,256 sq ft', '956 sq ft', '1,265 sq ft', '704 sq ft', '2,717 sq ft', '1,344 sq ft', '1,037 sq ft', '850 sq ft', '2,319 sq ft', '856 sq ft', '1,250 sq ft', '1,059 sq ft', '850 sq ft', '863 sq ft', '1,843 sq ft', '1,243 sq ft', '1,008 sq ft', '553 sq ft', '608 sq ft', '1,091 sq ft', '822 sq ft', '1,125 sq ft', '1,216 sq ft', '688 sq ft', '1,120 sq ft', '1,525 sq ft', '1,760 sq ft', '504 sq ft', '952 sq ft', '1,093 sq ft', '1,115 sq ft', '1,125 sq ft', '1,125 sq ft', '822 sq ft', '822 sq ft', '924 sq ft', '1,755 sq ft', '1,356 sq ft', '672 sq ft', '693 sq ft', '3,744 sq ft', '693 sq ft', '1,188 sq ft', '1,344 sq ft', '563 sq ft', '1,038 sq ft', '900 sq ft']\n"
     ]
    }
   ],
   "source": [
    "print(len(area_pheonix),area_pheonix)"
   ]
  },
  {
   "cell_type": "code",
   "execution_count": 57,
   "id": "6812ccb9",
   "metadata": {},
   "outputs": [
    {
     "name": "stdout",
     "output_type": "stream",
     "text": [
      "280 ['4465 E Paradise Village Pkwy S #1163, Phoenix, AZ 85032', '5100 E Rancho Paloma Dr #2009, Cave Creek, AZ 85331', '3131 N Central Ave #7022, Phoenix, AZ 85012', '5104 N 32nd St #307, Phoenix, AZ 85018', '4303 E Cactus Rd #315, Phoenix, AZ 85032', '17 W Vernon Ave #23, Phoenix, AZ 85003', '2802 E Camino Acequia Dr #46, Phoenix, AZ 85016', '355 E Thomas Rd Unit B206, Phoenix, AZ 85012', '920 E Devonshire Ave #2004, Phoenix, AZ 85014', '2025 E Campbell Ave #164, Phoenix, AZ 85016', '720 E Alice Ave #109, Phoenix, AZ 85020', '6530 N 12th St #2, Phoenix, AZ 85014', '11640 N Tatum Blvd #2012, Phoenix, AZ 85028', '1 E Lexington Ave #910, Phoenix, AZ 85012', '4808 N 24th St #230, Phoenix, AZ 85016', '2625 E Indian School Rd #232, Phoenix, AZ 85016', '11666 N 28th Dr #210, Phoenix, AZ 85029', '6767 N 7th St #227, Phoenix, AZ 85014', '4850 E Desert Cove Ave #214, Scottsdale, AZ 85254', '1302 E Maryland Ave #15, Phoenix, AZ 85014', '4925 E Desert Cove Ave #308, Scottsdale, AZ 85254', '729 W Coolidge St #115, Phoenix, AZ 85013', '4307 N 21st Dr #3, Phoenix, AZ 85015', '4925 E Desert Cove Ave #222, Scottsdale, AZ 85254', '11036 N 28 Dr #210, Phoenix, AZ 85029', '4554 E Paradise Village Pkwy N #232, Phoenix, AZ 85032', '5525 E Thomas Rd Unit I8, Phoenix, AZ 85018', '5450 E Deer Valley Dr #2169, Phoenix, AZ 85054', '5450 E Deer Valley Dr #3021, Phoenix, AZ 85054', '10410 N Cave Creek Rd #2213, Phoenix, AZ 85020', '3434 W Danbury Dr Unit A204, Phoenix, AZ 85053', '2610 W Berridge Ln Unit c115, Phoenix, AZ 85017', '6236 N 16th St #14, Phoenix, AZ 85016', '1 E Lexington Ave #1101, Phoenix, AZ 85012', '6502 N Central Ave Unit B103, Phoenix, AZ 85012', '1326 N Central Ave #413, Phoenix, AZ 85004', '4201 N 20th St #221, Phoenix, AZ 85016', '2929 W Yorkshire Dr #1085, Phoenix, AZ 85027', '4850 E Desert Cove Ave #136, Scottsdale, AZ 85254', '6900 E Princess Dr #1145, Phoenix, AZ 85054', '101 N 7th St #241, Phoenix, AZ 85034', '1624 E Campbell Ave #51, Phoenix, AZ 85016', '29606 N Tatum Blvd #106, Cave Creek, AZ 85331', '5401 E Van Buren St #1006, Phoenix, AZ 85008', '615 E Portland St #118, Phoenix, AZ 85004', '102 W Maryland Ave Unit A2, Phoenix, AZ 85013', '2938 N 61st Pl #114, Scottsdale, AZ 85251', '1701 W Tuckey Ln #102, Phoenix, AZ 85015', '475 N 9th St #203, Phoenix, AZ 85006', '4808 N 24th St #1326, Phoenix, AZ 85016', '16013 S Desert Foothills Pkwy #2073, Phoenix, AZ 85048', '615 E Portland St #201, Phoenix, AZ 85004', '5450 E Deer Valley Dr #4176, Phoenix, AZ 85054', '1130 N 2nd St #309, Phoenix, AZ 85004', '4330 N 5th Ave #206, Phoenix, AZ 85013', '207 W Clarendon Ave Unit 18D, Phoenix, AZ 85013', '2020 W Union Hills Dr #259, Phoenix, AZ 85027', '7009 E Acoma Dr #1101, Scottsdale, AZ 85254', '16602 N 25th St #123, Phoenix, AZ 85032', '5350 E Deer Valley Dr #3419, Phoenix, AZ 85054', '2025 E Campbell Ave #265, Phoenix, AZ 85016', '4646 N 11th Ave #121, Phoenix, AZ 85013', '3434 E Baseline Rd #259, Phoenix, AZ 85042', '5302 E Van Buren St #1059, Phoenix, AZ 85008', '114 W Adams St #402, Phoenix, AZ 85003', '5100 E Rancho Paloma Dr #2043, Cave Creek, AZ 85331', '520 W Clarendon Ave Unit G2, Phoenix, AZ 85013', '17017 N 12th St #2124, Phoenix, AZ 85022', '5525 E Thomas Rd Unit A6, Phoenix, AZ 85018', '3434 E Baseline Rd #108, Phoenix, AZ 85042', '5102 N 31st Pl #422, Phoenix, AZ 85016', '5525 E Thomas Rd Unit A3, Phoenix, AZ 85018', '4750 N Central Ave Unit 8B, Phoenix, AZ 85012', '12212 N Paradise Village Pkwy S #323, Phoenix, AZ 85032', '808 E Lawrence Ln #102, Phoenix, AZ 85020', '208 W Portland St #257, Phoenix, AZ 85003', '349 E Thomas Rd Unit E401, Phoenix, AZ 85012', '6900 E Princess Dr #1192, Phoenix, AZ 85054', '1701 E Colter St #274, Phoenix, AZ 85016', '1326 N Central Ave #303, Phoenix, AZ 85004', '4925 E Desert Cove Ave #233, Scottsdale, AZ 85254', '4044 E Calle Redonda -- #39, Phoenix, AZ 85018', '11048 N 28th Dr #145, Phoenix, AZ 85029', '14203 N 19th Ave #2038, Phoenix, AZ 85023', '3302 N 7th St #136, Phoenix, AZ 85014', '4750 N Central Ave Unit 8P, Phoenix, AZ 85012', '1 E Lexington Ave #701, Phoenix, AZ 85012', '1701 E Colter St #421, Phoenix, AZ 85016', '4750 N Central Ave Unit 3F, Phoenix, AZ 85012', '3131 N Central Ave #5020, Phoenix, AZ 85012', '17850 N 68th St #3097, Phoenix, AZ 85054', '10410 N Cave Creek Rd #2053, Phoenix, AZ 85020', '3830 E Lakewood Pkwy E #2047, Phoenix, AZ 85048', '4444 E Paradise Village Pkwy N #141, Phoenix, AZ 85032', '3416 N 44th St #43, Phoenix, AZ 85018', '101 N 7th St #202, Phoenix, AZ 85034', '3236 E Chandler Blvd #2019, Phoenix, AZ 85048', '3600 N 5th Ave #200, Phoenix, AZ 85013', '5104 N 32nd St N #430, Phoenix, AZ 85018', '4419 N 27th St #10, Phoenix, AZ 85016', '3810 N Maryvale Pkwy #1087, Phoenix, AZ 85031', '4444 E Paradise Village Pkwy N #258, Phoenix, AZ 85032', '2323 N Central Ave #502, Phoenix, AZ 85004', '310 S 4th St #1502, Phoenix, AZ 85004', '2402 E Esplanade Ln #201, Phoenix, AZ 85016', '2610 W Berridge Ln Unit c116, Phoenix, AZ 85017', '1880 E Morten Ave #215, Phoenix, AZ 85020', '2567 W Berridge Ln Unit D224, Phoenix, AZ 85017', '1701 W Tuckey Ln #229, Phoenix, AZ 85015', '1130 N 2nd St #315, Phoenix, AZ 85004', '16013 S Desert Foothills Pkwy #2001, Phoenix, AZ 85048', '5303 N 7th St #321, Phoenix, AZ 85014', '4131 E Camelback Rd #40, Phoenix, AZ 85018', '5550 N 12th St #19, Phoenix, AZ 85014', '4750 N Central Ave Unit 6L, Phoenix, AZ 85012', '4316 E Avalon Dr #7, Phoenix, AZ 85018', '2625 E Indian School Rd #134, Phoenix, AZ 85016', '6125 E Indian School Rd #125, Scottsdale, AZ 85251', '7557 N Dreamy Draw Dr #254, Phoenix, AZ 85020', '3302 N 7th St #368, Phoenix, AZ 85014', '805 N 4th Ave #404, Phoenix, AZ 85003', '3033 E Devonshire Ave #2012, Phoenix, AZ 85016', '5035 N 10th Pl #210, Phoenix, AZ 85014', '1130 N 2nd St #413, Phoenix, AZ 85004', '4438 E Hubbell St #31, Phoenix, AZ 85008', '3131 W Cochise Dr #244, Phoenix, AZ 85051', '385 W Pierson St Unit F1, Phoenix, AZ 85013', '18202 N Cave Creek Rd #229, Phoenix, AZ 85032', '3033 E Devonshire Ave #2025, Phoenix, AZ 85016', '6125 E Indian School Rd #183, Scottsdale, AZ 85251', '6900 E Princess Dr #1130, Phoenix, AZ 85054', '4141 N 31st St #410, Phoenix, AZ 85016', '15221 N Clubgate Dr N #2125, Scottsdale, AZ 85254', '2929 W Yorkshire Dr #1119, Phoenix, AZ 85027', '5323 N 19th Ave #24, Phoenix, AZ 85015', '4808 N 24th St #528, Phoenix, AZ 85016', '10610 S 48th St #1064, Phoenix, AZ 85044', '11042 N 28th Dr #136, Phoenix, AZ 85029', '11640 N Tatum Blvd #1006, Phoenix, AZ 85028', '5122 N 31st Way #225, Phoenix, AZ 85016', '2938 N 61st Pl #134, Scottsdale, AZ 85251', '3131 W Cochise Dr #165, Phoenix, AZ 85051', '15802 N 71st St #602, Scottsdale, AZ 85254', '2323 N Central Ave #1004, Phoenix, AZ 85004', '4141 N 31st St #215, Phoenix, AZ 85016', '4303 E Cactus Rd #349, Phoenix, AZ 85032', '17850 N 68th St #2151, Phoenix, AZ 85054', '5102 N 31st Pl #411, Phoenix, AZ 85016', '2929 W Yorkshire Dr #1048, Phoenix, AZ 85027', '33575 N Dove Lakes Dr #2015, Cave Creek, AZ 85331', '10030 W Indian School Rd #234, Phoenix, AZ 85037', '5350 E Deer Valley Dr #2399, Phoenix, AZ 85054', '5550 N 12th St #2, Phoenix, AZ 85014', '1908 W Berridge Ln #9, Phoenix, AZ 85015', '12222 N Paradise Village Pkwy S #409, Phoenix, AZ 85032', '3033 E Devonshire Ave #1034, Phoenix, AZ 85016', '10030 W Indian School Rd #266, Phoenix, AZ 85037', '1241 E Medlock Dr #113, Phoenix, AZ 85014', '4704 E Paradise Village Pkwy N #231, Phoenix, AZ 85032', '1 E Lexington Ave #304, Phoenix, AZ 85012', '1880 E Morten Ave #221, Phoenix, AZ 85020', '1241 N 48th St #113, Phoenix, AZ 85008', '2929 W Yorkshire Dr #1028, Phoenix, AZ 85027', '4925 E Desert Cove Ave #242, Scottsdale, AZ 85254', '310 S 4th St #1905, Phoenix, AZ 85004', '1531 W Colter St #16, Phoenix, AZ 85015', '6767 N 7th St #213, Phoenix, AZ 85014', '1012 E Osborn Rd Unit A, Phoenix, AZ 85014', '5122 E Shea Blvd #2010, Scottsdale, AZ 85254', '1880 E Morten Ave #242, Phoenix, AZ 85020', '7180 E Kierland Blvd #1015, Scottsdale, AZ 85254', '18416 N Cave Creek Rd #2015, Phoenix, AZ 85032', '18416 N Cave Creek Rd #3028, Phoenix, AZ 85032', '11048 N 28th Dr #247, Phoenix, AZ 85029', '8344 N 21st Dr Unit I210, Phoenix, AZ 85021', '7557 N Dreamy Draw Dr #151, Phoenix, AZ 85020', '4114 E Calle Redonda -- #54, Phoenix, AZ 85018', '2938 N 61st Pl #247, Scottsdale, AZ 85251', '12440 N 20th St #113, Phoenix, AZ 85022', '310 S 4th St #707, Phoenix, AZ 85004', '925 W Peoria Ave #37, Phoenix, AZ 85029', '18202 N Cave Creek Rd #226, Phoenix, AZ 85032', '20660 N 40th St #2159, Phoenix, AZ 85050', '7009 E Acoma Dr #1073, Scottsdale, AZ 85254', '7120 E Kierland Blvd #219, Scottsdale, AZ 85254', '3434 E Baseline Rd #229, Phoenix, AZ 85042', '16013 S Desert Foothills Pkwy #1136, Phoenix, AZ 85048', '2569 W Berridge Ln #222, Phoenix, AZ 85017', '3655 N 5th Ave #111, Phoenix, AZ 85013', '4635 N 22nd St #120, Phoenix, AZ 85016', '2323 N Central Ave #906, Phoenix, AZ 85004', '100 W Maryland Ave Unit K1, Phoenix, AZ 85013', '2302 N Central Ave N #302, Phoenix, AZ 85004', '6819 N 12th St #1, Phoenix, AZ 85014', '11640 N Tatum Blvd #1100, Phoenix, AZ 85028', '12212 N Paradise Village Pkwy S #343, Phoenix, AZ 85032', '5350 E Deer Valley Dr #1257, Phoenix, AZ 85054', '21622 N 23rd Ave Unit B203, Phoenix, AZ 85027', '4850 E Desert Cove Ave #132, Scottsdale, AZ 85254', '3830 E Lakewood Pkwy E #2151, Phoenix, AZ 85048', '4808 N 24th St #527, Phoenix, AZ 85016', '7009 E Acoma Dr #2167, Scottsdale, AZ 85254', '3131 N Central Ave #3019, Phoenix, AZ 85012', '18202 N Cave Creek Rd #236, Phoenix, AZ 85032', '3131 W Cochise Dr #201, Phoenix, AZ 85051', '7180 E Kierland Blvd #204, Scottsdale, AZ 85254', '5124 N 31st Pl #531, Phoenix, AZ 85016', '2323 N Central Ave #1802, Phoenix, AZ 85004', '18416 N Cave Creek Rd #3060, Phoenix, AZ 85032', '5302 E Van Buren St #2045, Phoenix, AZ 85008', '5104 N 32nd St #422, Phoenix, AZ 85018', '4644 N 22nd St #1017, Phoenix, AZ 85016', '1720 E Thunderbird Rd #1081, Phoenix, AZ 85022', '3302 N 7th St #215, Phoenix, AZ 85014', '2533 W Hazelwood St #18, Phoenix, AZ 85017', '5350 E Deer Valley Dr #3424, Phoenix, AZ 85054', '4850 E Desert Cove Ave #232, Scottsdale, AZ 85254', '6125 E Indian School Rd #197, Scottsdale, AZ 85251', '2228 N 52nd St #121, Phoenix, AZ 85008', '7180 E Kierland Blvd #916, Scottsdale, AZ 85254', '5335 E Shea Blvd #1115, Scottsdale, AZ 85254', '5100 E Rancho Paloma Dr #2070, Cave Creek, AZ 85331', '3420 W Danbury Dr Unit C102, Phoenix, AZ 85053', '3434 E Baseline Rd #253, Phoenix, AZ 85042', '2340 E Hidalgo Ave, Phoenix, AZ 85040', '3848 N 3rd Ave #2053, Phoenix, AZ 85013', '6119 N 28th Pl, Phoenix, AZ 85016', '5100 E Rancho Paloma Dr #1052, Cave Creek, AZ 85331', '11666 N 28th Dr #173, Phoenix, AZ 85029', '4750 N Central Ave Unit 8C, Phoenix, AZ 85012', '5136 N 31st Pl #612, Phoenix, AZ 85016', '2228 E Campbell Ave #218, Phoenix, AZ 85016', '3420 W Danbury Dr Unit C232, Phoenix, AZ 85053', '3637 E Monterosa St #17, Phoenix, AZ 85018', '2228 E Campbell Ave #213, Phoenix, AZ 85016', '29606 N Tatum Blvd #268, Cave Creek, AZ 85331', '1880 E Morten Ave #114, Phoenix, AZ 85020', '1040 E Osborn Rd #302, Phoenix, AZ 85014', '3600 N 5th Ave #205, Phoenix, AZ 85013', '10030 W Indian School Rd #158, Phoenix, AZ 85037', '12212 N Paradise Village Pkwy S #105, Phoenix, AZ 85032', '5250 E Deer Valley Dr #158, Phoenix, AZ 85054', '19601 N 7th St #2101, Phoenix, AZ 85024', '1241 E Medlock Dr #210, Phoenix, AZ 85014', '4850 E Desert Cove Ave #328, Scottsdale, AZ 85254', '12212 N Paradise Village Pkwy S #445, Phoenix, AZ 85032', '1702 W Tuckey Ln #213, Phoenix, AZ 85015', '21320 N 56th St #2145, Phoenix, AZ 85054', '16 W Encanto Blvd #406, Phoenix, AZ 85003', '1225 E Medlock Dr #103, Phoenix, AZ 85014', '2211 E Camelback Rd #101, Phoenix, AZ 85016', '18202 N Cave Creek Rd #134, Phoenix, AZ 85032', '7120 E Kierland Blvd #720, Scottsdale, AZ 85254', '3131 N Central Ave #6020, Phoenix, AZ 85012', '3131 N Central Ave #6014, Phoenix, AZ 85012', '1624 E Campbell Ave #12, Phoenix, AZ 85016', '5302 E Van Buren St #2066, Phoenix, AZ 85008', '6544 N 12th St #21, Phoenix, AZ 85014', '102 W Maryland Ave Unit F1, Phoenix, AZ 85013', '1326 N Central Ave #305, Phoenix, AZ 85004', '12440 N 20th St #214, Phoenix, AZ 85022', '214 E Ruth Ave #108, Phoenix, AZ 85020', '6900 E Princess Dr #1136, Phoenix, AZ 85054', '11640 N Tatum Blvd #1008, Phoenix, AZ 85028', '3131 N Central Ave #6022, Phoenix, AZ 85012', '3131 N Central Ave #5022, Phoenix, AZ 85012', '3131 N Central Ave #6017, Phoenix, AZ 85012', '3131 N Central Ave #4017, Phoenix, AZ 85012', '18416 N Cave Creek Rd #2053, Phoenix, AZ 85032', '7180 E Kierland Blvd #1007, Scottsdale, AZ 85254', '4808 N 24th St #303, Phoenix, AZ 85016', '3810 N Maryvale Pkwy #2098, Phoenix, AZ 85031', '3830 E Lakewood Pkwy E #2035, Phoenix, AZ 85048', '15802 N 71st St #605, Scottsdale, AZ 85254', '3830 E Lakewood Pkwy E #3143, Phoenix, AZ 85048', '200 W Portland St #511, Phoenix, AZ 85003', '1920 E Bell Rd #1112, Phoenix, AZ 85022', '4401 N 12th St #209, Phoenix, AZ 85014', '4704 E Paradise Village Pkwy N #209, Phoenix, AZ 85032', '3301 E Earll Dr #209, Phoenix, AZ 85018']\n"
     ]
    }
   ],
   "source": [
    "print(len(address_pheonix),address_pheonix)"
   ]
  },
  {
   "cell_type": "code",
   "execution_count": 58,
   "id": "295bc305",
   "metadata": {},
   "outputs": [
    {
     "name": "stdout",
     "output_type": "stream",
     "text": [
      "280 ['condo', 'condo', 'condo', 'condo', 'condo', 'condo', 'condo', 'condo', 'condo', 'condo', 'condo', 'condo', 'condo', 'condo', 'condo', 'condo', 'condo', 'condo', 'condo', 'condo', 'condo', 'condo', 'condo', 'condo', 'condo', 'condo', 'condo', 'condo', 'condo', 'condo', 'condo', 'condo', 'condo', 'condo', 'condo', 'condo', 'condo', 'condo', 'condo', 'condo', 'condo', 'condo', 'condo', 'condo', 'condo', 'condo', 'condo', 'condo', 'condo', 'condo', 'condo', 'condo', 'condo', 'condo', 'condo', 'condo', 'condo', 'condo', 'condo', 'condo', 'condo', 'condo', 'condo', 'condo', 'condo', 'condo', 'condo', 'condo', 'condo', 'condo', 'condo', 'condo', 'condo', 'condo', 'condo', 'condo', 'condo', 'condo', 'condo', 'condo', 'condo', 'condo', 'condo', 'condo', 'condo', 'condo', 'condo', 'condo', 'condo', 'condo', 'condo', 'condo', 'condo', 'condo', 'condo', 'condo', 'condo', 'condo', 'condo', 'condo', 'condo', 'condo', 'condo', 'condo', 'condo', 'condo', 'condo', 'condo', 'condo', 'condo', 'condo', 'condo', 'condo', 'condo', 'condo', 'condo', 'condo', 'condo', 'condo', 'condo', 'condo', 'condo', 'condo', 'condo', 'condo', 'condo', 'condo', 'condo', 'condo', 'condo', 'condo', 'condo', 'condo', 'condo', 'condo', 'condo', 'condo', 'condo', 'condo', 'condo', 'condo', 'condo', 'condo', 'condo', 'condo', 'condo', 'condo', 'condo', 'condo', 'condo', 'condo', 'condo', 'condo', 'condo', 'condo', 'condo', 'condo', 'condo', 'condo', 'condo', 'condo', 'condo', 'condo', 'condo', 'condo', 'condo', 'condo', 'condo', 'condo', 'condo', 'condo', 'condo', 'condo', 'condo', 'condo', 'condo', 'condo', 'condo', 'condo', 'condo', 'condo', 'condo', 'condo', 'condo', 'condo', 'condo', 'condo', 'condo', 'condo', 'condo', 'condo', 'condo', 'condo', 'condo', 'condo', 'condo', 'condo', 'condo', 'condo', 'condo', 'condo', 'condo', 'condo', 'condo', 'condo', 'condo', 'condo', 'condo', 'condo', 'condo', 'condo', 'condo', 'condo', 'condo', 'condo', 'condo', 'condo', 'condo', 'condo', 'condo', 'condo', 'condo', 'condo', 'condo', 'condo', 'condo', 'condo', 'condo', 'condo', 'condo', 'condo', 'condo', 'condo', 'condo', 'condo', 'condo', 'condo', 'condo', 'condo', 'condo', 'condo', 'condo', 'condo', 'condo', 'condo', 'condo', 'condo', 'condo', 'condo', 'condo', 'condo', 'condo', 'condo', 'condo', 'condo', 'condo', 'condo', 'condo', 'condo', 'condo', 'condo', 'condo', 'condo', 'condo', 'condo', 'condo', 'condo', 'condo', 'condo', 'condo', 'condo', 'condo', 'condo', 'condo', 'condo', 'condo', 'condo', 'condo', 'condo', 'condo']\n"
     ]
    }
   ],
   "source": [
    "# setting the type to condo as we have already filtered them by condo\n",
    "\n",
    "type_pheonix = [\"condo\"]*280\n",
    "\n",
    "print(len(type_pheonix),type_pheonix)"
   ]
  },
  {
   "cell_type": "markdown",
   "id": "aa1ae37e",
   "metadata": {},
   "source": [
    "### for location = Oklahoma"
   ]
  },
  {
   "cell_type": "code",
   "execution_count": 59,
   "id": "39d92f01",
   "metadata": {},
   "outputs": [],
   "source": [
    "# going back to the homepage\n",
    "\n",
    "home_button = driver.find_element(By.XPATH, '/html/body/div[1]/div[2]/div/div/header[2]/div[1]/div[1]/div')\n",
    "\n",
    "home_button.click()"
   ]
  },
  {
   "cell_type": "code",
   "execution_count": 60,
   "id": "30776040",
   "metadata": {},
   "outputs": [],
   "source": [
    "# entering location = \"Oklahome City\" in the search field\n",
    "\n",
    "time.sleep(2)\n",
    "designation = driver.find_element(By.XPATH, '/html/body/div[1]/div[6]/div[2]/div/section/div/div/div/div/div/div/div/div[2]/div/div/form/div/div/input')\n",
    "designation.send_keys(\"Oklahome City\")\n",
    "\n",
    "\n",
    "# Clicking the search button\n",
    "\n",
    "search = driver.find_element(By.XPATH, '/html/body/div[1]/div[6]/div[2]/div/section/div/div/div/div/div/div/div/div[2]/div/div/form/div/button')\n",
    "time.sleep(1)\n",
    "search.click()"
   ]
  },
  {
   "cell_type": "code",
   "execution_count": 61,
   "id": "2449acfe",
   "metadata": {},
   "outputs": [],
   "source": [
    "#selecting \"House\" as Home Type in filters\n",
    "\n",
    "home_type_button = driver.find_element(By.XPATH, '/html/body/div[1]/div[8]/div[1]/div[2]/div[1]/div[2]/div/div/div/div[1]/form/div[4]/div')\n",
    "home_type_button.click()\n",
    "\n",
    "\n",
    "#clikcing on house option\n",
    "\n",
    "condo_button = driver.find_element(By.XPATH, '/html/body/div[1]/div[8]/div[1]/div[2]/div[1]/div[2]/div/div/div/div[1]/form/div[4]/div/div[2]/div/div[1]/div[2]/div/div[1]')\n",
    "condo_button.click()"
   ]
  },
  {
   "cell_type": "code",
   "execution_count": 65,
   "id": "d8a787dd",
   "metadata": {},
   "outputs": [],
   "source": [
    "#scrapping data\n",
    "\n",
    "price_oklahoma = []\n",
    "bed_oklahoma = []\n",
    "bath_oklahoma = []\n",
    "area_oklahoma = []\n",
    "address_oklahoma = []\n",
    "\n",
    "\n",
    "start = 0\n",
    "end = 8\n",
    "\n",
    "\n",
    "for page in range(start, end):\n",
    "    \n",
    "        #scrapping prices\n",
    "    prices = driver.find_elements(By.CLASS_NAME, \"bp-Homecard__Price--value\")\n",
    "    for i in prices:\n",
    "        price_oklahoma.append(i.text)\n",
    "     \n",
    "    \n",
    "        #scrapping no of beds\n",
    "    beds = driver.find_elements(By.CLASS_NAME, 'bp-Homecard__Stats--beds')\n",
    "    for i in beds:\n",
    "        bed_oklahoma.append(i.text)\n",
    "     \n",
    "    \n",
    "        #scrapping no of bathrooms\n",
    "    baths = driver.find_elements(By.CLASS_NAME, 'bp-Homecard__Stats--baths')\n",
    "    for i in baths:\n",
    "        bath_oklahoma.append(i.text)\n",
    "        \n",
    "    \n",
    "        #scrapping area\n",
    "    areas = driver.find_elements(By.CLASS_NAME, \"bp-Homecard__Stats--sqft\")\n",
    "    for i in areas:\n",
    "        area_oklahoma.append(i.text)\n",
    "        \n",
    "        \n",
    "        #scrapping address\n",
    "    addresses = driver.find_elements(By.CLASS_NAME, \"bp-Homecard__Address\")\n",
    "    for i in addresses:\n",
    "        address_oklahoma.append(i.text)\n",
    "     \n",
    "    \n",
    "    \n",
    "    next_button = driver.find_element(By.XPATH, '/html/body/div[1]/div[8]/div[1]/div[2]/div[1]/div[5]/div/div[3]/button[2]')\n",
    "    time.sleep(1)\n",
    "    next_button.click()\n",
    "    time.sleep(2)"
   ]
  },
  {
   "cell_type": "code",
   "execution_count": 66,
   "id": "b4861abf",
   "metadata": {},
   "outputs": [
    {
     "name": "stdout",
     "output_type": "stream",
     "text": [
      "320 ['$1,290,000', '$1,299,000', '$1,350,000', '$649,900', '$945,000', '$945,000', '$800,000', '$1,299,000', '$2,195,000', '$785,000', '$850,000', '$949,000', '$99,800', '$424,900', '$648,091', '$600,000', '$445,000', '$589,000', '$799,000', '$709,900', '$764,000', '$379,750', '$349,750', '$525,000', '$1,550,000', '$274,900', '$525,000', '$198,000', '$99,000', '$189,900', '$450,000', '$425,000', '$525,000', '$997,000', '$560,000', '$629,000', '$645,000', '$605,000', '$400,000', '$699,000', '$918,000', '$565,000', '$185,000', '$698,000', '$375,000', '$285,000', '$599,000', '$445,000', '$399,000', '$584,900', '$495,000', '$160,000', '$499,000', '$675,000', '$495,000', '$599,900', '$460,000', '$629,000', '$619,000', '$255,000', '$319,000', '$740,000', '$395,000', '$559,000', '$600,000', '$250,000', '$125,000', '$555,000', '$310,000', '$299,000', '$650,000', '$515,000', '$925,000', '$149,900', '$725,900', '$849,900', '$60,000', '$709,000', '$290,000', '$840,000', '$374,900', '$345,000', '$350,000', '$224,777', '$200,000', '$495,500', '$215,000', '$99,000', '$232,500', '$269,000', '$624,750', '$205,000', '$196,308', '$449,901', '$129,548', '$188,600', '$213,200', '$95,000', '$285,000', '$267,900', '$195,000', '$650,000', '$194,900', '$217,000', '$549,000', '$139,000', '$374,500', '$345,000', '$100,000', '$359,000', '$295,000', '$440,000', '$179,900', '$290,000', '$249,900', '$509,999', '$375,000', '$250,000', '$289,990', '$295,000', '$499,900', '$600,000', '$295,000', '$295,000', '$199,000', '$295,000', '$599,900', '$260,000', '$434,000', '$285,000', '$110,000', '$534,000', '$155,000', '$160,000', '$230,000', '$232,900', '$349,995', '$398,000', '$159,900', '$249,999', '$182,000', '$365,000', '$175,000', '$75,000', '$519,000', '$226,800', '$387,000', '$240,000', '$339,700', '$239,900', '$105,000', '$208,000', '$275,000', '$213,350', '$213,350', '$325,000', '$849,000', '$145,000', '$598,000', '$139,000', '$190,000', '$375,000', '$252,620', '$252,620', '$319,000', '$150,000', '$340,000', '$239,900', '$140,000', '$118,000', '$389,900', '$125,000', '$128,500', '$65,000', '$97,750', '$125,000', '$499,000', '$224,000', '$204,500', '$269,700', '$139,000', '$249,900', '$379,500', '$444,200', '$255,000', '$229,899', '$125,000', '$899,000', '$169,000', '$125,000', '$195,000', '$338,999', '$1,049,000', '$2,500,000', '$265,000', '$175,000', '$315,000', '$334,900', '$360,000', '$350,000', '$199,900', '$179,900', '$210,000', '$130,000', '$234,900', '$252,500', '$295,000', '$58,900', '$259,900', '$139,000', '$727,500', '$445,000', '$369,900', '$329,900', '$189,900', '$300,000', '$195,000', '$167,500', '$157,500', '$149,900', '$110,000', '$98,000', '$259,900', '$324,999', '$234,900', '$300,000', '$96,620', '$183,000', '$245,000', '$435,000', '$239,900', '$140,000', '$825,000', '$835,000', '$244,999', '$239,900', '$189,000', '$275,000', '$949,000', '$995,000', '$89,900', '$220,000', '$274,000', '$74,900', '$1,500,000', '$435,000', '$324,900', '$495,000', '$175,000', '$192,900', '$100,000', '$244,900', '$277,900', '$200,000', '$125,000', '$325,000', '$209,990', '$169,900', '$379,999', '$389,900', '$279,000', '$648,900', '$300,000', '$271,800', '$500,000', '$350,000', '$79,000', '$212,000', '$262,333', '$289,500', '$160,000', '$462,500', '$191,000', '$57,900', '$254,000', '$160,000', '$185,000', '$249,900', '$159,900', '$430,000', '$140,000', '$265,000', '$129,700', '$265,000', '$149,999', '$143,900', '$650,000', '$193,000', '$174,750', '$179,750', '$275,000', '$180,000', '$249,500', '$35,000', '$239,900', '$325,000', '$130,000', '$385,000', '$111,000', '$139,000', '$289,000', '$97,500', '$148,000', '$235,000', '$365,000', '$269,985', '$190,000', '$160,000', '$179,500', '$179,000', '$185,000', '$497,750', '$339,900', '$423,900', '$395,000', '$180,000', '$299,000', '$249,999', '$142,000', '$109,999']\n"
     ]
    }
   ],
   "source": [
    "print(len(price_oklahoma),price_oklahoma)"
   ]
  },
  {
   "cell_type": "code",
   "execution_count": 67,
   "id": "d0117ad7",
   "metadata": {},
   "outputs": [
    {
     "name": "stdout",
     "output_type": "stream",
     "text": [
      "320 ['4 beds', '4 beds', '4 beds', '4 beds', '4 beds', '4 beds', '5 beds', '3 beds', '5 beds', '4 beds', '3 beds', '4 beds', '2 beds', '3 beds', '3 beds', '3 beds', '3 beds', '3 beds', '4 beds', '5 beds', '5 beds', '2 beds', '4 beds', '3 beds', '4 beds', '3 beds', '4 beds', '2 beds', '2 beds', '3 beds', '4 beds', '3 beds', '3 beds', '5 beds', '3 beds', '4 beds', '3 beds', '3 beds', '3 beds', '3 beds', '5 beds', '5 beds', '3 beds', '3 beds', '2 beds', '3 beds', '4 beds', '3 beds', '4 beds', '3 beds', '3 beds', '3 beds', '3 beds', '3 beds', '3 beds', '4 beds', '3 beds', '3 beds', '3 beds', '3 beds', '2 beds', '3 beds', '2 beds', '3 beds', '4 beds', '2 beds', '3 beds', '3 beds', '2 beds', '2 beds', '4 beds', '3 beds', '4 beds', '2 beds', '5 beds', '4 beds', '2 beds', '3 beds', '3 beds', '3 beds', '3 beds', '3 beds', '2 beds', '2 beds', '2 beds', '3 beds', '4 beds', '2 beds', '3 beds', '2 beds', '4 beds', '2 beds', '2 beds', '3 beds', '1 bed', '3 beds', '2 beds', '3 beds', '3 beds', '3 beds', '2 beds', '3 beds', '2 beds', '3 beds', '4 beds', '3 beds', '3 beds', '3 beds', '2 beds', '3 beds', '4 beds', '3 beds', '3 beds', '3 beds', '3 beds', '4 beds', '3 beds', '2 beds', '3 beds', '4 beds', '3 beds', '3 beds', '4 beds', '3 beds', '2 beds', '3 beds', '5 beds', '4 beds', '3 beds', '3 beds', '4 beds', '4 beds', '4 beds', '4 beds', '3 beds', '3 beds', '3 beds', '3 beds', '3 beds', '2 beds', '4 beds', '4 beds', '3 beds', '2 beds', '4 beds', '2 beds', '3 beds', '3 beds', '5 beds', '3 beds', '2 beds', '2 beds', '3 beds', '3 beds', '3 beds', '3 beds', '4 beds', '4 beds', '4 beds', '2 beds', '2 beds', '2 beds', '3 beds', '3 beds', '3 beds', '3 beds', '3 beds', '3 beds', '2 beds', '2 beds', '4 beds', '0 beds', '4 beds', '1 bed', '2 beds', '2 beds', '3 beds', '3 beds', '2 beds', '4 beds', '4 beds', '2 beds', '3 beds', '4 beds', '3 beds', '3 beds', '2 beds', '4 beds', '3 beds', '2 beds', '3 beds', '3 beds', '4 beds', '10 beds', '3 beds', '3 beds', '3 beds', '3 beds', '3 beds', '3 beds', '3 beds', '3 beds', '4 beds', '3 beds', '2 beds', '3 beds', '3 beds', '2 beds', '4 beds', '3 beds', '4 beds', '4 beds', '3 beds', '3 beds', '3 beds', '3 beds', '2 beds', '2 beds', '2 beds', '4 beds', '3 beds', '2 beds', '3 beds', '3 beds', '3 beds', '3 beds', '3 beds', '4 beds', '2 beds', '3 beds', '3 beds', '3 beds', '4 beds', '4 beds', '3 beds', '2 beds', '2 beds', '3 beds', '3 beds', '3 beds', '3 beds', '2 beds', '4 beds', '2 beds', '5 beds', '3 beds', '3 beds', '3 beds', '3 beds', '3 beds', '3 beds', '3 beds', '3 beds', '3 beds', '4 beds', '3 beds', '3 beds', '3 beds', '3 beds', '3 beds', '3 beds', '3 beds', '3 beds', '3 beds', '3 beds', '3 beds', '2 beds', '3 beds', '3 beds', '3 beds', '3 beds', '6 beds', '3 beds', '2 beds', '3 beds', '2 beds', '4 beds', '3 beds', '2 beds', '3 beds', '2 beds', '2 beds', '2 beds', '4 beds', '4 beds', '3 beds', '4 beds', '3 beds', '3 beds', '4 beds', '3 beds', '3 beds', '4 beds', '3 beds', '2 beds', '3 beds', '2 beds', '3 beds', '2 beds', '3 beds', '3 beds', '3 beds', '3 beds', '3 beds', '3 beds', '3 beds', '3 beds', '3 beds', '3 beds', '4 beds', '3 beds', '3 beds', '3 beds', '3 beds', '2 beds', '2 beds', '5 beds', '5 beds', '3 beds', '2 beds']\n"
     ]
    }
   ],
   "source": [
    "print(len(bed_oklahoma),bed_oklahoma)"
   ]
  },
  {
   "cell_type": "code",
   "execution_count": 68,
   "id": "6a4ee646",
   "metadata": {},
   "outputs": [
    {
     "name": "stdout",
     "output_type": "stream",
     "text": [
      "320 ['3.5 baths', '4 baths', '4 baths', '3.5 baths', '2.5 baths', '2.5 baths', '3.5 baths', '3.5 baths', '5 baths', '3.5 baths', '2.5 baths', '2.5 baths', '1 bath', '2.5 baths', '2.5 baths', '2.5 baths', '4 baths', '3 baths', '4 baths', '3.5 baths', '3 baths', '2 baths', '2 baths', '2.5 baths', '4 baths', '1 bath', '3.5 baths', '1 bath', '1 bath', '3 baths', '2 baths', '2.5 baths', '2 baths', '3 baths', '2.5 baths', '2.5 baths', '3.5 baths', '3.5 baths', '2.5 baths', '3 baths', '3.5 baths', '2.5 baths', '2 baths', '2.5 baths', '2 baths', '3 baths', '2.5 baths', '1.5 baths', '2 baths', '2.5 baths', '2 baths', '2 baths', '2 baths', '2.5 baths', '2.5 baths', '3 baths', '2.5 baths', '3 baths', '3 baths', '2 baths', '2 baths', '3.5 baths', '2.5 baths', '2.5 baths', '4 baths', '1.5 baths', '2 baths', '2.5 baths', '1.5 baths', '1.5 baths', '4 baths', '2.5 baths', '3.5 baths', '1 bath', '4 baths', '3 baths', '1 bath', '2.5 baths', '1.5 baths', '3 baths', '2.5 baths', '2 baths', '1 bath', '1 bath', '2 baths', '2 baths', '2 baths', '1 bath', '2 baths', '2 baths', '3 baths', '2 baths', '2 baths', '2 baths', '1 bath', '2 baths', '2 baths', '1.5 baths', '1.5 baths', '2 baths', '1 bath', '2.5 baths', '1 bath', '2 baths', '2.5 baths', '1 bath', '2.5 baths', '2 baths', '1 bath', '2 baths', '2 baths', '2.5 baths', '1 bath', '2 baths', '2 baths', '2.5 baths', '2 baths', '1 bath', '2 baths', '2 baths', '3 baths', '1.5 baths', '2 baths', '2 baths', '1 bath', '2 baths', '3 baths', '2 baths', '2.5 baths', '2 baths', '1 bath', '3 baths', '2 baths', '2 baths', '2 baths', '2 baths', '2.5 baths', '2 baths', '1 bath', '2 baths', '1.5 baths', '2 baths', '1 bath', '1 bath', '2 baths', '2 baths', '2.5 baths', '2.5 baths', '3 baths', '2 baths', '1 bath', '1 bath', '2 baths', '2 baths', '2 baths', '2 baths', '3.5 baths', '1 bath', '3.5 baths', '1 bath', '1.5 baths', '2 baths', '2 baths', '2 baths', '1.5 baths', '1 bath', '2 baths', '2 baths', '2 baths', '1 bath', '2.5 baths', '— baths', '1 bath', '1 bath', '1 bath', '1 bath', '2.5 baths', '2 baths', '1 bath', '2 baths', '2 baths', '1.5 baths', '2.5 baths', '2.5 baths', '2 baths', '2 baths', '1 bath', '4 baths', '2 baths', '1 bath', '2 baths', '2 baths', '4.5 baths', '12.5 baths', '2 baths', '2 baths', '2 baths', '2 baths', '3 baths', '2.5 baths', '2 baths', '1 bath', '2 baths', '1 bath', '1.5 baths', '1.5 baths', '2 baths', '1 bath', '2.5 baths', '1 bath', '3.5 baths', '1.5 baths', '3 baths', '3 baths', '1.5 baths', '1 bath', '2 baths', '1 bath', '1 bath', '2.5 baths', '1 bath', '1 bath', '2 baths', '1 bath', '1.5 baths', '2.5 baths', '1 bath', '1.5 baths', '1 bath', '2.5 baths', '1 bath', '1 bath', '3.5 baths', '3.5 baths', '2 baths', '2 baths', '2 baths', '2 baths', '4 baths', '3.5 baths', '1 bath', '1 bath', '2 baths', '1 bath', '4.5 baths', '2.5 baths', '1.5 baths', '2.5 baths', '1 bath', '1 bath', '1 bath', '1.5 baths', '2 baths', '2 baths', '2 baths', '1.5 baths', '1.5 baths', '2 baths', '1.5 baths', '2.5 baths', '2 baths', '4 baths', '2 baths', '2 baths', '2 baths', '1.5 baths', '1 bath', '1 bath', '2 baths', '2 baths', '1 bath', '4.5 baths', '2 baths', '1 bath', '2 baths', '1 bath', '1 bath', '1 bath', '1 bath', '2 baths', '1 bath', '2 baths', '1 bath', '2 baths', '1 bath', '1 bath', '4 baths', '1 bath', '1 bath', '2 baths', '2.5 baths', '2 baths', '2 baths', '2 baths', '1 bath', '2 baths', '1 bath', '2.5 baths', '1 bath', '1 bath', '2 baths', '1.5 baths', '1 bath', '1 bath', '2 baths', '2.5 baths', '1 bath', '1 bath', '1 bath', '2 baths', '2 baths', '2.5 baths', '2 baths', '2.5 baths', '2 baths', '1 bath', '3 baths', '2.5 baths', '1 bath', '1 bath']\n"
     ]
    }
   ],
   "source": [
    "print(len(bath_oklahoma),bath_oklahoma)"
   ]
  },
  {
   "cell_type": "code",
   "execution_count": 69,
   "id": "72e63889",
   "metadata": {},
   "outputs": [
    {
     "name": "stdout",
     "output_type": "stream",
     "text": [
      "320 ['3,481 sq ft', '3,650 sq ft', '3,651 sq ft', '3,167 sq ft', '3,150 sq ft', '3,150 sq ft', '3,298 sq ft', '2,754 sq ft', '9,938 sq ft', '2,261 sq ft', '2,407 sq ft', '3,598 sq ft', '1,100 sq ft', '2,203 sq ft', '2,295 sq ft', '2,066 sq ft', '1,874 sq ft', '2,143 sq ft', '4,390 sq ft', '3,984 sq ft', '3,057 sq ft', '1,400 sq ft', '1,850 sq ft', '2,050 sq ft', '4,319 sq ft', '1,236 sq ft', '1,922 sq ft', '1,031 sq ft', '968 sq ft', '1,275 sq ft', '2,582 sq ft', '1,987 sq ft', '2,327 sq ft', '3,406 sq ft', '2,641 sq ft', '2,043 sq ft', '2,139 sq ft', '2,417 sq ft', '1,504 sq ft', '2,652 sq ft', '2,874 sq ft', '2,818 sq ft', '1,148 sq ft', '2,071 sq ft', '1,310 sq ft', '1,709 sq ft', '2,338 sq ft', '2,059 sq ft', '2,650 sq ft', '1,897 sq ft', '1,672 sq ft', '1,640 sq ft', '1,880 sq ft', '2,313 sq ft', '1,620 sq ft', '3,445 sq ft', '2,037 sq ft', '1,830 sq ft', '1,830 sq ft', '1,412 sq ft', '1,268 sq ft', '2,456 sq ft', '1,182 sq ft', '1,751 sq ft', '3,738 sq ft', '1,162 sq ft', '1,344 sq ft', '1,717 sq ft', '906 sq ft', '906 sq ft', '3,001 sq ft', '1,688 sq ft', '2,834 sq ft', '867 sq ft', '2,984 sq ft', '2,750 sq ft', '820 sq ft', '2,454 sq ft', '1,744 sq ft', '2,896 sq ft', '2,052 sq ft', '1,899 sq ft', '1,809 sq ft', '1,008 sq ft', '1,687 sq ft', '1,914 sq ft', '1,560 sq ft', '792 sq ft', '1,588 sq ft', '1,451 sq ft', '3,227 sq ft', '1,313 sq ft', '1,197 sq ft', '1,769 sq ft', '720 sq ft', '1,326 sq ft', '1,147 sq ft', '944 sq ft', '1,716 sq ft', '1,402 sq ft', '900 sq ft', '2,973 sq ft', '1,128 sq ft', '1,392 sq ft', '2,382 sq ft', '1,404 sq ft', '1,201 sq ft', '1,473 sq ft', '1,192 sq ft', '1,868 sq ft', '1,719 sq ft', '1,796 sq ft', '1,032 sq ft', '1,686 sq ft', '1,623 sq ft', '2,140 sq ft', '1,389 sq ft', '1,256 sq ft', '1,605 sq ft', '1,719 sq ft', '2,070 sq ft', '2,540 sq ft', '1,719 sq ft', '1,686 sq ft', '1,032 sq ft', '1,686 sq ft', '2,570 sq ft', '1,632 sq ft', '2,062 sq ft', '1,578 sq ft', '852 sq ft', '3,024 sq ft', '1,155 sq ft', '1,532 sq ft', '1,531 sq ft', '1,178 sq ft', '2,049 sq ft', '2,052 sq ft', '1,446 sq ft', '1,150 sq ft', '1,447 sq ft', '1,731 sq ft', '1,182 sq ft', '688 sq ft', '3,103 sq ft', '1,080 sq ft', '1,620 sq ft', '1,472 sq ft', '2,598 sq ft', '1,988 sq ft', '1,339 sq ft', '1,086 sq ft', '1,463 sq ft', '1,255 sq ft', '1,255 sq ft', '2,047 sq ft', '4,294 sq ft', '1,131 sq ft', '2,838 sq ft', '924 sq ft', '1,182 sq ft', '1,394 sq ft', '1,486 sq ft', '1,486 sq ft', '1,466 sq ft', '972 sq ft', '1,978 sq ft', '1,214 sq ft', '1,140 sq ft', '860 sq ft', '2,699 sq ft', '340 sq ft', '1,048 sq ft', '683 sq ft', '1,009 sq ft', '832 sq ft', '2,079 sq ft', '1,797 sq ft', '1,052 sq ft', '2,084 sq ft', '1,714 sq ft', '1,182 sq ft', '1,898 sq ft', '2,555 sq ft', '1,224 sq ft', '1,275 sq ft', '768 sq ft', '3,738 sq ft', '1,009 sq ft', '912 sq ft', '1,415 sq ft', '1,651 sq ft', '3,796 sq ft', '10,993 sq ft', '1,532 sq ft', '1,184 sq ft', '1,779 sq ft', '1,630 sq ft', '2,329 sq ft', '1,826 sq ft', '1,154 sq ft', '920 sq ft', '1,230 sq ft', '1,336 sq ft', '1,353 sq ft', '1,652 sq ft', '2,011 sq ft', '986 sq ft', '1,898 sq ft', '1,002 sq ft', '3,131 sq ft', '2,291 sq ft', '2,663 sq ft', '2,230 sq ft', '1,498 sq ft', '1,604 sq ft', '1,566 sq ft', '1,167 sq ft', '1,116 sq ft', '1,352 sq ft', '994 sq ft', '844 sq ft', '1,594 sq ft', '1,563 sq ft', '1,367 sq ft', '1,878 sq ft', '972 sq ft', '1,565 sq ft', '1,329 sq ft', '1,880 sq ft', '1,411 sq ft', '1,261 sq ft', '2,997 sq ft', '2,998 sq ft', '1,388 sq ft', '1,598 sq ft', '1,056 sq ft', '1,673 sq ft', '3,114 sq ft', '3,568 sq ft', '1,160 sq ft', '1,082 sq ft', '2,069 sq ft', '1,155 sq ft', '6,038 sq ft', '1,701 sq ft', '1,887 sq ft', '1,968 sq ft', '1,380 sq ft', '1,312 sq ft', '2,105 sq ft', '1,610 sq ft', '1,546 sq ft', '1,200 sq ft', '1,142 sq ft', '2,013 sq ft', '1,266 sq ft', '1,284 sq ft', '1,834 sq ft', '2,688 sq ft', '1,493 sq ft', '2,480 sq ft', '1,484 sq ft', '1,510 sq ft', '2,480 sq ft', '1,898 sq ft', '952 sq ft', '1,607 sq ft', '1,650 sq ft', '1,720 sq ft', '1,477 sq ft', '3,700 sq ft', '1,276 sq ft', '672 sq ft', '1,666 sq ft', '936 sq ft', '1,177 sq ft', '1,450 sq ft', '1,092 sq ft', '2,781 sq ft', '864 sq ft', '1,553 sq ft', '764 sq ft', '1,863 sq ft', '1,848 sq ft', '902 sq ft', '3,519 sq ft', '1,011 sq ft', '1,048 sq ft', '1,456 sq ft', '2,876 sq ft', '1,014 sq ft', '1,495 sq ft', '1,300 sq ft', '870 sq ft', '1,606 sq ft', '1,031 sq ft', '1,832 sq ft', '936 sq ft', '864 sq ft', '1,650 sq ft', '962 sq ft', '864 sq ft', '1,108 sq ft', '1,550 sq ft', '1,560 sq ft', '1,080 sq ft', '1,048 sq ft', '1,055 sq ft', '1,118 sq ft', '1,034 sq ft', '1,944 sq ft', '1,722 sq ft', '2,352 sq ft', '1,961 sq ft', '918 sq ft', '2,384 sq ft', '1,728 sq ft', '960 sq ft', '900 sq ft']\n"
     ]
    }
   ],
   "source": [
    "print(len(area_oklahoma),area_oklahoma)"
   ]
  },
  {
   "cell_type": "code",
   "execution_count": 70,
   "id": "aaa0d857",
   "metadata": {},
   "outputs": [
    {
     "name": "stdout",
     "output_type": "stream",
     "text": [
      "320 ['36 NE 7th St, Oklahoma City, OK 73104', '523 NW 7th St, Oklahoma City, OK 73102', '527 NW 7th St, Oklahoma City, OK 73102', '406 SW 11th St, Oklahoma City, OK 73109', '315 SW 13th St, Oklahoma City, OK 73109', '317 SW 13th St, Oklahoma City, OK 73109', '608 SW 11th St, Oklahoma City, OK 73109', '619 NE 5th St, Oklahoma City, OK 73104', '1415 N Hudson Ave, Oklahoma City, OK 73103', '1127 NW 7 St, Oklahoma City, OK 73106', '136 NE 14th St, Oklahoma City, OK 73104', '230 NW 16th St, Oklahoma City, OK 73104', '1303 NW 2nd St, Oklahoma City, OK 73106', '303 NE 14th St, Oklahoma City, OK 73104', '1103 NW 11th St, Oklahoma City, OK 73106', '215 NW 17th St, Oklahoma City, OK 73103', '808 N Douglas Ave, Oklahoma City, OK 73106', '229 NE 16th St, Oklahoma City, OK 73104', '630 NW 17th St, Oklahoma City, OK 73103', '1201 N Klein Ave, Oklahoma City, OK 73106', '1015 NW 14th St, Oklahoma City, OK 73106', '108 NW 19th St, Oklahoma City, OK 73103', '1234 NW 12th St, Oklahoma City, OK 73106', '1308 NW 11th St, Oklahoma City, OK 73106', '315 NW 19th St, Oklahoma City, OK 73103', '1315 NW 11th St, Oklahoma City, OK 73106', '1127 NW 14th St, Oklahoma City, OK 73106', '1414 W 1414 W Park Pl, Oklahoma City, OK 73106', '317 SE 17th St, Oklahoma City, OK 73129', '427 SE 17th St, Oklahoma City, OK 73129', '1601 N Klein Ave, Oklahoma City, OK 73106', '634 NW 20th St, Oklahoma City, OK 73103', '1017 NW 17th St, Oklahoma City, OK 73106', '813 NW 19th St, Oklahoma City, OK 73106', '1629 N Klein Ave, Oklahoma City, OK 73106', '2019 N Shartel Ave, Oklahoma City, OK 73103', '604 NW 21st St, Oklahoma City, OK 73103', '1318 NW 15 St, Oklahoma City, OK 73106', 'Runway Homes Plan, Oklahoma City, OK 73108', '917 NW 19th St, Oklahoma City, OK 73106', '927 NW 19th St, Oklahoma City, OK 73106', '1419 NW 14th St, Oklahoma City, OK 73106', '1712 NW 7th St, Oklahoma City, OK 73106', '904 NW 20th St, Oklahoma City, OK 73106', '910 NW 20th St, Oklahoma City, OK 73106', '1301 N Mckinley Ave, Oklahoma City, OK 73106', '1316 NW 16th St, Oklahoma City, OK 73106', '1800 N Lindsay Ave, Oklahoma City, OK 73105', '820 NW 21st St, Oklahoma City, OK 73106', '1704 Pioneer St, Oklahoma City, OK 73108', '716 NW 22nd St, Oklahoma City, OK 73103', '1625 NW 2nd St, Oklahoma City, OK 73106', '631 NW 22nd St, Oklahoma City, OK 73103', '2215 N Shartel Ave, Oklahoma City, OK 73103', '1817 Runway Blvd, Oklahoma City, OK 73108', '915 NW 21st St, Oklahoma City, OK 73106', '1649 NW 12th St, Oklahoma City, OK 73106', '938 Hangar Dr, Oklahoma City, OK 73108', '936 Hangar Dr, Oklahoma City, OK 73108', '9 SW 24th St, Oklahoma City, OK 73109', '915 NW 22nd St, Oklahoma City, OK 73106', '956 Hangar Dr, Oklahoma City, OK 73108', '990 Hangar Dr, Oklahoma City, OK 73108', '952 Hangar Dr, Oklahoma City, OK 73108', '1503 NW 17th St, Oklahoma City, OK 73106', '106 NW 25th St, Oklahoma City, OK 73103', '1408 SW 15th St, Oklahoma City, OK 73108', '1002 Hangar Dr, Oklahoma City, OK 73108', '1008 Hangar Dr, Oklahoma City, OK 73108', '1022 Hangar Dr, Oklahoma City, OK 73108', '1601 NW 16th St, Oklahoma City, OK 73106', '994 Hangar Dr, Oklahoma City, OK 73108', '1921 Pioneer St, Oklahoma City, OK 73108', '1717 NW 1st St, Oklahoma City, OK 73106', '809 NE 18th St, Oklahoma City, OK 73105', '1707 NW 14th St, Oklahoma City, OK 73106', '2416 S Shartel Ave, Oklahoma City, OK 73109', '1401 NW 19th St, Oklahoma City, OK 73106', '900 NE 18th St, Oklahoma City, OK 73105', '712 NE 21st St, Oklahoma City, OK 73105', '1413 NW 19th St, Oklahoma City, OK 73106', '1223 NW 21st. St, Oklahoma City, OK 73106', '1900 NW 9th St, Oklahoma City, OK 73106', '1321 N Indiana Ave, Oklahoma City, OK 73106', '948 NE 17th St, Oklahoma City, OK 73105', '825 NE 19th St, Oklahoma City, OK 73105', '1126 SW 19th St, Oklahoma City, OK 73108', '517 SW 26th St, Oklahoma City, OK 73109', '1104 NE 16th St, Oklahoma City, OK 73117', '1901 W Park Pl, Oklahoma City, OK 73106', '1129 NE 14 St, Oklahoma City, OK 73117', '923 NE 19th St, Oklahoma City, OK 73105', '131 NE 26th St, Oklahoma City, OK 73105', '1619 NW 19th St, Oklahoma City, OK 73106', 'The \"Doll Houses\" Plan, Oklahoma City, OK 73105', 'Live-Work Plan, Oklahoma City, OK 73105', 'The Cottages Plan, Oklahoma City, OK 73105', '1245 SW 19th St, Oklahoma City, OK 73108', '905 NE 21 St, Oklahoma City, OK 73105', '1513 NW 21st St, Oklahoma City, OK 73106', '1950 NW 10th St, Oklahoma City, OK 73106', '1840 NW 14th St, Oklahoma City, OK 73106', '1617 NW 20th St, Oklahoma City, OK 73106', '1008 NE 20th St, Oklahoma City, OK 73111', '2901 N Hudson Ave, Oklahoma City, OK 73103', '1932 NW 11th St, Oklahoma City, OK 73106', '1415 NW 22nd St, Oklahoma City, OK 73106', '1720 NW 19th St, Oklahoma City, OK 73106', '1132 NE 17th St, Oklahoma City, OK 73111', '1836 NW 15th St, Oklahoma City, OK 73106', '400 SE 26th St, Oklahoma City, OK 73129', '1528 N Kentucky Ave, Oklahoma City, OK 73106', '517 SW 28th St, Oklahoma City, OK 73109', '410 SE 26th St, Oklahoma City, OK 73129', '1425 E Park Pl, Oklahoma City, OK 73117', '1409 NW 24th St, Oklahoma City, OK 73106', '1913 NW 16th St, Oklahoma City, OK 73106', '2009 NW 12th St, Oklahoma City, OK 73106', '1213 SW 23rd St, Oklahoma City, OK 73109', '601 SE 27th St, Oklahoma City, OK 73129', '533 NW 30th St, Oklahoma City, OK 73118', '2113 N Gatewood Ave, Oklahoma City, OK 73106', '600 SE 27th St, Oklahoma City, OK 73129', '604 SE 27th St, Oklahoma City, OK 73129', '1612 N Virginia Ave, Oklahoma City, OK 73106', '612 SE 27th St, Oklahoma City, OK 73129', '212 NW 32nd St, Oklahoma City, OK 73118', '613 SE 28th St, Oklahoma City, OK 73129', '901 NW 30th St, Oklahoma City, OK 73118', '607 SW 31 St, Oklahoma City, OK 73109', '1209 Carter Dr, Oklahoma City, OK 73129', '714 NW 32nd St, Oklahoma City, OK 73118', '816 NE 28th St, Oklahoma City, OK 73105', '2100 N Kate Ave, Oklahoma City, OK 73111', '517 N Missouri Ave, Oklahoma City, OK 73117', '1515 NE 15th St, Oklahoma City, OK 73117', '2036 NW 17th St, Oklahoma City, OK 73106', '2021 NW 18th St, Oklahoma City, OK 73106', '2228 W Park Pl, Oklahoma City, OK 73107', '2036 NW 18th St, Oklahoma City, OK 73106', '1204 E Madison St, Oklahoma City, OK 73111', '2201 NW 13th St, Oklahoma City, OK 73107', '913 NE 28th St, Oklahoma City, OK 73105', '2409 W Main St, Oklahoma City, OK 73107', '248 NW 35th St, Oklahoma City, OK 73118', '1618 NE 16th Ter, Oklahoma City, OK 73117', '2119 NW 18th St, Oklahoma City, OK 73107', '1721 N Jordan Ave, Oklahoma City, OK 73111', '1446 NW 30th St, Oklahoma City, OK 73118', '2240 NW 13th St, Oklahoma City, OK 73107', '1801 N Jordan Ave, Oklahoma City, OK 73111', '2310 NW 11th St, Oklahoma City, OK 73107', '2032 NW 22nd St, Oklahoma City, OK 73106', '1737 NE 11th St, Oklahoma City, OK 73117', '1741 NE 11th St, Oklahoma City, OK 73117', '2107 NW 20th St, Oklahoma City, OK 73107', '2201 NW 18th St, Oklahoma City, OK 73107', '3116 N Laird Ave, Oklahoma City, OK 73105', '2207 NW 18th St, Oklahoma City, OK 73107', 'Undisclosed address, Oklahoma City, OK 73111', '2130 N Bath Ave, Oklahoma City, OK 73111', '205 NW Eubanks St, Oklahoma City, OK 73118', '1719 NE 15th, Oklahoma City, OK 73117', '1808 NE Euclid St, Oklahoma City, OK 73117', '224 NW 36th St, Oklahoma City, OK 73118', '1434 NE 24th St, Oklahoma City, OK 73111', '2130 NW 21st St, Oklahoma City, OK 73107', '1801 N Wickliffe St, Oklahoma City, OK 73111', '736 NE 34th Ter, Oklahoma City, OK 73105', '1012 SW 33rd St, Oklahoma City, OK 73109', '1018 NW 35th St, Oklahoma City, OK 73118', 'Undisclosed address, Oklahoma City, OK 73107', '945 NE 32nd St, Oklahoma City, OK 73105', '1414 NE 26th St, Oklahoma City, OK 73111', '1515 NW 32nd St, Oklahoma City, OK 73118', '2132 N Kelham Ave, Oklahoma City, OK 73111', '516 NW 37th St, Oklahoma City, OK 73118', '2011 NW 26th St, Oklahoma City, OK 73106', '2244 NW 20th St, Oklahoma City, OK 73107', '1218 SW 32nd St, Oklahoma City, OK 73109', '3417 S Douglas Ave, Oklahoma City, OK 73109', '1822 NW 30th St, Oklahoma City, OK 73118', '1626 NW 32nd St, Oklahoma City, OK 73118', '1419 NW 34th St, Oklahoma City, OK 73118', '1800 N Nebraska Ave, Oklahoma City, OK 73111', '1435 NE 27th St, Oklahoma City, OK 73111', 'Undisclosed address, Oklahoma City, OK 73107', '912 NW 37th St, Oklahoma City, OK 73118', '2921 N Fonshill Ave, Oklahoma City, OK 73111', 'Undisclosed address, Oklahoma City, OK 73107', '2525 NW 11th St, Oklahoma City, OK 73107', '2005 NW 29th St, Oklahoma City, OK 73106', '820 NW 38th St, Oklahoma City, OK 73118', '729 NW 38th St, Oklahoma City, OK 73118', '828 NE 36th St, Oklahoma City, OK 73105', '2012 NW 30th St, Oklahoma City, OK 73118', '1928 NW 31st St, Oklahoma City, OK 73118', '2601 W Park Pl, Oklahoma City, OK 73107', '2201 NW 26th St, Oklahoma City, OK 73107', '2424 NW 18th St, Oklahoma City, OK 73107', '312 SE 40th St, Oklahoma City, OK 73129', '2536 NW 14th St, Oklahoma City, OK 73107', '1832 NW 33rd St, Oklahoma City, OK 73118', '1220 SW Grand Blvd, Oklahoma City, OK 73109', '2629 W Park Pl, Oklahoma City, OK 73107', '2026 NW 31st St, Oklahoma City, OK 73118', '1220 NW 38th St, Oklahoma City, OK 73118', '1544 NE 29th St, Oklahoma City, OK 73111', '3313 Sherman Ave, Oklahoma City, OK 73111', '2330 SW 24th St, Oklahoma City, OK 73108', '817 NW 40th St, Oklahoma City, OK 73118', '1432 NW 38th St, Oklahoma City, OK 73118', '2233 NW 28th St, Oklahoma City, OK 73034', '2700 NW 11th St, Oklahoma City, OK 73107', '4521 S Harvey Ave, Oklahoma City, OK 73109', '2554 NW 19th St, Oklahoma City, OK 73107', '4430 S Olie Ave, Oklahoma City, OK 73109', '644 SW 44th St, Oklahoma City, OK 73109', '537 SW 45th St, Oklahoma City, OK 73109', '4605 S Santa Fe Ave, Oklahoma City, OK 73109', '2301 Granada Blvd, Oklahoma City, OK 73111', '2208 N Granada Blvd, Oklahoma City, OK 73111', '2213 NW 31 St, Oklahoma City, OK 73112', '4140 N Lindsay Ave, Oklahoma City, OK 73105', '2713 NW 14th St, Oklahoma City, OK 73107', '1222 NW 41st St, Oklahoma City, OK 73118', '1620 E Hill St, Oklahoma City, OK 73111', '1241 NE 36th St, Oklahoma City, OK 73111', '2743 NW 18th St, Oklahoma City, OK 73107', '911 NW 43rd St, Oklahoma City, OK 73118', '2732 NW 15th St, Oklahoma City, OK 73107', '1231 NE 37th St, Oklahoma City, OK 73111', '1207 NW 42nd Sts, Oklahoma City, OK 73118', '1209 NW 42nd St, Oklahoma City, OK 73118', '1525 NE 34th St, Oklahoma City, OK 73111', '2825 NW 11th St, Oklahoma City, OK 73107', '2228 NW 33rd St, Oklahoma City, OK 73112', '2243 NW 32nd St, Oklahoma City, OK 73112', '905 NW 44th St, Oklahoma City, OK 73118', '907 NW 44th St, Oklahoma City, OK 73118', '2209 NE 22nd St, Oklahoma City, OK 73111', '1520 NW 41st St, Oklahoma City, OK 73118', '1613 NW 40th St, Oklahoma City, OK 73118', '1625 NE 34th St, Oklahoma City, OK 73111', '715 NW 45th St, Oklahoma City, OK 73118', '4021 N Indiana Ave, Oklahoma City, OK 73118', '2612 NW 26th St, Oklahoma City, OK 73107', '1800 NW 40th St, Oklahoma City, OK 73118', '2753 NW 22nd St, Oklahoma City, OK 73107', '1415 Magdalena Dr, Oklahoma City, OK 73119', '837 SW 48th St, Oklahoma City, OK 73109', '2529 NW 29th St, Oklahoma City, OK 73107', '1606 NW 42 St, Oklahoma City, OK 73120', '2324 Hardin Dr, Oklahoma City, OK 73111', '944 SW 47th St, Oklahoma City, OK 73109', '2636 NW 27th St, Oklahoma City, OK 73107', '2239 W Eubanks St, Oklahoma City, OK 73112', '3005 NW 10th St, Oklahoma City, OK 73107', '2841 NW 20th St, Oklahoma City, OK 73107', '4311 N Georgia Ave, Oklahoma City, OK 73118', '1609 NW 43rd St, Oklahoma City, OK 73118', '4511 N Mckinley Ave, Oklahoma City, OK 73118', '2533 NW 31st St, Oklahoma City, OK 73112', '2524 NE 19th St, Oklahoma City, OK 73111', '4514 Thompson Ave, Oklahoma City, OK 73105', '2804 NW 25th St, Oklahoma City, OK 73107', '3019 SW 12th St, Oklahoma City, OK 73108', '3028 NW 13th St, Oklahoma City, OK 73107', '2425 SW 35th St, Oklahoma City, OK 73119', '2821 NW 24th St, Oklahoma City, OK 73107', '1304 Chestnut Dr, Oklahoma City, OK 73119', '3004 SW 17th St, Oklahoma City, OK 73108', '3908 S Agnew Pl, Oklahoma City, OK 73119', '3010 SW 18th St, Oklahoma City, OK 73108', '3909 S Agnew Pl, Oklahoma City, OK 73119', '2605 NW 33rd St, Oklahoma City, OK 73112', '2405 NW 38th St, Oklahoma City, OK 73112', '4632 N Indiana Ave, Oklahoma City, OK 73118', '3128 NW 14th St, Oklahoma City, OK 73107', '3215 Winter Dr, Oklahoma City, OK 73112', '2129 SW 47th St, Oklahoma City, OK 73119', '2708 NW 35th St, Oklahoma City, OK 73112', '3221 NW 15th St, Oklahoma City, OK 73107', '3115 NW 24th St, Oklahoma City, OK 73107', 'Undisclosed address, Oklahoma City, OK 73129', '1136 N Woodward Ave, Oklahoma City, OK 73107', '3200 NW 19th St, Oklahoma City, OK 73107', '2428 NW 41st St, Oklahoma City, OK 73107', '2449 NW 40th St, Oklahoma City, OK 73112', '3013 SW 28th St, Oklahoma City, OK 73108', '3125 NW 25th St, Oklahoma City, OK 73107', '2468 NW 40th St, Oklahoma City, OK 73112', '2617 NW 37th St, Oklahoma City, OK 73112', '1624 S Bryant Ave, Del City, OK 73115', '2504 NW 39th Ter, Oklahoma City, OK 73112', '2933 Cashion Pl, Oklahoma City, OK 73112', '1616 NE 47th St, Oklahoma City, OK 73111', '2301 NW 45th St, Oklahoma City, OK 73112', '3104 NW 28th St, Oklahoma City, OK 73107', '2432 SW 45th St, Oklahoma City, OK 73119', '2431 NW 43rd Cir, Oklahoma City, OK 73112', '844 S Scott St, Del City, OK 73115', '2420 SW 46th St, Oklahoma City, OK 73119', '3221 NW 24th, Oklahoma City, OK 73107', '3336 NW 17th St, Oklahoma City, OK 73107', '3405 NW 15th St, Oklahoma City, OK 73107', '4121 N Linn Ave, Oklahoma City, OK 73112', '3005 NW 33rd St, Oklahoma City, OK 73112', '3001 W Hill St, Oklahoma City, OK 73112', '2529 SW 46th St, Oklahoma City, OK 73119', '2436 SW 47th St, Oklahoma City, OK 73119', '3400 NW 18th St, Oklahoma City, OK 73107', '3209 N Pioneer St, Oklahoma City, OK 73107', '3424 NW 16th St, Oklahoma City, OK 73107', '3321 NW 22nd St, Oklahoma City, OK 73107', '3504 NW 12th St, Oklahoma City, OK 73107', '1915 S Mansfield Ave, Del City, OK 73115', '3204 Cashion Pl, Oklahoma City, OK 73112', '3312 NE 13th, Oklahoma City, OK 73117', 'Undisclosed address, Oklahoma City, OK 73107']\n"
     ]
    }
   ],
   "source": [
    "print(len(address_oklahoma),address_oklahoma)"
   ]
  },
  {
   "cell_type": "code",
   "execution_count": 129,
   "id": "c8299fa2",
   "metadata": {},
   "outputs": [
    {
     "name": "stdout",
     "output_type": "stream",
     "text": [
      "320 ['house', 'house', 'house', 'house', 'house', 'house', 'house', 'house', 'house', 'house', 'house', 'house', 'house', 'house', 'house', 'house', 'house', 'house', 'house', 'house', 'house', 'house', 'house', 'house', 'house', 'house', 'house', 'house', 'house', 'house', 'house', 'house', 'house', 'house', 'house', 'house', 'house', 'house', 'house', 'house', 'house', 'house', 'house', 'house', 'house', 'house', 'house', 'house', 'house', 'house', 'house', 'house', 'house', 'house', 'house', 'house', 'house', 'house', 'house', 'house', 'house', 'house', 'house', 'house', 'house', 'house', 'house', 'house', 'house', 'house', 'house', 'house', 'house', 'house', 'house', 'house', 'house', 'house', 'house', 'house', 'house', 'house', 'house', 'house', 'house', 'house', 'house', 'house', 'house', 'house', 'house', 'house', 'house', 'house', 'house', 'house', 'house', 'house', 'house', 'house', 'house', 'house', 'house', 'house', 'house', 'house', 'house', 'house', 'house', 'house', 'house', 'house', 'house', 'house', 'house', 'house', 'house', 'house', 'house', 'house', 'house', 'house', 'house', 'house', 'house', 'house', 'house', 'house', 'house', 'house', 'house', 'house', 'house', 'house', 'house', 'house', 'house', 'house', 'house', 'house', 'house', 'house', 'house', 'house', 'house', 'house', 'house', 'house', 'house', 'house', 'house', 'house', 'house', 'house', 'house', 'house', 'house', 'house', 'house', 'house', 'house', 'house', 'house', 'house', 'house', 'house', 'house', 'house', 'house', 'house', 'house', 'house', 'house', 'house', 'house', 'house', 'house', 'house', 'house', 'house', 'house', 'house', 'house', 'house', 'house', 'house', 'house', 'house', 'house', 'house', 'house', 'house', 'house', 'house', 'house', 'house', 'house', 'house', 'house', 'house', 'house', 'house', 'house', 'house', 'house', 'house', 'house', 'house', 'house', 'house', 'house', 'house', 'house', 'house', 'house', 'house', 'house', 'house', 'house', 'house', 'house', 'house', 'house', 'house', 'house', 'house', 'house', 'house', 'house', 'house', 'house', 'house', 'house', 'house', 'house', 'house', 'house', 'house', 'house', 'house', 'house', 'house', 'house', 'house', 'house', 'house', 'house', 'house', 'house', 'house', 'house', 'house', 'house', 'house', 'house', 'house', 'house', 'house', 'house', 'house', 'house', 'house', 'house', 'house', 'house', 'house', 'house', 'house', 'house', 'house', 'house', 'house', 'house', 'house', 'house', 'house', 'house', 'house', 'house', 'house', 'house', 'house', 'house', 'house', 'house', 'house', 'house', 'house', 'house', 'house', 'house', 'house', 'house', 'house', 'house', 'house', 'house', 'house', 'house', 'house', 'house', 'house', 'house', 'house', 'house', 'house', 'house', 'house', 'house', 'house', 'house', 'house', 'house', 'house', 'house', 'house', 'house', 'house', 'house', 'house']\n"
     ]
    }
   ],
   "source": [
    "# setting the type to house as we have already filtered them by condo\n",
    "\n",
    "type_oklahoma = [\"house\"]*320\n",
    "\n",
    "print(len(type_oklahoma),type_oklahoma)"
   ]
  },
  {
   "cell_type": "markdown",
   "id": "b4a9a96d",
   "metadata": {},
   "source": [
    "### combining all the lists into a single list"
   ]
  },
  {
   "cell_type": "code",
   "execution_count": 118,
   "id": "c73f4552",
   "metadata": {},
   "outputs": [],
   "source": [
    "prices = price_chicago + price_boston + price_dallas + price_houston + price_atlanta + price_brooklyn + price_utah + price_memphis + price_pheonix + price_oklahoma"
   ]
  },
  {
   "cell_type": "code",
   "execution_count": 120,
   "id": "025e23e9",
   "metadata": {},
   "outputs": [],
   "source": [
    "no_of_beds = bed_chicago + bed_boston + bed_dallas + bed_houston + bed_atlanta + bed_brooklyn + bed_utah + bed_memphis + bed_pheonix + bed_oklahoma"
   ]
  },
  {
   "cell_type": "code",
   "execution_count": 122,
   "id": "621e5352",
   "metadata": {},
   "outputs": [],
   "source": [
    "no_of_baths = bath_chicago + bath_boston + bath_dallas + bath_houston + bath_atlanta + bath_brooklyn + bath_utah + bath_memphis + bath_pheonix + bath_oklahoma"
   ]
  },
  {
   "cell_type": "code",
   "execution_count": 124,
   "id": "60f05403",
   "metadata": {},
   "outputs": [],
   "source": [
    "area_sq_ft = area_chicago + area_boston + area_dallas + area_houston + area_atlanta + area_brooklyn + area_utah + area_memphis + area_pheonix + area_oklahoma"
   ]
  },
  {
   "cell_type": "code",
   "execution_count": 126,
   "id": "420db4f3",
   "metadata": {},
   "outputs": [],
   "source": [
    "address = address_chicago + address_boston + address_dallas + address_houston + address_atlanta + address_brooklyn + address_utah + address_memphis + address_pheonix + address_oklahoma"
   ]
  },
  {
   "cell_type": "code",
   "execution_count": 130,
   "id": "c5d33641",
   "metadata": {},
   "outputs": [],
   "source": [
    "property_type = type_chicago + type_boston + type_dallas + type_houston + type_atlanta + type_brooklyn + type_utah + type_memphis + type_pheonix + type_oklahoma"
   ]
  },
  {
   "cell_type": "markdown",
   "id": "45c0b3e0",
   "metadata": {},
   "source": [
    "#\n",
    "\n",
    "\n",
    "### saving into a dataframe :-"
   ]
  },
  {
   "cell_type": "code",
   "execution_count": 134,
   "id": "2a667e0a",
   "metadata": {},
   "outputs": [
    {
     "name": "stdout",
     "output_type": "stream",
     "text": [
      "     Property type No_of_Beds   Bathroom\n",
      "0            condo      1 bed     1 bath\n",
      "1            condo      1 bed     1 bath\n",
      "2            condo      1 bed     1 bath\n",
      "3            condo     2 beds    2 baths\n",
      "4            condo      1 bed     1 bath\n",
      "...            ...        ...        ...\n",
      "2515         house     2 beds     1 bath\n",
      "2516         house     5 beds    3 baths\n",
      "2517         house     5 beds  2.5 baths\n",
      "2518         house     3 beds     1 bath\n",
      "2519         house     2 beds     1 bath\n",
      "\n",
      "[2520 rows x 3 columns]\n"
     ]
    }
   ],
   "source": [
    "import pandas as pd\n",
    "\n",
    "df1 = pd.DataFrame({'Property type' : property_type, 'No_of_Beds' : no_of_beds, 'Bathroom' : no_of_baths})\n",
    "\n",
    "print(df1)"
   ]
  },
  {
   "cell_type": "code",
   "execution_count": 135,
   "id": "a04885c9",
   "metadata": {},
   "outputs": [
    {
     "name": "stdout",
     "output_type": "stream",
     "text": [
      "         Price No_of_Beds                                       Address\n",
      "0     $220,000      1 bed     440 N Wabash Ave #1512, Chicago, IL 60611\n",
      "1     $269,000      1 bed  832 W Oakdale Ave Unit 1G, Chicago, IL 60657\n",
      "2     $170,000      1 bed           819 E 53rd St #3, Chicago, IL 60615\n",
      "3     $385,000     2 beds  3944 N Claremont Ave #307, Chicago, IL 60618\n",
      "4     $320,000      1 bed   1030 N State St Unit 41A, Chicago, IL 60610\n",
      "...        ...        ...                                           ...\n",
      "2515  $180,000     2 beds      3504 NW 12th St, Oklahoma City, OK 73107\n",
      "2516  $299,000     5 beds      1915 S Mansfield Ave, Del City, OK 73115\n",
      "2517  $249,999     5 beds      3204 Cashion Pl, Oklahoma City, OK 73112\n",
      "2518  $142,000     3 beds         3312 NE 13th, Oklahoma City, OK 73117\n",
      "2519  $109,999     2 beds  Undisclosed address, Oklahoma City, OK 73107\n",
      "\n",
      "[2520 rows x 3 columns]\n"
     ]
    }
   ],
   "source": [
    "df2 = pd.DataFrame({'Price' : prices, 'No_of_Beds' : no_of_beds, 'Address' : address})\n",
    "\n",
    "print(df2)"
   ]
  },
  {
   "cell_type": "markdown",
   "id": "16c20a8b",
   "metadata": {},
   "source": [
    "#\n",
    "\n",
    "\n",
    "\n",
    "### Saving into csv files\n",
    "\n"
   ]
  },
  {
   "cell_type": "code",
   "execution_count": 136,
   "id": "f8744533",
   "metadata": {},
   "outputs": [],
   "source": [
    "import csv"
   ]
  },
  {
   "cell_type": "code",
   "execution_count": 141,
   "id": "0adab130",
   "metadata": {},
   "outputs": [
    {
     "name": "stdout",
     "output_type": "stream",
     "text": [
      "DataFrame saved to CSV file: df1.csv\n"
     ]
    }
   ],
   "source": [
    "table1 = \"df1.csv\"\n",
    "\n",
    "df1.to_csv(table1, index=False)\n",
    "\n",
    "\n",
    "print(f\"DataFrame saved to CSV file: {table1}\")"
   ]
  },
  {
   "cell_type": "code",
   "execution_count": 143,
   "id": "308a29f9",
   "metadata": {},
   "outputs": [
    {
     "name": "stdout",
     "output_type": "stream",
     "text": [
      "DataFrame saved to CSV file: df2.csv\n"
     ]
    }
   ],
   "source": [
    "table2 = \"df2.csv\"\n",
    "\n",
    "df2.to_csv(table2, index=False)\n",
    "\n",
    "print(f\"DataFrame saved to CSV file: {table2}\")"
   ]
  },
  {
   "cell_type": "markdown",
   "id": "544c012a",
   "metadata": {},
   "source": [
    "# \n",
    "\n",
    "\n",
    "\n",
    "\n",
    "\n",
    "\n",
    "\n",
    "\n",
    "\n",
    "\n",
    "### Importing the csv file and making correction wherever needed\n"
   ]
  },
  {
   "cell_type": "code",
   "execution_count": 147,
   "id": "d2d12888",
   "metadata": {},
   "outputs": [
    {
     "data": {
      "text/html": [
       "<div>\n",
       "<style scoped>\n",
       "    .dataframe tbody tr th:only-of-type {\n",
       "        vertical-align: middle;\n",
       "    }\n",
       "\n",
       "    .dataframe tbody tr th {\n",
       "        vertical-align: top;\n",
       "    }\n",
       "\n",
       "    .dataframe thead th {\n",
       "        text-align: right;\n",
       "    }\n",
       "</style>\n",
       "<table border=\"1\" class=\"dataframe\">\n",
       "  <thead>\n",
       "    <tr style=\"text-align: right;\">\n",
       "      <th></th>\n",
       "      <th>Property type</th>\n",
       "      <th>No_of_Beds</th>\n",
       "      <th>Bathroom</th>\n",
       "    </tr>\n",
       "  </thead>\n",
       "  <tbody>\n",
       "    <tr>\n",
       "      <th>0</th>\n",
       "      <td>condo</td>\n",
       "      <td>1 bed</td>\n",
       "      <td>1 bath</td>\n",
       "    </tr>\n",
       "    <tr>\n",
       "      <th>1</th>\n",
       "      <td>condo</td>\n",
       "      <td>1 bed</td>\n",
       "      <td>1 bath</td>\n",
       "    </tr>\n",
       "    <tr>\n",
       "      <th>2</th>\n",
       "      <td>condo</td>\n",
       "      <td>1 bed</td>\n",
       "      <td>1 bath</td>\n",
       "    </tr>\n",
       "    <tr>\n",
       "      <th>3</th>\n",
       "      <td>condo</td>\n",
       "      <td>2 beds</td>\n",
       "      <td>2 baths</td>\n",
       "    </tr>\n",
       "    <tr>\n",
       "      <th>4</th>\n",
       "      <td>condo</td>\n",
       "      <td>1 bed</td>\n",
       "      <td>1 bath</td>\n",
       "    </tr>\n",
       "    <tr>\n",
       "      <th>...</th>\n",
       "      <td>...</td>\n",
       "      <td>...</td>\n",
       "      <td>...</td>\n",
       "    </tr>\n",
       "    <tr>\n",
       "      <th>2515</th>\n",
       "      <td>house</td>\n",
       "      <td>2 beds</td>\n",
       "      <td>1 bath</td>\n",
       "    </tr>\n",
       "    <tr>\n",
       "      <th>2516</th>\n",
       "      <td>house</td>\n",
       "      <td>5 beds</td>\n",
       "      <td>3 baths</td>\n",
       "    </tr>\n",
       "    <tr>\n",
       "      <th>2517</th>\n",
       "      <td>house</td>\n",
       "      <td>5 beds</td>\n",
       "      <td>2.5 baths</td>\n",
       "    </tr>\n",
       "    <tr>\n",
       "      <th>2518</th>\n",
       "      <td>house</td>\n",
       "      <td>3 beds</td>\n",
       "      <td>1 bath</td>\n",
       "    </tr>\n",
       "    <tr>\n",
       "      <th>2519</th>\n",
       "      <td>house</td>\n",
       "      <td>2 beds</td>\n",
       "      <td>1 bath</td>\n",
       "    </tr>\n",
       "  </tbody>\n",
       "</table>\n",
       "<p>2520 rows × 3 columns</p>\n",
       "</div>"
      ],
      "text/plain": [
       "     Property type No_of_Beds   Bathroom\n",
       "0            condo      1 bed     1 bath\n",
       "1            condo      1 bed     1 bath\n",
       "2            condo      1 bed     1 bath\n",
       "3            condo     2 beds    2 baths\n",
       "4            condo      1 bed     1 bath\n",
       "...            ...        ...        ...\n",
       "2515         house     2 beds     1 bath\n",
       "2516         house     5 beds    3 baths\n",
       "2517         house     5 beds  2.5 baths\n",
       "2518         house     3 beds     1 bath\n",
       "2519         house     2 beds     1 bath\n",
       "\n",
       "[2520 rows x 3 columns]"
      ]
     },
     "execution_count": 147,
     "metadata": {},
     "output_type": "execute_result"
    }
   ],
   "source": [
    "table1 = pd.read_csv(\"C:/Users/admin/df1.csv\")\n",
    "\n",
    "table1"
   ]
  },
  {
   "cell_type": "code",
   "execution_count": 148,
   "id": "ff4d2f90",
   "metadata": {},
   "outputs": [
    {
     "data": {
      "text/html": [
       "<div>\n",
       "<style scoped>\n",
       "    .dataframe tbody tr th:only-of-type {\n",
       "        vertical-align: middle;\n",
       "    }\n",
       "\n",
       "    .dataframe tbody tr th {\n",
       "        vertical-align: top;\n",
       "    }\n",
       "\n",
       "    .dataframe thead th {\n",
       "        text-align: right;\n",
       "    }\n",
       "</style>\n",
       "<table border=\"1\" class=\"dataframe\">\n",
       "  <thead>\n",
       "    <tr style=\"text-align: right;\">\n",
       "      <th></th>\n",
       "      <th>Price</th>\n",
       "      <th>No_of_Beds</th>\n",
       "      <th>Address</th>\n",
       "    </tr>\n",
       "  </thead>\n",
       "  <tbody>\n",
       "    <tr>\n",
       "      <th>0</th>\n",
       "      <td>$220,000</td>\n",
       "      <td>1 bed</td>\n",
       "      <td>440 N Wabash Ave #1512, Chicago, IL 60611</td>\n",
       "    </tr>\n",
       "    <tr>\n",
       "      <th>1</th>\n",
       "      <td>$269,000</td>\n",
       "      <td>1 bed</td>\n",
       "      <td>832 W Oakdale Ave Unit 1G, Chicago, IL 60657</td>\n",
       "    </tr>\n",
       "    <tr>\n",
       "      <th>2</th>\n",
       "      <td>$170,000</td>\n",
       "      <td>1 bed</td>\n",
       "      <td>819 E 53rd St #3, Chicago, IL 60615</td>\n",
       "    </tr>\n",
       "    <tr>\n",
       "      <th>3</th>\n",
       "      <td>$385,000</td>\n",
       "      <td>2 beds</td>\n",
       "      <td>3944 N Claremont Ave #307, Chicago, IL 60618</td>\n",
       "    </tr>\n",
       "    <tr>\n",
       "      <th>4</th>\n",
       "      <td>$320,000</td>\n",
       "      <td>1 bed</td>\n",
       "      <td>1030 N State St Unit 41A, Chicago, IL 60610</td>\n",
       "    </tr>\n",
       "    <tr>\n",
       "      <th>...</th>\n",
       "      <td>...</td>\n",
       "      <td>...</td>\n",
       "      <td>...</td>\n",
       "    </tr>\n",
       "    <tr>\n",
       "      <th>2515</th>\n",
       "      <td>$180,000</td>\n",
       "      <td>2 beds</td>\n",
       "      <td>3504 NW 12th St, Oklahoma City, OK 73107</td>\n",
       "    </tr>\n",
       "    <tr>\n",
       "      <th>2516</th>\n",
       "      <td>$299,000</td>\n",
       "      <td>5 beds</td>\n",
       "      <td>1915 S Mansfield Ave, Del City, OK 73115</td>\n",
       "    </tr>\n",
       "    <tr>\n",
       "      <th>2517</th>\n",
       "      <td>$249,999</td>\n",
       "      <td>5 beds</td>\n",
       "      <td>3204 Cashion Pl, Oklahoma City, OK 73112</td>\n",
       "    </tr>\n",
       "    <tr>\n",
       "      <th>2518</th>\n",
       "      <td>$142,000</td>\n",
       "      <td>3 beds</td>\n",
       "      <td>3312 NE 13th, Oklahoma City, OK 73117</td>\n",
       "    </tr>\n",
       "    <tr>\n",
       "      <th>2519</th>\n",
       "      <td>$109,999</td>\n",
       "      <td>2 beds</td>\n",
       "      <td>Undisclosed address, Oklahoma City, OK 73107</td>\n",
       "    </tr>\n",
       "  </tbody>\n",
       "</table>\n",
       "<p>2520 rows × 3 columns</p>\n",
       "</div>"
      ],
      "text/plain": [
       "         Price No_of_Beds                                       Address\n",
       "0     $220,000      1 bed     440 N Wabash Ave #1512, Chicago, IL 60611\n",
       "1     $269,000      1 bed  832 W Oakdale Ave Unit 1G, Chicago, IL 60657\n",
       "2     $170,000      1 bed           819 E 53rd St #3, Chicago, IL 60615\n",
       "3     $385,000     2 beds  3944 N Claremont Ave #307, Chicago, IL 60618\n",
       "4     $320,000      1 bed   1030 N State St Unit 41A, Chicago, IL 60610\n",
       "...        ...        ...                                           ...\n",
       "2515  $180,000     2 beds      3504 NW 12th St, Oklahoma City, OK 73107\n",
       "2516  $299,000     5 beds      1915 S Mansfield Ave, Del City, OK 73115\n",
       "2517  $249,999     5 beds      3204 Cashion Pl, Oklahoma City, OK 73112\n",
       "2518  $142,000     3 beds         3312 NE 13th, Oklahoma City, OK 73117\n",
       "2519  $109,999     2 beds  Undisclosed address, Oklahoma City, OK 73107\n",
       "\n",
       "[2520 rows x 3 columns]"
      ]
     },
     "execution_count": 148,
     "metadata": {},
     "output_type": "execute_result"
    }
   ],
   "source": [
    "table2 = pd.read_csv(\"C:/Users/admin/df2.csv\")\n",
    "\n",
    "table2"
   ]
  },
  {
   "cell_type": "code",
   "execution_count": 150,
   "id": "f0651ab9",
   "metadata": {},
   "outputs": [
    {
     "data": {
      "text/html": [
       "<div>\n",
       "<style scoped>\n",
       "    .dataframe tbody tr th:only-of-type {\n",
       "        vertical-align: middle;\n",
       "    }\n",
       "\n",
       "    .dataframe tbody tr th {\n",
       "        vertical-align: top;\n",
       "    }\n",
       "\n",
       "    .dataframe thead th {\n",
       "        text-align: right;\n",
       "    }\n",
       "</style>\n",
       "<table border=\"1\" class=\"dataframe\">\n",
       "  <thead>\n",
       "    <tr style=\"text-align: right;\">\n",
       "      <th></th>\n",
       "      <th>S.No.</th>\n",
       "      <th>Property type</th>\n",
       "      <th>No_of_Beds</th>\n",
       "      <th>Bathroom</th>\n",
       "    </tr>\n",
       "  </thead>\n",
       "  <tbody>\n",
       "    <tr>\n",
       "      <th>0</th>\n",
       "      <td>1</td>\n",
       "      <td>condo</td>\n",
       "      <td>1 bed</td>\n",
       "      <td>1 bath</td>\n",
       "    </tr>\n",
       "    <tr>\n",
       "      <th>1</th>\n",
       "      <td>2</td>\n",
       "      <td>condo</td>\n",
       "      <td>1 bed</td>\n",
       "      <td>1 bath</td>\n",
       "    </tr>\n",
       "    <tr>\n",
       "      <th>2</th>\n",
       "      <td>3</td>\n",
       "      <td>condo</td>\n",
       "      <td>1 bed</td>\n",
       "      <td>1 bath</td>\n",
       "    </tr>\n",
       "    <tr>\n",
       "      <th>3</th>\n",
       "      <td>4</td>\n",
       "      <td>condo</td>\n",
       "      <td>2 beds</td>\n",
       "      <td>2 baths</td>\n",
       "    </tr>\n",
       "    <tr>\n",
       "      <th>4</th>\n",
       "      <td>5</td>\n",
       "      <td>condo</td>\n",
       "      <td>1 bed</td>\n",
       "      <td>1 bath</td>\n",
       "    </tr>\n",
       "    <tr>\n",
       "      <th>...</th>\n",
       "      <td>...</td>\n",
       "      <td>...</td>\n",
       "      <td>...</td>\n",
       "      <td>...</td>\n",
       "    </tr>\n",
       "    <tr>\n",
       "      <th>2515</th>\n",
       "      <td>2516</td>\n",
       "      <td>house</td>\n",
       "      <td>2 beds</td>\n",
       "      <td>1 bath</td>\n",
       "    </tr>\n",
       "    <tr>\n",
       "      <th>2516</th>\n",
       "      <td>2517</td>\n",
       "      <td>house</td>\n",
       "      <td>5 beds</td>\n",
       "      <td>3 baths</td>\n",
       "    </tr>\n",
       "    <tr>\n",
       "      <th>2517</th>\n",
       "      <td>2518</td>\n",
       "      <td>house</td>\n",
       "      <td>5 beds</td>\n",
       "      <td>2.5 baths</td>\n",
       "    </tr>\n",
       "    <tr>\n",
       "      <th>2518</th>\n",
       "      <td>2519</td>\n",
       "      <td>house</td>\n",
       "      <td>3 beds</td>\n",
       "      <td>1 bath</td>\n",
       "    </tr>\n",
       "    <tr>\n",
       "      <th>2519</th>\n",
       "      <td>2520</td>\n",
       "      <td>house</td>\n",
       "      <td>2 beds</td>\n",
       "      <td>1 bath</td>\n",
       "    </tr>\n",
       "  </tbody>\n",
       "</table>\n",
       "<p>2520 rows × 4 columns</p>\n",
       "</div>"
      ],
      "text/plain": [
       "      S.No. Property type No_of_Beds   Bathroom\n",
       "0         1         condo      1 bed     1 bath\n",
       "1         2         condo      1 bed     1 bath\n",
       "2         3         condo      1 bed     1 bath\n",
       "3         4         condo     2 beds    2 baths\n",
       "4         5         condo      1 bed     1 bath\n",
       "...     ...           ...        ...        ...\n",
       "2515   2516         house     2 beds     1 bath\n",
       "2516   2517         house     5 beds    3 baths\n",
       "2517   2518         house     5 beds  2.5 baths\n",
       "2518   2519         house     3 beds     1 bath\n",
       "2519   2520         house     2 beds     1 bath\n",
       "\n",
       "[2520 rows x 4 columns]"
      ]
     },
     "execution_count": 150,
     "metadata": {},
     "output_type": "execute_result"
    }
   ],
   "source": [
    "# inserting a s.no. column in both the tables :-\n",
    "\n",
    "s_no = pd.Series(range(1, len(table1) + 1), name='S.No.')\n",
    "\n",
    "table1.insert(loc=0, column=s_no.name, value=s_no)\n",
    "\n",
    "\n",
    "table1\n"
   ]
  },
  {
   "cell_type": "code",
   "execution_count": 151,
   "id": "88ee1930",
   "metadata": {},
   "outputs": [
    {
     "data": {
      "text/html": [
       "<div>\n",
       "<style scoped>\n",
       "    .dataframe tbody tr th:only-of-type {\n",
       "        vertical-align: middle;\n",
       "    }\n",
       "\n",
       "    .dataframe tbody tr th {\n",
       "        vertical-align: top;\n",
       "    }\n",
       "\n",
       "    .dataframe thead th {\n",
       "        text-align: right;\n",
       "    }\n",
       "</style>\n",
       "<table border=\"1\" class=\"dataframe\">\n",
       "  <thead>\n",
       "    <tr style=\"text-align: right;\">\n",
       "      <th></th>\n",
       "      <th>S.No.</th>\n",
       "      <th>Price</th>\n",
       "      <th>No_of_Beds</th>\n",
       "      <th>Address</th>\n",
       "    </tr>\n",
       "  </thead>\n",
       "  <tbody>\n",
       "    <tr>\n",
       "      <th>0</th>\n",
       "      <td>1</td>\n",
       "      <td>$220,000</td>\n",
       "      <td>1 bed</td>\n",
       "      <td>440 N Wabash Ave #1512, Chicago, IL 60611</td>\n",
       "    </tr>\n",
       "    <tr>\n",
       "      <th>1</th>\n",
       "      <td>2</td>\n",
       "      <td>$269,000</td>\n",
       "      <td>1 bed</td>\n",
       "      <td>832 W Oakdale Ave Unit 1G, Chicago, IL 60657</td>\n",
       "    </tr>\n",
       "    <tr>\n",
       "      <th>2</th>\n",
       "      <td>3</td>\n",
       "      <td>$170,000</td>\n",
       "      <td>1 bed</td>\n",
       "      <td>819 E 53rd St #3, Chicago, IL 60615</td>\n",
       "    </tr>\n",
       "    <tr>\n",
       "      <th>3</th>\n",
       "      <td>4</td>\n",
       "      <td>$385,000</td>\n",
       "      <td>2 beds</td>\n",
       "      <td>3944 N Claremont Ave #307, Chicago, IL 60618</td>\n",
       "    </tr>\n",
       "    <tr>\n",
       "      <th>4</th>\n",
       "      <td>5</td>\n",
       "      <td>$320,000</td>\n",
       "      <td>1 bed</td>\n",
       "      <td>1030 N State St Unit 41A, Chicago, IL 60610</td>\n",
       "    </tr>\n",
       "    <tr>\n",
       "      <th>...</th>\n",
       "      <td>...</td>\n",
       "      <td>...</td>\n",
       "      <td>...</td>\n",
       "      <td>...</td>\n",
       "    </tr>\n",
       "    <tr>\n",
       "      <th>2515</th>\n",
       "      <td>2516</td>\n",
       "      <td>$180,000</td>\n",
       "      <td>2 beds</td>\n",
       "      <td>3504 NW 12th St, Oklahoma City, OK 73107</td>\n",
       "    </tr>\n",
       "    <tr>\n",
       "      <th>2516</th>\n",
       "      <td>2517</td>\n",
       "      <td>$299,000</td>\n",
       "      <td>5 beds</td>\n",
       "      <td>1915 S Mansfield Ave, Del City, OK 73115</td>\n",
       "    </tr>\n",
       "    <tr>\n",
       "      <th>2517</th>\n",
       "      <td>2518</td>\n",
       "      <td>$249,999</td>\n",
       "      <td>5 beds</td>\n",
       "      <td>3204 Cashion Pl, Oklahoma City, OK 73112</td>\n",
       "    </tr>\n",
       "    <tr>\n",
       "      <th>2518</th>\n",
       "      <td>2519</td>\n",
       "      <td>$142,000</td>\n",
       "      <td>3 beds</td>\n",
       "      <td>3312 NE 13th, Oklahoma City, OK 73117</td>\n",
       "    </tr>\n",
       "    <tr>\n",
       "      <th>2519</th>\n",
       "      <td>2520</td>\n",
       "      <td>$109,999</td>\n",
       "      <td>2 beds</td>\n",
       "      <td>Undisclosed address, Oklahoma City, OK 73107</td>\n",
       "    </tr>\n",
       "  </tbody>\n",
       "</table>\n",
       "<p>2520 rows × 4 columns</p>\n",
       "</div>"
      ],
      "text/plain": [
       "      S.No.     Price No_of_Beds                                       Address\n",
       "0         1  $220,000      1 bed     440 N Wabash Ave #1512, Chicago, IL 60611\n",
       "1         2  $269,000      1 bed  832 W Oakdale Ave Unit 1G, Chicago, IL 60657\n",
       "2         3  $170,000      1 bed           819 E 53rd St #3, Chicago, IL 60615\n",
       "3         4  $385,000     2 beds  3944 N Claremont Ave #307, Chicago, IL 60618\n",
       "4         5  $320,000      1 bed   1030 N State St Unit 41A, Chicago, IL 60610\n",
       "...     ...       ...        ...                                           ...\n",
       "2515   2516  $180,000     2 beds      3504 NW 12th St, Oklahoma City, OK 73107\n",
       "2516   2517  $299,000     5 beds      1915 S Mansfield Ave, Del City, OK 73115\n",
       "2517   2518  $249,999     5 beds      3204 Cashion Pl, Oklahoma City, OK 73112\n",
       "2518   2519  $142,000     3 beds         3312 NE 13th, Oklahoma City, OK 73117\n",
       "2519   2520  $109,999     2 beds  Undisclosed address, Oklahoma City, OK 73107\n",
       "\n",
       "[2520 rows x 4 columns]"
      ]
     },
     "execution_count": 151,
     "metadata": {},
     "output_type": "execute_result"
    }
   ],
   "source": [
    "s_no = pd.Series(range(1, len(table2) + 1), name='S.No.')\n",
    "\n",
    "table2.insert(loc=0, column=s_no.name, value=s_no)\n",
    "\n",
    "\n",
    "table2"
   ]
  },
  {
   "cell_type": "code",
   "execution_count": 153,
   "id": "02056e38",
   "metadata": {},
   "outputs": [],
   "source": [
    "# making a list of cities names\n",
    "\n",
    "city_chicago = [\"Chicago\"]* 320\n",
    "city_boston =  [\"Boston\"]* 120\n",
    "city_dallas =  [\"Dallas\"]* 280\n",
    "city_houston = [\"Houston\"]* 240\n",
    "city_atlanta = [\"Atlanta\"]* 240\n",
    "city_brooklyn = [\"Brooklyn\"]* 240\n",
    "city_utah = [\"Utah\"]* 200\n",
    "city_memphis = [\"Memphis\"]* 280\n",
    "city_pheonix = [\"Pheonix\"]* 280\n",
    "city_oklahoma = [\"Oklahoma\"]* 320\n",
    "\n"
   ]
  },
  {
   "cell_type": "code",
   "execution_count": 154,
   "id": "7dc4ad9f",
   "metadata": {},
   "outputs": [],
   "source": [
    "City = city_chicago + city_boston + city_dallas + city_houston + city_atlanta + city_brooklyn + city_utah + city_memphis + city_pheonix + city_oklahoma"
   ]
  },
  {
   "cell_type": "code",
   "execution_count": 155,
   "id": "65078e11",
   "metadata": {},
   "outputs": [
    {
     "data": {
      "text/html": [
       "<div>\n",
       "<style scoped>\n",
       "    .dataframe tbody tr th:only-of-type {\n",
       "        vertical-align: middle;\n",
       "    }\n",
       "\n",
       "    .dataframe tbody tr th {\n",
       "        vertical-align: top;\n",
       "    }\n",
       "\n",
       "    .dataframe thead th {\n",
       "        text-align: right;\n",
       "    }\n",
       "</style>\n",
       "<table border=\"1\" class=\"dataframe\">\n",
       "  <thead>\n",
       "    <tr style=\"text-align: right;\">\n",
       "      <th></th>\n",
       "      <th>S.No.</th>\n",
       "      <th>Price</th>\n",
       "      <th>No_of_Beds</th>\n",
       "      <th>Address</th>\n",
       "      <th>City</th>\n",
       "    </tr>\n",
       "  </thead>\n",
       "  <tbody>\n",
       "    <tr>\n",
       "      <th>0</th>\n",
       "      <td>1</td>\n",
       "      <td>$220,000</td>\n",
       "      <td>1 bed</td>\n",
       "      <td>440 N Wabash Ave #1512, Chicago, IL 60611</td>\n",
       "      <td>Chicago</td>\n",
       "    </tr>\n",
       "    <tr>\n",
       "      <th>1</th>\n",
       "      <td>2</td>\n",
       "      <td>$269,000</td>\n",
       "      <td>1 bed</td>\n",
       "      <td>832 W Oakdale Ave Unit 1G, Chicago, IL 60657</td>\n",
       "      <td>Chicago</td>\n",
       "    </tr>\n",
       "    <tr>\n",
       "      <th>2</th>\n",
       "      <td>3</td>\n",
       "      <td>$170,000</td>\n",
       "      <td>1 bed</td>\n",
       "      <td>819 E 53rd St #3, Chicago, IL 60615</td>\n",
       "      <td>Chicago</td>\n",
       "    </tr>\n",
       "    <tr>\n",
       "      <th>3</th>\n",
       "      <td>4</td>\n",
       "      <td>$385,000</td>\n",
       "      <td>2 beds</td>\n",
       "      <td>3944 N Claremont Ave #307, Chicago, IL 60618</td>\n",
       "      <td>Chicago</td>\n",
       "    </tr>\n",
       "    <tr>\n",
       "      <th>4</th>\n",
       "      <td>5</td>\n",
       "      <td>$320,000</td>\n",
       "      <td>1 bed</td>\n",
       "      <td>1030 N State St Unit 41A, Chicago, IL 60610</td>\n",
       "      <td>Chicago</td>\n",
       "    </tr>\n",
       "    <tr>\n",
       "      <th>...</th>\n",
       "      <td>...</td>\n",
       "      <td>...</td>\n",
       "      <td>...</td>\n",
       "      <td>...</td>\n",
       "      <td>...</td>\n",
       "    </tr>\n",
       "    <tr>\n",
       "      <th>2515</th>\n",
       "      <td>2516</td>\n",
       "      <td>$180,000</td>\n",
       "      <td>2 beds</td>\n",
       "      <td>3504 NW 12th St, Oklahoma City, OK 73107</td>\n",
       "      <td>Oklahoma</td>\n",
       "    </tr>\n",
       "    <tr>\n",
       "      <th>2516</th>\n",
       "      <td>2517</td>\n",
       "      <td>$299,000</td>\n",
       "      <td>5 beds</td>\n",
       "      <td>1915 S Mansfield Ave, Del City, OK 73115</td>\n",
       "      <td>Oklahoma</td>\n",
       "    </tr>\n",
       "    <tr>\n",
       "      <th>2517</th>\n",
       "      <td>2518</td>\n",
       "      <td>$249,999</td>\n",
       "      <td>5 beds</td>\n",
       "      <td>3204 Cashion Pl, Oklahoma City, OK 73112</td>\n",
       "      <td>Oklahoma</td>\n",
       "    </tr>\n",
       "    <tr>\n",
       "      <th>2518</th>\n",
       "      <td>2519</td>\n",
       "      <td>$142,000</td>\n",
       "      <td>3 beds</td>\n",
       "      <td>3312 NE 13th, Oklahoma City, OK 73117</td>\n",
       "      <td>Oklahoma</td>\n",
       "    </tr>\n",
       "    <tr>\n",
       "      <th>2519</th>\n",
       "      <td>2520</td>\n",
       "      <td>$109,999</td>\n",
       "      <td>2 beds</td>\n",
       "      <td>Undisclosed address, Oklahoma City, OK 73107</td>\n",
       "      <td>Oklahoma</td>\n",
       "    </tr>\n",
       "  </tbody>\n",
       "</table>\n",
       "<p>2520 rows × 5 columns</p>\n",
       "</div>"
      ],
      "text/plain": [
       "      S.No.     Price No_of_Beds  \\\n",
       "0         1  $220,000      1 bed   \n",
       "1         2  $269,000      1 bed   \n",
       "2         3  $170,000      1 bed   \n",
       "3         4  $385,000     2 beds   \n",
       "4         5  $320,000      1 bed   \n",
       "...     ...       ...        ...   \n",
       "2515   2516  $180,000     2 beds   \n",
       "2516   2517  $299,000     5 beds   \n",
       "2517   2518  $249,999     5 beds   \n",
       "2518   2519  $142,000     3 beds   \n",
       "2519   2520  $109,999     2 beds   \n",
       "\n",
       "                                           Address      City  \n",
       "0        440 N Wabash Ave #1512, Chicago, IL 60611   Chicago  \n",
       "1     832 W Oakdale Ave Unit 1G, Chicago, IL 60657   Chicago  \n",
       "2              819 E 53rd St #3, Chicago, IL 60615   Chicago  \n",
       "3     3944 N Claremont Ave #307, Chicago, IL 60618   Chicago  \n",
       "4      1030 N State St Unit 41A, Chicago, IL 60610   Chicago  \n",
       "...                                            ...       ...  \n",
       "2515      3504 NW 12th St, Oklahoma City, OK 73107  Oklahoma  \n",
       "2516      1915 S Mansfield Ave, Del City, OK 73115  Oklahoma  \n",
       "2517      3204 Cashion Pl, Oklahoma City, OK 73112  Oklahoma  \n",
       "2518         3312 NE 13th, Oklahoma City, OK 73117  Oklahoma  \n",
       "2519  Undisclosed address, Oklahoma City, OK 73107  Oklahoma  \n",
       "\n",
       "[2520 rows x 5 columns]"
      ]
     },
     "execution_count": 155,
     "metadata": {},
     "output_type": "execute_result"
    }
   ],
   "source": [
    "table2['City'] = City\n",
    "\n",
    "table2"
   ]
  },
  {
   "cell_type": "code",
   "execution_count": null,
   "id": "d4fec687",
   "metadata": {},
   "outputs": [],
   "source": []
  }
 ],
 "metadata": {
  "kernelspec": {
   "display_name": "Python 3 (ipykernel)",
   "language": "python",
   "name": "python3"
  },
  "language_info": {
   "codemirror_mode": {
    "name": "ipython",
    "version": 3
   },
   "file_extension": ".py",
   "mimetype": "text/x-python",
   "name": "python",
   "nbconvert_exporter": "python",
   "pygments_lexer": "ipython3",
   "version": "3.11.5"
  }
 },
 "nbformat": 4,
 "nbformat_minor": 5
}
